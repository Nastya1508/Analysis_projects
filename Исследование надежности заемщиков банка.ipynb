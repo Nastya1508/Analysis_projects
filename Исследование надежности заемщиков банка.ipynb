{
 "cells": [
  {
   "cell_type": "markdown",
   "id": "dc3e0a6c",
   "metadata": {},
   "source": [
    "# Исследование надежности заемщиков банка"
   ]
  },
  {
   "cell_type": "markdown",
   "id": "d63901ff",
   "metadata": {},
   "source": [
    "Влияет ли наличие детей, семейное положение или другие факторы на факт погашения кредита? Давайте узнаем, есть ли зависимость."
   ]
  },
  {
   "cell_type": "markdown",
   "id": "13270a04",
   "metadata": {},
   "source": [
    "**Цель исследования** - проверить гипотезу, влияет ли семейное положение и количество детей клиента кредитного отдела банка на факт погашения кредита в срок. "
   ]
  },
  {
   "cell_type": "markdown",
   "id": "3eca0f20",
   "metadata": {},
   "source": [
    "Результаты исследования будут учтены при построении модели *кредитного скоринга* - специальной системы, которая оценивает способность потенциального заемщика вернуть кредит банку."
   ]
  },
  {
   "cell_type": "markdown",
   "id": "ce4ed2d4",
   "metadata": {},
   "source": [
    "*Ход исследования:*"
   ]
  },
  {
   "cell_type": "markdown",
   "id": "f6f943b4",
   "metadata": {},
   "source": [
    "1. Обзор данных.\n",
    "2. Предобработка данных.\n",
    "3. Ответы на вопросы.\n",
    "4. Общий вывод."
   ]
  },
  {
   "cell_type": "markdown",
   "id": "449bb4c2",
   "metadata": {},
   "source": [
    "### Шаг 1. Обзор данных"
   ]
  },
  {
   "cell_type": "markdown",
   "id": "7cc5b944",
   "metadata": {},
   "source": [
    "Необходимо составить общее представление о данных кредитного отдела банка."
   ]
  },
  {
   "cell_type": "code",
   "execution_count": 1,
   "id": "a5192bde",
   "metadata": {},
   "outputs": [],
   "source": [
    "#импорт библиотеки Pandas\n",
    "import pandas as pd"
   ]
  },
  {
   "cell_type": "code",
   "execution_count": 2,
   "id": "b19dc18b",
   "metadata": {},
   "outputs": [],
   "source": [
    "#чтение файла с данными и сохранение в переменной data\n",
    "data = pd.read_csv('C:/Users/nasty/OneDrive/Документы/Яндекс Практикум/Проект Исслед Заемщиков банка/Credit_Data.csv')"
   ]
  },
  {
   "cell_type": "code",
   "execution_count": 3,
   "id": "f1dbfd6a",
   "metadata": {},
   "outputs": [
    {
     "data": {
      "text/html": [
       "<div>\n",
       "<style scoped>\n",
       "    .dataframe tbody tr th:only-of-type {\n",
       "        vertical-align: middle;\n",
       "    }\n",
       "\n",
       "    .dataframe tbody tr th {\n",
       "        vertical-align: top;\n",
       "    }\n",
       "\n",
       "    .dataframe thead th {\n",
       "        text-align: right;\n",
       "    }\n",
       "</style>\n",
       "<table border=\"1\" class=\"dataframe\">\n",
       "  <thead>\n",
       "    <tr style=\"text-align: right;\">\n",
       "      <th></th>\n",
       "      <th>Unnamed: 0</th>\n",
       "      <th>children</th>\n",
       "      <th>days_employed</th>\n",
       "      <th>dob_years</th>\n",
       "      <th>education</th>\n",
       "      <th>education_id</th>\n",
       "      <th>family_status</th>\n",
       "      <th>family_status_id</th>\n",
       "      <th>gender</th>\n",
       "      <th>income_type</th>\n",
       "      <th>debt</th>\n",
       "      <th>total_income</th>\n",
       "      <th>purpose</th>\n",
       "    </tr>\n",
       "  </thead>\n",
       "  <tbody>\n",
       "    <tr>\n",
       "      <th>0</th>\n",
       "      <td>0</td>\n",
       "      <td>1</td>\n",
       "      <td>-8437.673028</td>\n",
       "      <td>42</td>\n",
       "      <td>высшее</td>\n",
       "      <td>0</td>\n",
       "      <td>женат / замужем</td>\n",
       "      <td>0</td>\n",
       "      <td>F</td>\n",
       "      <td>сотрудник</td>\n",
       "      <td>0</td>\n",
       "      <td>253875.639453</td>\n",
       "      <td>покупка жилья</td>\n",
       "    </tr>\n",
       "    <tr>\n",
       "      <th>1</th>\n",
       "      <td>1</td>\n",
       "      <td>1</td>\n",
       "      <td>-4024.803754</td>\n",
       "      <td>36</td>\n",
       "      <td>среднее</td>\n",
       "      <td>1</td>\n",
       "      <td>женат / замужем</td>\n",
       "      <td>0</td>\n",
       "      <td>F</td>\n",
       "      <td>сотрудник</td>\n",
       "      <td>0</td>\n",
       "      <td>112080.014102</td>\n",
       "      <td>приобретение автомобиля</td>\n",
       "    </tr>\n",
       "    <tr>\n",
       "      <th>2</th>\n",
       "      <td>2</td>\n",
       "      <td>0</td>\n",
       "      <td>-5623.422610</td>\n",
       "      <td>33</td>\n",
       "      <td>Среднее</td>\n",
       "      <td>1</td>\n",
       "      <td>женат / замужем</td>\n",
       "      <td>0</td>\n",
       "      <td>M</td>\n",
       "      <td>сотрудник</td>\n",
       "      <td>0</td>\n",
       "      <td>145885.952297</td>\n",
       "      <td>покупка жилья</td>\n",
       "    </tr>\n",
       "    <tr>\n",
       "      <th>3</th>\n",
       "      <td>3</td>\n",
       "      <td>3</td>\n",
       "      <td>-4124.747207</td>\n",
       "      <td>32</td>\n",
       "      <td>среднее</td>\n",
       "      <td>1</td>\n",
       "      <td>женат / замужем</td>\n",
       "      <td>0</td>\n",
       "      <td>M</td>\n",
       "      <td>сотрудник</td>\n",
       "      <td>0</td>\n",
       "      <td>267628.550329</td>\n",
       "      <td>дополнительное образование</td>\n",
       "    </tr>\n",
       "    <tr>\n",
       "      <th>4</th>\n",
       "      <td>4</td>\n",
       "      <td>0</td>\n",
       "      <td>340266.072047</td>\n",
       "      <td>53</td>\n",
       "      <td>среднее</td>\n",
       "      <td>1</td>\n",
       "      <td>гражданский брак</td>\n",
       "      <td>1</td>\n",
       "      <td>F</td>\n",
       "      <td>пенсионер</td>\n",
       "      <td>0</td>\n",
       "      <td>158616.077870</td>\n",
       "      <td>сыграть свадьбу</td>\n",
       "    </tr>\n",
       "    <tr>\n",
       "      <th>5</th>\n",
       "      <td>5</td>\n",
       "      <td>0</td>\n",
       "      <td>-926.185831</td>\n",
       "      <td>27</td>\n",
       "      <td>высшее</td>\n",
       "      <td>0</td>\n",
       "      <td>гражданский брак</td>\n",
       "      <td>1</td>\n",
       "      <td>M</td>\n",
       "      <td>компаньон</td>\n",
       "      <td>0</td>\n",
       "      <td>255763.565419</td>\n",
       "      <td>покупка жилья</td>\n",
       "    </tr>\n",
       "    <tr>\n",
       "      <th>6</th>\n",
       "      <td>6</td>\n",
       "      <td>0</td>\n",
       "      <td>-2879.202052</td>\n",
       "      <td>43</td>\n",
       "      <td>высшее</td>\n",
       "      <td>0</td>\n",
       "      <td>женат / замужем</td>\n",
       "      <td>0</td>\n",
       "      <td>F</td>\n",
       "      <td>компаньон</td>\n",
       "      <td>0</td>\n",
       "      <td>240525.971920</td>\n",
       "      <td>операции с жильем</td>\n",
       "    </tr>\n",
       "    <tr>\n",
       "      <th>7</th>\n",
       "      <td>7</td>\n",
       "      <td>0</td>\n",
       "      <td>-152.779569</td>\n",
       "      <td>50</td>\n",
       "      <td>СРЕДНЕЕ</td>\n",
       "      <td>1</td>\n",
       "      <td>женат / замужем</td>\n",
       "      <td>0</td>\n",
       "      <td>M</td>\n",
       "      <td>сотрудник</td>\n",
       "      <td>0</td>\n",
       "      <td>135823.934197</td>\n",
       "      <td>образование</td>\n",
       "    </tr>\n",
       "    <tr>\n",
       "      <th>8</th>\n",
       "      <td>8</td>\n",
       "      <td>2</td>\n",
       "      <td>-6929.865299</td>\n",
       "      <td>35</td>\n",
       "      <td>ВЫСШЕЕ</td>\n",
       "      <td>0</td>\n",
       "      <td>гражданский брак</td>\n",
       "      <td>1</td>\n",
       "      <td>F</td>\n",
       "      <td>сотрудник</td>\n",
       "      <td>0</td>\n",
       "      <td>95856.832424</td>\n",
       "      <td>на проведение свадьбы</td>\n",
       "    </tr>\n",
       "    <tr>\n",
       "      <th>9</th>\n",
       "      <td>9</td>\n",
       "      <td>0</td>\n",
       "      <td>-2188.756445</td>\n",
       "      <td>41</td>\n",
       "      <td>среднее</td>\n",
       "      <td>1</td>\n",
       "      <td>женат / замужем</td>\n",
       "      <td>0</td>\n",
       "      <td>M</td>\n",
       "      <td>сотрудник</td>\n",
       "      <td>0</td>\n",
       "      <td>144425.938277</td>\n",
       "      <td>покупка жилья для семьи</td>\n",
       "    </tr>\n",
       "  </tbody>\n",
       "</table>\n",
       "</div>"
      ],
      "text/plain": [
       "   Unnamed: 0  children  days_employed  dob_years education  education_id  \\\n",
       "0           0         1   -8437.673028         42    высшее             0   \n",
       "1           1         1   -4024.803754         36   среднее             1   \n",
       "2           2         0   -5623.422610         33   Среднее             1   \n",
       "3           3         3   -4124.747207         32   среднее             1   \n",
       "4           4         0  340266.072047         53   среднее             1   \n",
       "5           5         0    -926.185831         27    высшее             0   \n",
       "6           6         0   -2879.202052         43    высшее             0   \n",
       "7           7         0    -152.779569         50   СРЕДНЕЕ             1   \n",
       "8           8         2   -6929.865299         35    ВЫСШЕЕ             0   \n",
       "9           9         0   -2188.756445         41   среднее             1   \n",
       "\n",
       "      family_status  family_status_id gender income_type  debt   total_income  \\\n",
       "0   женат / замужем                 0      F   сотрудник     0  253875.639453   \n",
       "1   женат / замужем                 0      F   сотрудник     0  112080.014102   \n",
       "2   женат / замужем                 0      M   сотрудник     0  145885.952297   \n",
       "3   женат / замужем                 0      M   сотрудник     0  267628.550329   \n",
       "4  гражданский брак                 1      F   пенсионер     0  158616.077870   \n",
       "5  гражданский брак                 1      M   компаньон     0  255763.565419   \n",
       "6   женат / замужем                 0      F   компаньон     0  240525.971920   \n",
       "7   женат / замужем                 0      M   сотрудник     0  135823.934197   \n",
       "8  гражданский брак                 1      F   сотрудник     0   95856.832424   \n",
       "9   женат / замужем                 0      M   сотрудник     0  144425.938277   \n",
       "\n",
       "                      purpose  \n",
       "0               покупка жилья  \n",
       "1     приобретение автомобиля  \n",
       "2               покупка жилья  \n",
       "3  дополнительное образование  \n",
       "4             сыграть свадьбу  \n",
       "5               покупка жилья  \n",
       "6           операции с жильем  \n",
       "7                 образование  \n",
       "8       на проведение свадьбы  \n",
       "9     покупка жилья для семьи  "
      ]
     },
     "execution_count": 3,
     "metadata": {},
     "output_type": "execute_result"
    }
   ],
   "source": [
    "#вывод первых 10-ти строк для ознакомления с данными\n",
    "data.head(10)"
   ]
  },
  {
   "cell_type": "code",
   "execution_count": 4,
   "id": "073dce7e",
   "metadata": {},
   "outputs": [
    {
     "name": "stdout",
     "output_type": "stream",
     "text": [
      "<class 'pandas.core.frame.DataFrame'>\n",
      "RangeIndex: 21525 entries, 0 to 21524\n",
      "Data columns (total 13 columns):\n",
      " #   Column            Non-Null Count  Dtype  \n",
      "---  ------            --------------  -----  \n",
      " 0   Unnamed: 0        21525 non-null  int64  \n",
      " 1   children          21525 non-null  int64  \n",
      " 2   days_employed     19351 non-null  float64\n",
      " 3   dob_years         21525 non-null  int64  \n",
      " 4   education         21525 non-null  object \n",
      " 5   education_id      21525 non-null  int64  \n",
      " 6   family_status     21525 non-null  object \n",
      " 7   family_status_id  21525 non-null  int64  \n",
      " 8   gender            21525 non-null  object \n",
      " 9   income_type       21525 non-null  object \n",
      " 10  debt              21525 non-null  int64  \n",
      " 11  total_income      19351 non-null  float64\n",
      " 12  purpose           21525 non-null  object \n",
      "dtypes: float64(2), int64(6), object(5)\n",
      "memory usage: 2.1+ MB\n"
     ]
    }
   ],
   "source": [
    "#получение общей информации о данных в таблице data\n",
    "data.info()"
   ]
  },
  {
   "cell_type": "markdown",
   "id": "56fea686",
   "metadata": {},
   "source": [
    "Итак, в таблице 12 столбцов. Типы данных в столбцах - `int`, `float`, `object`.\n",
    "* `children` — количество детей в семье;\n",
    "* `days_employed` — общий трудовой стаж в днях;\n",
    "* `dob_years` — возраст клиента в годах;\n",
    "* `education` — уровень образования клиента;\n",
    "* `education_id` — идентификатор уровня образования;\n",
    "* `family_status` — семейное положение;\n",
    "* `family_status_id` — идентификатор семейного положения;\n",
    "* `gender` — пол клиента;\n",
    "* `income_type` — тип занятости;\n",
    "* `debt` — имел ли задолженность по возврату кредитов;\n",
    "* `total_income` — ежемесячный доход;\n",
    "* `purpose` — цель получения кредита."
   ]
  },
  {
   "cell_type": "markdown",
   "id": "65766100",
   "metadata": {},
   "source": [
    "Из информации о таблице видно, что количество в столбцах различается. Это означает, что есть пропущенные значения."
   ]
  },
  {
   "cell_type": "markdown",
   "id": "b4dc97b8",
   "metadata": {},
   "source": [
    "### Шаг 2.1 Заполнение пропусков"
   ]
  },
  {
   "cell_type": "markdown",
   "id": "4b0570ec",
   "metadata": {},
   "source": [
    "Сначала посчитаем количество пропущенных значений."
   ]
  },
  {
   "cell_type": "code",
   "execution_count": 5,
   "id": "c00d755a",
   "metadata": {},
   "outputs": [
    {
     "data": {
      "text/plain": [
       "Unnamed: 0             0\n",
       "children               0\n",
       "days_employed       2174\n",
       "dob_years              0\n",
       "education              0\n",
       "education_id           0\n",
       "family_status          0\n",
       "family_status_id       0\n",
       "gender                 0\n",
       "income_type            0\n",
       "debt                   0\n",
       "total_income        2174\n",
       "purpose                0\n",
       "dtype: int64"
      ]
     },
     "execution_count": 5,
     "metadata": {},
     "output_type": "execute_result"
    }
   ],
   "source": [
    "#подсчет количества значений с помощью методов isna() и sum()\n",
    "data.isna().sum()"
   ]
  },
  {
   "cell_type": "markdown",
   "id": "f8451583",
   "metadata": {},
   "source": [
    "Пропуски были обнаружены в двух столбцах - `days_employed` и `total_income`."
   ]
  },
  {
   "cell_type": "markdown",
   "id": "77eb28c3",
   "metadata": {},
   "source": [
    "Пропущенные значения составили порядка 10% от общего числа строк в таблице. "
   ]
  },
  {
   "cell_type": "markdown",
   "id": "fc791dec",
   "metadata": {},
   "source": [
    "Проанализировав на данном этапе значения в столбце `total_income` "
   ]
  },
  {
   "cell_type": "code",
   "execution_count": 6,
   "id": "42af62fb",
   "metadata": {},
   "outputs": [
    {
     "data": {
      "text/html": [
       "<div>\n",
       "<style scoped>\n",
       "    .dataframe tbody tr th:only-of-type {\n",
       "        vertical-align: middle;\n",
       "    }\n",
       "\n",
       "    .dataframe tbody tr th {\n",
       "        vertical-align: top;\n",
       "    }\n",
       "\n",
       "    .dataframe thead th {\n",
       "        text-align: right;\n",
       "    }\n",
       "</style>\n",
       "<table border=\"1\" class=\"dataframe\">\n",
       "  <thead>\n",
       "    <tr style=\"text-align: right;\">\n",
       "      <th></th>\n",
       "      <th>Unnamed: 0</th>\n",
       "      <th>children</th>\n",
       "      <th>days_employed</th>\n",
       "      <th>dob_years</th>\n",
       "      <th>education</th>\n",
       "      <th>education_id</th>\n",
       "      <th>family_status</th>\n",
       "      <th>family_status_id</th>\n",
       "      <th>gender</th>\n",
       "      <th>income_type</th>\n",
       "      <th>debt</th>\n",
       "      <th>total_income</th>\n",
       "      <th>purpose</th>\n",
       "    </tr>\n",
       "  </thead>\n",
       "  <tbody>\n",
       "    <tr>\n",
       "      <th>12</th>\n",
       "      <td>12</td>\n",
       "      <td>0</td>\n",
       "      <td>NaN</td>\n",
       "      <td>65</td>\n",
       "      <td>среднее</td>\n",
       "      <td>1</td>\n",
       "      <td>гражданский брак</td>\n",
       "      <td>1</td>\n",
       "      <td>M</td>\n",
       "      <td>пенсионер</td>\n",
       "      <td>0</td>\n",
       "      <td>NaN</td>\n",
       "      <td>сыграть свадьбу</td>\n",
       "    </tr>\n",
       "    <tr>\n",
       "      <th>26</th>\n",
       "      <td>26</td>\n",
       "      <td>0</td>\n",
       "      <td>NaN</td>\n",
       "      <td>41</td>\n",
       "      <td>среднее</td>\n",
       "      <td>1</td>\n",
       "      <td>женат / замужем</td>\n",
       "      <td>0</td>\n",
       "      <td>M</td>\n",
       "      <td>госслужащий</td>\n",
       "      <td>0</td>\n",
       "      <td>NaN</td>\n",
       "      <td>образование</td>\n",
       "    </tr>\n",
       "    <tr>\n",
       "      <th>29</th>\n",
       "      <td>29</td>\n",
       "      <td>0</td>\n",
       "      <td>NaN</td>\n",
       "      <td>63</td>\n",
       "      <td>среднее</td>\n",
       "      <td>1</td>\n",
       "      <td>Не женат / не замужем</td>\n",
       "      <td>4</td>\n",
       "      <td>F</td>\n",
       "      <td>пенсионер</td>\n",
       "      <td>0</td>\n",
       "      <td>NaN</td>\n",
       "      <td>строительство жилой недвижимости</td>\n",
       "    </tr>\n",
       "    <tr>\n",
       "      <th>41</th>\n",
       "      <td>41</td>\n",
       "      <td>0</td>\n",
       "      <td>NaN</td>\n",
       "      <td>50</td>\n",
       "      <td>среднее</td>\n",
       "      <td>1</td>\n",
       "      <td>женат / замужем</td>\n",
       "      <td>0</td>\n",
       "      <td>F</td>\n",
       "      <td>госслужащий</td>\n",
       "      <td>0</td>\n",
       "      <td>NaN</td>\n",
       "      <td>сделка с подержанным автомобилем</td>\n",
       "    </tr>\n",
       "    <tr>\n",
       "      <th>55</th>\n",
       "      <td>55</td>\n",
       "      <td>0</td>\n",
       "      <td>NaN</td>\n",
       "      <td>54</td>\n",
       "      <td>среднее</td>\n",
       "      <td>1</td>\n",
       "      <td>гражданский брак</td>\n",
       "      <td>1</td>\n",
       "      <td>F</td>\n",
       "      <td>пенсионер</td>\n",
       "      <td>1</td>\n",
       "      <td>NaN</td>\n",
       "      <td>сыграть свадьбу</td>\n",
       "    </tr>\n",
       "    <tr>\n",
       "      <th>...</th>\n",
       "      <td>...</td>\n",
       "      <td>...</td>\n",
       "      <td>...</td>\n",
       "      <td>...</td>\n",
       "      <td>...</td>\n",
       "      <td>...</td>\n",
       "      <td>...</td>\n",
       "      <td>...</td>\n",
       "      <td>...</td>\n",
       "      <td>...</td>\n",
       "      <td>...</td>\n",
       "      <td>...</td>\n",
       "      <td>...</td>\n",
       "    </tr>\n",
       "    <tr>\n",
       "      <th>21489</th>\n",
       "      <td>21489</td>\n",
       "      <td>2</td>\n",
       "      <td>NaN</td>\n",
       "      <td>47</td>\n",
       "      <td>Среднее</td>\n",
       "      <td>1</td>\n",
       "      <td>женат / замужем</td>\n",
       "      <td>0</td>\n",
       "      <td>M</td>\n",
       "      <td>компаньон</td>\n",
       "      <td>0</td>\n",
       "      <td>NaN</td>\n",
       "      <td>сделка с автомобилем</td>\n",
       "    </tr>\n",
       "    <tr>\n",
       "      <th>21495</th>\n",
       "      <td>21495</td>\n",
       "      <td>1</td>\n",
       "      <td>NaN</td>\n",
       "      <td>50</td>\n",
       "      <td>среднее</td>\n",
       "      <td>1</td>\n",
       "      <td>гражданский брак</td>\n",
       "      <td>1</td>\n",
       "      <td>F</td>\n",
       "      <td>сотрудник</td>\n",
       "      <td>0</td>\n",
       "      <td>NaN</td>\n",
       "      <td>свадьба</td>\n",
       "    </tr>\n",
       "    <tr>\n",
       "      <th>21497</th>\n",
       "      <td>21497</td>\n",
       "      <td>0</td>\n",
       "      <td>NaN</td>\n",
       "      <td>48</td>\n",
       "      <td>ВЫСШЕЕ</td>\n",
       "      <td>0</td>\n",
       "      <td>женат / замужем</td>\n",
       "      <td>0</td>\n",
       "      <td>F</td>\n",
       "      <td>компаньон</td>\n",
       "      <td>0</td>\n",
       "      <td>NaN</td>\n",
       "      <td>строительство недвижимости</td>\n",
       "    </tr>\n",
       "    <tr>\n",
       "      <th>21502</th>\n",
       "      <td>21502</td>\n",
       "      <td>1</td>\n",
       "      <td>NaN</td>\n",
       "      <td>42</td>\n",
       "      <td>среднее</td>\n",
       "      <td>1</td>\n",
       "      <td>женат / замужем</td>\n",
       "      <td>0</td>\n",
       "      <td>F</td>\n",
       "      <td>сотрудник</td>\n",
       "      <td>0</td>\n",
       "      <td>NaN</td>\n",
       "      <td>строительство жилой недвижимости</td>\n",
       "    </tr>\n",
       "    <tr>\n",
       "      <th>21510</th>\n",
       "      <td>21510</td>\n",
       "      <td>2</td>\n",
       "      <td>NaN</td>\n",
       "      <td>28</td>\n",
       "      <td>среднее</td>\n",
       "      <td>1</td>\n",
       "      <td>женат / замужем</td>\n",
       "      <td>0</td>\n",
       "      <td>F</td>\n",
       "      <td>сотрудник</td>\n",
       "      <td>0</td>\n",
       "      <td>NaN</td>\n",
       "      <td>приобретение автомобиля</td>\n",
       "    </tr>\n",
       "  </tbody>\n",
       "</table>\n",
       "<p>2174 rows × 13 columns</p>\n",
       "</div>"
      ],
      "text/plain": [
       "       Unnamed: 0  children  days_employed  dob_years education  education_id  \\\n",
       "12             12         0            NaN         65   среднее             1   \n",
       "26             26         0            NaN         41   среднее             1   \n",
       "29             29         0            NaN         63   среднее             1   \n",
       "41             41         0            NaN         50   среднее             1   \n",
       "55             55         0            NaN         54   среднее             1   \n",
       "...           ...       ...            ...        ...       ...           ...   \n",
       "21489       21489         2            NaN         47   Среднее             1   \n",
       "21495       21495         1            NaN         50   среднее             1   \n",
       "21497       21497         0            NaN         48    ВЫСШЕЕ             0   \n",
       "21502       21502         1            NaN         42   среднее             1   \n",
       "21510       21510         2            NaN         28   среднее             1   \n",
       "\n",
       "               family_status  family_status_id gender  income_type  debt  \\\n",
       "12          гражданский брак                 1      M    пенсионер     0   \n",
       "26           женат / замужем                 0      M  госслужащий     0   \n",
       "29     Не женат / не замужем                 4      F    пенсионер     0   \n",
       "41           женат / замужем                 0      F  госслужащий     0   \n",
       "55          гражданский брак                 1      F    пенсионер     1   \n",
       "...                      ...               ...    ...          ...   ...   \n",
       "21489        женат / замужем                 0      M    компаньон     0   \n",
       "21495       гражданский брак                 1      F    сотрудник     0   \n",
       "21497        женат / замужем                 0      F    компаньон     0   \n",
       "21502        женат / замужем                 0      F    сотрудник     0   \n",
       "21510        женат / замужем                 0      F    сотрудник     0   \n",
       "\n",
       "       total_income                           purpose  \n",
       "12              NaN                   сыграть свадьбу  \n",
       "26              NaN                       образование  \n",
       "29              NaN  строительство жилой недвижимости  \n",
       "41              NaN  сделка с подержанным автомобилем  \n",
       "55              NaN                   сыграть свадьбу  \n",
       "...             ...                               ...  \n",
       "21489           NaN              сделка с автомобилем  \n",
       "21495           NaN                           свадьба  \n",
       "21497           NaN        строительство недвижимости  \n",
       "21502           NaN  строительство жилой недвижимости  \n",
       "21510           NaN           приобретение автомобиля  \n",
       "\n",
       "[2174 rows x 13 columns]"
      ]
     },
     "execution_count": 6,
     "metadata": {},
     "output_type": "execute_result"
    }
   ],
   "source": [
    "#выведем таблицу только с пропусками в столбце total_income\n",
    "data[data['total_income'].isna()]"
   ]
  },
  {
   "cell_type": "markdown",
   "id": "093656ac",
   "metadata": {},
   "source": [
    "Пропущенные значения в столбце `total_income` и, как оказалось, в `days_employed`, оказались NaN - особое значение с типом данных float. Пропуски могли взяться по разным причинам. Можно предположить, что данные собраны с онлайн заявок, форма для заполнения заработной платы была необязательной, человек специально или машинально ее не заполнил. "
   ]
  },
  {
   "cell_type": "markdown",
   "id": "68f7649b",
   "metadata": {},
   "source": [
    "Еще можно предположить, следуя из того, что данные в столбце трудового стажа имеют схожий тип пропущенных данных, возможно, была вторая форма заполнения с данными о стаже и зарплате, и человек ее полностью пропустил, не дошел, и остановился на общих данных о себе, семье и цели кредита. Строки с данным значением не всегда следует удалять."
   ]
  },
  {
   "cell_type": "markdown",
   "id": "2482712a",
   "metadata": {},
   "source": [
    "Одним из возможных способов заполнения этих данных является способ заполнить методом медианы. Для количественных данных, а тем более для усреднения заработной платы, медиана подходит лучше всего. Она покажет среднее выборки, в то время как среднее арифметическое может дать некорретное реальное среднее. Плюс, будет производиться деление с учетом NaN, что также исказит результат. "
   ]
  },
  {
   "cell_type": "code",
   "execution_count": 7,
   "id": "7acde95a",
   "metadata": {},
   "outputs": [],
   "source": [
    "#восстановление пропусков медианным значением столбца\n",
    "data['total_income'] = data['total_income'].fillna(data['total_income'].median())"
   ]
  },
  {
   "cell_type": "markdown",
   "id": "f2555aee",
   "metadata": {},
   "source": [
    "Проверим, избавились ли мы от пропущенных значений в столбце `total_income`:"
   ]
  },
  {
   "cell_type": "code",
   "execution_count": 8,
   "id": "b3b41533",
   "metadata": {},
   "outputs": [
    {
     "data": {
      "text/plain": [
       "Unnamed: 0             0\n",
       "children               0\n",
       "days_employed       2174\n",
       "dob_years              0\n",
       "education              0\n",
       "education_id           0\n",
       "family_status          0\n",
       "family_status_id       0\n",
       "gender                 0\n",
       "income_type            0\n",
       "debt                   0\n",
       "total_income           0\n",
       "purpose                0\n",
       "dtype: int64"
      ]
     },
     "execution_count": 8,
     "metadata": {},
     "output_type": "execute_result"
    }
   ],
   "source": [
    "#проверка заполнения пропусков total_income\n",
    "data.isna().sum()"
   ]
  },
  {
   "cell_type": "markdown",
   "id": "6310cf1b",
   "metadata": {},
   "source": [
    "### Шаг 2.2 Проверка данных на аномалии и исправления."
   ]
  },
  {
   "cell_type": "markdown",
   "id": "73b6c805",
   "metadata": {},
   "source": [
    "Из первичного просмотра таблицы с данными было видно, что столбец с днями стажа `days_employed` имеет отрицательные значения. Это могла быть техническая ошибка в записи данных. Исправим данный столбец на положительные значения с помощью модуля."
   ]
  },
  {
   "cell_type": "code",
   "execution_count": 9,
   "id": "5a7283e9",
   "metadata": {},
   "outputs": [],
   "source": [
    "#перезапись столбца стажа с отрицательных на положительные значения \n",
    "data.loc[data['days_employed'] < 0, 'days_employed'] = abs(data['days_employed'])"
   ]
  },
  {
   "cell_type": "markdown",
   "id": "84c39fa9",
   "metadata": {},
   "source": [
    "Выведем для проверки первые несколько значений."
   ]
  },
  {
   "cell_type": "code",
   "execution_count": 10,
   "id": "acc32187",
   "metadata": {
    "scrolled": false
   },
   "outputs": [
    {
     "data": {
      "text/html": [
       "<div>\n",
       "<style scoped>\n",
       "    .dataframe tbody tr th:only-of-type {\n",
       "        vertical-align: middle;\n",
       "    }\n",
       "\n",
       "    .dataframe tbody tr th {\n",
       "        vertical-align: top;\n",
       "    }\n",
       "\n",
       "    .dataframe thead th {\n",
       "        text-align: right;\n",
       "    }\n",
       "</style>\n",
       "<table border=\"1\" class=\"dataframe\">\n",
       "  <thead>\n",
       "    <tr style=\"text-align: right;\">\n",
       "      <th></th>\n",
       "      <th>Unnamed: 0</th>\n",
       "      <th>children</th>\n",
       "      <th>days_employed</th>\n",
       "      <th>dob_years</th>\n",
       "      <th>education</th>\n",
       "      <th>education_id</th>\n",
       "      <th>family_status</th>\n",
       "      <th>family_status_id</th>\n",
       "      <th>gender</th>\n",
       "      <th>income_type</th>\n",
       "      <th>debt</th>\n",
       "      <th>total_income</th>\n",
       "      <th>purpose</th>\n",
       "    </tr>\n",
       "  </thead>\n",
       "  <tbody>\n",
       "    <tr>\n",
       "      <th>0</th>\n",
       "      <td>0</td>\n",
       "      <td>1</td>\n",
       "      <td>8437.673028</td>\n",
       "      <td>42</td>\n",
       "      <td>высшее</td>\n",
       "      <td>0</td>\n",
       "      <td>женат / замужем</td>\n",
       "      <td>0</td>\n",
       "      <td>F</td>\n",
       "      <td>сотрудник</td>\n",
       "      <td>0</td>\n",
       "      <td>253875.639453</td>\n",
       "      <td>покупка жилья</td>\n",
       "    </tr>\n",
       "    <tr>\n",
       "      <th>1</th>\n",
       "      <td>1</td>\n",
       "      <td>1</td>\n",
       "      <td>4024.803754</td>\n",
       "      <td>36</td>\n",
       "      <td>среднее</td>\n",
       "      <td>1</td>\n",
       "      <td>женат / замужем</td>\n",
       "      <td>0</td>\n",
       "      <td>F</td>\n",
       "      <td>сотрудник</td>\n",
       "      <td>0</td>\n",
       "      <td>112080.014102</td>\n",
       "      <td>приобретение автомобиля</td>\n",
       "    </tr>\n",
       "    <tr>\n",
       "      <th>2</th>\n",
       "      <td>2</td>\n",
       "      <td>0</td>\n",
       "      <td>5623.422610</td>\n",
       "      <td>33</td>\n",
       "      <td>Среднее</td>\n",
       "      <td>1</td>\n",
       "      <td>женат / замужем</td>\n",
       "      <td>0</td>\n",
       "      <td>M</td>\n",
       "      <td>сотрудник</td>\n",
       "      <td>0</td>\n",
       "      <td>145885.952297</td>\n",
       "      <td>покупка жилья</td>\n",
       "    </tr>\n",
       "    <tr>\n",
       "      <th>3</th>\n",
       "      <td>3</td>\n",
       "      <td>3</td>\n",
       "      <td>4124.747207</td>\n",
       "      <td>32</td>\n",
       "      <td>среднее</td>\n",
       "      <td>1</td>\n",
       "      <td>женат / замужем</td>\n",
       "      <td>0</td>\n",
       "      <td>M</td>\n",
       "      <td>сотрудник</td>\n",
       "      <td>0</td>\n",
       "      <td>267628.550329</td>\n",
       "      <td>дополнительное образование</td>\n",
       "    </tr>\n",
       "    <tr>\n",
       "      <th>4</th>\n",
       "      <td>4</td>\n",
       "      <td>0</td>\n",
       "      <td>340266.072047</td>\n",
       "      <td>53</td>\n",
       "      <td>среднее</td>\n",
       "      <td>1</td>\n",
       "      <td>гражданский брак</td>\n",
       "      <td>1</td>\n",
       "      <td>F</td>\n",
       "      <td>пенсионер</td>\n",
       "      <td>0</td>\n",
       "      <td>158616.077870</td>\n",
       "      <td>сыграть свадьбу</td>\n",
       "    </tr>\n",
       "    <tr>\n",
       "      <th>5</th>\n",
       "      <td>5</td>\n",
       "      <td>0</td>\n",
       "      <td>926.185831</td>\n",
       "      <td>27</td>\n",
       "      <td>высшее</td>\n",
       "      <td>0</td>\n",
       "      <td>гражданский брак</td>\n",
       "      <td>1</td>\n",
       "      <td>M</td>\n",
       "      <td>компаньон</td>\n",
       "      <td>0</td>\n",
       "      <td>255763.565419</td>\n",
       "      <td>покупка жилья</td>\n",
       "    </tr>\n",
       "    <tr>\n",
       "      <th>6</th>\n",
       "      <td>6</td>\n",
       "      <td>0</td>\n",
       "      <td>2879.202052</td>\n",
       "      <td>43</td>\n",
       "      <td>высшее</td>\n",
       "      <td>0</td>\n",
       "      <td>женат / замужем</td>\n",
       "      <td>0</td>\n",
       "      <td>F</td>\n",
       "      <td>компаньон</td>\n",
       "      <td>0</td>\n",
       "      <td>240525.971920</td>\n",
       "      <td>операции с жильем</td>\n",
       "    </tr>\n",
       "    <tr>\n",
       "      <th>7</th>\n",
       "      <td>7</td>\n",
       "      <td>0</td>\n",
       "      <td>152.779569</td>\n",
       "      <td>50</td>\n",
       "      <td>СРЕДНЕЕ</td>\n",
       "      <td>1</td>\n",
       "      <td>женат / замужем</td>\n",
       "      <td>0</td>\n",
       "      <td>M</td>\n",
       "      <td>сотрудник</td>\n",
       "      <td>0</td>\n",
       "      <td>135823.934197</td>\n",
       "      <td>образование</td>\n",
       "    </tr>\n",
       "    <tr>\n",
       "      <th>8</th>\n",
       "      <td>8</td>\n",
       "      <td>2</td>\n",
       "      <td>6929.865299</td>\n",
       "      <td>35</td>\n",
       "      <td>ВЫСШЕЕ</td>\n",
       "      <td>0</td>\n",
       "      <td>гражданский брак</td>\n",
       "      <td>1</td>\n",
       "      <td>F</td>\n",
       "      <td>сотрудник</td>\n",
       "      <td>0</td>\n",
       "      <td>95856.832424</td>\n",
       "      <td>на проведение свадьбы</td>\n",
       "    </tr>\n",
       "    <tr>\n",
       "      <th>9</th>\n",
       "      <td>9</td>\n",
       "      <td>0</td>\n",
       "      <td>2188.756445</td>\n",
       "      <td>41</td>\n",
       "      <td>среднее</td>\n",
       "      <td>1</td>\n",
       "      <td>женат / замужем</td>\n",
       "      <td>0</td>\n",
       "      <td>M</td>\n",
       "      <td>сотрудник</td>\n",
       "      <td>0</td>\n",
       "      <td>144425.938277</td>\n",
       "      <td>покупка жилья для семьи</td>\n",
       "    </tr>\n",
       "  </tbody>\n",
       "</table>\n",
       "</div>"
      ],
      "text/plain": [
       "   Unnamed: 0  children  days_employed  dob_years education  education_id  \\\n",
       "0           0         1    8437.673028         42    высшее             0   \n",
       "1           1         1    4024.803754         36   среднее             1   \n",
       "2           2         0    5623.422610         33   Среднее             1   \n",
       "3           3         3    4124.747207         32   среднее             1   \n",
       "4           4         0  340266.072047         53   среднее             1   \n",
       "5           5         0     926.185831         27    высшее             0   \n",
       "6           6         0    2879.202052         43    высшее             0   \n",
       "7           7         0     152.779569         50   СРЕДНЕЕ             1   \n",
       "8           8         2    6929.865299         35    ВЫСШЕЕ             0   \n",
       "9           9         0    2188.756445         41   среднее             1   \n",
       "\n",
       "      family_status  family_status_id gender income_type  debt   total_income  \\\n",
       "0   женат / замужем                 0      F   сотрудник     0  253875.639453   \n",
       "1   женат / замужем                 0      F   сотрудник     0  112080.014102   \n",
       "2   женат / замужем                 0      M   сотрудник     0  145885.952297   \n",
       "3   женат / замужем                 0      M   сотрудник     0  267628.550329   \n",
       "4  гражданский брак                 1      F   пенсионер     0  158616.077870   \n",
       "5  гражданский брак                 1      M   компаньон     0  255763.565419   \n",
       "6   женат / замужем                 0      F   компаньон     0  240525.971920   \n",
       "7   женат / замужем                 0      M   сотрудник     0  135823.934197   \n",
       "8  гражданский брак                 1      F   сотрудник     0   95856.832424   \n",
       "9   женат / замужем                 0      M   сотрудник     0  144425.938277   \n",
       "\n",
       "                      purpose  \n",
       "0               покупка жилья  \n",
       "1     приобретение автомобиля  \n",
       "2               покупка жилья  \n",
       "3  дополнительное образование  \n",
       "4             сыграть свадьбу  \n",
       "5               покупка жилья  \n",
       "6           операции с жильем  \n",
       "7                 образование  \n",
       "8       на проведение свадьбы  \n",
       "9     покупка жилья для семьи  "
      ]
     },
     "execution_count": 10,
     "metadata": {},
     "output_type": "execute_result"
    }
   ],
   "source": [
    "#вывод первых 10-ти строк данных\n",
    "data.head(10)"
   ]
  },
  {
   "cell_type": "markdown",
   "id": "8da9d00c",
   "metadata": {},
   "source": [
    "Что ещё бросается в глаза? Из описания данных известно, что исчисления в этом столбце ведется в днях. Опустим, что тогда данные должны были быть int, а не float. Просто посмотрим на числа. В 4 строке значение 340266.072047. Если разделить на примерное количество рабочих дней в году, это 247 дней, то выходит, что рабочий стаж данного клиента равен:"
   ]
  },
  {
   "cell_type": "code",
   "execution_count": 11,
   "id": "8c346e78",
   "metadata": {},
   "outputs": [
    {
     "data": {
      "text/plain": [
       "1377.5954333886639"
      ]
     },
     "execution_count": 11,
     "metadata": {},
     "output_type": "execute_result"
    }
   ],
   "source": [
    "340266.072047/247"
   ]
  },
  {
   "cell_type": "markdown",
   "id": "968a2dad",
   "metadata": {},
   "source": [
    "1377 лет! Такого быть не может, если клиент конечно не вампир из семьи Калленов. Тут явно какая-то аномалия. Попробуем исправить её."
   ]
  },
  {
   "cell_type": "markdown",
   "id": "9d3a95de",
   "metadata": {},
   "source": [
    "Найдем максимальный возраст клиента."
   ]
  },
  {
   "cell_type": "code",
   "execution_count": 12,
   "id": "b89fc943",
   "metadata": {},
   "outputs": [
    {
     "data": {
      "text/plain": [
       "75"
      ]
     },
     "execution_count": 12,
     "metadata": {},
     "output_type": "execute_result"
    }
   ],
   "source": [
    "#нахождение максимального возраста методом unique() и методом max()\n",
    "data['dob_years'].unique().max()"
   ]
  },
  {
   "cell_type": "markdown",
   "id": "63f8bdea",
   "metadata": {},
   "source": [
    "Допустим, человек трудился с 18 лет. Значит, трудовой стаж - 57 лет. В днях это будет:"
   ]
  },
  {
   "cell_type": "code",
   "execution_count": 13,
   "id": "31ffa37c",
   "metadata": {},
   "outputs": [
    {
     "data": {
      "text/plain": [
       "14079"
      ]
     },
     "execution_count": 13,
     "metadata": {},
     "output_type": "execute_result"
    }
   ],
   "source": [
    "(75-18)*247"
   ]
  },
  {
   "cell_type": "markdown",
   "id": "2c40ffc2",
   "metadata": {},
   "source": [
    "Максимально возможное значение трудового стажа для нашей таблицы составляет - 14079 дней. Будем считать, что всё, что выше этого, является аномальным значением."
   ]
  },
  {
   "cell_type": "markdown",
   "id": "7b21372d",
   "metadata": {},
   "source": [
    "Создадим отфильтрованную таблицу, в которую входят строки с аномальным значением стажа."
   ]
  },
  {
   "cell_type": "code",
   "execution_count": 14,
   "id": "42022e87",
   "metadata": {},
   "outputs": [],
   "source": [
    "#создание таблицы, отсортированной по дням стажа больше 14079 дней\n",
    "days_filter = data[data['days_employed'] >= 14079]"
   ]
  },
  {
   "cell_type": "code",
   "execution_count": 15,
   "id": "7dd958fc",
   "metadata": {},
   "outputs": [
    {
     "data": {
      "text/html": [
       "<div>\n",
       "<style scoped>\n",
       "    .dataframe tbody tr th:only-of-type {\n",
       "        vertical-align: middle;\n",
       "    }\n",
       "\n",
       "    .dataframe tbody tr th {\n",
       "        vertical-align: top;\n",
       "    }\n",
       "\n",
       "    .dataframe thead th {\n",
       "        text-align: right;\n",
       "    }\n",
       "</style>\n",
       "<table border=\"1\" class=\"dataframe\">\n",
       "  <thead>\n",
       "    <tr style=\"text-align: right;\">\n",
       "      <th></th>\n",
       "      <th>Unnamed: 0</th>\n",
       "      <th>children</th>\n",
       "      <th>days_employed</th>\n",
       "      <th>dob_years</th>\n",
       "      <th>education</th>\n",
       "      <th>education_id</th>\n",
       "      <th>family_status</th>\n",
       "      <th>family_status_id</th>\n",
       "      <th>gender</th>\n",
       "      <th>income_type</th>\n",
       "      <th>debt</th>\n",
       "      <th>total_income</th>\n",
       "      <th>purpose</th>\n",
       "    </tr>\n",
       "  </thead>\n",
       "  <tbody>\n",
       "    <tr>\n",
       "      <th>4</th>\n",
       "      <td>4</td>\n",
       "      <td>0</td>\n",
       "      <td>340266.072047</td>\n",
       "      <td>53</td>\n",
       "      <td>среднее</td>\n",
       "      <td>1</td>\n",
       "      <td>гражданский брак</td>\n",
       "      <td>1</td>\n",
       "      <td>F</td>\n",
       "      <td>пенсионер</td>\n",
       "      <td>0</td>\n",
       "      <td>158616.077870</td>\n",
       "      <td>сыграть свадьбу</td>\n",
       "    </tr>\n",
       "    <tr>\n",
       "      <th>18</th>\n",
       "      <td>18</td>\n",
       "      <td>0</td>\n",
       "      <td>400281.136913</td>\n",
       "      <td>53</td>\n",
       "      <td>среднее</td>\n",
       "      <td>1</td>\n",
       "      <td>вдовец / вдова</td>\n",
       "      <td>2</td>\n",
       "      <td>F</td>\n",
       "      <td>пенсионер</td>\n",
       "      <td>0</td>\n",
       "      <td>56823.777243</td>\n",
       "      <td>на покупку подержанного автомобиля</td>\n",
       "    </tr>\n",
       "    <tr>\n",
       "      <th>24</th>\n",
       "      <td>24</td>\n",
       "      <td>1</td>\n",
       "      <td>338551.952911</td>\n",
       "      <td>57</td>\n",
       "      <td>среднее</td>\n",
       "      <td>1</td>\n",
       "      <td>Не женат / не замужем</td>\n",
       "      <td>4</td>\n",
       "      <td>F</td>\n",
       "      <td>пенсионер</td>\n",
       "      <td>0</td>\n",
       "      <td>290547.235997</td>\n",
       "      <td>операции с коммерческой недвижимостью</td>\n",
       "    </tr>\n",
       "    <tr>\n",
       "      <th>25</th>\n",
       "      <td>25</td>\n",
       "      <td>0</td>\n",
       "      <td>363548.489348</td>\n",
       "      <td>67</td>\n",
       "      <td>среднее</td>\n",
       "      <td>1</td>\n",
       "      <td>женат / замужем</td>\n",
       "      <td>0</td>\n",
       "      <td>M</td>\n",
       "      <td>пенсионер</td>\n",
       "      <td>0</td>\n",
       "      <td>55112.757732</td>\n",
       "      <td>покупка недвижимости</td>\n",
       "    </tr>\n",
       "    <tr>\n",
       "      <th>30</th>\n",
       "      <td>30</td>\n",
       "      <td>1</td>\n",
       "      <td>335581.668515</td>\n",
       "      <td>62</td>\n",
       "      <td>среднее</td>\n",
       "      <td>1</td>\n",
       "      <td>женат / замужем</td>\n",
       "      <td>0</td>\n",
       "      <td>F</td>\n",
       "      <td>пенсионер</td>\n",
       "      <td>0</td>\n",
       "      <td>171456.067993</td>\n",
       "      <td>операции с коммерческой недвижимостью</td>\n",
       "    </tr>\n",
       "    <tr>\n",
       "      <th>35</th>\n",
       "      <td>35</td>\n",
       "      <td>0</td>\n",
       "      <td>394021.072184</td>\n",
       "      <td>68</td>\n",
       "      <td>среднее</td>\n",
       "      <td>1</td>\n",
       "      <td>гражданский брак</td>\n",
       "      <td>1</td>\n",
       "      <td>M</td>\n",
       "      <td>пенсионер</td>\n",
       "      <td>0</td>\n",
       "      <td>77805.677436</td>\n",
       "      <td>на проведение свадьбы</td>\n",
       "    </tr>\n",
       "    <tr>\n",
       "      <th>50</th>\n",
       "      <td>50</td>\n",
       "      <td>0</td>\n",
       "      <td>353731.432338</td>\n",
       "      <td>63</td>\n",
       "      <td>среднее</td>\n",
       "      <td>1</td>\n",
       "      <td>женат / замужем</td>\n",
       "      <td>0</td>\n",
       "      <td>F</td>\n",
       "      <td>пенсионер</td>\n",
       "      <td>0</td>\n",
       "      <td>92342.730612</td>\n",
       "      <td>автомобили</td>\n",
       "    </tr>\n",
       "    <tr>\n",
       "      <th>56</th>\n",
       "      <td>56</td>\n",
       "      <td>0</td>\n",
       "      <td>370145.087237</td>\n",
       "      <td>64</td>\n",
       "      <td>среднее</td>\n",
       "      <td>1</td>\n",
       "      <td>вдовец / вдова</td>\n",
       "      <td>2</td>\n",
       "      <td>F</td>\n",
       "      <td>пенсионер</td>\n",
       "      <td>0</td>\n",
       "      <td>149141.043533</td>\n",
       "      <td>образование</td>\n",
       "    </tr>\n",
       "    <tr>\n",
       "      <th>71</th>\n",
       "      <td>71</td>\n",
       "      <td>0</td>\n",
       "      <td>338113.529892</td>\n",
       "      <td>62</td>\n",
       "      <td>среднее</td>\n",
       "      <td>1</td>\n",
       "      <td>женат / замужем</td>\n",
       "      <td>0</td>\n",
       "      <td>F</td>\n",
       "      <td>пенсионер</td>\n",
       "      <td>0</td>\n",
       "      <td>43929.696397</td>\n",
       "      <td>автомобили</td>\n",
       "    </tr>\n",
       "    <tr>\n",
       "      <th>78</th>\n",
       "      <td>78</td>\n",
       "      <td>0</td>\n",
       "      <td>359722.945074</td>\n",
       "      <td>61</td>\n",
       "      <td>высшее</td>\n",
       "      <td>0</td>\n",
       "      <td>женат / замужем</td>\n",
       "      <td>0</td>\n",
       "      <td>M</td>\n",
       "      <td>пенсионер</td>\n",
       "      <td>0</td>\n",
       "      <td>175127.646000</td>\n",
       "      <td>сделка с автомобилем</td>\n",
       "    </tr>\n",
       "  </tbody>\n",
       "</table>\n",
       "</div>"
      ],
      "text/plain": [
       "    Unnamed: 0  children  days_employed  dob_years education  education_id  \\\n",
       "4            4         0  340266.072047         53   среднее             1   \n",
       "18          18         0  400281.136913         53   среднее             1   \n",
       "24          24         1  338551.952911         57   среднее             1   \n",
       "25          25         0  363548.489348         67   среднее             1   \n",
       "30          30         1  335581.668515         62   среднее             1   \n",
       "35          35         0  394021.072184         68   среднее             1   \n",
       "50          50         0  353731.432338         63   среднее             1   \n",
       "56          56         0  370145.087237         64   среднее             1   \n",
       "71          71         0  338113.529892         62   среднее             1   \n",
       "78          78         0  359722.945074         61    высшее             0   \n",
       "\n",
       "            family_status  family_status_id gender income_type  debt  \\\n",
       "4        гражданский брак                 1      F   пенсионер     0   \n",
       "18         вдовец / вдова                 2      F   пенсионер     0   \n",
       "24  Не женат / не замужем                 4      F   пенсионер     0   \n",
       "25        женат / замужем                 0      M   пенсионер     0   \n",
       "30        женат / замужем                 0      F   пенсионер     0   \n",
       "35       гражданский брак                 1      M   пенсионер     0   \n",
       "50        женат / замужем                 0      F   пенсионер     0   \n",
       "56         вдовец / вдова                 2      F   пенсионер     0   \n",
       "71        женат / замужем                 0      F   пенсионер     0   \n",
       "78        женат / замужем                 0      M   пенсионер     0   \n",
       "\n",
       "     total_income                                purpose  \n",
       "4   158616.077870                        сыграть свадьбу  \n",
       "18   56823.777243     на покупку подержанного автомобиля  \n",
       "24  290547.235997  операции с коммерческой недвижимостью  \n",
       "25   55112.757732                   покупка недвижимости  \n",
       "30  171456.067993  операции с коммерческой недвижимостью  \n",
       "35   77805.677436                  на проведение свадьбы  \n",
       "50   92342.730612                             автомобили  \n",
       "56  149141.043533                            образование  \n",
       "71   43929.696397                             автомобили  \n",
       "78  175127.646000                   сделка с автомобилем  "
      ]
     },
     "execution_count": 15,
     "metadata": {},
     "output_type": "execute_result"
    }
   ],
   "source": [
    "#просмотр новой таблицы, первые 10 значений\n",
    "days_filter.head(10)"
   ]
  },
  {
   "cell_type": "markdown",
   "id": "b08d0877",
   "metadata": {},
   "source": [
    "Посмотрим, какие значения возраста есть в данной отфильтрованной таблице."
   ]
  },
  {
   "cell_type": "code",
   "execution_count": 16,
   "id": "66cf2999",
   "metadata": {},
   "outputs": [
    {
     "data": {
      "text/plain": [
       "[0,\n",
       " 22,\n",
       " 26,\n",
       " 27,\n",
       " 28,\n",
       " 31,\n",
       " 32,\n",
       " 33,\n",
       " 34,\n",
       " 35,\n",
       " 36,\n",
       " 37,\n",
       " 38,\n",
       " 39,\n",
       " 40,\n",
       " 41,\n",
       " 42,\n",
       " 43,\n",
       " 44,\n",
       " 45,\n",
       " 46,\n",
       " 47,\n",
       " 48,\n",
       " 49,\n",
       " 50,\n",
       " 51,\n",
       " 52,\n",
       " 53,\n",
       " 54,\n",
       " 55,\n",
       " 56,\n",
       " 57,\n",
       " 58,\n",
       " 59,\n",
       " 60,\n",
       " 61,\n",
       " 62,\n",
       " 63,\n",
       " 64,\n",
       " 65,\n",
       " 66,\n",
       " 67,\n",
       " 68,\n",
       " 69,\n",
       " 70,\n",
       " 71,\n",
       " 72,\n",
       " 73,\n",
       " 74]"
      ]
     },
     "execution_count": 16,
     "metadata": {},
     "output_type": "execute_result"
    }
   ],
   "source": [
    "#вывод уникальных значений возраста из таблицы в порядке возрастания\n",
    "sorted(days_filter['dob_years'].unique())"
   ]
  },
  {
   "cell_type": "markdown",
   "id": "389c91c8",
   "metadata": {},
   "source": [
    "В таблице есть значение возраста 0. Это исправим позже. На данный момент изменим аномальные данные в столбце в остальных случаях. Значения стажа возьмем такое же, как при подсчете максимального стажа клиента с максимальным возрастом: из каждого возраста вычтем 18 и умножим на среднее число дней работы в году - 247. 0 исключили из-за получения отрицательного результата. Других возрастов меньше 18 в данной таблице нет."
   ]
  },
  {
   "cell_type": "code",
   "execution_count": 17,
   "id": "d19b86fe",
   "metadata": {},
   "outputs": [],
   "source": [
    "#создание фильтра строки и замена значения столбца days_employed\n",
    "rows = (data['days_employed'] > 14079)&(data['dob_years'] > 0)\n",
    "data.loc[rows, 'days_employed'] = (data.loc[rows, 'dob_years'] - 18) * 247"
   ]
  },
  {
   "cell_type": "code",
   "execution_count": 18,
   "id": "8ab32ebe",
   "metadata": {},
   "outputs": [
    {
     "data": {
      "text/html": [
       "<div>\n",
       "<style scoped>\n",
       "    .dataframe tbody tr th:only-of-type {\n",
       "        vertical-align: middle;\n",
       "    }\n",
       "\n",
       "    .dataframe tbody tr th {\n",
       "        vertical-align: top;\n",
       "    }\n",
       "\n",
       "    .dataframe thead th {\n",
       "        text-align: right;\n",
       "    }\n",
       "</style>\n",
       "<table border=\"1\" class=\"dataframe\">\n",
       "  <thead>\n",
       "    <tr style=\"text-align: right;\">\n",
       "      <th></th>\n",
       "      <th>Unnamed: 0</th>\n",
       "      <th>children</th>\n",
       "      <th>days_employed</th>\n",
       "      <th>dob_years</th>\n",
       "      <th>education</th>\n",
       "      <th>education_id</th>\n",
       "      <th>family_status</th>\n",
       "      <th>family_status_id</th>\n",
       "      <th>gender</th>\n",
       "      <th>income_type</th>\n",
       "      <th>debt</th>\n",
       "      <th>total_income</th>\n",
       "      <th>purpose</th>\n",
       "    </tr>\n",
       "  </thead>\n",
       "  <tbody>\n",
       "    <tr>\n",
       "      <th>0</th>\n",
       "      <td>0</td>\n",
       "      <td>1</td>\n",
       "      <td>8437.673028</td>\n",
       "      <td>42</td>\n",
       "      <td>высшее</td>\n",
       "      <td>0</td>\n",
       "      <td>женат / замужем</td>\n",
       "      <td>0</td>\n",
       "      <td>F</td>\n",
       "      <td>сотрудник</td>\n",
       "      <td>0</td>\n",
       "      <td>253875.639453</td>\n",
       "      <td>покупка жилья</td>\n",
       "    </tr>\n",
       "    <tr>\n",
       "      <th>1</th>\n",
       "      <td>1</td>\n",
       "      <td>1</td>\n",
       "      <td>4024.803754</td>\n",
       "      <td>36</td>\n",
       "      <td>среднее</td>\n",
       "      <td>1</td>\n",
       "      <td>женат / замужем</td>\n",
       "      <td>0</td>\n",
       "      <td>F</td>\n",
       "      <td>сотрудник</td>\n",
       "      <td>0</td>\n",
       "      <td>112080.014102</td>\n",
       "      <td>приобретение автомобиля</td>\n",
       "    </tr>\n",
       "    <tr>\n",
       "      <th>2</th>\n",
       "      <td>2</td>\n",
       "      <td>0</td>\n",
       "      <td>5623.422610</td>\n",
       "      <td>33</td>\n",
       "      <td>Среднее</td>\n",
       "      <td>1</td>\n",
       "      <td>женат / замужем</td>\n",
       "      <td>0</td>\n",
       "      <td>M</td>\n",
       "      <td>сотрудник</td>\n",
       "      <td>0</td>\n",
       "      <td>145885.952297</td>\n",
       "      <td>покупка жилья</td>\n",
       "    </tr>\n",
       "    <tr>\n",
       "      <th>3</th>\n",
       "      <td>3</td>\n",
       "      <td>3</td>\n",
       "      <td>4124.747207</td>\n",
       "      <td>32</td>\n",
       "      <td>среднее</td>\n",
       "      <td>1</td>\n",
       "      <td>женат / замужем</td>\n",
       "      <td>0</td>\n",
       "      <td>M</td>\n",
       "      <td>сотрудник</td>\n",
       "      <td>0</td>\n",
       "      <td>267628.550329</td>\n",
       "      <td>дополнительное образование</td>\n",
       "    </tr>\n",
       "    <tr>\n",
       "      <th>4</th>\n",
       "      <td>4</td>\n",
       "      <td>0</td>\n",
       "      <td>8645.000000</td>\n",
       "      <td>53</td>\n",
       "      <td>среднее</td>\n",
       "      <td>1</td>\n",
       "      <td>гражданский брак</td>\n",
       "      <td>1</td>\n",
       "      <td>F</td>\n",
       "      <td>пенсионер</td>\n",
       "      <td>0</td>\n",
       "      <td>158616.077870</td>\n",
       "      <td>сыграть свадьбу</td>\n",
       "    </tr>\n",
       "    <tr>\n",
       "      <th>5</th>\n",
       "      <td>5</td>\n",
       "      <td>0</td>\n",
       "      <td>926.185831</td>\n",
       "      <td>27</td>\n",
       "      <td>высшее</td>\n",
       "      <td>0</td>\n",
       "      <td>гражданский брак</td>\n",
       "      <td>1</td>\n",
       "      <td>M</td>\n",
       "      <td>компаньон</td>\n",
       "      <td>0</td>\n",
       "      <td>255763.565419</td>\n",
       "      <td>покупка жилья</td>\n",
       "    </tr>\n",
       "    <tr>\n",
       "      <th>6</th>\n",
       "      <td>6</td>\n",
       "      <td>0</td>\n",
       "      <td>2879.202052</td>\n",
       "      <td>43</td>\n",
       "      <td>высшее</td>\n",
       "      <td>0</td>\n",
       "      <td>женат / замужем</td>\n",
       "      <td>0</td>\n",
       "      <td>F</td>\n",
       "      <td>компаньон</td>\n",
       "      <td>0</td>\n",
       "      <td>240525.971920</td>\n",
       "      <td>операции с жильем</td>\n",
       "    </tr>\n",
       "    <tr>\n",
       "      <th>7</th>\n",
       "      <td>7</td>\n",
       "      <td>0</td>\n",
       "      <td>152.779569</td>\n",
       "      <td>50</td>\n",
       "      <td>СРЕДНЕЕ</td>\n",
       "      <td>1</td>\n",
       "      <td>женат / замужем</td>\n",
       "      <td>0</td>\n",
       "      <td>M</td>\n",
       "      <td>сотрудник</td>\n",
       "      <td>0</td>\n",
       "      <td>135823.934197</td>\n",
       "      <td>образование</td>\n",
       "    </tr>\n",
       "    <tr>\n",
       "      <th>8</th>\n",
       "      <td>8</td>\n",
       "      <td>2</td>\n",
       "      <td>6929.865299</td>\n",
       "      <td>35</td>\n",
       "      <td>ВЫСШЕЕ</td>\n",
       "      <td>0</td>\n",
       "      <td>гражданский брак</td>\n",
       "      <td>1</td>\n",
       "      <td>F</td>\n",
       "      <td>сотрудник</td>\n",
       "      <td>0</td>\n",
       "      <td>95856.832424</td>\n",
       "      <td>на проведение свадьбы</td>\n",
       "    </tr>\n",
       "    <tr>\n",
       "      <th>9</th>\n",
       "      <td>9</td>\n",
       "      <td>0</td>\n",
       "      <td>2188.756445</td>\n",
       "      <td>41</td>\n",
       "      <td>среднее</td>\n",
       "      <td>1</td>\n",
       "      <td>женат / замужем</td>\n",
       "      <td>0</td>\n",
       "      <td>M</td>\n",
       "      <td>сотрудник</td>\n",
       "      <td>0</td>\n",
       "      <td>144425.938277</td>\n",
       "      <td>покупка жилья для семьи</td>\n",
       "    </tr>\n",
       "  </tbody>\n",
       "</table>\n",
       "</div>"
      ],
      "text/plain": [
       "   Unnamed: 0  children  days_employed  dob_years education  education_id  \\\n",
       "0           0         1    8437.673028         42    высшее             0   \n",
       "1           1         1    4024.803754         36   среднее             1   \n",
       "2           2         0    5623.422610         33   Среднее             1   \n",
       "3           3         3    4124.747207         32   среднее             1   \n",
       "4           4         0    8645.000000         53   среднее             1   \n",
       "5           5         0     926.185831         27    высшее             0   \n",
       "6           6         0    2879.202052         43    высшее             0   \n",
       "7           7         0     152.779569         50   СРЕДНЕЕ             1   \n",
       "8           8         2    6929.865299         35    ВЫСШЕЕ             0   \n",
       "9           9         0    2188.756445         41   среднее             1   \n",
       "\n",
       "      family_status  family_status_id gender income_type  debt   total_income  \\\n",
       "0   женат / замужем                 0      F   сотрудник     0  253875.639453   \n",
       "1   женат / замужем                 0      F   сотрудник     0  112080.014102   \n",
       "2   женат / замужем                 0      M   сотрудник     0  145885.952297   \n",
       "3   женат / замужем                 0      M   сотрудник     0  267628.550329   \n",
       "4  гражданский брак                 1      F   пенсионер     0  158616.077870   \n",
       "5  гражданский брак                 1      M   компаньон     0  255763.565419   \n",
       "6   женат / замужем                 0      F   компаньон     0  240525.971920   \n",
       "7   женат / замужем                 0      M   сотрудник     0  135823.934197   \n",
       "8  гражданский брак                 1      F   сотрудник     0   95856.832424   \n",
       "9   женат / замужем                 0      M   сотрудник     0  144425.938277   \n",
       "\n",
       "                      purpose  \n",
       "0               покупка жилья  \n",
       "1     приобретение автомобиля  \n",
       "2               покупка жилья  \n",
       "3  дополнительное образование  \n",
       "4             сыграть свадьбу  \n",
       "5               покупка жилья  \n",
       "6           операции с жильем  \n",
       "7                 образование  \n",
       "8       на проведение свадьбы  \n",
       "9     покупка жилья для семьи  "
      ]
     },
     "execution_count": 18,
     "metadata": {},
     "output_type": "execute_result"
    }
   ],
   "source": [
    "#вывод первых 10-ти строк данных\n",
    "data.head(10)"
   ]
  },
  {
   "cell_type": "markdown",
   "id": "013d8bc5",
   "metadata": {},
   "source": [
    "Как видим, данные в 4-ой строке пришли в норму."
   ]
  },
  {
   "cell_type": "markdown",
   "id": "8b05f07f",
   "metadata": {},
   "source": [
    "Теперь заменим данные о стаже в строках с возрастом 0. Заменим на медианное значение."
   ]
  },
  {
   "cell_type": "code",
   "execution_count": 19,
   "id": "6e6da1f4",
   "metadata": {},
   "outputs": [],
   "source": [
    "#создание фильтра строки и замена значения столбца days_employed\n",
    "row = (data['dob_years'] == 0)\n",
    "data.loc[row, 'days_employed'] = data['days_employed'].median()"
   ]
  },
  {
   "cell_type": "code",
   "execution_count": 20,
   "id": "83c43542",
   "metadata": {},
   "outputs": [
    {
     "data": {
      "text/html": [
       "<div>\n",
       "<style scoped>\n",
       "    .dataframe tbody tr th:only-of-type {\n",
       "        vertical-align: middle;\n",
       "    }\n",
       "\n",
       "    .dataframe tbody tr th {\n",
       "        vertical-align: top;\n",
       "    }\n",
       "\n",
       "    .dataframe thead th {\n",
       "        text-align: right;\n",
       "    }\n",
       "</style>\n",
       "<table border=\"1\" class=\"dataframe\">\n",
       "  <thead>\n",
       "    <tr style=\"text-align: right;\">\n",
       "      <th></th>\n",
       "      <th>Unnamed: 0</th>\n",
       "      <th>children</th>\n",
       "      <th>days_employed</th>\n",
       "      <th>dob_years</th>\n",
       "      <th>education</th>\n",
       "      <th>education_id</th>\n",
       "      <th>family_status</th>\n",
       "      <th>family_status_id</th>\n",
       "      <th>gender</th>\n",
       "      <th>income_type</th>\n",
       "      <th>debt</th>\n",
       "      <th>total_income</th>\n",
       "      <th>purpose</th>\n",
       "    </tr>\n",
       "  </thead>\n",
       "  <tbody>\n",
       "    <tr>\n",
       "      <th>99</th>\n",
       "      <td>99</td>\n",
       "      <td>0</td>\n",
       "      <td>2194.173062</td>\n",
       "      <td>0</td>\n",
       "      <td>Среднее</td>\n",
       "      <td>1</td>\n",
       "      <td>женат / замужем</td>\n",
       "      <td>0</td>\n",
       "      <td>F</td>\n",
       "      <td>пенсионер</td>\n",
       "      <td>0</td>\n",
       "      <td>71291.522491</td>\n",
       "      <td>автомобиль</td>\n",
       "    </tr>\n",
       "    <tr>\n",
       "      <th>149</th>\n",
       "      <td>149</td>\n",
       "      <td>0</td>\n",
       "      <td>2194.173062</td>\n",
       "      <td>0</td>\n",
       "      <td>среднее</td>\n",
       "      <td>1</td>\n",
       "      <td>в разводе</td>\n",
       "      <td>3</td>\n",
       "      <td>F</td>\n",
       "      <td>сотрудник</td>\n",
       "      <td>0</td>\n",
       "      <td>70176.435951</td>\n",
       "      <td>операции с жильем</td>\n",
       "    </tr>\n",
       "    <tr>\n",
       "      <th>270</th>\n",
       "      <td>270</td>\n",
       "      <td>3</td>\n",
       "      <td>2194.173062</td>\n",
       "      <td>0</td>\n",
       "      <td>среднее</td>\n",
       "      <td>1</td>\n",
       "      <td>женат / замужем</td>\n",
       "      <td>0</td>\n",
       "      <td>F</td>\n",
       "      <td>сотрудник</td>\n",
       "      <td>0</td>\n",
       "      <td>102166.458894</td>\n",
       "      <td>ремонт жилью</td>\n",
       "    </tr>\n",
       "    <tr>\n",
       "      <th>578</th>\n",
       "      <td>578</td>\n",
       "      <td>0</td>\n",
       "      <td>2194.173062</td>\n",
       "      <td>0</td>\n",
       "      <td>среднее</td>\n",
       "      <td>1</td>\n",
       "      <td>женат / замужем</td>\n",
       "      <td>0</td>\n",
       "      <td>F</td>\n",
       "      <td>пенсионер</td>\n",
       "      <td>0</td>\n",
       "      <td>97620.687042</td>\n",
       "      <td>строительство собственной недвижимости</td>\n",
       "    </tr>\n",
       "    <tr>\n",
       "      <th>1040</th>\n",
       "      <td>1040</td>\n",
       "      <td>0</td>\n",
       "      <td>2194.173062</td>\n",
       "      <td>0</td>\n",
       "      <td>высшее</td>\n",
       "      <td>0</td>\n",
       "      <td>в разводе</td>\n",
       "      <td>3</td>\n",
       "      <td>F</td>\n",
       "      <td>компаньон</td>\n",
       "      <td>0</td>\n",
       "      <td>303994.134987</td>\n",
       "      <td>свой автомобиль</td>\n",
       "    </tr>\n",
       "    <tr>\n",
       "      <th>...</th>\n",
       "      <td>...</td>\n",
       "      <td>...</td>\n",
       "      <td>...</td>\n",
       "      <td>...</td>\n",
       "      <td>...</td>\n",
       "      <td>...</td>\n",
       "      <td>...</td>\n",
       "      <td>...</td>\n",
       "      <td>...</td>\n",
       "      <td>...</td>\n",
       "      <td>...</td>\n",
       "      <td>...</td>\n",
       "      <td>...</td>\n",
       "    </tr>\n",
       "    <tr>\n",
       "      <th>19829</th>\n",
       "      <td>19829</td>\n",
       "      <td>0</td>\n",
       "      <td>2194.173062</td>\n",
       "      <td>0</td>\n",
       "      <td>среднее</td>\n",
       "      <td>1</td>\n",
       "      <td>женат / замужем</td>\n",
       "      <td>0</td>\n",
       "      <td>F</td>\n",
       "      <td>сотрудник</td>\n",
       "      <td>0</td>\n",
       "      <td>145017.937533</td>\n",
       "      <td>жилье</td>\n",
       "    </tr>\n",
       "    <tr>\n",
       "      <th>20462</th>\n",
       "      <td>20462</td>\n",
       "      <td>0</td>\n",
       "      <td>2194.173062</td>\n",
       "      <td>0</td>\n",
       "      <td>среднее</td>\n",
       "      <td>1</td>\n",
       "      <td>женат / замужем</td>\n",
       "      <td>0</td>\n",
       "      <td>F</td>\n",
       "      <td>пенсионер</td>\n",
       "      <td>0</td>\n",
       "      <td>259193.920299</td>\n",
       "      <td>покупка своего жилья</td>\n",
       "    </tr>\n",
       "    <tr>\n",
       "      <th>20577</th>\n",
       "      <td>20577</td>\n",
       "      <td>0</td>\n",
       "      <td>2194.173062</td>\n",
       "      <td>0</td>\n",
       "      <td>среднее</td>\n",
       "      <td>1</td>\n",
       "      <td>Не женат / не замужем</td>\n",
       "      <td>4</td>\n",
       "      <td>F</td>\n",
       "      <td>пенсионер</td>\n",
       "      <td>0</td>\n",
       "      <td>129788.762899</td>\n",
       "      <td>недвижимость</td>\n",
       "    </tr>\n",
       "    <tr>\n",
       "      <th>21179</th>\n",
       "      <td>21179</td>\n",
       "      <td>2</td>\n",
       "      <td>2194.173062</td>\n",
       "      <td>0</td>\n",
       "      <td>высшее</td>\n",
       "      <td>0</td>\n",
       "      <td>женат / замужем</td>\n",
       "      <td>0</td>\n",
       "      <td>M</td>\n",
       "      <td>компаньон</td>\n",
       "      <td>0</td>\n",
       "      <td>240702.007382</td>\n",
       "      <td>строительство жилой недвижимости</td>\n",
       "    </tr>\n",
       "    <tr>\n",
       "      <th>21313</th>\n",
       "      <td>21313</td>\n",
       "      <td>0</td>\n",
       "      <td>2194.173062</td>\n",
       "      <td>0</td>\n",
       "      <td>среднее</td>\n",
       "      <td>1</td>\n",
       "      <td>Не женат / не замужем</td>\n",
       "      <td>4</td>\n",
       "      <td>M</td>\n",
       "      <td>сотрудник</td>\n",
       "      <td>0</td>\n",
       "      <td>152419.184851</td>\n",
       "      <td>операции с жильем</td>\n",
       "    </tr>\n",
       "  </tbody>\n",
       "</table>\n",
       "<p>101 rows × 13 columns</p>\n",
       "</div>"
      ],
      "text/plain": [
       "       Unnamed: 0  children  days_employed  dob_years education  education_id  \\\n",
       "99             99         0    2194.173062          0   Среднее             1   \n",
       "149           149         0    2194.173062          0   среднее             1   \n",
       "270           270         3    2194.173062          0   среднее             1   \n",
       "578           578         0    2194.173062          0   среднее             1   \n",
       "1040         1040         0    2194.173062          0    высшее             0   \n",
       "...           ...       ...            ...        ...       ...           ...   \n",
       "19829       19829         0    2194.173062          0   среднее             1   \n",
       "20462       20462         0    2194.173062          0   среднее             1   \n",
       "20577       20577         0    2194.173062          0   среднее             1   \n",
       "21179       21179         2    2194.173062          0    высшее             0   \n",
       "21313       21313         0    2194.173062          0   среднее             1   \n",
       "\n",
       "               family_status  family_status_id gender income_type  debt  \\\n",
       "99           женат / замужем                 0      F   пенсионер     0   \n",
       "149                в разводе                 3      F   сотрудник     0   \n",
       "270          женат / замужем                 0      F   сотрудник     0   \n",
       "578          женат / замужем                 0      F   пенсионер     0   \n",
       "1040               в разводе                 3      F   компаньон     0   \n",
       "...                      ...               ...    ...         ...   ...   \n",
       "19829        женат / замужем                 0      F   сотрудник     0   \n",
       "20462        женат / замужем                 0      F   пенсионер     0   \n",
       "20577  Не женат / не замужем                 4      F   пенсионер     0   \n",
       "21179        женат / замужем                 0      M   компаньон     0   \n",
       "21313  Не женат / не замужем                 4      M   сотрудник     0   \n",
       "\n",
       "        total_income                                 purpose  \n",
       "99      71291.522491                              автомобиль  \n",
       "149     70176.435951                       операции с жильем  \n",
       "270    102166.458894                            ремонт жилью  \n",
       "578     97620.687042  строительство собственной недвижимости  \n",
       "1040   303994.134987                         свой автомобиль  \n",
       "...              ...                                     ...  \n",
       "19829  145017.937533                                   жилье  \n",
       "20462  259193.920299                    покупка своего жилья  \n",
       "20577  129788.762899                            недвижимость  \n",
       "21179  240702.007382        строительство жилой недвижимости  \n",
       "21313  152419.184851                       операции с жильем  \n",
       "\n",
       "[101 rows x 13 columns]"
      ]
     },
     "execution_count": 20,
     "metadata": {},
     "output_type": "execute_result"
    }
   ],
   "source": [
    "data[data['dob_years'] == 0]"
   ]
  },
  {
   "cell_type": "code",
   "execution_count": 21,
   "id": "f75e17a3",
   "metadata": {},
   "outputs": [],
   "source": [
    "#создание таблицы со строками, где dob_years не равен 0\n",
    "data = data.loc[data['dob_years'] != 0]"
   ]
  },
  {
   "cell_type": "markdown",
   "id": "01104d82",
   "metadata": {},
   "source": [
    "Проверим данные выводом 10-строк."
   ]
  },
  {
   "cell_type": "code",
   "execution_count": 22,
   "id": "0bf3ac67",
   "metadata": {},
   "outputs": [
    {
     "data": {
      "text/html": [
       "<div>\n",
       "<style scoped>\n",
       "    .dataframe tbody tr th:only-of-type {\n",
       "        vertical-align: middle;\n",
       "    }\n",
       "\n",
       "    .dataframe tbody tr th {\n",
       "        vertical-align: top;\n",
       "    }\n",
       "\n",
       "    .dataframe thead th {\n",
       "        text-align: right;\n",
       "    }\n",
       "</style>\n",
       "<table border=\"1\" class=\"dataframe\">\n",
       "  <thead>\n",
       "    <tr style=\"text-align: right;\">\n",
       "      <th></th>\n",
       "      <th>Unnamed: 0</th>\n",
       "      <th>children</th>\n",
       "      <th>days_employed</th>\n",
       "      <th>dob_years</th>\n",
       "      <th>education</th>\n",
       "      <th>education_id</th>\n",
       "      <th>family_status</th>\n",
       "      <th>family_status_id</th>\n",
       "      <th>gender</th>\n",
       "      <th>income_type</th>\n",
       "      <th>debt</th>\n",
       "      <th>total_income</th>\n",
       "      <th>purpose</th>\n",
       "    </tr>\n",
       "  </thead>\n",
       "  <tbody>\n",
       "  </tbody>\n",
       "</table>\n",
       "</div>"
      ],
      "text/plain": [
       "Empty DataFrame\n",
       "Columns: [Unnamed: 0, children, days_employed, dob_years, education, education_id, family_status, family_status_id, gender, income_type, debt, total_income, purpose]\n",
       "Index: []"
      ]
     },
     "execution_count": 22,
     "metadata": {},
     "output_type": "execute_result"
    }
   ],
   "source": [
    "#вывод первых 10-ти строк отфильтрованной по возрасту 0 таблицы\n",
    "data[data['dob_years'] == 0].head(10)"
   ]
  },
  {
   "cell_type": "markdown",
   "id": "99c8ca1b",
   "metadata": {},
   "source": [
    "После обработки аномалий в столбце `days_employed` можем заменить пустые значения медианой."
   ]
  },
  {
   "cell_type": "code",
   "execution_count": 23,
   "id": "57069b37",
   "metadata": {},
   "outputs": [],
   "source": [
    "#замена значений столбца days_employed медианным значением столбца\n",
    "data['days_employed'] = data['days_employed'].fillna(data['days_employed'].median())"
   ]
  },
  {
   "cell_type": "code",
   "execution_count": 24,
   "id": "2f0555b6",
   "metadata": {},
   "outputs": [
    {
     "data": {
      "text/plain": [
       "Unnamed: 0          0\n",
       "children            0\n",
       "days_employed       0\n",
       "dob_years           0\n",
       "education           0\n",
       "education_id        0\n",
       "family_status       0\n",
       "family_status_id    0\n",
       "gender              0\n",
       "income_type         0\n",
       "debt                0\n",
       "total_income        0\n",
       "purpose             0\n",
       "dtype: int64"
      ]
     },
     "execution_count": 24,
     "metadata": {},
     "output_type": "execute_result"
    }
   ],
   "source": [
    "#проверка пустых значений\n",
    "data.isna().sum()"
   ]
  },
  {
   "cell_type": "markdown",
   "id": "513b12dd",
   "metadata": {},
   "source": [
    "Аномалии с возрастом равным 0 не так принципиальны. Возникла ошибка, но для нашего анализа данные не столь важны. Можно было бы их заменить на 18, так как кредит выдают только совершеннолетним, но мы этого делать не будем. Найдем еще возможные аномалии. Проверим уникальные значения в других столбцах."
   ]
  },
  {
   "cell_type": "code",
   "execution_count": 25,
   "id": "fed04d83",
   "metadata": {},
   "outputs": [
    {
     "data": {
      "text/plain": [
       " 0     14080\n",
       " 1      4802\n",
       " 2      2042\n",
       " 3       328\n",
       " 20       75\n",
       "-1        47\n",
       " 4        41\n",
       " 5         9\n",
       "Name: children, dtype: int64"
      ]
     },
     "execution_count": 25,
     "metadata": {},
     "output_type": "execute_result"
    }
   ],
   "source": [
    "#вывод уникальных значений с их количеством столба children\n",
    "data['children'].value_counts()"
   ]
  },
  {
   "cell_type": "markdown",
   "id": "5d1bdace",
   "metadata": {},
   "source": [
    "Видны две аномалии: отрицательное число детей и число детей 20. В мире не так много семей с 20-тью детьми, а у банка таких клиентов целых 76. Предположу, что произошла ошибка, и в данном случае допущу, что была опечатка и здесь лишний 0. С отрицательным значением также допущу наличие ошибки ввода минуса. Исправим эти значения: 20 на 2, -1 на 1."
   ]
  },
  {
   "cell_type": "code",
   "execution_count": 26,
   "id": "2f7cb244",
   "metadata": {},
   "outputs": [],
   "source": [
    "#создание фильтра строки и замена значения столбца children, равное 20\n",
    "row = (data['children'] == 20)\n",
    "data.loc[row, 'children'] = 2"
   ]
  },
  {
   "cell_type": "code",
   "execution_count": 27,
   "id": "9ac9639b",
   "metadata": {},
   "outputs": [],
   "source": [
    "#создание фильтра строки и замена значения столбца children, равное -1\n",
    "row = (data['children'] == -1)\n",
    "data.loc[row, 'children'] = 1"
   ]
  },
  {
   "cell_type": "markdown",
   "id": "006f06eb",
   "metadata": {},
   "source": [
    "Проверим уникальные значения:"
   ]
  },
  {
   "cell_type": "code",
   "execution_count": 28,
   "id": "0d7f4c4c",
   "metadata": {},
   "outputs": [
    {
     "data": {
      "text/plain": [
       "0    14080\n",
       "1     4849\n",
       "2     2117\n",
       "3      328\n",
       "4       41\n",
       "5        9\n",
       "Name: children, dtype: int64"
      ]
     },
     "execution_count": 28,
     "metadata": {},
     "output_type": "execute_result"
    }
   ],
   "source": [
    "#вывод уникальных значений с их количеством столба children\n",
    "data['children'].value_counts()"
   ]
  },
  {
   "cell_type": "markdown",
   "id": "39b8a25e",
   "metadata": {},
   "source": [
    "В остальных случаях аномалии не столько существенны, или числовым способом исправить их не получится."
   ]
  },
  {
   "cell_type": "code",
   "execution_count": 29,
   "id": "d0b996d2",
   "metadata": {},
   "outputs": [
    {
     "data": {
      "text/plain": [
       "F      14164\n",
       "M       7259\n",
       "XNA        1\n",
       "Name: gender, dtype: int64"
      ]
     },
     "execution_count": 29,
     "metadata": {},
     "output_type": "execute_result"
    }
   ],
   "source": [
    "#вывод уникальных значений столбца gender\n",
    "data['gender'].value_counts()"
   ]
  },
  {
   "cell_type": "markdown",
   "id": "a33eac36",
   "metadata": {},
   "source": [
    "Результат показал только одну строку с неопределенными данными по полу. Это не является даже одним процентом, можем удалить эту строку."
   ]
  },
  {
   "cell_type": "code",
   "execution_count": 30,
   "id": "7afb4d48",
   "metadata": {},
   "outputs": [
    {
     "data": {
      "text/html": [
       "<div>\n",
       "<style scoped>\n",
       "    .dataframe tbody tr th:only-of-type {\n",
       "        vertical-align: middle;\n",
       "    }\n",
       "\n",
       "    .dataframe tbody tr th {\n",
       "        vertical-align: top;\n",
       "    }\n",
       "\n",
       "    .dataframe thead th {\n",
       "        text-align: right;\n",
       "    }\n",
       "</style>\n",
       "<table border=\"1\" class=\"dataframe\">\n",
       "  <thead>\n",
       "    <tr style=\"text-align: right;\">\n",
       "      <th></th>\n",
       "      <th>Unnamed: 0</th>\n",
       "      <th>children</th>\n",
       "      <th>days_employed</th>\n",
       "      <th>dob_years</th>\n",
       "      <th>education</th>\n",
       "      <th>education_id</th>\n",
       "      <th>family_status</th>\n",
       "      <th>family_status_id</th>\n",
       "      <th>gender</th>\n",
       "      <th>income_type</th>\n",
       "      <th>debt</th>\n",
       "      <th>total_income</th>\n",
       "      <th>purpose</th>\n",
       "    </tr>\n",
       "  </thead>\n",
       "  <tbody>\n",
       "    <tr>\n",
       "      <th>10701</th>\n",
       "      <td>10701</td>\n",
       "      <td>0</td>\n",
       "      <td>2358.600502</td>\n",
       "      <td>24</td>\n",
       "      <td>неоконченное высшее</td>\n",
       "      <td>2</td>\n",
       "      <td>гражданский брак</td>\n",
       "      <td>1</td>\n",
       "      <td>XNA</td>\n",
       "      <td>компаньон</td>\n",
       "      <td>0</td>\n",
       "      <td>203905.157261</td>\n",
       "      <td>покупка недвижимости</td>\n",
       "    </tr>\n",
       "  </tbody>\n",
       "</table>\n",
       "</div>"
      ],
      "text/plain": [
       "       Unnamed: 0  children  days_employed  dob_years            education  \\\n",
       "10701       10701         0    2358.600502         24  неоконченное высшее   \n",
       "\n",
       "       education_id     family_status  family_status_id gender income_type  \\\n",
       "10701             2  гражданский брак                 1    XNA   компаньон   \n",
       "\n",
       "       debt   total_income               purpose  \n",
       "10701     0  203905.157261  покупка недвижимости  "
      ]
     },
     "execution_count": 30,
     "metadata": {},
     "output_type": "execute_result"
    }
   ],
   "source": [
    "#вывод этой строки\n",
    "data[data['gender'] == 'XNA']"
   ]
  },
  {
   "cell_type": "code",
   "execution_count": 31,
   "id": "4ce898f2",
   "metadata": {},
   "outputs": [],
   "source": [
    "data = data.loc[data['gender'] != 'XNA']"
   ]
  },
  {
   "cell_type": "code",
   "execution_count": 32,
   "id": "8de64556",
   "metadata": {},
   "outputs": [
    {
     "data": {
      "text/plain": [
       "F    14164\n",
       "M     7259\n",
       "Name: gender, dtype: int64"
      ]
     },
     "execution_count": 32,
     "metadata": {},
     "output_type": "execute_result"
    }
   ],
   "source": [
    "data['gender'].value_counts()"
   ]
  },
  {
   "cell_type": "markdown",
   "id": "56cbe8d5",
   "metadata": {},
   "source": [
    "### Шаг 2.3. Изменение типов данных."
   ]
  },
  {
   "cell_type": "markdown",
   "id": "e699a088",
   "metadata": {},
   "source": [
    "Изменим вещественный тип данных столбца `total_income` на int."
   ]
  },
  {
   "cell_type": "code",
   "execution_count": 33,
   "id": "9875dcaa",
   "metadata": {},
   "outputs": [],
   "source": [
    "#перевод столбца в тип int с помощью метода astype()\n",
    "data['total_income'] = data['total_income'].astype('int')"
   ]
  },
  {
   "cell_type": "code",
   "execution_count": 34,
   "id": "7413374e",
   "metadata": {},
   "outputs": [
    {
     "name": "stdout",
     "output_type": "stream",
     "text": [
      "<class 'pandas.core.frame.DataFrame'>\n",
      "Int64Index: 21423 entries, 0 to 21524\n",
      "Data columns (total 13 columns):\n",
      " #   Column            Non-Null Count  Dtype  \n",
      "---  ------            --------------  -----  \n",
      " 0   Unnamed: 0        21423 non-null  int64  \n",
      " 1   children          21423 non-null  int64  \n",
      " 2   days_employed     21423 non-null  float64\n",
      " 3   dob_years         21423 non-null  int64  \n",
      " 4   education         21423 non-null  object \n",
      " 5   education_id      21423 non-null  int64  \n",
      " 6   family_status     21423 non-null  object \n",
      " 7   family_status_id  21423 non-null  int64  \n",
      " 8   gender            21423 non-null  object \n",
      " 9   income_type       21423 non-null  object \n",
      " 10  debt              21423 non-null  int64  \n",
      " 11  total_income      21423 non-null  int32  \n",
      " 12  purpose           21423 non-null  object \n",
      "dtypes: float64(1), int32(1), int64(6), object(5)\n",
      "memory usage: 2.2+ MB\n"
     ]
    }
   ],
   "source": [
    "#проверка изменения методом info()\n",
    "data.info()"
   ]
  },
  {
   "cell_type": "markdown",
   "id": "b0eafca8",
   "metadata": {},
   "source": [
    "### Шаг 2.4. Удаление дубликатов."
   ]
  },
  {
   "cell_type": "markdown",
   "id": "fd41a34d",
   "metadata": {},
   "source": [
    "Найдем количество дубликатов в таблице. Воспользуемся двумя методами: `duplicated` и `sum()`"
   ]
  },
  {
   "cell_type": "code",
   "execution_count": 35,
   "id": "7c79bbc8",
   "metadata": {},
   "outputs": [
    {
     "data": {
      "text/plain": [
       "0"
      ]
     },
     "execution_count": 35,
     "metadata": {},
     "output_type": "execute_result"
    }
   ],
   "source": [
    "#вывод количества дубликатов\n",
    "data.duplicated().sum()"
   ]
  },
  {
   "cell_type": "code",
   "execution_count": 36,
   "id": "1b74d113",
   "metadata": {},
   "outputs": [],
   "source": [
    "#создание таблицы с дубликатами\n",
    "duplicated_data = data[data.duplicated()]"
   ]
  },
  {
   "cell_type": "code",
   "execution_count": 37,
   "id": "c5116192",
   "metadata": {},
   "outputs": [
    {
     "data": {
      "text/html": [
       "<div>\n",
       "<style scoped>\n",
       "    .dataframe tbody tr th:only-of-type {\n",
       "        vertical-align: middle;\n",
       "    }\n",
       "\n",
       "    .dataframe tbody tr th {\n",
       "        vertical-align: top;\n",
       "    }\n",
       "\n",
       "    .dataframe thead th {\n",
       "        text-align: right;\n",
       "    }\n",
       "</style>\n",
       "<table border=\"1\" class=\"dataframe\">\n",
       "  <thead>\n",
       "    <tr style=\"text-align: right;\">\n",
       "      <th></th>\n",
       "      <th>Unnamed: 0</th>\n",
       "      <th>children</th>\n",
       "      <th>days_employed</th>\n",
       "      <th>dob_years</th>\n",
       "      <th>education</th>\n",
       "      <th>education_id</th>\n",
       "      <th>family_status</th>\n",
       "      <th>family_status_id</th>\n",
       "      <th>gender</th>\n",
       "      <th>income_type</th>\n",
       "      <th>debt</th>\n",
       "      <th>total_income</th>\n",
       "      <th>purpose</th>\n",
       "    </tr>\n",
       "  </thead>\n",
       "  <tbody>\n",
       "  </tbody>\n",
       "</table>\n",
       "</div>"
      ],
      "text/plain": [
       "Empty DataFrame\n",
       "Columns: [Unnamed: 0, children, days_employed, dob_years, education, education_id, family_status, family_status_id, gender, income_type, debt, total_income, purpose]\n",
       "Index: []"
      ]
     },
     "execution_count": 37,
     "metadata": {},
     "output_type": "execute_result"
    }
   ],
   "source": [
    "#вывод первых 10-строк новой таблицы\n",
    "duplicated_data.head(10)"
   ]
  },
  {
   "cell_type": "markdown",
   "id": "7fb85172",
   "metadata": {},
   "source": [
    "Из визуального анализа можно предположить, что там, где были пропуски в стаже и зарплате, те строки и стали дубликатами."
   ]
  },
  {
   "cell_type": "markdown",
   "id": "8e779fb7",
   "metadata": {},
   "source": [
    "Удалим дубликаты с помощью метода `drop_duplicates()`"
   ]
  },
  {
   "cell_type": "code",
   "execution_count": 38,
   "id": "918e99ed",
   "metadata": {},
   "outputs": [],
   "source": [
    "#удаление дубликатов\n",
    "data = data.drop_duplicates()"
   ]
  },
  {
   "cell_type": "code",
   "execution_count": 39,
   "id": "d496a9cf",
   "metadata": {},
   "outputs": [
    {
     "data": {
      "text/plain": [
       "0"
      ]
     },
     "execution_count": 39,
     "metadata": {},
     "output_type": "execute_result"
    }
   ],
   "source": [
    "#проверка количества дубликатов после удаления\n",
    "data.duplicated().sum()"
   ]
  },
  {
   "cell_type": "markdown",
   "id": "14497322",
   "metadata": {},
   "source": [
    "Это были явные дубликаты. Найдем неявные дубликаты: как видно из таблицы образование записано не в одном регистре. Сначала проверим уникальные значения в столбцах, где такая ошибка возможна, а затем изменим значения на нижний регистр."
   ]
  },
  {
   "cell_type": "code",
   "execution_count": 40,
   "id": "64ca6c02",
   "metadata": {},
   "outputs": [
    {
     "data": {
      "text/plain": [
       "array(['высшее', 'среднее', 'Среднее', 'СРЕДНЕЕ', 'ВЫСШЕЕ',\n",
       "       'неоконченное высшее', 'начальное', 'Высшее',\n",
       "       'НЕОКОНЧЕННОЕ ВЫСШЕЕ', 'Неоконченное высшее', 'НАЧАЛЬНОЕ',\n",
       "       'Начальное', 'Ученая степень', 'УЧЕНАЯ СТЕПЕНЬ', 'ученая степень'],\n",
       "      dtype=object)"
      ]
     },
     "execution_count": 40,
     "metadata": {},
     "output_type": "execute_result"
    }
   ],
   "source": [
    "#уникальные значения столбца education\n",
    "data['education'].unique()"
   ]
  },
  {
   "cell_type": "code",
   "execution_count": 41,
   "id": "c680a961",
   "metadata": {},
   "outputs": [
    {
     "data": {
      "text/plain": [
       "array(['женат / замужем', 'гражданский брак', 'вдовец / вдова',\n",
       "       'в разводе', 'Не женат / не замужем'], dtype=object)"
      ]
     },
     "execution_count": 41,
     "metadata": {},
     "output_type": "execute_result"
    }
   ],
   "source": [
    "#уникальные значения столбца family_status\n",
    "data['family_status'].unique()"
   ]
  },
  {
   "cell_type": "code",
   "execution_count": 42,
   "id": "8e1ddf0c",
   "metadata": {},
   "outputs": [
    {
     "data": {
      "text/plain": [
       "array(['сотрудник', 'пенсионер', 'компаньон', 'госслужащий',\n",
       "       'безработный', 'предприниматель', 'студент', 'в декрете'],\n",
       "      dtype=object)"
      ]
     },
     "execution_count": 42,
     "metadata": {},
     "output_type": "execute_result"
    }
   ],
   "source": [
    "data['income_type'].unique()"
   ]
  },
  {
   "cell_type": "code",
   "execution_count": 43,
   "id": "14a4e8c0",
   "metadata": {},
   "outputs": [
    {
     "data": {
      "text/plain": [
       "array(['покупка жилья', 'приобретение автомобиля',\n",
       "       'дополнительное образование', 'сыграть свадьбу',\n",
       "       'операции с жильем', 'образование', 'на проведение свадьбы',\n",
       "       'покупка жилья для семьи', 'покупка недвижимости',\n",
       "       'покупка коммерческой недвижимости', 'покупка жилой недвижимости',\n",
       "       'строительство собственной недвижимости', 'недвижимость',\n",
       "       'строительство недвижимости', 'на покупку подержанного автомобиля',\n",
       "       'на покупку своего автомобиля',\n",
       "       'операции с коммерческой недвижимостью',\n",
       "       'строительство жилой недвижимости', 'жилье',\n",
       "       'операции со своей недвижимостью', 'автомобили',\n",
       "       'заняться образованием', 'сделка с подержанным автомобилем',\n",
       "       'получение образования', 'автомобиль', 'свадьба',\n",
       "       'получение дополнительного образования', 'покупка своего жилья',\n",
       "       'операции с недвижимостью', 'получение высшего образования',\n",
       "       'свой автомобиль', 'сделка с автомобилем',\n",
       "       'профильное образование', 'высшее образование',\n",
       "       'покупка жилья для сдачи', 'на покупку автомобиля', 'ремонт жилью',\n",
       "       'заняться высшим образованием'], dtype=object)"
      ]
     },
     "execution_count": 43,
     "metadata": {},
     "output_type": "execute_result"
    }
   ],
   "source": [
    "#уникальные значения столбца purpose\n",
    "data['purpose'].unique()"
   ]
  },
  {
   "cell_type": "markdown",
   "id": "a8729e31",
   "metadata": {},
   "source": [
    "Ошибка регистра встретилась только в столбце education. Исправим её."
   ]
  },
  {
   "cell_type": "code",
   "execution_count": 44,
   "id": "f202acc4",
   "metadata": {},
   "outputs": [],
   "source": [
    "#преобразование в нижний регистр с помощью метода str.lower()\n",
    "data['education'] = data['education'].str.lower()"
   ]
  },
  {
   "cell_type": "code",
   "execution_count": 45,
   "id": "713c3cf1",
   "metadata": {},
   "outputs": [
    {
     "data": {
      "text/plain": [
       "array(['высшее', 'среднее', 'неоконченное высшее', 'начальное',\n",
       "       'ученая степень'], dtype=object)"
      ]
     },
     "execution_count": 45,
     "metadata": {},
     "output_type": "execute_result"
    }
   ],
   "source": [
    "#проверка уникальных значений\n",
    "data['education'].unique()"
   ]
  },
  {
   "cell_type": "markdown",
   "id": "ba2420e8",
   "metadata": {},
   "source": [
    "Посмотрим число оставшихся дубликатов после преобразования."
   ]
  },
  {
   "cell_type": "code",
   "execution_count": 46,
   "id": "5c478299",
   "metadata": {},
   "outputs": [
    {
     "data": {
      "text/plain": [
       "0"
      ]
     },
     "execution_count": 46,
     "metadata": {},
     "output_type": "execute_result"
    }
   ],
   "source": [
    "#вывод числа дубликатов\n",
    "data.duplicated().sum()"
   ]
  },
  {
   "cell_type": "markdown",
   "id": "d3f564ff",
   "metadata": {},
   "source": [
    "Удалим оставшиеся дубликаты."
   ]
  },
  {
   "cell_type": "code",
   "execution_count": 47,
   "id": "548d5fe8",
   "metadata": {},
   "outputs": [],
   "source": [
    "#удаление дубликатов\n",
    "data = data.drop_duplicates()"
   ]
  },
  {
   "cell_type": "code",
   "execution_count": 48,
   "id": "30552ccf",
   "metadata": {},
   "outputs": [
    {
     "data": {
      "text/plain": [
       "0"
      ]
     },
     "execution_count": 48,
     "metadata": {},
     "output_type": "execute_result"
    }
   ],
   "source": [
    "#проверка числа дубликатов\n",
    "data.duplicated().sum()"
   ]
  },
  {
   "cell_type": "markdown",
   "id": "f381f1e1",
   "metadata": {},
   "source": [
    "От явных и неявных дубликатов избавились."
   ]
  },
  {
   "cell_type": "markdown",
   "id": "c0aff40d",
   "metadata": {},
   "source": [
    "### Шаг 2.5. Формирование дополнительных датафреймов словарей, декомпозиция исходного датафрейма."
   ]
  },
  {
   "cell_type": "markdown",
   "id": "a3bcbdd0",
   "metadata": {},
   "source": [
    "В таблице есть две пары столбцов - `education` и `education_id`, `family_status` и `family_status_id`."
   ]
  },
  {
   "cell_type": "markdown",
   "id": "1e26a181",
   "metadata": {},
   "source": [
    "Создадим два новых датафрейма словаря, где каждому уникальному значения одного из пары столбцов будет соответствовать другой столбец пары."
   ]
  },
  {
   "cell_type": "code",
   "execution_count": 49,
   "id": "80b7c002",
   "metadata": {},
   "outputs": [
    {
     "data": {
      "text/html": [
       "<div>\n",
       "<style scoped>\n",
       "    .dataframe tbody tr th:only-of-type {\n",
       "        vertical-align: middle;\n",
       "    }\n",
       "\n",
       "    .dataframe tbody tr th {\n",
       "        vertical-align: top;\n",
       "    }\n",
       "\n",
       "    .dataframe thead th {\n",
       "        text-align: right;\n",
       "    }\n",
       "</style>\n",
       "<table border=\"1\" class=\"dataframe\">\n",
       "  <thead>\n",
       "    <tr style=\"text-align: right;\">\n",
       "      <th></th>\n",
       "      <th>education_id</th>\n",
       "      <th>education</th>\n",
       "    </tr>\n",
       "  </thead>\n",
       "  <tbody>\n",
       "    <tr>\n",
       "      <th>0</th>\n",
       "      <td>0</td>\n",
       "      <td>высшее</td>\n",
       "    </tr>\n",
       "    <tr>\n",
       "      <th>1</th>\n",
       "      <td>1</td>\n",
       "      <td>среднее</td>\n",
       "    </tr>\n",
       "    <tr>\n",
       "      <th>2</th>\n",
       "      <td>1</td>\n",
       "      <td>среднее</td>\n",
       "    </tr>\n",
       "    <tr>\n",
       "      <th>3</th>\n",
       "      <td>1</td>\n",
       "      <td>среднее</td>\n",
       "    </tr>\n",
       "    <tr>\n",
       "      <th>4</th>\n",
       "      <td>1</td>\n",
       "      <td>среднее</td>\n",
       "    </tr>\n",
       "    <tr>\n",
       "      <th>...</th>\n",
       "      <td>...</td>\n",
       "      <td>...</td>\n",
       "    </tr>\n",
       "    <tr>\n",
       "      <th>21520</th>\n",
       "      <td>1</td>\n",
       "      <td>среднее</td>\n",
       "    </tr>\n",
       "    <tr>\n",
       "      <th>21521</th>\n",
       "      <td>1</td>\n",
       "      <td>среднее</td>\n",
       "    </tr>\n",
       "    <tr>\n",
       "      <th>21522</th>\n",
       "      <td>1</td>\n",
       "      <td>среднее</td>\n",
       "    </tr>\n",
       "    <tr>\n",
       "      <th>21523</th>\n",
       "      <td>1</td>\n",
       "      <td>среднее</td>\n",
       "    </tr>\n",
       "    <tr>\n",
       "      <th>21524</th>\n",
       "      <td>1</td>\n",
       "      <td>среднее</td>\n",
       "    </tr>\n",
       "  </tbody>\n",
       "</table>\n",
       "<p>21423 rows × 2 columns</p>\n",
       "</div>"
      ],
      "text/plain": [
       "       education_id education\n",
       "0                 0    высшее\n",
       "1                 1   среднее\n",
       "2                 1   среднее\n",
       "3                 1   среднее\n",
       "4                 1   среднее\n",
       "...             ...       ...\n",
       "21520             1   среднее\n",
       "21521             1   среднее\n",
       "21522             1   среднее\n",
       "21523             1   среднее\n",
       "21524             1   среднее\n",
       "\n",
       "[21423 rows x 2 columns]"
      ]
     },
     "execution_count": 49,
     "metadata": {},
     "output_type": "execute_result"
    }
   ],
   "source": [
    "#создание первого словаря для education\n",
    "education_dict = data[['education_id', 'education']]\n",
    "education_dict"
   ]
  },
  {
   "cell_type": "markdown",
   "id": "28376b34",
   "metadata": {},
   "source": [
    "В 'словаре' заметно много дубликатов, удалим их."
   ]
  },
  {
   "cell_type": "code",
   "execution_count": 50,
   "id": "8452c3e3",
   "metadata": {},
   "outputs": [],
   "source": [
    "#удаление дубликатов, перепись словаря\n",
    "education_dict = education_dict.drop_duplicates().reset_index(drop=True)"
   ]
  },
  {
   "cell_type": "code",
   "execution_count": 51,
   "id": "cead6255",
   "metadata": {},
   "outputs": [
    {
     "data": {
      "text/html": [
       "<div>\n",
       "<style scoped>\n",
       "    .dataframe tbody tr th:only-of-type {\n",
       "        vertical-align: middle;\n",
       "    }\n",
       "\n",
       "    .dataframe tbody tr th {\n",
       "        vertical-align: top;\n",
       "    }\n",
       "\n",
       "    .dataframe thead th {\n",
       "        text-align: right;\n",
       "    }\n",
       "</style>\n",
       "<table border=\"1\" class=\"dataframe\">\n",
       "  <thead>\n",
       "    <tr style=\"text-align: right;\">\n",
       "      <th></th>\n",
       "      <th>education_id</th>\n",
       "      <th>education</th>\n",
       "    </tr>\n",
       "  </thead>\n",
       "  <tbody>\n",
       "    <tr>\n",
       "      <th>0</th>\n",
       "      <td>0</td>\n",
       "      <td>высшее</td>\n",
       "    </tr>\n",
       "    <tr>\n",
       "      <th>1</th>\n",
       "      <td>1</td>\n",
       "      <td>среднее</td>\n",
       "    </tr>\n",
       "    <tr>\n",
       "      <th>2</th>\n",
       "      <td>2</td>\n",
       "      <td>неоконченное высшее</td>\n",
       "    </tr>\n",
       "    <tr>\n",
       "      <th>3</th>\n",
       "      <td>3</td>\n",
       "      <td>начальное</td>\n",
       "    </tr>\n",
       "    <tr>\n",
       "      <th>4</th>\n",
       "      <td>4</td>\n",
       "      <td>ученая степень</td>\n",
       "    </tr>\n",
       "  </tbody>\n",
       "</table>\n",
       "</div>"
      ],
      "text/plain": [
       "   education_id            education\n",
       "0             0               высшее\n",
       "1             1              среднее\n",
       "2             2  неоконченное высшее\n",
       "3             3            начальное\n",
       "4             4       ученая степень"
      ]
     },
     "execution_count": 51,
     "metadata": {},
     "output_type": "execute_result"
    }
   ],
   "source": [
    "#вывод словаря\n",
    "education_dict"
   ]
  },
  {
   "cell_type": "markdown",
   "id": "a1c26581",
   "metadata": {},
   "source": [
    "Тоже самое проделаем для family_status."
   ]
  },
  {
   "cell_type": "code",
   "execution_count": 52,
   "id": "8e0fe6bf",
   "metadata": {},
   "outputs": [
    {
     "data": {
      "text/html": [
       "<div>\n",
       "<style scoped>\n",
       "    .dataframe tbody tr th:only-of-type {\n",
       "        vertical-align: middle;\n",
       "    }\n",
       "\n",
       "    .dataframe tbody tr th {\n",
       "        vertical-align: top;\n",
       "    }\n",
       "\n",
       "    .dataframe thead th {\n",
       "        text-align: right;\n",
       "    }\n",
       "</style>\n",
       "<table border=\"1\" class=\"dataframe\">\n",
       "  <thead>\n",
       "    <tr style=\"text-align: right;\">\n",
       "      <th></th>\n",
       "      <th>family_status_id</th>\n",
       "      <th>family_status</th>\n",
       "    </tr>\n",
       "  </thead>\n",
       "  <tbody>\n",
       "    <tr>\n",
       "      <th>0</th>\n",
       "      <td>0</td>\n",
       "      <td>женат / замужем</td>\n",
       "    </tr>\n",
       "    <tr>\n",
       "      <th>1</th>\n",
       "      <td>0</td>\n",
       "      <td>женат / замужем</td>\n",
       "    </tr>\n",
       "    <tr>\n",
       "      <th>2</th>\n",
       "      <td>0</td>\n",
       "      <td>женат / замужем</td>\n",
       "    </tr>\n",
       "    <tr>\n",
       "      <th>3</th>\n",
       "      <td>0</td>\n",
       "      <td>женат / замужем</td>\n",
       "    </tr>\n",
       "    <tr>\n",
       "      <th>4</th>\n",
       "      <td>1</td>\n",
       "      <td>гражданский брак</td>\n",
       "    </tr>\n",
       "    <tr>\n",
       "      <th>...</th>\n",
       "      <td>...</td>\n",
       "      <td>...</td>\n",
       "    </tr>\n",
       "    <tr>\n",
       "      <th>21520</th>\n",
       "      <td>1</td>\n",
       "      <td>гражданский брак</td>\n",
       "    </tr>\n",
       "    <tr>\n",
       "      <th>21521</th>\n",
       "      <td>0</td>\n",
       "      <td>женат / замужем</td>\n",
       "    </tr>\n",
       "    <tr>\n",
       "      <th>21522</th>\n",
       "      <td>1</td>\n",
       "      <td>гражданский брак</td>\n",
       "    </tr>\n",
       "    <tr>\n",
       "      <th>21523</th>\n",
       "      <td>0</td>\n",
       "      <td>женат / замужем</td>\n",
       "    </tr>\n",
       "    <tr>\n",
       "      <th>21524</th>\n",
       "      <td>0</td>\n",
       "      <td>женат / замужем</td>\n",
       "    </tr>\n",
       "  </tbody>\n",
       "</table>\n",
       "<p>21423 rows × 2 columns</p>\n",
       "</div>"
      ],
      "text/plain": [
       "       family_status_id     family_status\n",
       "0                     0   женат / замужем\n",
       "1                     0   женат / замужем\n",
       "2                     0   женат / замужем\n",
       "3                     0   женат / замужем\n",
       "4                     1  гражданский брак\n",
       "...                 ...               ...\n",
       "21520                 1  гражданский брак\n",
       "21521                 0   женат / замужем\n",
       "21522                 1  гражданский брак\n",
       "21523                 0   женат / замужем\n",
       "21524                 0   женат / замужем\n",
       "\n",
       "[21423 rows x 2 columns]"
      ]
     },
     "execution_count": 52,
     "metadata": {},
     "output_type": "execute_result"
    }
   ],
   "source": [
    "#создание второго словаря для family_status\n",
    "family_status_dict = data[['family_status_id', 'family_status']]\n",
    "family_status_dict"
   ]
  },
  {
   "cell_type": "code",
   "execution_count": 53,
   "id": "90748480",
   "metadata": {},
   "outputs": [],
   "source": [
    "#удаление дубликатов\n",
    "family_status_dict = family_status_dict.drop_duplicates().reset_index(drop=True)"
   ]
  },
  {
   "cell_type": "code",
   "execution_count": 54,
   "id": "a282a3b0",
   "metadata": {},
   "outputs": [
    {
     "data": {
      "text/html": [
       "<div>\n",
       "<style scoped>\n",
       "    .dataframe tbody tr th:only-of-type {\n",
       "        vertical-align: middle;\n",
       "    }\n",
       "\n",
       "    .dataframe tbody tr th {\n",
       "        vertical-align: top;\n",
       "    }\n",
       "\n",
       "    .dataframe thead th {\n",
       "        text-align: right;\n",
       "    }\n",
       "</style>\n",
       "<table border=\"1\" class=\"dataframe\">\n",
       "  <thead>\n",
       "    <tr style=\"text-align: right;\">\n",
       "      <th></th>\n",
       "      <th>family_status_id</th>\n",
       "      <th>family_status</th>\n",
       "    </tr>\n",
       "  </thead>\n",
       "  <tbody>\n",
       "    <tr>\n",
       "      <th>0</th>\n",
       "      <td>0</td>\n",
       "      <td>женат / замужем</td>\n",
       "    </tr>\n",
       "    <tr>\n",
       "      <th>1</th>\n",
       "      <td>1</td>\n",
       "      <td>гражданский брак</td>\n",
       "    </tr>\n",
       "    <tr>\n",
       "      <th>2</th>\n",
       "      <td>2</td>\n",
       "      <td>вдовец / вдова</td>\n",
       "    </tr>\n",
       "    <tr>\n",
       "      <th>3</th>\n",
       "      <td>3</td>\n",
       "      <td>в разводе</td>\n",
       "    </tr>\n",
       "    <tr>\n",
       "      <th>4</th>\n",
       "      <td>4</td>\n",
       "      <td>Не женат / не замужем</td>\n",
       "    </tr>\n",
       "  </tbody>\n",
       "</table>\n",
       "</div>"
      ],
      "text/plain": [
       "   family_status_id          family_status\n",
       "0                 0        женат / замужем\n",
       "1                 1       гражданский брак\n",
       "2                 2         вдовец / вдова\n",
       "3                 3              в разводе\n",
       "4                 4  Не женат / не замужем"
      ]
     },
     "execution_count": 54,
     "metadata": {},
     "output_type": "execute_result"
    }
   ],
   "source": [
    "#вывод словаря\n",
    "family_status_dict"
   ]
  },
  {
   "cell_type": "markdown",
   "id": "e087cc83",
   "metadata": {},
   "source": [
    "Из исходной таблицы `data` удалим столбцы `education` и `family_status`, оставив только их идентификаторы id."
   ]
  },
  {
   "cell_type": "code",
   "execution_count": 55,
   "id": "c8288352",
   "metadata": {},
   "outputs": [
    {
     "name": "stderr",
     "output_type": "stream",
     "text": [
      "C:\\Users\\nasty\\AppData\\Local\\Temp/ipykernel_2508/1713348516.py:2: FutureWarning: In a future version of pandas all arguments of DataFrame.drop except for the argument 'labels' will be keyword-only\n",
      "  data = data.drop('education', 1)\n"
     ]
    }
   ],
   "source": [
    "#удаление столбца education\n",
    "data = data.drop('education', 1)"
   ]
  },
  {
   "cell_type": "code",
   "execution_count": 56,
   "id": "13925988",
   "metadata": {},
   "outputs": [
    {
     "name": "stderr",
     "output_type": "stream",
     "text": [
      "C:\\Users\\nasty\\AppData\\Local\\Temp/ipykernel_2508/3862953614.py:2: FutureWarning: In a future version of pandas all arguments of DataFrame.drop except for the argument 'labels' will be keyword-only\n",
      "  data = data.drop('family_status', 1)\n"
     ]
    }
   ],
   "source": [
    "#удаление столбца family_status\n",
    "data = data.drop('family_status', 1)"
   ]
  },
  {
   "cell_type": "code",
   "execution_count": 57,
   "id": "83a192b1",
   "metadata": {},
   "outputs": [
    {
     "data": {
      "text/html": [
       "<div>\n",
       "<style scoped>\n",
       "    .dataframe tbody tr th:only-of-type {\n",
       "        vertical-align: middle;\n",
       "    }\n",
       "\n",
       "    .dataframe tbody tr th {\n",
       "        vertical-align: top;\n",
       "    }\n",
       "\n",
       "    .dataframe thead th {\n",
       "        text-align: right;\n",
       "    }\n",
       "</style>\n",
       "<table border=\"1\" class=\"dataframe\">\n",
       "  <thead>\n",
       "    <tr style=\"text-align: right;\">\n",
       "      <th></th>\n",
       "      <th>Unnamed: 0</th>\n",
       "      <th>children</th>\n",
       "      <th>days_employed</th>\n",
       "      <th>dob_years</th>\n",
       "      <th>education_id</th>\n",
       "      <th>family_status_id</th>\n",
       "      <th>gender</th>\n",
       "      <th>income_type</th>\n",
       "      <th>debt</th>\n",
       "      <th>total_income</th>\n",
       "      <th>purpose</th>\n",
       "    </tr>\n",
       "  </thead>\n",
       "  <tbody>\n",
       "    <tr>\n",
       "      <th>0</th>\n",
       "      <td>0</td>\n",
       "      <td>1</td>\n",
       "      <td>8437.673028</td>\n",
       "      <td>42</td>\n",
       "      <td>0</td>\n",
       "      <td>0</td>\n",
       "      <td>F</td>\n",
       "      <td>сотрудник</td>\n",
       "      <td>0</td>\n",
       "      <td>253875</td>\n",
       "      <td>покупка жилья</td>\n",
       "    </tr>\n",
       "    <tr>\n",
       "      <th>1</th>\n",
       "      <td>1</td>\n",
       "      <td>1</td>\n",
       "      <td>4024.803754</td>\n",
       "      <td>36</td>\n",
       "      <td>1</td>\n",
       "      <td>0</td>\n",
       "      <td>F</td>\n",
       "      <td>сотрудник</td>\n",
       "      <td>0</td>\n",
       "      <td>112080</td>\n",
       "      <td>приобретение автомобиля</td>\n",
       "    </tr>\n",
       "    <tr>\n",
       "      <th>2</th>\n",
       "      <td>2</td>\n",
       "      <td>0</td>\n",
       "      <td>5623.422610</td>\n",
       "      <td>33</td>\n",
       "      <td>1</td>\n",
       "      <td>0</td>\n",
       "      <td>M</td>\n",
       "      <td>сотрудник</td>\n",
       "      <td>0</td>\n",
       "      <td>145885</td>\n",
       "      <td>покупка жилья</td>\n",
       "    </tr>\n",
       "    <tr>\n",
       "      <th>3</th>\n",
       "      <td>3</td>\n",
       "      <td>3</td>\n",
       "      <td>4124.747207</td>\n",
       "      <td>32</td>\n",
       "      <td>1</td>\n",
       "      <td>0</td>\n",
       "      <td>M</td>\n",
       "      <td>сотрудник</td>\n",
       "      <td>0</td>\n",
       "      <td>267628</td>\n",
       "      <td>дополнительное образование</td>\n",
       "    </tr>\n",
       "    <tr>\n",
       "      <th>4</th>\n",
       "      <td>4</td>\n",
       "      <td>0</td>\n",
       "      <td>8645.000000</td>\n",
       "      <td>53</td>\n",
       "      <td>1</td>\n",
       "      <td>1</td>\n",
       "      <td>F</td>\n",
       "      <td>пенсионер</td>\n",
       "      <td>0</td>\n",
       "      <td>158616</td>\n",
       "      <td>сыграть свадьбу</td>\n",
       "    </tr>\n",
       "    <tr>\n",
       "      <th>...</th>\n",
       "      <td>...</td>\n",
       "      <td>...</td>\n",
       "      <td>...</td>\n",
       "      <td>...</td>\n",
       "      <td>...</td>\n",
       "      <td>...</td>\n",
       "      <td>...</td>\n",
       "      <td>...</td>\n",
       "      <td>...</td>\n",
       "      <td>...</td>\n",
       "      <td>...</td>\n",
       "    </tr>\n",
       "    <tr>\n",
       "      <th>21520</th>\n",
       "      <td>21520</td>\n",
       "      <td>1</td>\n",
       "      <td>4529.316663</td>\n",
       "      <td>43</td>\n",
       "      <td>1</td>\n",
       "      <td>1</td>\n",
       "      <td>F</td>\n",
       "      <td>компаньон</td>\n",
       "      <td>0</td>\n",
       "      <td>224791</td>\n",
       "      <td>операции с жильем</td>\n",
       "    </tr>\n",
       "    <tr>\n",
       "      <th>21521</th>\n",
       "      <td>21521</td>\n",
       "      <td>0</td>\n",
       "      <td>12103.000000</td>\n",
       "      <td>67</td>\n",
       "      <td>1</td>\n",
       "      <td>0</td>\n",
       "      <td>F</td>\n",
       "      <td>пенсионер</td>\n",
       "      <td>0</td>\n",
       "      <td>155999</td>\n",
       "      <td>сделка с автомобилем</td>\n",
       "    </tr>\n",
       "    <tr>\n",
       "      <th>21522</th>\n",
       "      <td>21522</td>\n",
       "      <td>1</td>\n",
       "      <td>2113.346888</td>\n",
       "      <td>38</td>\n",
       "      <td>1</td>\n",
       "      <td>1</td>\n",
       "      <td>M</td>\n",
       "      <td>сотрудник</td>\n",
       "      <td>1</td>\n",
       "      <td>89672</td>\n",
       "      <td>недвижимость</td>\n",
       "    </tr>\n",
       "    <tr>\n",
       "      <th>21523</th>\n",
       "      <td>21523</td>\n",
       "      <td>3</td>\n",
       "      <td>3112.481705</td>\n",
       "      <td>38</td>\n",
       "      <td>1</td>\n",
       "      <td>0</td>\n",
       "      <td>M</td>\n",
       "      <td>сотрудник</td>\n",
       "      <td>1</td>\n",
       "      <td>244093</td>\n",
       "      <td>на покупку своего автомобиля</td>\n",
       "    </tr>\n",
       "    <tr>\n",
       "      <th>21524</th>\n",
       "      <td>21524</td>\n",
       "      <td>2</td>\n",
       "      <td>1984.507589</td>\n",
       "      <td>40</td>\n",
       "      <td>1</td>\n",
       "      <td>0</td>\n",
       "      <td>F</td>\n",
       "      <td>сотрудник</td>\n",
       "      <td>0</td>\n",
       "      <td>82047</td>\n",
       "      <td>на покупку автомобиля</td>\n",
       "    </tr>\n",
       "  </tbody>\n",
       "</table>\n",
       "<p>21423 rows × 11 columns</p>\n",
       "</div>"
      ],
      "text/plain": [
       "       Unnamed: 0  children  days_employed  dob_years  education_id  \\\n",
       "0               0         1    8437.673028         42             0   \n",
       "1               1         1    4024.803754         36             1   \n",
       "2               2         0    5623.422610         33             1   \n",
       "3               3         3    4124.747207         32             1   \n",
       "4               4         0    8645.000000         53             1   \n",
       "...           ...       ...            ...        ...           ...   \n",
       "21520       21520         1    4529.316663         43             1   \n",
       "21521       21521         0   12103.000000         67             1   \n",
       "21522       21522         1    2113.346888         38             1   \n",
       "21523       21523         3    3112.481705         38             1   \n",
       "21524       21524         2    1984.507589         40             1   \n",
       "\n",
       "       family_status_id gender income_type  debt  total_income  \\\n",
       "0                     0      F   сотрудник     0        253875   \n",
       "1                     0      F   сотрудник     0        112080   \n",
       "2                     0      M   сотрудник     0        145885   \n",
       "3                     0      M   сотрудник     0        267628   \n",
       "4                     1      F   пенсионер     0        158616   \n",
       "...                 ...    ...         ...   ...           ...   \n",
       "21520                 1      F   компаньон     0        224791   \n",
       "21521                 0      F   пенсионер     0        155999   \n",
       "21522                 1      M   сотрудник     1         89672   \n",
       "21523                 0      M   сотрудник     1        244093   \n",
       "21524                 0      F   сотрудник     0         82047   \n",
       "\n",
       "                            purpose  \n",
       "0                     покупка жилья  \n",
       "1           приобретение автомобиля  \n",
       "2                     покупка жилья  \n",
       "3        дополнительное образование  \n",
       "4                   сыграть свадьбу  \n",
       "...                             ...  \n",
       "21520             операции с жильем  \n",
       "21521          сделка с автомобилем  \n",
       "21522                  недвижимость  \n",
       "21523  на покупку своего автомобиля  \n",
       "21524         на покупку автомобиля  \n",
       "\n",
       "[21423 rows x 11 columns]"
      ]
     },
     "execution_count": 57,
     "metadata": {},
     "output_type": "execute_result"
    }
   ],
   "source": [
    "#просмотр таблицы data\n",
    "data"
   ]
  },
  {
   "cell_type": "markdown",
   "id": "baf63668",
   "metadata": {},
   "source": [
    "Мы создали два словаря, к которым сможем обратиться по идентификатору."
   ]
  },
  {
   "cell_type": "markdown",
   "id": "e9d28399",
   "metadata": {},
   "source": [
    "### Шаг 2.6. Категоризация дохода."
   ]
  },
  {
   "cell_type": "markdown",
   "id": "1e315ecf",
   "metadata": {},
   "source": [
    "Чтобы делать статистические выводы, необходимо сгруппировать данные. Численности каждой группы должно хватать для формулировки выводов. для этого воспользуемся `категоризацией`, или объединением данных в категории."
   ]
  },
  {
   "cell_type": "markdown",
   "id": "efda245e",
   "metadata": {},
   "source": [
    "Создадим новый столбец `total_income_category`, в котором и будет обозначение соответсвующей категории. Для этого создадим функцию."
   ]
  },
  {
   "cell_type": "code",
   "execution_count": 58,
   "id": "61d9c127",
   "metadata": {},
   "outputs": [],
   "source": [
    "#создание функции определения категории\n",
    "def income_group(total_income):\n",
    "    if total_income <= 30000:\n",
    "        return 'E'\n",
    "    if 30001 < total_income <= 50000:\n",
    "        return 'D'\n",
    "    if 50001 < total_income <= 200000:\n",
    "        return 'C'\n",
    "    if 200001 < total_income <= 1000000:\n",
    "        return 'B'\n",
    "    if total_income > 1000001:\n",
    "        return 'A'"
   ]
  },
  {
   "cell_type": "code",
   "execution_count": 59,
   "id": "c031e90d",
   "metadata": {},
   "outputs": [],
   "source": [
    "#создание столбца с категории по доходу\n",
    "data['total_income_category'] = data['total_income'].apply(income_group)"
   ]
  },
  {
   "cell_type": "code",
   "execution_count": 60,
   "id": "2e0a1ce5",
   "metadata": {},
   "outputs": [
    {
     "data": {
      "text/html": [
       "<div>\n",
       "<style scoped>\n",
       "    .dataframe tbody tr th:only-of-type {\n",
       "        vertical-align: middle;\n",
       "    }\n",
       "\n",
       "    .dataframe tbody tr th {\n",
       "        vertical-align: top;\n",
       "    }\n",
       "\n",
       "    .dataframe thead th {\n",
       "        text-align: right;\n",
       "    }\n",
       "</style>\n",
       "<table border=\"1\" class=\"dataframe\">\n",
       "  <thead>\n",
       "    <tr style=\"text-align: right;\">\n",
       "      <th></th>\n",
       "      <th>Unnamed: 0</th>\n",
       "      <th>children</th>\n",
       "      <th>days_employed</th>\n",
       "      <th>dob_years</th>\n",
       "      <th>education_id</th>\n",
       "      <th>family_status_id</th>\n",
       "      <th>gender</th>\n",
       "      <th>income_type</th>\n",
       "      <th>debt</th>\n",
       "      <th>total_income</th>\n",
       "      <th>purpose</th>\n",
       "      <th>total_income_category</th>\n",
       "    </tr>\n",
       "  </thead>\n",
       "  <tbody>\n",
       "    <tr>\n",
       "      <th>0</th>\n",
       "      <td>0</td>\n",
       "      <td>1</td>\n",
       "      <td>8437.673028</td>\n",
       "      <td>42</td>\n",
       "      <td>0</td>\n",
       "      <td>0</td>\n",
       "      <td>F</td>\n",
       "      <td>сотрудник</td>\n",
       "      <td>0</td>\n",
       "      <td>253875</td>\n",
       "      <td>покупка жилья</td>\n",
       "      <td>B</td>\n",
       "    </tr>\n",
       "    <tr>\n",
       "      <th>1</th>\n",
       "      <td>1</td>\n",
       "      <td>1</td>\n",
       "      <td>4024.803754</td>\n",
       "      <td>36</td>\n",
       "      <td>1</td>\n",
       "      <td>0</td>\n",
       "      <td>F</td>\n",
       "      <td>сотрудник</td>\n",
       "      <td>0</td>\n",
       "      <td>112080</td>\n",
       "      <td>приобретение автомобиля</td>\n",
       "      <td>C</td>\n",
       "    </tr>\n",
       "    <tr>\n",
       "      <th>2</th>\n",
       "      <td>2</td>\n",
       "      <td>0</td>\n",
       "      <td>5623.422610</td>\n",
       "      <td>33</td>\n",
       "      <td>1</td>\n",
       "      <td>0</td>\n",
       "      <td>M</td>\n",
       "      <td>сотрудник</td>\n",
       "      <td>0</td>\n",
       "      <td>145885</td>\n",
       "      <td>покупка жилья</td>\n",
       "      <td>C</td>\n",
       "    </tr>\n",
       "    <tr>\n",
       "      <th>3</th>\n",
       "      <td>3</td>\n",
       "      <td>3</td>\n",
       "      <td>4124.747207</td>\n",
       "      <td>32</td>\n",
       "      <td>1</td>\n",
       "      <td>0</td>\n",
       "      <td>M</td>\n",
       "      <td>сотрудник</td>\n",
       "      <td>0</td>\n",
       "      <td>267628</td>\n",
       "      <td>дополнительное образование</td>\n",
       "      <td>B</td>\n",
       "    </tr>\n",
       "    <tr>\n",
       "      <th>4</th>\n",
       "      <td>4</td>\n",
       "      <td>0</td>\n",
       "      <td>8645.000000</td>\n",
       "      <td>53</td>\n",
       "      <td>1</td>\n",
       "      <td>1</td>\n",
       "      <td>F</td>\n",
       "      <td>пенсионер</td>\n",
       "      <td>0</td>\n",
       "      <td>158616</td>\n",
       "      <td>сыграть свадьбу</td>\n",
       "      <td>C</td>\n",
       "    </tr>\n",
       "    <tr>\n",
       "      <th>5</th>\n",
       "      <td>5</td>\n",
       "      <td>0</td>\n",
       "      <td>926.185831</td>\n",
       "      <td>27</td>\n",
       "      <td>0</td>\n",
       "      <td>1</td>\n",
       "      <td>M</td>\n",
       "      <td>компаньон</td>\n",
       "      <td>0</td>\n",
       "      <td>255763</td>\n",
       "      <td>покупка жилья</td>\n",
       "      <td>B</td>\n",
       "    </tr>\n",
       "    <tr>\n",
       "      <th>6</th>\n",
       "      <td>6</td>\n",
       "      <td>0</td>\n",
       "      <td>2879.202052</td>\n",
       "      <td>43</td>\n",
       "      <td>0</td>\n",
       "      <td>0</td>\n",
       "      <td>F</td>\n",
       "      <td>компаньон</td>\n",
       "      <td>0</td>\n",
       "      <td>240525</td>\n",
       "      <td>операции с жильем</td>\n",
       "      <td>B</td>\n",
       "    </tr>\n",
       "    <tr>\n",
       "      <th>7</th>\n",
       "      <td>7</td>\n",
       "      <td>0</td>\n",
       "      <td>152.779569</td>\n",
       "      <td>50</td>\n",
       "      <td>1</td>\n",
       "      <td>0</td>\n",
       "      <td>M</td>\n",
       "      <td>сотрудник</td>\n",
       "      <td>0</td>\n",
       "      <td>135823</td>\n",
       "      <td>образование</td>\n",
       "      <td>C</td>\n",
       "    </tr>\n",
       "    <tr>\n",
       "      <th>8</th>\n",
       "      <td>8</td>\n",
       "      <td>2</td>\n",
       "      <td>6929.865299</td>\n",
       "      <td>35</td>\n",
       "      <td>0</td>\n",
       "      <td>1</td>\n",
       "      <td>F</td>\n",
       "      <td>сотрудник</td>\n",
       "      <td>0</td>\n",
       "      <td>95856</td>\n",
       "      <td>на проведение свадьбы</td>\n",
       "      <td>C</td>\n",
       "    </tr>\n",
       "    <tr>\n",
       "      <th>9</th>\n",
       "      <td>9</td>\n",
       "      <td>0</td>\n",
       "      <td>2188.756445</td>\n",
       "      <td>41</td>\n",
       "      <td>1</td>\n",
       "      <td>0</td>\n",
       "      <td>M</td>\n",
       "      <td>сотрудник</td>\n",
       "      <td>0</td>\n",
       "      <td>144425</td>\n",
       "      <td>покупка жилья для семьи</td>\n",
       "      <td>C</td>\n",
       "    </tr>\n",
       "  </tbody>\n",
       "</table>\n",
       "</div>"
      ],
      "text/plain": [
       "   Unnamed: 0  children  days_employed  dob_years  education_id  \\\n",
       "0           0         1    8437.673028         42             0   \n",
       "1           1         1    4024.803754         36             1   \n",
       "2           2         0    5623.422610         33             1   \n",
       "3           3         3    4124.747207         32             1   \n",
       "4           4         0    8645.000000         53             1   \n",
       "5           5         0     926.185831         27             0   \n",
       "6           6         0    2879.202052         43             0   \n",
       "7           7         0     152.779569         50             1   \n",
       "8           8         2    6929.865299         35             0   \n",
       "9           9         0    2188.756445         41             1   \n",
       "\n",
       "   family_status_id gender income_type  debt  total_income  \\\n",
       "0                 0      F   сотрудник     0        253875   \n",
       "1                 0      F   сотрудник     0        112080   \n",
       "2                 0      M   сотрудник     0        145885   \n",
       "3                 0      M   сотрудник     0        267628   \n",
       "4                 1      F   пенсионер     0        158616   \n",
       "5                 1      M   компаньон     0        255763   \n",
       "6                 0      F   компаньон     0        240525   \n",
       "7                 0      M   сотрудник     0        135823   \n",
       "8                 1      F   сотрудник     0         95856   \n",
       "9                 0      M   сотрудник     0        144425   \n",
       "\n",
       "                      purpose total_income_category  \n",
       "0               покупка жилья                     B  \n",
       "1     приобретение автомобиля                     C  \n",
       "2               покупка жилья                     C  \n",
       "3  дополнительное образование                     B  \n",
       "4             сыграть свадьбу                     C  \n",
       "5               покупка жилья                     B  \n",
       "6           операции с жильем                     B  \n",
       "7                 образование                     C  \n",
       "8       на проведение свадьбы                     C  \n",
       "9     покупка жилья для семьи                     C  "
      ]
     },
     "execution_count": 60,
     "metadata": {},
     "output_type": "execute_result"
    }
   ],
   "source": [
    "#вывод первых 10-ти строк таблицы\n",
    "data.head(10)"
   ]
  },
  {
   "cell_type": "markdown",
   "id": "22a4d223",
   "metadata": {},
   "source": [
    "Мы создали стобец с категорией дохода, это поможет лучше оценить данные."
   ]
  },
  {
   "cell_type": "markdown",
   "id": "d3608598",
   "metadata": {},
   "source": [
    "### Шаг 2.7. Категоризация целей кредита."
   ]
  },
  {
   "cell_type": "markdown",
   "id": "546e6b39",
   "metadata": {},
   "source": [
    "Также, категоризуем данные о цели кредита. Распределим на четыре группы."
   ]
  },
  {
   "cell_type": "code",
   "execution_count": 61,
   "id": "1181a5ac",
   "metadata": {},
   "outputs": [
    {
     "data": {
      "text/plain": [
       "array(['покупка жилья', 'приобретение автомобиля',\n",
       "       'дополнительное образование', 'сыграть свадьбу',\n",
       "       'операции с жильем', 'образование', 'на проведение свадьбы',\n",
       "       'покупка жилья для семьи', 'покупка недвижимости',\n",
       "       'покупка коммерческой недвижимости', 'покупка жилой недвижимости',\n",
       "       'строительство собственной недвижимости', 'недвижимость',\n",
       "       'строительство недвижимости', 'на покупку подержанного автомобиля',\n",
       "       'на покупку своего автомобиля',\n",
       "       'операции с коммерческой недвижимостью',\n",
       "       'строительство жилой недвижимости', 'жилье',\n",
       "       'операции со своей недвижимостью', 'автомобили',\n",
       "       'заняться образованием', 'сделка с подержанным автомобилем',\n",
       "       'получение образования', 'автомобиль', 'свадьба',\n",
       "       'получение дополнительного образования', 'покупка своего жилья',\n",
       "       'операции с недвижимостью', 'получение высшего образования',\n",
       "       'свой автомобиль', 'сделка с автомобилем',\n",
       "       'профильное образование', 'высшее образование',\n",
       "       'покупка жилья для сдачи', 'на покупку автомобиля', 'ремонт жилью',\n",
       "       'заняться высшим образованием'], dtype=object)"
      ]
     },
     "execution_count": 61,
     "metadata": {},
     "output_type": "execute_result"
    }
   ],
   "source": [
    "#вывод уникальных значений целей кредита\n",
    "data['purpose'].unique()"
   ]
  },
  {
   "cell_type": "markdown",
   "id": "f5c9b07f",
   "metadata": {},
   "source": [
    "Распределим данные по разным спискам: 1) всё, что связано с недвижимостью; 2) с автомобилем; 3) со свадьбой; 4) с образованием."
   ]
  },
  {
   "cell_type": "code",
   "execution_count": 62,
   "id": "85db14bb",
   "metadata": {},
   "outputs": [],
   "source": [
    "list_realty = ['покупка жилья', 'операции с жильем', 'покупка жилья для семьи', 'покупка недвижимости', 'покупка коммерческой недвижимости', 'покупка жилой недвижимости', 'строительство собственной недвижимости', 'недвижимость', 'строительство недвижимости', 'операции с коммерческой недвижимостью', 'строительство жилой недвижимости', 'жилье', 'операции со своей недвижимостью', 'покупка своего жилья', 'операции с недвижимостью', 'покупка жилья для сдачи', 'ремонт жилью']\n",
    "list_auto = [ 'приобретение автомобиля', 'на покупку подержанного автомобиля', 'на покупку своего автомобиля', 'автомобили', 'сделка с подержанным автомобилем', 'автомобиль', 'свой автомобиль', 'сделка с автомобилем', 'на покупку автомобиля']\n",
    "list_wedd = [ 'сыграть свадьбу', 'на проведение свадьбы', 'свадьба']\n",
    "list_education = ['дополнительное образование', 'образование', 'заняться образованием', 'получение образования', 'получение дополнительного образования', 'получение высшего образования', 'профильное образование', 'высшее образование', 'заняться высшим образованием']"
   ]
  },
  {
   "cell_type": "code",
   "execution_count": 63,
   "id": "f8d99881",
   "metadata": {},
   "outputs": [],
   "source": [
    "#создание функции категоризации данных\n",
    "def purpose_category(purpose):\n",
    "    if purpose in list_realty:\n",
    "        return 'операции с недвижимостью'\n",
    "    if purpose in list_auto:\n",
    "        return 'операции с автомобилем'\n",
    "    if purpose in list_wedd:\n",
    "        return 'проведение свадьбы'\n",
    "    if purpose in list_education:\n",
    "        return 'получение образования'"
   ]
  },
  {
   "cell_type": "code",
   "execution_count": 64,
   "id": "3a5fac02",
   "metadata": {},
   "outputs": [],
   "source": [
    "#создание столбца с категориями\n",
    "data['purpose_category'] = data['purpose'].apply(purpose_category)"
   ]
  },
  {
   "cell_type": "code",
   "execution_count": 65,
   "id": "1d281c21",
   "metadata": {},
   "outputs": [
    {
     "data": {
      "text/html": [
       "<div>\n",
       "<style scoped>\n",
       "    .dataframe tbody tr th:only-of-type {\n",
       "        vertical-align: middle;\n",
       "    }\n",
       "\n",
       "    .dataframe tbody tr th {\n",
       "        vertical-align: top;\n",
       "    }\n",
       "\n",
       "    .dataframe thead th {\n",
       "        text-align: right;\n",
       "    }\n",
       "</style>\n",
       "<table border=\"1\" class=\"dataframe\">\n",
       "  <thead>\n",
       "    <tr style=\"text-align: right;\">\n",
       "      <th></th>\n",
       "      <th>Unnamed: 0</th>\n",
       "      <th>children</th>\n",
       "      <th>days_employed</th>\n",
       "      <th>dob_years</th>\n",
       "      <th>education_id</th>\n",
       "      <th>family_status_id</th>\n",
       "      <th>gender</th>\n",
       "      <th>income_type</th>\n",
       "      <th>debt</th>\n",
       "      <th>total_income</th>\n",
       "      <th>purpose</th>\n",
       "      <th>total_income_category</th>\n",
       "      <th>purpose_category</th>\n",
       "    </tr>\n",
       "  </thead>\n",
       "  <tbody>\n",
       "    <tr>\n",
       "      <th>0</th>\n",
       "      <td>0</td>\n",
       "      <td>1</td>\n",
       "      <td>8437.673028</td>\n",
       "      <td>42</td>\n",
       "      <td>0</td>\n",
       "      <td>0</td>\n",
       "      <td>F</td>\n",
       "      <td>сотрудник</td>\n",
       "      <td>0</td>\n",
       "      <td>253875</td>\n",
       "      <td>покупка жилья</td>\n",
       "      <td>B</td>\n",
       "      <td>операции с недвижимостью</td>\n",
       "    </tr>\n",
       "    <tr>\n",
       "      <th>1</th>\n",
       "      <td>1</td>\n",
       "      <td>1</td>\n",
       "      <td>4024.803754</td>\n",
       "      <td>36</td>\n",
       "      <td>1</td>\n",
       "      <td>0</td>\n",
       "      <td>F</td>\n",
       "      <td>сотрудник</td>\n",
       "      <td>0</td>\n",
       "      <td>112080</td>\n",
       "      <td>приобретение автомобиля</td>\n",
       "      <td>C</td>\n",
       "      <td>операции с автомобилем</td>\n",
       "    </tr>\n",
       "    <tr>\n",
       "      <th>2</th>\n",
       "      <td>2</td>\n",
       "      <td>0</td>\n",
       "      <td>5623.422610</td>\n",
       "      <td>33</td>\n",
       "      <td>1</td>\n",
       "      <td>0</td>\n",
       "      <td>M</td>\n",
       "      <td>сотрудник</td>\n",
       "      <td>0</td>\n",
       "      <td>145885</td>\n",
       "      <td>покупка жилья</td>\n",
       "      <td>C</td>\n",
       "      <td>операции с недвижимостью</td>\n",
       "    </tr>\n",
       "    <tr>\n",
       "      <th>3</th>\n",
       "      <td>3</td>\n",
       "      <td>3</td>\n",
       "      <td>4124.747207</td>\n",
       "      <td>32</td>\n",
       "      <td>1</td>\n",
       "      <td>0</td>\n",
       "      <td>M</td>\n",
       "      <td>сотрудник</td>\n",
       "      <td>0</td>\n",
       "      <td>267628</td>\n",
       "      <td>дополнительное образование</td>\n",
       "      <td>B</td>\n",
       "      <td>получение образования</td>\n",
       "    </tr>\n",
       "    <tr>\n",
       "      <th>4</th>\n",
       "      <td>4</td>\n",
       "      <td>0</td>\n",
       "      <td>8645.000000</td>\n",
       "      <td>53</td>\n",
       "      <td>1</td>\n",
       "      <td>1</td>\n",
       "      <td>F</td>\n",
       "      <td>пенсионер</td>\n",
       "      <td>0</td>\n",
       "      <td>158616</td>\n",
       "      <td>сыграть свадьбу</td>\n",
       "      <td>C</td>\n",
       "      <td>проведение свадьбы</td>\n",
       "    </tr>\n",
       "    <tr>\n",
       "      <th>5</th>\n",
       "      <td>5</td>\n",
       "      <td>0</td>\n",
       "      <td>926.185831</td>\n",
       "      <td>27</td>\n",
       "      <td>0</td>\n",
       "      <td>1</td>\n",
       "      <td>M</td>\n",
       "      <td>компаньон</td>\n",
       "      <td>0</td>\n",
       "      <td>255763</td>\n",
       "      <td>покупка жилья</td>\n",
       "      <td>B</td>\n",
       "      <td>операции с недвижимостью</td>\n",
       "    </tr>\n",
       "    <tr>\n",
       "      <th>6</th>\n",
       "      <td>6</td>\n",
       "      <td>0</td>\n",
       "      <td>2879.202052</td>\n",
       "      <td>43</td>\n",
       "      <td>0</td>\n",
       "      <td>0</td>\n",
       "      <td>F</td>\n",
       "      <td>компаньон</td>\n",
       "      <td>0</td>\n",
       "      <td>240525</td>\n",
       "      <td>операции с жильем</td>\n",
       "      <td>B</td>\n",
       "      <td>операции с недвижимостью</td>\n",
       "    </tr>\n",
       "    <tr>\n",
       "      <th>7</th>\n",
       "      <td>7</td>\n",
       "      <td>0</td>\n",
       "      <td>152.779569</td>\n",
       "      <td>50</td>\n",
       "      <td>1</td>\n",
       "      <td>0</td>\n",
       "      <td>M</td>\n",
       "      <td>сотрудник</td>\n",
       "      <td>0</td>\n",
       "      <td>135823</td>\n",
       "      <td>образование</td>\n",
       "      <td>C</td>\n",
       "      <td>получение образования</td>\n",
       "    </tr>\n",
       "    <tr>\n",
       "      <th>8</th>\n",
       "      <td>8</td>\n",
       "      <td>2</td>\n",
       "      <td>6929.865299</td>\n",
       "      <td>35</td>\n",
       "      <td>0</td>\n",
       "      <td>1</td>\n",
       "      <td>F</td>\n",
       "      <td>сотрудник</td>\n",
       "      <td>0</td>\n",
       "      <td>95856</td>\n",
       "      <td>на проведение свадьбы</td>\n",
       "      <td>C</td>\n",
       "      <td>проведение свадьбы</td>\n",
       "    </tr>\n",
       "    <tr>\n",
       "      <th>9</th>\n",
       "      <td>9</td>\n",
       "      <td>0</td>\n",
       "      <td>2188.756445</td>\n",
       "      <td>41</td>\n",
       "      <td>1</td>\n",
       "      <td>0</td>\n",
       "      <td>M</td>\n",
       "      <td>сотрудник</td>\n",
       "      <td>0</td>\n",
       "      <td>144425</td>\n",
       "      <td>покупка жилья для семьи</td>\n",
       "      <td>C</td>\n",
       "      <td>операции с недвижимостью</td>\n",
       "    </tr>\n",
       "  </tbody>\n",
       "</table>\n",
       "</div>"
      ],
      "text/plain": [
       "   Unnamed: 0  children  days_employed  dob_years  education_id  \\\n",
       "0           0         1    8437.673028         42             0   \n",
       "1           1         1    4024.803754         36             1   \n",
       "2           2         0    5623.422610         33             1   \n",
       "3           3         3    4124.747207         32             1   \n",
       "4           4         0    8645.000000         53             1   \n",
       "5           5         0     926.185831         27             0   \n",
       "6           6         0    2879.202052         43             0   \n",
       "7           7         0     152.779569         50             1   \n",
       "8           8         2    6929.865299         35             0   \n",
       "9           9         0    2188.756445         41             1   \n",
       "\n",
       "   family_status_id gender income_type  debt  total_income  \\\n",
       "0                 0      F   сотрудник     0        253875   \n",
       "1                 0      F   сотрудник     0        112080   \n",
       "2                 0      M   сотрудник     0        145885   \n",
       "3                 0      M   сотрудник     0        267628   \n",
       "4                 1      F   пенсионер     0        158616   \n",
       "5                 1      M   компаньон     0        255763   \n",
       "6                 0      F   компаньон     0        240525   \n",
       "7                 0      M   сотрудник     0        135823   \n",
       "8                 1      F   сотрудник     0         95856   \n",
       "9                 0      M   сотрудник     0        144425   \n",
       "\n",
       "                      purpose total_income_category          purpose_category  \n",
       "0               покупка жилья                     B  операции с недвижимостью  \n",
       "1     приобретение автомобиля                     C    операции с автомобилем  \n",
       "2               покупка жилья                     C  операции с недвижимостью  \n",
       "3  дополнительное образование                     B     получение образования  \n",
       "4             сыграть свадьбу                     C        проведение свадьбы  \n",
       "5               покупка жилья                     B  операции с недвижимостью  \n",
       "6           операции с жильем                     B  операции с недвижимостью  \n",
       "7                 образование                     C     получение образования  \n",
       "8       на проведение свадьбы                     C        проведение свадьбы  \n",
       "9     покупка жилья для семьи                     C  операции с недвижимостью  "
      ]
     },
     "execution_count": 65,
     "metadata": {},
     "output_type": "execute_result"
    }
   ],
   "source": [
    "#вывод первых 10-ти строк данных\n",
    "data.head(10)"
   ]
  },
  {
   "cell_type": "markdown",
   "id": "b7021f4d",
   "metadata": {},
   "source": [
    "Мы категоризовали цели кредита, что также поможет проанализировать данные."
   ]
  },
  {
   "cell_type": "markdown",
   "id": "32dfba12",
   "metadata": {},
   "source": [
    "### Ответы на вопросы."
   ]
  },
  {
   "cell_type": "markdown",
   "id": "de4b0eca",
   "metadata": {},
   "source": [
    "##### Вопрос 1: Есть ли зависимость между количеством детей и возвратом кредита в срок?"
   ]
  },
  {
   "cell_type": "markdown",
   "id": "bc9d429c",
   "metadata": {},
   "source": [
    "Создадим сводную таблицу зависимости необходимых нам данных - в данном случае свяжем количество детей и факт возврата кредита."
   ]
  },
  {
   "cell_type": "code",
   "execution_count": 66,
   "id": "d0b78a69",
   "metadata": {},
   "outputs": [],
   "source": [
    "#создание сводной таблицы \n",
    "data_pivot_children = data.pivot_table(index = ['children'], columns = 'debt', values = 'dob_years', aggfunc = 'count')"
   ]
  },
  {
   "cell_type": "code",
   "execution_count": 67,
   "id": "ff269299",
   "metadata": {},
   "outputs": [
    {
     "data": {
      "text/html": [
       "<div>\n",
       "<style scoped>\n",
       "    .dataframe tbody tr th:only-of-type {\n",
       "        vertical-align: middle;\n",
       "    }\n",
       "\n",
       "    .dataframe tbody tr th {\n",
       "        vertical-align: top;\n",
       "    }\n",
       "\n",
       "    .dataframe thead th {\n",
       "        text-align: right;\n",
       "    }\n",
       "</style>\n",
       "<table border=\"1\" class=\"dataframe\">\n",
       "  <thead>\n",
       "    <tr style=\"text-align: right;\">\n",
       "      <th>debt</th>\n",
       "      <th>0</th>\n",
       "      <th>1</th>\n",
       "    </tr>\n",
       "    <tr>\n",
       "      <th>children</th>\n",
       "      <th></th>\n",
       "      <th></th>\n",
       "    </tr>\n",
       "  </thead>\n",
       "  <tbody>\n",
       "    <tr>\n",
       "      <th>0</th>\n",
       "      <td>13021.0</td>\n",
       "      <td>1058.0</td>\n",
       "    </tr>\n",
       "    <tr>\n",
       "      <th>1</th>\n",
       "      <td>4407.0</td>\n",
       "      <td>442.0</td>\n",
       "    </tr>\n",
       "    <tr>\n",
       "      <th>2</th>\n",
       "      <td>1915.0</td>\n",
       "      <td>202.0</td>\n",
       "    </tr>\n",
       "    <tr>\n",
       "      <th>3</th>\n",
       "      <td>301.0</td>\n",
       "      <td>27.0</td>\n",
       "    </tr>\n",
       "    <tr>\n",
       "      <th>4</th>\n",
       "      <td>37.0</td>\n",
       "      <td>4.0</td>\n",
       "    </tr>\n",
       "    <tr>\n",
       "      <th>5</th>\n",
       "      <td>9.0</td>\n",
       "      <td>NaN</td>\n",
       "    </tr>\n",
       "  </tbody>\n",
       "</table>\n",
       "</div>"
      ],
      "text/plain": [
       "debt            0       1\n",
       "children                 \n",
       "0         13021.0  1058.0\n",
       "1          4407.0   442.0\n",
       "2          1915.0   202.0\n",
       "3           301.0    27.0\n",
       "4            37.0     4.0\n",
       "5             9.0     NaN"
      ]
     },
     "execution_count": 67,
     "metadata": {},
     "output_type": "execute_result"
    }
   ],
   "source": [
    "#вывод сводной таблицы\n",
    "data_pivot_children"
   ]
  },
  {
   "cell_type": "code",
   "execution_count": 68,
   "id": "01de1464",
   "metadata": {},
   "outputs": [],
   "source": [
    "data_pivot_children['%'] = data_pivot_children[1]/(data_pivot_children[0] + data_pivot_children[1])*100"
   ]
  },
  {
   "cell_type": "code",
   "execution_count": 69,
   "id": "407f14c8",
   "metadata": {},
   "outputs": [
    {
     "data": {
      "text/html": [
       "<div>\n",
       "<style scoped>\n",
       "    .dataframe tbody tr th:only-of-type {\n",
       "        vertical-align: middle;\n",
       "    }\n",
       "\n",
       "    .dataframe tbody tr th {\n",
       "        vertical-align: top;\n",
       "    }\n",
       "\n",
       "    .dataframe thead th {\n",
       "        text-align: right;\n",
       "    }\n",
       "</style>\n",
       "<table border=\"1\" class=\"dataframe\">\n",
       "  <thead>\n",
       "    <tr style=\"text-align: right;\">\n",
       "      <th>debt</th>\n",
       "      <th>0</th>\n",
       "      <th>1</th>\n",
       "      <th>%</th>\n",
       "    </tr>\n",
       "    <tr>\n",
       "      <th>children</th>\n",
       "      <th></th>\n",
       "      <th></th>\n",
       "      <th></th>\n",
       "    </tr>\n",
       "  </thead>\n",
       "  <tbody>\n",
       "    <tr>\n",
       "      <th>0</th>\n",
       "      <td>13021.0</td>\n",
       "      <td>1058.0</td>\n",
       "      <td>7.514738</td>\n",
       "    </tr>\n",
       "    <tr>\n",
       "      <th>1</th>\n",
       "      <td>4407.0</td>\n",
       "      <td>442.0</td>\n",
       "      <td>9.115282</td>\n",
       "    </tr>\n",
       "    <tr>\n",
       "      <th>2</th>\n",
       "      <td>1915.0</td>\n",
       "      <td>202.0</td>\n",
       "      <td>9.541804</td>\n",
       "    </tr>\n",
       "    <tr>\n",
       "      <th>3</th>\n",
       "      <td>301.0</td>\n",
       "      <td>27.0</td>\n",
       "      <td>8.231707</td>\n",
       "    </tr>\n",
       "    <tr>\n",
       "      <th>4</th>\n",
       "      <td>37.0</td>\n",
       "      <td>4.0</td>\n",
       "      <td>9.756098</td>\n",
       "    </tr>\n",
       "    <tr>\n",
       "      <th>5</th>\n",
       "      <td>9.0</td>\n",
       "      <td>NaN</td>\n",
       "      <td>NaN</td>\n",
       "    </tr>\n",
       "  </tbody>\n",
       "</table>\n",
       "</div>"
      ],
      "text/plain": [
       "debt            0       1         %\n",
       "children                           \n",
       "0         13021.0  1058.0  7.514738\n",
       "1          4407.0   442.0  9.115282\n",
       "2          1915.0   202.0  9.541804\n",
       "3           301.0    27.0  8.231707\n",
       "4            37.0     4.0  9.756098\n",
       "5             9.0     NaN       NaN"
      ]
     },
     "execution_count": 69,
     "metadata": {},
     "output_type": "execute_result"
    }
   ],
   "source": [
    "data_pivot_children"
   ]
  },
  {
   "cell_type": "markdown",
   "id": "af7b55c9",
   "metadata": {},
   "source": [
    "##### Вывод 1:"
   ]
  },
  {
   "cell_type": "markdown",
   "id": "ace9a59b",
   "metadata": {},
   "source": [
    "Проанализировав сводную таблицу, можно сделать следующие выводы:\n",
    "1. Увеличение количества детей прямо пропорционально уменьшению количества должников, но это связано и с тем, что в принципе количество всех клиентов уменьшается. В целом, людей без детей больше, чем с людей с 3-мя или 4-мя детьми. С этим и связана тенденция. \n",
    "2. Доля должников также имеет тенденцию:среди клиентов без детей - 7.5%, а максимальный процент должников в категории с 4-мя детьми - 9.8%. Клиенты с 1-ним ребенком повысили долю должников в своей группе на 1.6%. Среди всех категорий с детьми наблюдается повышение количества должников.  \n",
    "\n",
    "Значит наша гипотеза о том, что наличие детей влияет на невозврат кредита вовремя верна."
   ]
  },
  {
   "cell_type": "markdown",
   "id": "40cca680",
   "metadata": {},
   "source": [
    "##### Вопрос 2: Есть ли зависимость между семейным положением и вовзратом кредита в срок?¶"
   ]
  },
  {
   "cell_type": "markdown",
   "id": "7bd1a8c1",
   "metadata": {},
   "source": [
    "Создадим сводную таблицу зависимости необходимых нам данных - в данном случае свяжем семейное положение и факт возврата кредита."
   ]
  },
  {
   "cell_type": "code",
   "execution_count": 70,
   "id": "2e3a17a5",
   "metadata": {},
   "outputs": [],
   "source": [
    "#создание сводной таблицы\n",
    "data_pivot_status = data.pivot_table(index = ['family_status_id'], columns = 'debt', values = 'dob_years', aggfunc = 'count')"
   ]
  },
  {
   "cell_type": "code",
   "execution_count": 71,
   "id": "343d9cee",
   "metadata": {},
   "outputs": [
    {
     "data": {
      "text/html": [
       "<div>\n",
       "<style scoped>\n",
       "    .dataframe tbody tr th:only-of-type {\n",
       "        vertical-align: middle;\n",
       "    }\n",
       "\n",
       "    .dataframe tbody tr th {\n",
       "        vertical-align: top;\n",
       "    }\n",
       "\n",
       "    .dataframe thead th {\n",
       "        text-align: right;\n",
       "    }\n",
       "</style>\n",
       "<table border=\"1\" class=\"dataframe\">\n",
       "  <thead>\n",
       "    <tr style=\"text-align: right;\">\n",
       "      <th>debt</th>\n",
       "      <th>0</th>\n",
       "      <th>1</th>\n",
       "    </tr>\n",
       "    <tr>\n",
       "      <th>family_status_id</th>\n",
       "      <th></th>\n",
       "      <th></th>\n",
       "    </tr>\n",
       "  </thead>\n",
       "  <tbody>\n",
       "    <tr>\n",
       "      <th>0</th>\n",
       "      <td>11404</td>\n",
       "      <td>927</td>\n",
       "    </tr>\n",
       "    <tr>\n",
       "      <th>1</th>\n",
       "      <td>3769</td>\n",
       "      <td>386</td>\n",
       "    </tr>\n",
       "    <tr>\n",
       "      <th>2</th>\n",
       "      <td>893</td>\n",
       "      <td>62</td>\n",
       "    </tr>\n",
       "    <tr>\n",
       "      <th>3</th>\n",
       "      <td>1100</td>\n",
       "      <td>85</td>\n",
       "    </tr>\n",
       "    <tr>\n",
       "      <th>4</th>\n",
       "      <td>2524</td>\n",
       "      <td>273</td>\n",
       "    </tr>\n",
       "  </tbody>\n",
       "</table>\n",
       "</div>"
      ],
      "text/plain": [
       "debt                  0    1\n",
       "family_status_id            \n",
       "0                 11404  927\n",
       "1                  3769  386\n",
       "2                   893   62\n",
       "3                  1100   85\n",
       "4                  2524  273"
      ]
     },
     "execution_count": 71,
     "metadata": {},
     "output_type": "execute_result"
    }
   ],
   "source": [
    "#вывод сводной таблицы\n",
    "data_pivot_status"
   ]
  },
  {
   "cell_type": "code",
   "execution_count": 72,
   "id": "5cee98d2",
   "metadata": {},
   "outputs": [],
   "source": [
    "data_pivot_status['%'] = data_pivot_status[1]/(data_pivot_status[0] + data_pivot_status[1])*100"
   ]
  },
  {
   "cell_type": "code",
   "execution_count": 73,
   "id": "4d1ccd1a",
   "metadata": {},
   "outputs": [],
   "source": [
    "data_status = data_pivot_status.merge(family_status_dict, on = 'family_status_id', how='left')"
   ]
  },
  {
   "cell_type": "code",
   "execution_count": 74,
   "id": "9c314b7f",
   "metadata": {},
   "outputs": [
    {
     "data": {
      "text/html": [
       "<div>\n",
       "<style scoped>\n",
       "    .dataframe tbody tr th:only-of-type {\n",
       "        vertical-align: middle;\n",
       "    }\n",
       "\n",
       "    .dataframe tbody tr th {\n",
       "        vertical-align: top;\n",
       "    }\n",
       "\n",
       "    .dataframe thead th {\n",
       "        text-align: right;\n",
       "    }\n",
       "</style>\n",
       "<table border=\"1\" class=\"dataframe\">\n",
       "  <thead>\n",
       "    <tr style=\"text-align: right;\">\n",
       "      <th></th>\n",
       "      <th>family_status_id</th>\n",
       "      <th>0</th>\n",
       "      <th>1</th>\n",
       "      <th>%</th>\n",
       "      <th>family_status</th>\n",
       "    </tr>\n",
       "  </thead>\n",
       "  <tbody>\n",
       "    <tr>\n",
       "      <th>0</th>\n",
       "      <td>0</td>\n",
       "      <td>11404</td>\n",
       "      <td>927</td>\n",
       "      <td>7.517638</td>\n",
       "      <td>женат / замужем</td>\n",
       "    </tr>\n",
       "    <tr>\n",
       "      <th>1</th>\n",
       "      <td>1</td>\n",
       "      <td>3769</td>\n",
       "      <td>386</td>\n",
       "      <td>9.290012</td>\n",
       "      <td>гражданский брак</td>\n",
       "    </tr>\n",
       "    <tr>\n",
       "      <th>2</th>\n",
       "      <td>2</td>\n",
       "      <td>893</td>\n",
       "      <td>62</td>\n",
       "      <td>6.492147</td>\n",
       "      <td>вдовец / вдова</td>\n",
       "    </tr>\n",
       "    <tr>\n",
       "      <th>3</th>\n",
       "      <td>3</td>\n",
       "      <td>1100</td>\n",
       "      <td>85</td>\n",
       "      <td>7.172996</td>\n",
       "      <td>в разводе</td>\n",
       "    </tr>\n",
       "    <tr>\n",
       "      <th>4</th>\n",
       "      <td>4</td>\n",
       "      <td>2524</td>\n",
       "      <td>273</td>\n",
       "      <td>9.760458</td>\n",
       "      <td>Не женат / не замужем</td>\n",
       "    </tr>\n",
       "  </tbody>\n",
       "</table>\n",
       "</div>"
      ],
      "text/plain": [
       "   family_status_id      0    1         %          family_status\n",
       "0                 0  11404  927  7.517638        женат / замужем\n",
       "1                 1   3769  386  9.290012       гражданский брак\n",
       "2                 2    893   62  6.492147         вдовец / вдова\n",
       "3                 3   1100   85  7.172996              в разводе\n",
       "4                 4   2524  273  9.760458  Не женат / не замужем"
      ]
     },
     "execution_count": 74,
     "metadata": {},
     "output_type": "execute_result"
    }
   ],
   "source": [
    "data_status"
   ]
  },
  {
   "cell_type": "markdown",
   "id": "de009bfd",
   "metadata": {},
   "source": [
    "###### Вывод 2:"
   ]
  },
  {
   "cell_type": "markdown",
   "id": "351b819b",
   "metadata": {},
   "source": [
    "Проанализиров сводную таблицу можно сделать следующие выводы:\n",
    "1. Наибольшее количество должников среди клиентов категории женат/замужем, но отношение ко всем клиентам этой категории - 7.5%. \n",
    "2. Гражданский брак можно было бы отнести к первой категории, но так как без официального оформления, отнесем к \"не женат/не замужем\". В данном случае доля должников увеличилась на 1.8%. И максимальная доля должников в категории \"не женат/не замужем\", практически каждый десятый имеет задолженность.\n",
    "\n",
    "Получается, гипотезу о том, что есть зависимость между семейным положением и невозвратом кредита, можно и в данном случае принять. Женатые люди более надежные заемщики."
   ]
  },
  {
   "cell_type": "markdown",
   "id": "a11e60fc",
   "metadata": {},
   "source": [
    "##### Вопрос 3: Есть ли зависимость между уровнем дохода и возвратом кредита в срок?¶"
   ]
  },
  {
   "cell_type": "markdown",
   "id": "803a4c46",
   "metadata": {},
   "source": [
    "Создадим сводную таблицу зависимости необходимых нам данных - в данном случае свяжем уровень дохода и факт возврата кредита."
   ]
  },
  {
   "cell_type": "code",
   "execution_count": 75,
   "id": "9ac05479",
   "metadata": {},
   "outputs": [],
   "source": [
    "#создание сводной таблицы\n",
    "data_pivot_income = data.pivot_table(index = 'total_income_category', columns = 'debt', values = 'dob_years', aggfunc = 'count')"
   ]
  },
  {
   "cell_type": "code",
   "execution_count": 76,
   "id": "0fff0928",
   "metadata": {},
   "outputs": [
    {
     "data": {
      "text/html": [
       "<div>\n",
       "<style scoped>\n",
       "    .dataframe tbody tr th:only-of-type {\n",
       "        vertical-align: middle;\n",
       "    }\n",
       "\n",
       "    .dataframe tbody tr th {\n",
       "        vertical-align: top;\n",
       "    }\n",
       "\n",
       "    .dataframe thead th {\n",
       "        text-align: right;\n",
       "    }\n",
       "</style>\n",
       "<table border=\"1\" class=\"dataframe\">\n",
       "  <thead>\n",
       "    <tr style=\"text-align: right;\">\n",
       "      <th>debt</th>\n",
       "      <th>0</th>\n",
       "      <th>1</th>\n",
       "    </tr>\n",
       "    <tr>\n",
       "      <th>total_income_category</th>\n",
       "      <th></th>\n",
       "      <th></th>\n",
       "    </tr>\n",
       "  </thead>\n",
       "  <tbody>\n",
       "    <tr>\n",
       "      <th>A</th>\n",
       "      <td>23</td>\n",
       "      <td>2</td>\n",
       "    </tr>\n",
       "    <tr>\n",
       "      <th>B</th>\n",
       "      <td>4658</td>\n",
       "      <td>355</td>\n",
       "    </tr>\n",
       "    <tr>\n",
       "      <th>C</th>\n",
       "      <td>14661</td>\n",
       "      <td>1353</td>\n",
       "    </tr>\n",
       "    <tr>\n",
       "      <th>D</th>\n",
       "      <td>327</td>\n",
       "      <td>21</td>\n",
       "    </tr>\n",
       "    <tr>\n",
       "      <th>E</th>\n",
       "      <td>20</td>\n",
       "      <td>2</td>\n",
       "    </tr>\n",
       "  </tbody>\n",
       "</table>\n",
       "</div>"
      ],
      "text/plain": [
       "debt                       0     1\n",
       "total_income_category             \n",
       "A                         23     2\n",
       "B                       4658   355\n",
       "C                      14661  1353\n",
       "D                        327    21\n",
       "E                         20     2"
      ]
     },
     "execution_count": 76,
     "metadata": {},
     "output_type": "execute_result"
    }
   ],
   "source": [
    "#вывод сводной таблицы\n",
    "data_pivot_income"
   ]
  },
  {
   "cell_type": "code",
   "execution_count": 77,
   "id": "b011489c",
   "metadata": {},
   "outputs": [],
   "source": [
    "data_pivot_income['%'] = data_pivot_income[1]/(data_pivot_income[1] + data_pivot_income[0])*100"
   ]
  },
  {
   "cell_type": "code",
   "execution_count": 78,
   "id": "01ed3def",
   "metadata": {},
   "outputs": [
    {
     "data": {
      "text/html": [
       "<div>\n",
       "<style scoped>\n",
       "    .dataframe tbody tr th:only-of-type {\n",
       "        vertical-align: middle;\n",
       "    }\n",
       "\n",
       "    .dataframe tbody tr th {\n",
       "        vertical-align: top;\n",
       "    }\n",
       "\n",
       "    .dataframe thead th {\n",
       "        text-align: right;\n",
       "    }\n",
       "</style>\n",
       "<table border=\"1\" class=\"dataframe\">\n",
       "  <thead>\n",
       "    <tr style=\"text-align: right;\">\n",
       "      <th>debt</th>\n",
       "      <th>0</th>\n",
       "      <th>1</th>\n",
       "      <th>%</th>\n",
       "    </tr>\n",
       "    <tr>\n",
       "      <th>total_income_category</th>\n",
       "      <th></th>\n",
       "      <th></th>\n",
       "      <th></th>\n",
       "    </tr>\n",
       "  </thead>\n",
       "  <tbody>\n",
       "    <tr>\n",
       "      <th>A</th>\n",
       "      <td>23</td>\n",
       "      <td>2</td>\n",
       "      <td>8.000000</td>\n",
       "    </tr>\n",
       "    <tr>\n",
       "      <th>B</th>\n",
       "      <td>4658</td>\n",
       "      <td>355</td>\n",
       "      <td>7.081588</td>\n",
       "    </tr>\n",
       "    <tr>\n",
       "      <th>C</th>\n",
       "      <td>14661</td>\n",
       "      <td>1353</td>\n",
       "      <td>8.448857</td>\n",
       "    </tr>\n",
       "    <tr>\n",
       "      <th>D</th>\n",
       "      <td>327</td>\n",
       "      <td>21</td>\n",
       "      <td>6.034483</td>\n",
       "    </tr>\n",
       "    <tr>\n",
       "      <th>E</th>\n",
       "      <td>20</td>\n",
       "      <td>2</td>\n",
       "      <td>9.090909</td>\n",
       "    </tr>\n",
       "  </tbody>\n",
       "</table>\n",
       "</div>"
      ],
      "text/plain": [
       "debt                       0     1         %\n",
       "total_income_category                       \n",
       "A                         23     2  8.000000\n",
       "B                       4658   355  7.081588\n",
       "C                      14661  1353  8.448857\n",
       "D                        327    21  6.034483\n",
       "E                         20     2  9.090909"
      ]
     },
     "execution_count": 78,
     "metadata": {},
     "output_type": "execute_result"
    }
   ],
   "source": [
    "data_pivot_income"
   ]
  },
  {
   "cell_type": "markdown",
   "id": "774500fc",
   "metadata": {},
   "source": [
    "до 30000: `E`\n",
    "\n",
    "30001 - 50000: `D`\n",
    "\n",
    "50001 - 200000: `C`\n",
    "\n",
    "200001 - 1000000: `B`\n",
    "\n",
    "от 1000001: `A`"
   ]
  },
  {
   "cell_type": "markdown",
   "id": "c2033377",
   "metadata": {},
   "source": [
    "###### Вывод 3:"
   ]
  },
  {
   "cell_type": "markdown",
   "id": "594ed22c",
   "metadata": {},
   "source": [
    "Проанализировав данные можно сделать следующие выводы:\n",
    "В целом, это напомнило нормальное распределение. Вершина оказалась в середине - большинство должников в средней категории.\n",
    "Большое количество должников в группе связано с большим количеством клиентов. Тем более доля должников не максимальная по категории.\n",
    "Гипотеза о том, что есть зависимость между уровнем дохода и невозврата кредита в срок, себя не оправдала. "
   ]
  },
  {
   "cell_type": "markdown",
   "id": "515e44a3",
   "metadata": {},
   "source": [
    "##### Вопрос 4: Как разные цели кредита влияют на его возврат в срок?"
   ]
  },
  {
   "cell_type": "markdown",
   "id": "4efc2e6a",
   "metadata": {},
   "source": [
    "Создадим сводную таблицу зависимости необходимых нам данных - в данном случае свяжем цель кредита и факт возврата кредита."
   ]
  },
  {
   "cell_type": "code",
   "execution_count": 79,
   "id": "5c322a96",
   "metadata": {},
   "outputs": [],
   "source": [
    "#создание сводной таблицы\n",
    "data_pivot_purpose = data.pivot_table(index = 'purpose_category', columns = 'debt', values = 'dob_years', aggfunc = 'count')"
   ]
  },
  {
   "cell_type": "code",
   "execution_count": 80,
   "id": "278f4e7f",
   "metadata": {},
   "outputs": [
    {
     "data": {
      "text/html": [
       "<div>\n",
       "<style scoped>\n",
       "    .dataframe tbody tr th:only-of-type {\n",
       "        vertical-align: middle;\n",
       "    }\n",
       "\n",
       "    .dataframe tbody tr th {\n",
       "        vertical-align: top;\n",
       "    }\n",
       "\n",
       "    .dataframe thead th {\n",
       "        text-align: right;\n",
       "    }\n",
       "</style>\n",
       "<table border=\"1\" class=\"dataframe\">\n",
       "  <thead>\n",
       "    <tr style=\"text-align: right;\">\n",
       "      <th>debt</th>\n",
       "      <th>0</th>\n",
       "      <th>1</th>\n",
       "    </tr>\n",
       "    <tr>\n",
       "      <th>purpose_category</th>\n",
       "      <th></th>\n",
       "      <th></th>\n",
       "    </tr>\n",
       "  </thead>\n",
       "  <tbody>\n",
       "    <tr>\n",
       "      <th>операции с автомобилем</th>\n",
       "      <td>3893</td>\n",
       "      <td>400</td>\n",
       "    </tr>\n",
       "    <tr>\n",
       "      <th>операции с недвижимостью</th>\n",
       "      <td>10013</td>\n",
       "      <td>779</td>\n",
       "    </tr>\n",
       "    <tr>\n",
       "      <th>получение образования</th>\n",
       "      <td>3634</td>\n",
       "      <td>370</td>\n",
       "    </tr>\n",
       "    <tr>\n",
       "      <th>проведение свадьбы</th>\n",
       "      <td>2150</td>\n",
       "      <td>184</td>\n",
       "    </tr>\n",
       "  </tbody>\n",
       "</table>\n",
       "</div>"
      ],
      "text/plain": [
       "debt                          0    1\n",
       "purpose_category                    \n",
       "операции с автомобилем     3893  400\n",
       "операции с недвижимостью  10013  779\n",
       "получение образования      3634  370\n",
       "проведение свадьбы         2150  184"
      ]
     },
     "execution_count": 80,
     "metadata": {},
     "output_type": "execute_result"
    }
   ],
   "source": [
    "#вывод сводной таблицы\n",
    "data_pivot_purpose"
   ]
  },
  {
   "cell_type": "code",
   "execution_count": 81,
   "id": "7deeda9b",
   "metadata": {},
   "outputs": [],
   "source": [
    "data_pivot_purpose['%'] = data_pivot_purpose[1]/(data_pivot_purpose[0]+data_pivot_purpose[1])*100"
   ]
  },
  {
   "cell_type": "code",
   "execution_count": 82,
   "id": "a44740b1",
   "metadata": {},
   "outputs": [
    {
     "data": {
      "text/html": [
       "<div>\n",
       "<style scoped>\n",
       "    .dataframe tbody tr th:only-of-type {\n",
       "        vertical-align: middle;\n",
       "    }\n",
       "\n",
       "    .dataframe tbody tr th {\n",
       "        vertical-align: top;\n",
       "    }\n",
       "\n",
       "    .dataframe thead th {\n",
       "        text-align: right;\n",
       "    }\n",
       "</style>\n",
       "<table border=\"1\" class=\"dataframe\">\n",
       "  <thead>\n",
       "    <tr style=\"text-align: right;\">\n",
       "      <th>debt</th>\n",
       "      <th>0</th>\n",
       "      <th>1</th>\n",
       "      <th>%</th>\n",
       "    </tr>\n",
       "    <tr>\n",
       "      <th>purpose_category</th>\n",
       "      <th></th>\n",
       "      <th></th>\n",
       "      <th></th>\n",
       "    </tr>\n",
       "  </thead>\n",
       "  <tbody>\n",
       "    <tr>\n",
       "      <th>операции с автомобилем</th>\n",
       "      <td>3893</td>\n",
       "      <td>400</td>\n",
       "      <td>9.317494</td>\n",
       "    </tr>\n",
       "    <tr>\n",
       "      <th>операции с недвижимостью</th>\n",
       "      <td>10013</td>\n",
       "      <td>779</td>\n",
       "      <td>7.218310</td>\n",
       "    </tr>\n",
       "    <tr>\n",
       "      <th>получение образования</th>\n",
       "      <td>3634</td>\n",
       "      <td>370</td>\n",
       "      <td>9.240759</td>\n",
       "    </tr>\n",
       "    <tr>\n",
       "      <th>проведение свадьбы</th>\n",
       "      <td>2150</td>\n",
       "      <td>184</td>\n",
       "      <td>7.883462</td>\n",
       "    </tr>\n",
       "  </tbody>\n",
       "</table>\n",
       "</div>"
      ],
      "text/plain": [
       "debt                          0    1         %\n",
       "purpose_category                              \n",
       "операции с автомобилем     3893  400  9.317494\n",
       "операции с недвижимостью  10013  779  7.218310\n",
       "получение образования      3634  370  9.240759\n",
       "проведение свадьбы         2150  184  7.883462"
      ]
     },
     "execution_count": 82,
     "metadata": {},
     "output_type": "execute_result"
    }
   ],
   "source": [
    "data_pivot_purpose"
   ]
  },
  {
   "cell_type": "markdown",
   "id": "a9d8a87b",
   "metadata": {},
   "source": [
    "###### Вывод 4:"
   ]
  },
  {
   "cell_type": "markdown",
   "id": "b099c6b5",
   "metadata": {},
   "source": [
    "Проанализировав таблицу можно сделать следующие выводы:\n",
    "На операции с недвижимостью было взято больше всего кредитов. Но одновременно с этим, эта категория с наименьшей долей должников - 7.2%. Это может быть связано с тем, что обычно это ипотека, клиенты проверяются тщательней, а сами клиенты бояться просрочки в силу возможной потери, возможно единственного, жилья. \n",
    "Следующая по доле невозврата категория \"проведение свадьбы\", разница составляет 0.7%. Предположу, что закрытие кредита можно осуществить подарочными деньгами. Также, это наименьшая категория по количеству должников и общему числу кредитов.\n",
    "Категории \"операции с автомобилем\" и \"получение образование\" практически одинаковы по количеству должников и по их доле в общем числе и являются максимальными значения доли по группам - 9.3%. Более детальные причины установить по данным не представляется возможным.\n",
    "\n",
    "В целом, разные цели кредита по-своему влияют на возврат кредита вовремя. В большинстве своем, люди берут кредиты или ипотеки на улучшение жилищных условий."
   ]
  },
  {
   "cell_type": "markdown",
   "id": "fc630dc9",
   "metadata": {},
   "source": [
    "## Общий вывод:"
   ]
  },
  {
   "cell_type": "markdown",
   "id": "d3142128",
   "metadata": {},
   "source": [
    "Анализ данных кредитного отдела банка подтвердил наличие зависимости между некоторыми факторами и возвратом кредита вовремя. \n",
    "Разные категории клиентов влияют на количество кредитов внутри своей группы по внутренним признакам, характерным этой группе."
   ]
  },
  {
   "cell_type": "markdown",
   "id": "02289039",
   "metadata": {},
   "source": [
    "Анализ подтвердил влияние на возврат кредита по категориям: наличие детей и семейное положение."
   ]
  },
  {
   "cell_type": "markdown",
   "id": "c17aa93e",
   "metadata": {},
   "source": [
    "В категории \"наличие детей\" клиенты без задолженностей оказались без детей. В случае с \"семейным положением\" женатые/замужние люди лучше справлялись с кредитами, чем люди не замужем, не женатые и в неофициальном браке."
   ]
  },
  {
   "cell_type": "markdown",
   "id": "59b0972e",
   "metadata": {},
   "source": [
    "По категориям уровня дохода и цели кредита анализ показал, что прямой зависимости между категорией и невозвратом кредита нет."
   ]
  }
 ],
 "metadata": {
  "ExecuteTimeLog": [
   {
    "duration": 532,
    "start_time": "2022-04-08T15:39:09.989Z"
   },
   {
    "duration": 78,
    "start_time": "2022-04-08T15:39:17.356Z"
   },
   {
    "duration": 99,
    "start_time": "2022-04-08T15:39:24.459Z"
   },
   {
    "duration": 77,
    "start_time": "2022-04-08T15:40:12.301Z"
   },
   {
    "duration": 89,
    "start_time": "2022-04-08T15:40:40.012Z"
   },
   {
    "duration": 87,
    "start_time": "2022-04-08T15:42:01.268Z"
   },
   {
    "duration": 88,
    "start_time": "2022-04-08T15:42:04.315Z"
   },
   {
    "duration": 64,
    "start_time": "2022-04-08T15:42:35.833Z"
   },
   {
    "duration": 556,
    "start_time": "2022-04-08T15:42:40.300Z"
   },
   {
    "duration": 21,
    "start_time": "2022-04-08T15:42:41.625Z"
   },
   {
    "duration": 20,
    "start_time": "2022-04-08T15:43:55.167Z"
   },
   {
    "duration": 29,
    "start_time": "2022-04-08T15:46:20.374Z"
   },
   {
    "duration": 14,
    "start_time": "2022-04-08T15:46:40.902Z"
   },
   {
    "duration": 13,
    "start_time": "2022-04-08T15:47:00.147Z"
   },
   {
    "duration": 5,
    "start_time": "2022-04-08T15:48:32.961Z"
   },
   {
    "duration": 16,
    "start_time": "2022-04-08T15:49:38.979Z"
   },
   {
    "duration": 79,
    "start_time": "2022-04-08T15:56:46.037Z"
   },
   {
    "duration": 16,
    "start_time": "2022-04-08T15:57:38.797Z"
   },
   {
    "duration": 15,
    "start_time": "2022-04-08T15:57:46.792Z"
   },
   {
    "duration": 42,
    "start_time": "2022-04-08T15:59:58.230Z"
   },
   {
    "duration": 10,
    "start_time": "2022-04-08T16:00:03.332Z"
   },
   {
    "duration": 30,
    "start_time": "2022-04-08T16:00:26.175Z"
   },
   {
    "duration": 13,
    "start_time": "2022-04-08T16:00:33.723Z"
   },
   {
    "duration": 10,
    "start_time": "2022-04-08T16:00:55.998Z"
   },
   {
    "duration": 22,
    "start_time": "2022-04-08T16:00:58.732Z"
   },
   {
    "duration": 124,
    "start_time": "2022-04-08T16:01:03.259Z"
   },
   {
    "duration": 34,
    "start_time": "2022-04-08T16:01:03.903Z"
   },
   {
    "duration": 13,
    "start_time": "2022-04-08T16:01:05.864Z"
   },
   {
    "duration": 13,
    "start_time": "2022-04-08T16:01:09.058Z"
   },
   {
    "duration": 13,
    "start_time": "2022-04-08T16:01:28.711Z"
   },
   {
    "duration": 22,
    "start_time": "2022-04-08T16:01:29.415Z"
   },
   {
    "duration": 32,
    "start_time": "2022-04-08T16:01:36.287Z"
   },
   {
    "duration": 10,
    "start_time": "2022-04-08T16:01:37.343Z"
   },
   {
    "duration": 14,
    "start_time": "2022-04-08T16:01:37.912Z"
   },
   {
    "duration": 13,
    "start_time": "2022-04-08T16:01:47.660Z"
   },
   {
    "duration": 9,
    "start_time": "2022-04-08T16:02:12.313Z"
   },
   {
    "duration": 7,
    "start_time": "2022-04-08T16:03:23.133Z"
   },
   {
    "duration": 9,
    "start_time": "2022-04-08T16:03:28.895Z"
   },
   {
    "duration": 10,
    "start_time": "2022-04-08T16:03:52.277Z"
   },
   {
    "duration": 10,
    "start_time": "2022-04-08T16:04:13.378Z"
   },
   {
    "duration": 10,
    "start_time": "2022-04-08T16:04:31.511Z"
   },
   {
    "duration": 12,
    "start_time": "2022-04-08T16:05:54.555Z"
   },
   {
    "duration": 7,
    "start_time": "2022-04-08T16:05:59.208Z"
   },
   {
    "duration": 10,
    "start_time": "2022-04-08T16:06:37.915Z"
   },
   {
    "duration": 8,
    "start_time": "2022-04-08T16:07:14.216Z"
   },
   {
    "duration": 118,
    "start_time": "2022-04-08T17:04:53.905Z"
   },
   {
    "duration": 10,
    "start_time": "2022-04-08T17:05:04.504Z"
   },
   {
    "duration": 13,
    "start_time": "2022-04-08T17:05:10.455Z"
   },
   {
    "duration": 10,
    "start_time": "2022-04-08T17:05:11.870Z"
   },
   {
    "duration": 10,
    "start_time": "2022-04-08T17:05:56.541Z"
   },
   {
    "duration": 14,
    "start_time": "2022-04-08T17:06:03.268Z"
   },
   {
    "duration": 59,
    "start_time": "2022-04-08T17:06:14.857Z"
   },
   {
    "duration": 9,
    "start_time": "2022-04-08T17:06:30.729Z"
   },
   {
    "duration": 8,
    "start_time": "2022-04-08T17:06:49.015Z"
   },
   {
    "duration": 8,
    "start_time": "2022-04-08T17:06:59.080Z"
   },
   {
    "duration": 85,
    "start_time": "2022-04-08T17:07:16.039Z"
   },
   {
    "duration": 20,
    "start_time": "2022-04-08T17:07:19.361Z"
   },
   {
    "duration": 10,
    "start_time": "2022-04-08T17:07:53.793Z"
   },
   {
    "duration": 9,
    "start_time": "2022-04-08T17:08:04.439Z"
   },
   {
    "duration": 9,
    "start_time": "2022-04-08T17:08:10.776Z"
   },
   {
    "duration": 15,
    "start_time": "2022-04-08T17:08:17.325Z"
   },
   {
    "duration": 9,
    "start_time": "2022-04-08T17:08:22.260Z"
   },
   {
    "duration": 98,
    "start_time": "2022-04-08T17:15:00.243Z"
   },
   {
    "duration": 19,
    "start_time": "2022-04-08T17:15:11.267Z"
   },
   {
    "duration": 6,
    "start_time": "2022-04-08T17:16:13.792Z"
   },
   {
    "duration": 9,
    "start_time": "2022-04-08T17:16:17.825Z"
   },
   {
    "duration": 57,
    "start_time": "2022-04-08T17:16:39.285Z"
   },
   {
    "duration": 10,
    "start_time": "2022-04-08T17:17:06.523Z"
   },
   {
    "duration": 28,
    "start_time": "2022-04-08T17:17:47.215Z"
   },
   {
    "duration": 21,
    "start_time": "2022-04-08T17:17:52.681Z"
   },
   {
    "duration": 5,
    "start_time": "2022-04-08T17:18:29.823Z"
   },
   {
    "duration": 20,
    "start_time": "2022-04-08T17:18:49.214Z"
   },
   {
    "duration": 24,
    "start_time": "2022-04-08T17:20:04.880Z"
   },
   {
    "duration": 19,
    "start_time": "2022-04-08T17:20:13.663Z"
   },
   {
    "duration": 120,
    "start_time": "2022-04-08T17:25:28.632Z"
   },
   {
    "duration": 3,
    "start_time": "2022-04-08T17:33:48.401Z"
   },
   {
    "duration": 3,
    "start_time": "2022-04-08T17:36:55.543Z"
   },
   {
    "duration": 64,
    "start_time": "2022-04-08T17:37:21.323Z"
   },
   {
    "duration": 21,
    "start_time": "2022-04-08T17:37:55.008Z"
   },
   {
    "duration": 19,
    "start_time": "2022-04-08T17:39:27.367Z"
   },
   {
    "duration": 115,
    "start_time": "2022-04-08T17:49:55.957Z"
   },
   {
    "duration": 458,
    "start_time": "2022-04-14T13:42:21.197Z"
   },
   {
    "duration": 267,
    "start_time": "2022-04-14T13:42:21.765Z"
   },
   {
    "duration": 27,
    "start_time": "2022-04-14T13:42:22.697Z"
   },
   {
    "duration": 18,
    "start_time": "2022-04-14T13:42:23.653Z"
   },
   {
    "duration": 10,
    "start_time": "2022-04-14T13:42:26.532Z"
   },
   {
    "duration": 10,
    "start_time": "2022-04-14T13:48:40.973Z"
   },
   {
    "duration": 42,
    "start_time": "2022-04-14T15:39:45.239Z"
   },
   {
    "duration": 70,
    "start_time": "2022-04-14T15:40:04.695Z"
   },
   {
    "duration": 7,
    "start_time": "2022-04-14T15:40:12.972Z"
   },
   {
    "duration": 7,
    "start_time": "2022-04-14T15:40:39.281Z"
   },
   {
    "duration": 7,
    "start_time": "2022-04-14T15:42:16.565Z"
   },
   {
    "duration": 35,
    "start_time": "2022-04-14T15:43:20.635Z"
   },
   {
    "duration": 15,
    "start_time": "2022-04-14T15:44:12.146Z"
   },
   {
    "duration": 11,
    "start_time": "2022-04-14T15:44:36.468Z"
   },
   {
    "duration": 11,
    "start_time": "2022-04-14T15:44:53.391Z"
   },
   {
    "duration": 53,
    "start_time": "2022-04-14T15:49:45.004Z"
   },
   {
    "duration": 7,
    "start_time": "2022-04-14T15:49:56.959Z"
   },
   {
    "duration": 12,
    "start_time": "2022-04-14T15:50:54.830Z"
   },
   {
    "duration": 11,
    "start_time": "2022-04-14T15:51:02.183Z"
   },
   {
    "duration": 20,
    "start_time": "2022-04-14T15:51:10.769Z"
   },
   {
    "duration": 20,
    "start_time": "2022-04-14T15:53:39.238Z"
   },
   {
    "duration": 17,
    "start_time": "2022-04-14T15:54:01.169Z"
   },
   {
    "duration": 11,
    "start_time": "2022-04-14T15:54:31.246Z"
   },
   {
    "duration": 19,
    "start_time": "2022-04-14T15:54:37.586Z"
   },
   {
    "duration": 8,
    "start_time": "2022-04-14T15:54:50.147Z"
   },
   {
    "duration": 5,
    "start_time": "2022-04-14T15:55:08.037Z"
   },
   {
    "duration": 5,
    "start_time": "2022-04-14T15:55:20.889Z"
   },
   {
    "duration": 22,
    "start_time": "2022-04-14T15:55:36.118Z"
   },
   {
    "duration": 24,
    "start_time": "2022-04-14T15:55:48.608Z"
   },
   {
    "duration": 6,
    "start_time": "2022-04-14T15:56:20.684Z"
   },
   {
    "duration": 6,
    "start_time": "2022-04-14T15:56:25.714Z"
   },
   {
    "duration": 6,
    "start_time": "2022-04-14T15:57:04.355Z"
   },
   {
    "duration": 5,
    "start_time": "2022-04-14T15:57:22.835Z"
   },
   {
    "duration": 4,
    "start_time": "2022-04-14T15:57:43.282Z"
   },
   {
    "duration": 11,
    "start_time": "2022-04-14T15:58:21.384Z"
   },
   {
    "duration": 6,
    "start_time": "2022-04-14T15:58:40.825Z"
   },
   {
    "duration": 7,
    "start_time": "2022-04-14T15:58:45.081Z"
   },
   {
    "duration": 12,
    "start_time": "2022-04-14T15:59:02.011Z"
   },
   {
    "duration": 8,
    "start_time": "2022-04-14T15:59:22.240Z"
   },
   {
    "duration": 7,
    "start_time": "2022-04-14T16:01:39.152Z"
   },
   {
    "duration": 3,
    "start_time": "2022-04-14T16:09:49.411Z"
   },
   {
    "duration": 62,
    "start_time": "2022-04-14T16:09:49.883Z"
   },
   {
    "duration": 13,
    "start_time": "2022-04-14T16:09:50.660Z"
   },
   {
    "duration": 17,
    "start_time": "2022-04-14T16:09:56.054Z"
   },
   {
    "duration": 21,
    "start_time": "2022-04-14T16:10:31.192Z"
   },
   {
    "duration": 11,
    "start_time": "2022-04-14T16:10:37.795Z"
   },
   {
    "duration": 19,
    "start_time": "2022-04-14T16:13:10.454Z"
   },
   {
    "duration": 21,
    "start_time": "2022-04-14T16:16:24.218Z"
   },
   {
    "duration": 4,
    "start_time": "2022-04-14T16:20:30.722Z"
   },
   {
    "duration": 4,
    "start_time": "2022-04-14T16:20:35.623Z"
   },
   {
    "duration": 10,
    "start_time": "2022-04-14T16:21:34.536Z"
   },
   {
    "duration": 11,
    "start_time": "2022-04-14T16:22:03.764Z"
   },
   {
    "duration": 5,
    "start_time": "2022-04-14T16:26:56.844Z"
   },
   {
    "duration": 87,
    "start_time": "2022-04-14T16:27:10.313Z"
   },
   {
    "duration": 2530,
    "start_time": "2022-04-14T16:27:26.283Z"
   },
   {
    "duration": 2446,
    "start_time": "2022-04-14T16:27:54.191Z"
   },
   {
    "duration": 6,
    "start_time": "2022-04-14T16:28:04.986Z"
   },
   {
    "duration": 13,
    "start_time": "2022-04-14T16:28:23.753Z"
   },
   {
    "duration": 12,
    "start_time": "2022-04-14T16:35:47.288Z"
   },
   {
    "duration": 6,
    "start_time": "2022-04-14T16:36:27.580Z"
   },
   {
    "duration": 13,
    "start_time": "2022-04-14T16:36:30.104Z"
   },
   {
    "duration": 4,
    "start_time": "2022-04-14T16:38:30.589Z"
   },
   {
    "duration": 12,
    "start_time": "2022-04-14T16:38:31.464Z"
   },
   {
    "duration": 5,
    "start_time": "2022-04-14T16:41:39.556Z"
   },
   {
    "duration": 10,
    "start_time": "2022-04-14T16:41:43.797Z"
   },
   {
    "duration": 4,
    "start_time": "2022-04-14T16:41:45.557Z"
   },
   {
    "duration": 18,
    "start_time": "2022-04-14T16:41:46.539Z"
   },
   {
    "duration": 10,
    "start_time": "2022-04-14T16:41:55.578Z"
   },
   {
    "duration": 11,
    "start_time": "2022-04-14T16:42:00.380Z"
   },
   {
    "duration": 5,
    "start_time": "2022-04-14T16:42:12.466Z"
   },
   {
    "duration": 8,
    "start_time": "2022-04-14T16:42:37.385Z"
   },
   {
    "duration": 4,
    "start_time": "2022-04-14T16:42:44.228Z"
   },
   {
    "duration": 11,
    "start_time": "2022-04-14T16:42:45.817Z"
   },
   {
    "duration": 4,
    "start_time": "2022-04-14T16:42:47.402Z"
   },
   {
    "duration": 13,
    "start_time": "2022-04-14T16:42:50.029Z"
   },
   {
    "duration": 2,
    "start_time": "2022-04-14T16:43:00.135Z"
   },
   {
    "duration": 79,
    "start_time": "2022-04-14T16:43:00.560Z"
   },
   {
    "duration": 20,
    "start_time": "2022-04-14T16:43:01.207Z"
   },
   {
    "duration": 15,
    "start_time": "2022-04-14T16:43:01.847Z"
   },
   {
    "duration": 11,
    "start_time": "2022-04-14T16:43:05.325Z"
   },
   {
    "duration": 20,
    "start_time": "2022-04-14T16:43:11.046Z"
   },
   {
    "duration": 5,
    "start_time": "2022-04-14T16:43:15.243Z"
   },
   {
    "duration": 10,
    "start_time": "2022-04-14T16:43:16.492Z"
   },
   {
    "duration": 5,
    "start_time": "2022-04-14T16:43:19.773Z"
   },
   {
    "duration": 15,
    "start_time": "2022-04-14T16:43:21.014Z"
   },
   {
    "duration": 5,
    "start_time": "2022-04-14T16:44:05.378Z"
   },
   {
    "duration": 14,
    "start_time": "2022-04-14T16:44:15.747Z"
   },
   {
    "duration": 21,
    "start_time": "2022-04-14T16:44:27.396Z"
   },
   {
    "duration": 16,
    "start_time": "2022-04-14T16:44:32.611Z"
   },
   {
    "duration": 11,
    "start_time": "2022-04-14T16:44:38.417Z"
   },
   {
    "duration": 17,
    "start_time": "2022-04-14T16:44:52.673Z"
   },
   {
    "duration": 4,
    "start_time": "2022-04-14T16:45:18.126Z"
   },
   {
    "duration": 13,
    "start_time": "2022-04-14T16:45:18.819Z"
   },
   {
    "duration": 5,
    "start_time": "2022-04-14T16:45:21.871Z"
   },
   {
    "duration": 16,
    "start_time": "2022-04-14T16:45:22.430Z"
   },
   {
    "duration": 10,
    "start_time": "2022-04-14T16:45:25.749Z"
   },
   {
    "duration": 11,
    "start_time": "2022-04-14T16:46:32.279Z"
   },
   {
    "duration": 4,
    "start_time": "2022-04-14T16:49:35.747Z"
   },
   {
    "duration": 15,
    "start_time": "2022-04-14T16:49:41.834Z"
   },
   {
    "duration": 12,
    "start_time": "2022-04-14T16:49:58.134Z"
   },
   {
    "duration": 19,
    "start_time": "2022-04-14T16:52:07.053Z"
   },
   {
    "duration": 17,
    "start_time": "2022-04-14T16:52:20.981Z"
   },
   {
    "duration": 17,
    "start_time": "2022-04-14T16:53:11.492Z"
   },
   {
    "duration": 18,
    "start_time": "2022-04-14T16:53:23.081Z"
   },
   {
    "duration": 12,
    "start_time": "2022-04-14T16:53:43.439Z"
   },
   {
    "duration": 18,
    "start_time": "2022-04-14T16:54:41.214Z"
   },
   {
    "duration": 16,
    "start_time": "2022-04-14T16:54:46.334Z"
   },
   {
    "duration": 25,
    "start_time": "2022-04-14T16:55:24.448Z"
   },
   {
    "duration": 6,
    "start_time": "2022-04-14T16:56:26.442Z"
   },
   {
    "duration": 11,
    "start_time": "2022-04-14T16:59:21.255Z"
   },
   {
    "duration": 11,
    "start_time": "2022-04-14T16:59:25.696Z"
   },
   {
    "duration": 6,
    "start_time": "2022-04-14T16:59:30.683Z"
   },
   {
    "duration": 17,
    "start_time": "2022-04-14T16:59:53.801Z"
   },
   {
    "duration": 16,
    "start_time": "2022-04-14T16:59:59.296Z"
   },
   {
    "duration": 18,
    "start_time": "2022-04-14T17:00:10.145Z"
   },
   {
    "duration": 19,
    "start_time": "2022-04-14T17:00:14.104Z"
   },
   {
    "duration": 18,
    "start_time": "2022-04-14T17:00:18.884Z"
   },
   {
    "duration": 5,
    "start_time": "2022-04-14T17:00:38.254Z"
   },
   {
    "duration": 5,
    "start_time": "2022-04-14T17:00:46.990Z"
   },
   {
    "duration": 5,
    "start_time": "2022-04-14T17:01:01.369Z"
   },
   {
    "duration": 6,
    "start_time": "2022-04-14T17:01:21.788Z"
   },
   {
    "duration": 44,
    "start_time": "2022-04-15T12:23:12.174Z"
   },
   {
    "duration": 408,
    "start_time": "2022-04-15T12:23:20.348Z"
   },
   {
    "duration": 58,
    "start_time": "2022-04-15T12:23:20.778Z"
   },
   {
    "duration": 19,
    "start_time": "2022-04-15T12:23:21.414Z"
   },
   {
    "duration": 15,
    "start_time": "2022-04-15T12:23:22.189Z"
   },
   {
    "duration": 11,
    "start_time": "2022-04-15T12:23:24.995Z"
   },
   {
    "duration": 22,
    "start_time": "2022-04-15T12:23:32.746Z"
   },
   {
    "duration": 6,
    "start_time": "2022-04-15T12:23:39.158Z"
   },
   {
    "duration": 10,
    "start_time": "2022-04-15T12:23:40.678Z"
   },
   {
    "duration": 30,
    "start_time": "2022-04-15T12:23:44.675Z"
   },
   {
    "duration": 12,
    "start_time": "2022-04-15T12:23:48.748Z"
   },
   {
    "duration": 24,
    "start_time": "2022-04-15T12:23:48.767Z"
   },
   {
    "duration": 17,
    "start_time": "2022-04-15T12:23:53.592Z"
   },
   {
    "duration": 11,
    "start_time": "2022-04-15T12:23:58.242Z"
   },
   {
    "duration": 5,
    "start_time": "2022-04-15T12:24:02.331Z"
   },
   {
    "duration": 17,
    "start_time": "2022-04-15T12:24:23.009Z"
   },
   {
    "duration": 14,
    "start_time": "2022-04-15T12:24:25.049Z"
   },
   {
    "duration": 17,
    "start_time": "2022-04-15T12:24:27.524Z"
   },
   {
    "duration": 16,
    "start_time": "2022-04-15T12:24:28.147Z"
   },
   {
    "duration": 12,
    "start_time": "2022-04-15T12:24:30.066Z"
   },
   {
    "duration": 19,
    "start_time": "2022-04-15T12:24:33.696Z"
   },
   {
    "duration": 19,
    "start_time": "2022-04-15T12:24:35.286Z"
   },
   {
    "duration": 7,
    "start_time": "2022-04-15T12:24:36.443Z"
   },
   {
    "duration": 7,
    "start_time": "2022-04-15T12:24:38.287Z"
   },
   {
    "duration": 7,
    "start_time": "2022-04-15T12:25:15.614Z"
   },
   {
    "duration": 7,
    "start_time": "2022-04-15T12:25:38.502Z"
   },
   {
    "duration": 18,
    "start_time": "2022-04-15T12:26:00.601Z"
   },
   {
    "duration": 7,
    "start_time": "2022-04-15T12:26:01.793Z"
   },
   {
    "duration": 18,
    "start_time": "2022-04-15T12:26:03.208Z"
   },
   {
    "duration": 19,
    "start_time": "2022-04-15T12:26:04.452Z"
   },
   {
    "duration": 19,
    "start_time": "2022-04-15T12:26:04.972Z"
   },
   {
    "duration": 2,
    "start_time": "2022-04-15T14:37:00.920Z"
   },
   {
    "duration": 55,
    "start_time": "2022-04-15T14:37:01.301Z"
   },
   {
    "duration": 14,
    "start_time": "2022-04-15T14:37:01.955Z"
   },
   {
    "duration": 15,
    "start_time": "2022-04-15T14:37:02.449Z"
   },
   {
    "duration": 15,
    "start_time": "2022-04-15T14:37:04.264Z"
   },
   {
    "duration": 22,
    "start_time": "2022-04-15T14:37:06.008Z"
   },
   {
    "duration": 4,
    "start_time": "2022-04-15T14:37:06.910Z"
   },
   {
    "duration": 12,
    "start_time": "2022-04-15T14:37:07.685Z"
   },
   {
    "duration": 6,
    "start_time": "2022-04-15T14:37:08.529Z"
   },
   {
    "duration": 12,
    "start_time": "2022-04-15T14:37:08.962Z"
   },
   {
    "duration": 6,
    "start_time": "2022-04-15T14:37:09.397Z"
   },
   {
    "duration": 24,
    "start_time": "2022-04-15T14:37:09.827Z"
   },
   {
    "duration": 11,
    "start_time": "2022-04-15T14:37:10.224Z"
   },
   {
    "duration": 4,
    "start_time": "2022-04-15T14:37:11.080Z"
   },
   {
    "duration": 14,
    "start_time": "2022-04-15T14:37:11.585Z"
   },
   {
    "duration": 12,
    "start_time": "2022-04-15T14:37:12.020Z"
   },
   {
    "duration": 16,
    "start_time": "2022-04-15T14:37:12.915Z"
   },
   {
    "duration": 17,
    "start_time": "2022-04-15T14:37:13.366Z"
   },
   {
    "duration": 13,
    "start_time": "2022-04-15T14:37:13.814Z"
   },
   {
    "duration": 26,
    "start_time": "2022-04-15T14:37:14.322Z"
   },
   {
    "duration": 19,
    "start_time": "2022-04-15T14:37:14.875Z"
   },
   {
    "duration": 6,
    "start_time": "2022-04-15T14:37:15.321Z"
   },
   {
    "duration": 6,
    "start_time": "2022-04-15T14:37:15.787Z"
   },
   {
    "duration": 6,
    "start_time": "2022-04-15T14:37:16.306Z"
   },
   {
    "duration": 8,
    "start_time": "2022-04-15T14:37:16.863Z"
   },
   {
    "duration": 17,
    "start_time": "2022-04-15T14:37:17.321Z"
   },
   {
    "duration": 7,
    "start_time": "2022-04-15T14:37:17.866Z"
   },
   {
    "duration": 19,
    "start_time": "2022-04-15T14:37:18.419Z"
   },
   {
    "duration": 18,
    "start_time": "2022-04-15T14:37:18.998Z"
   },
   {
    "duration": 24,
    "start_time": "2022-04-15T14:37:19.541Z"
   },
   {
    "duration": 357,
    "start_time": "2022-04-17T22:38:45.885Z"
   },
   {
    "duration": 59,
    "start_time": "2022-04-17T22:38:47.102Z"
   },
   {
    "duration": 18,
    "start_time": "2022-04-17T22:38:47.497Z"
   },
   {
    "duration": 14,
    "start_time": "2022-04-17T22:38:48.042Z"
   },
   {
    "duration": 10,
    "start_time": "2022-04-17T22:38:51.376Z"
   },
   {
    "duration": 19,
    "start_time": "2022-04-17T22:38:58.644Z"
   },
   {
    "duration": 5,
    "start_time": "2022-04-17T22:39:02.391Z"
   },
   {
    "duration": 11,
    "start_time": "2022-04-17T22:39:05.025Z"
   },
   {
    "duration": 7,
    "start_time": "2022-04-17T22:39:06.683Z"
   },
   {
    "duration": 12,
    "start_time": "2022-04-17T22:39:09.105Z"
   },
   {
    "duration": 4,
    "start_time": "2022-04-17T22:39:12.999Z"
   },
   {
    "duration": 17,
    "start_time": "2022-04-17T22:39:14.483Z"
   },
   {
    "duration": 10,
    "start_time": "2022-04-17T22:39:18.770Z"
   },
   {
    "duration": 4,
    "start_time": "2022-04-17T22:39:21.839Z"
   },
   {
    "duration": 15,
    "start_time": "2022-04-17T22:39:23.714Z"
   },
   {
    "duration": 12,
    "start_time": "2022-04-17T22:39:26.661Z"
   },
   {
    "duration": 17,
    "start_time": "2022-04-17T22:39:28.801Z"
   },
   {
    "duration": 16,
    "start_time": "2022-04-17T22:39:29.229Z"
   },
   {
    "duration": 12,
    "start_time": "2022-04-17T22:39:29.728Z"
   },
   {
    "duration": 18,
    "start_time": "2022-04-17T22:39:31.737Z"
   },
   {
    "duration": 16,
    "start_time": "2022-04-17T22:39:32.218Z"
   },
   {
    "duration": 5,
    "start_time": "2022-04-17T22:39:32.666Z"
   },
   {
    "duration": 5,
    "start_time": "2022-04-17T22:39:33.240Z"
   },
   {
    "duration": 5,
    "start_time": "2022-04-17T22:39:34.893Z"
   },
   {
    "duration": 5,
    "start_time": "2022-04-17T22:39:35.456Z"
   },
   {
    "duration": 10,
    "start_time": "2022-04-17T22:39:37.318Z"
   },
   {
    "duration": 6,
    "start_time": "2022-04-17T22:39:37.879Z"
   },
   {
    "duration": 16,
    "start_time": "2022-04-17T22:39:38.431Z"
   },
   {
    "duration": 16,
    "start_time": "2022-04-17T22:39:39.115Z"
   },
   {
    "duration": 17,
    "start_time": "2022-04-17T22:39:39.864Z"
   },
   {
    "duration": 9,
    "start_time": "2022-04-17T22:47:38.844Z"
   },
   {
    "duration": 6,
    "start_time": "2022-04-17T22:48:30.171Z"
   },
   {
    "duration": 6,
    "start_time": "2022-04-17T22:48:46.365Z"
   },
   {
    "duration": 5,
    "start_time": "2022-04-17T22:49:12.241Z"
   },
   {
    "duration": 7,
    "start_time": "2022-04-17T22:49:12.895Z"
   },
   {
    "duration": 11,
    "start_time": "2022-04-17T23:01:24.297Z"
   },
   {
    "duration": 7,
    "start_time": "2022-04-17T23:02:05.015Z"
   },
   {
    "duration": 6,
    "start_time": "2022-04-17T23:02:25.087Z"
   },
   {
    "duration": 5,
    "start_time": "2022-04-17T23:09:36.535Z"
   },
   {
    "duration": 4,
    "start_time": "2022-04-17T23:10:01.603Z"
   },
   {
    "duration": 15,
    "start_time": "2022-04-17T23:10:08.171Z"
   },
   {
    "duration": 3,
    "start_time": "2022-04-17T23:19:13.151Z"
   },
   {
    "duration": 9,
    "start_time": "2022-04-17T23:20:56.219Z"
   },
   {
    "duration": 16,
    "start_time": "2022-04-17T23:21:03.406Z"
   },
   {
    "duration": 5,
    "start_time": "2022-04-17T23:37:10.035Z"
   },
   {
    "duration": 85,
    "start_time": "2022-04-17T23:51:13.729Z"
   },
   {
    "duration": 3,
    "start_time": "2022-04-17T23:52:33.276Z"
   },
   {
    "duration": 81,
    "start_time": "2022-04-17T23:52:34.224Z"
   },
   {
    "duration": 80,
    "start_time": "2022-04-17T23:52:39.894Z"
   },
   {
    "duration": 3,
    "start_time": "2022-04-17T23:55:33.921Z"
   },
   {
    "duration": 4,
    "start_time": "2022-04-17T23:56:09.105Z"
   },
   {
    "duration": 3,
    "start_time": "2022-04-17T23:56:38.594Z"
   },
   {
    "duration": 11,
    "start_time": "2022-04-17T23:57:45.451Z"
   },
   {
    "duration": 17,
    "start_time": "2022-04-17T23:57:51.574Z"
   },
   {
    "duration": 423,
    "start_time": "2022-04-19T11:29:28.726Z"
   },
   {
    "duration": 73,
    "start_time": "2022-04-19T11:29:39.890Z"
   },
   {
    "duration": 29,
    "start_time": "2022-04-19T11:29:45.439Z"
   },
   {
    "duration": 22,
    "start_time": "2022-04-19T11:31:06.135Z"
   },
   {
    "duration": 15,
    "start_time": "2022-04-19T11:31:18.446Z"
   },
   {
    "duration": 21,
    "start_time": "2022-04-19T11:31:29.484Z"
   },
   {
    "duration": 13,
    "start_time": "2022-04-19T11:31:39.847Z"
   },
   {
    "duration": 15,
    "start_time": "2022-04-19T11:31:50.915Z"
   },
   {
    "duration": 13,
    "start_time": "2022-04-19T11:32:01.332Z"
   },
   {
    "duration": 18,
    "start_time": "2022-04-19T11:32:04.589Z"
   },
   {
    "duration": 11,
    "start_time": "2022-04-19T11:42:45.240Z"
   },
   {
    "duration": 2,
    "start_time": "2022-04-19T11:43:06.018Z"
   },
   {
    "duration": 57,
    "start_time": "2022-04-19T11:43:06.383Z"
   },
   {
    "duration": 14,
    "start_time": "2022-04-19T11:43:06.992Z"
   },
   {
    "duration": 15,
    "start_time": "2022-04-19T11:43:10.181Z"
   },
   {
    "duration": 5,
    "start_time": "2022-04-19T11:43:43.539Z"
   },
   {
    "duration": 5,
    "start_time": "2022-04-19T11:44:22.789Z"
   },
   {
    "duration": 7,
    "start_time": "2022-04-19T11:44:56.074Z"
   },
   {
    "duration": 8,
    "start_time": "2022-04-19T11:45:32.160Z"
   },
   {
    "duration": 8,
    "start_time": "2022-04-19T11:46:06.376Z"
   },
   {
    "duration": 8,
    "start_time": "2022-04-19T11:47:15.281Z"
   },
   {
    "duration": 7,
    "start_time": "2022-04-19T11:48:48.605Z"
   },
   {
    "duration": 13,
    "start_time": "2022-04-19T11:48:52.529Z"
   },
   {
    "duration": 22,
    "start_time": "2022-04-19T11:48:59.500Z"
   },
   {
    "duration": 5,
    "start_time": "2022-04-19T11:49:07.816Z"
   },
   {
    "duration": 14,
    "start_time": "2022-04-19T11:49:11.144Z"
   },
   {
    "duration": 7,
    "start_time": "2022-04-19T11:49:16.217Z"
   },
   {
    "duration": 8,
    "start_time": "2022-04-19T11:49:49.755Z"
   },
   {
    "duration": 8,
    "start_time": "2022-04-19T11:50:12.578Z"
   },
   {
    "duration": 53,
    "start_time": "2022-04-19T12:53:56.215Z"
   },
   {
    "duration": 442,
    "start_time": "2022-04-19T12:54:03.129Z"
   },
   {
    "duration": 71,
    "start_time": "2022-04-19T12:54:03.574Z"
   },
   {
    "duration": 23,
    "start_time": "2022-04-19T12:54:03.840Z"
   },
   {
    "duration": 18,
    "start_time": "2022-04-19T12:54:04.245Z"
   },
   {
    "duration": 6,
    "start_time": "2022-04-19T12:54:05.225Z"
   },
   {
    "duration": 6,
    "start_time": "2022-04-19T12:54:05.685Z"
   },
   {
    "duration": 8,
    "start_time": "2022-04-19T12:54:06.328Z"
   },
   {
    "duration": 13,
    "start_time": "2022-04-19T12:54:09.398Z"
   },
   {
    "duration": 5,
    "start_time": "2022-04-19T12:54:14.681Z"
   },
   {
    "duration": 34,
    "start_time": "2022-04-19T12:54:21.914Z"
   },
   {
    "duration": 6,
    "start_time": "2022-04-19T12:54:51.324Z"
   },
   {
    "duration": 8,
    "start_time": "2022-04-19T12:55:26.329Z"
   },
   {
    "duration": 8,
    "start_time": "2022-04-19T12:56:41.848Z"
   },
   {
    "duration": 3,
    "start_time": "2022-04-19T13:16:16.502Z"
   },
   {
    "duration": 79,
    "start_time": "2022-04-19T13:16:17.370Z"
   },
   {
    "duration": 14,
    "start_time": "2022-04-19T13:18:31.298Z"
   },
   {
    "duration": 17,
    "start_time": "2022-04-19T13:18:34.754Z"
   },
   {
    "duration": 19,
    "start_time": "2022-04-19T13:21:58.645Z"
   },
   {
    "duration": 12,
    "start_time": "2022-04-19T13:38:02.879Z"
   },
   {
    "duration": 5,
    "start_time": "2022-04-19T13:38:27.541Z"
   },
   {
    "duration": 6,
    "start_time": "2022-04-19T13:40:06.671Z"
   },
   {
    "duration": 24,
    "start_time": "2022-04-19T13:40:25.306Z"
   },
   {
    "duration": 6,
    "start_time": "2022-04-19T14:21:24.001Z"
   },
   {
    "duration": 12,
    "start_time": "2022-04-19T14:21:42.970Z"
   },
   {
    "duration": 12,
    "start_time": "2022-04-19T14:22:24.987Z"
   },
   {
    "duration": 8,
    "start_time": "2022-04-19T14:25:38.017Z"
   },
   {
    "duration": 19,
    "start_time": "2022-04-19T14:26:11.393Z"
   },
   {
    "duration": 5,
    "start_time": "2022-04-19T14:30:58.736Z"
   },
   {
    "duration": 17,
    "start_time": "2022-04-19T14:35:19.464Z"
   },
   {
    "duration": 5,
    "start_time": "2022-04-19T14:35:31.179Z"
   },
   {
    "duration": 14,
    "start_time": "2022-04-19T14:35:32.071Z"
   },
   {
    "duration": 7,
    "start_time": "2022-04-19T14:35:46.762Z"
   },
   {
    "duration": 17,
    "start_time": "2022-04-19T14:36:07.660Z"
   },
   {
    "duration": 18,
    "start_time": "2022-04-19T14:36:22.660Z"
   },
   {
    "duration": 7,
    "start_time": "2022-04-19T14:36:30.854Z"
   },
   {
    "duration": 14,
    "start_time": "2022-04-19T14:36:44.605Z"
   },
   {
    "duration": 3045,
    "start_time": "2022-04-19T14:45:09.773Z"
   },
   {
    "duration": 2950,
    "start_time": "2022-04-19T14:45:18.557Z"
   },
   {
    "duration": 5,
    "start_time": "2022-04-19T14:45:35.876Z"
   },
   {
    "duration": 17,
    "start_time": "2022-04-19T14:45:40.492Z"
   },
   {
    "duration": 19,
    "start_time": "2022-04-19T14:46:51.698Z"
   },
   {
    "duration": 18,
    "start_time": "2022-04-19T14:46:58.082Z"
   },
   {
    "duration": 42,
    "start_time": "2022-04-19T14:47:07.158Z"
   },
   {
    "duration": 3,
    "start_time": "2022-04-19T14:47:54.953Z"
   },
   {
    "duration": 68,
    "start_time": "2022-04-19T14:47:55.292Z"
   },
   {
    "duration": 14,
    "start_time": "2022-04-19T14:47:55.866Z"
   },
   {
    "duration": 22,
    "start_time": "2022-04-19T14:47:58.157Z"
   },
   {
    "duration": 25,
    "start_time": "2022-04-19T14:48:16.257Z"
   },
   {
    "duration": 45,
    "start_time": "2022-04-19T14:48:28.306Z"
   },
   {
    "duration": 16,
    "start_time": "2022-04-19T14:48:53.657Z"
   },
   {
    "duration": 12,
    "start_time": "2022-04-19T14:49:03.573Z"
   },
   {
    "duration": 14,
    "start_time": "2022-04-19T14:49:28.205Z"
   },
   {
    "duration": 42,
    "start_time": "2022-04-19T14:50:41.753Z"
   },
   {
    "duration": 4,
    "start_time": "2022-04-19T15:00:51.448Z"
   },
   {
    "duration": 86,
    "start_time": "2022-04-19T15:00:52.256Z"
   },
   {
    "duration": 16,
    "start_time": "2022-04-19T15:00:56.978Z"
   },
   {
    "duration": 20,
    "start_time": "2022-04-19T15:00:57.418Z"
   },
   {
    "duration": 12,
    "start_time": "2022-04-19T15:01:03.615Z"
   },
   {
    "duration": 23,
    "start_time": "2022-04-19T15:01:58.753Z"
   },
   {
    "duration": 6,
    "start_time": "2022-04-19T15:02:14.056Z"
   },
   {
    "duration": 11,
    "start_time": "2022-04-19T15:02:21.087Z"
   },
   {
    "duration": 13,
    "start_time": "2022-04-19T15:02:33.127Z"
   },
   {
    "duration": 4,
    "start_time": "2022-04-19T15:03:04.086Z"
   },
   {
    "duration": 8,
    "start_time": "2022-04-19T15:04:17.454Z"
   },
   {
    "duration": 5,
    "start_time": "2022-04-19T15:04:29.220Z"
   },
   {
    "duration": 7,
    "start_time": "2022-04-19T15:04:46.905Z"
   },
   {
    "duration": 9,
    "start_time": "2022-04-19T15:06:23.366Z"
   },
   {
    "duration": 5,
    "start_time": "2022-04-19T15:06:28.774Z"
   },
   {
    "duration": 8,
    "start_time": "2022-04-19T15:07:04.468Z"
   },
   {
    "duration": 8,
    "start_time": "2022-04-19T15:07:36.073Z"
   },
   {
    "duration": 6,
    "start_time": "2022-04-19T15:07:51.971Z"
   },
   {
    "duration": 8,
    "start_time": "2022-04-19T15:07:56.742Z"
   },
   {
    "duration": 5,
    "start_time": "2022-04-19T15:08:26.404Z"
   },
   {
    "duration": 5,
    "start_time": "2022-04-19T15:09:51.699Z"
   },
   {
    "duration": 4,
    "start_time": "2022-04-19T15:11:15.476Z"
   },
   {
    "duration": 5,
    "start_time": "2022-04-19T15:14:49.357Z"
   },
   {
    "duration": 30,
    "start_time": "2022-04-19T15:14:59.727Z"
   },
   {
    "duration": 14,
    "start_time": "2022-04-19T15:16:31.360Z"
   },
   {
    "duration": 15,
    "start_time": "2022-04-19T15:16:37.633Z"
   },
   {
    "duration": 8,
    "start_time": "2022-04-19T15:17:45.586Z"
   },
   {
    "duration": 9,
    "start_time": "2022-04-19T15:18:51.469Z"
   },
   {
    "duration": 16,
    "start_time": "2022-04-19T15:21:48.228Z"
   },
   {
    "duration": 9,
    "start_time": "2022-04-19T15:21:59.005Z"
   },
   {
    "duration": 15,
    "start_time": "2022-04-19T15:22:04.631Z"
   },
   {
    "duration": 16,
    "start_time": "2022-04-19T15:22:20.157Z"
   },
   {
    "duration": 10,
    "start_time": "2022-04-19T15:22:30.281Z"
   },
   {
    "duration": 8,
    "start_time": "2022-04-19T15:22:35.298Z"
   },
   {
    "duration": 14,
    "start_time": "2022-04-19T15:22:47.159Z"
   },
   {
    "duration": 18,
    "start_time": "2022-04-19T15:23:28.833Z"
   },
   {
    "duration": 10,
    "start_time": "2022-04-19T15:23:41.864Z"
   },
   {
    "duration": 5,
    "start_time": "2022-04-19T15:24:40.025Z"
   },
   {
    "duration": 23,
    "start_time": "2022-04-19T15:24:43.657Z"
   },
   {
    "duration": 5,
    "start_time": "2022-04-19T15:25:51.483Z"
   },
   {
    "duration": 22,
    "start_time": "2022-04-19T15:25:51.991Z"
   },
   {
    "duration": 21,
    "start_time": "2022-04-19T15:26:09.204Z"
   },
   {
    "duration": 152,
    "start_time": "2022-04-19T15:27:23.913Z"
   },
   {
    "duration": 7,
    "start_time": "2022-04-19T15:27:39.859Z"
   },
   {
    "duration": 139,
    "start_time": "2022-04-19T15:29:03.783Z"
   },
   {
    "duration": 10,
    "start_time": "2022-04-19T15:29:14.076Z"
   },
   {
    "duration": 8,
    "start_time": "2022-04-19T15:36:39.300Z"
   },
   {
    "duration": 22,
    "start_time": "2022-04-19T15:38:07.472Z"
   },
   {
    "duration": 25,
    "start_time": "2022-04-19T15:39:24.762Z"
   },
   {
    "duration": 9,
    "start_time": "2022-04-19T15:39:29.806Z"
   },
   {
    "duration": 40,
    "start_time": "2022-04-19T15:39:53.934Z"
   },
   {
    "duration": 26,
    "start_time": "2022-04-19T15:40:21.558Z"
   },
   {
    "duration": 24,
    "start_time": "2022-04-19T15:46:23.986Z"
   },
   {
    "duration": 6,
    "start_time": "2022-04-19T15:47:18.074Z"
   },
   {
    "duration": 14,
    "start_time": "2022-04-19T15:51:34.350Z"
   },
   {
    "duration": 21,
    "start_time": "2022-04-19T15:56:53.148Z"
   },
   {
    "duration": 9,
    "start_time": "2022-04-19T15:56:59.844Z"
   },
   {
    "duration": 5,
    "start_time": "2022-04-19T15:57:04.758Z"
   },
   {
    "duration": 10,
    "start_time": "2022-04-19T15:57:15.655Z"
   },
   {
    "duration": 21,
    "start_time": "2022-04-19T15:57:39.761Z"
   },
   {
    "duration": 17,
    "start_time": "2022-04-19T16:00:08.315Z"
   },
   {
    "duration": 7,
    "start_time": "2022-04-19T16:00:19.586Z"
   },
   {
    "duration": 23,
    "start_time": "2022-04-19T16:00:38.258Z"
   },
   {
    "duration": 23,
    "start_time": "2022-04-19T16:00:47.648Z"
   },
   {
    "duration": 2012,
    "start_time": "2022-04-19T16:11:42.102Z"
   },
   {
    "duration": 3870,
    "start_time": "2022-04-19T16:12:24.420Z"
   },
   {
    "duration": 27,
    "start_time": "2022-04-19T16:12:32.733Z"
   },
   {
    "duration": 8,
    "start_time": "2022-04-19T16:13:09.161Z"
   },
   {
    "duration": 10,
    "start_time": "2022-04-19T16:13:57.175Z"
   },
   {
    "duration": 17,
    "start_time": "2022-04-19T16:14:01.925Z"
   },
   {
    "duration": 147,
    "start_time": "2022-04-19T16:19:31.771Z"
   },
   {
    "duration": 3,
    "start_time": "2022-04-19T16:19:55.958Z"
   },
   {
    "duration": 11,
    "start_time": "2022-04-19T16:20:11.489Z"
   },
   {
    "duration": 5,
    "start_time": "2022-04-19T16:21:02.712Z"
   },
   {
    "duration": 8,
    "start_time": "2022-04-19T16:21:25.787Z"
   },
   {
    "duration": 459,
    "start_time": "2022-04-19T16:21:52.879Z"
   },
   {
    "duration": 364,
    "start_time": "2022-04-19T16:22:09.798Z"
   },
   {
    "duration": 9,
    "start_time": "2022-04-19T16:22:44.265Z"
   },
   {
    "duration": 358,
    "start_time": "2022-04-19T16:23:12.000Z"
   },
   {
    "duration": 2557,
    "start_time": "2022-04-19T16:24:32.961Z"
   },
   {
    "duration": 2303,
    "start_time": "2022-04-19T16:24:35.758Z"
   },
   {
    "duration": 2500,
    "start_time": "2022-04-19T16:27:26.911Z"
   },
   {
    "duration": 2593,
    "start_time": "2022-04-19T16:28:20.650Z"
   },
   {
    "duration": 12,
    "start_time": "2022-04-19T16:31:43.632Z"
   },
   {
    "duration": 8,
    "start_time": "2022-04-19T16:31:59.174Z"
   },
   {
    "duration": 10,
    "start_time": "2022-04-19T16:32:29.225Z"
   },
   {
    "duration": 13,
    "start_time": "2022-04-19T16:32:36.032Z"
   },
   {
    "duration": 21,
    "start_time": "2022-04-19T16:32:45.258Z"
   },
   {
    "duration": 6,
    "start_time": "2022-04-19T16:33:54.568Z"
   },
   {
    "duration": 82,
    "start_time": "2022-04-19T16:33:55.247Z"
   },
   {
    "duration": 22,
    "start_time": "2022-04-19T16:34:02.393Z"
   },
   {
    "duration": 418,
    "start_time": "2022-04-19T16:34:24.989Z"
   },
   {
    "duration": 1564,
    "start_time": "2022-04-19T16:34:25.409Z"
   },
   {
    "duration": 27,
    "start_time": "2022-04-19T16:34:26.975Z"
   },
   {
    "duration": 39,
    "start_time": "2022-04-19T16:34:27.004Z"
   },
   {
    "duration": 16,
    "start_time": "2022-04-19T16:34:31.031Z"
   },
   {
    "duration": 26,
    "start_time": "2022-04-19T16:34:34.854Z"
   },
   {
    "duration": 5,
    "start_time": "2022-04-19T16:34:38.204Z"
   },
   {
    "duration": 21,
    "start_time": "2022-04-19T16:34:40.539Z"
   },
   {
    "duration": 7,
    "start_time": "2022-04-19T16:34:43.373Z"
   },
   {
    "duration": 22,
    "start_time": "2022-04-19T16:34:44.437Z"
   },
   {
    "duration": 4,
    "start_time": "2022-04-19T16:34:46.872Z"
   },
   {
    "duration": 8,
    "start_time": "2022-04-19T16:34:48.636Z"
   },
   {
    "duration": 4,
    "start_time": "2022-04-19T16:34:51.258Z"
   },
   {
    "duration": 5,
    "start_time": "2022-04-19T16:34:52.814Z"
   },
   {
    "duration": 21,
    "start_time": "2022-04-19T16:34:55.266Z"
   },
   {
    "duration": 6,
    "start_time": "2022-04-19T16:35:00.080Z"
   },
   {
    "duration": 166,
    "start_time": "2022-04-19T16:35:06.858Z"
   },
   {
    "duration": 23,
    "start_time": "2022-04-19T16:35:09.418Z"
   },
   {
    "duration": 6,
    "start_time": "2022-04-19T16:37:14.202Z"
   },
   {
    "duration": 26,
    "start_time": "2022-04-19T16:37:22.537Z"
   },
   {
    "duration": 7,
    "start_time": "2022-04-19T16:42:10.659Z"
   },
   {
    "duration": 24,
    "start_time": "2022-04-19T16:42:16.458Z"
   },
   {
    "duration": 5,
    "start_time": "2022-04-19T16:42:48.692Z"
   },
   {
    "duration": 23,
    "start_time": "2022-04-19T16:42:51.472Z"
   },
   {
    "duration": 5,
    "start_time": "2022-04-19T16:43:17.304Z"
   },
   {
    "duration": 23,
    "start_time": "2022-04-19T16:43:18.087Z"
   },
   {
    "duration": 6,
    "start_time": "2022-04-19T16:45:08.502Z"
   },
   {
    "duration": 34,
    "start_time": "2022-04-19T16:45:10.102Z"
   },
   {
    "duration": 9,
    "start_time": "2022-04-19T16:45:15.534Z"
   },
   {
    "duration": 22,
    "start_time": "2022-04-19T16:45:16.161Z"
   },
   {
    "duration": 6,
    "start_time": "2022-04-19T16:45:26.569Z"
   },
   {
    "duration": 5,
    "start_time": "2022-04-19T16:45:31.165Z"
   },
   {
    "duration": 23,
    "start_time": "2022-04-19T16:45:36.603Z"
   },
   {
    "duration": 708,
    "start_time": "2022-04-19T16:47:40.813Z"
   },
   {
    "duration": 5,
    "start_time": "2022-04-19T16:53:25.419Z"
   },
   {
    "duration": 23,
    "start_time": "2022-04-19T16:53:31.658Z"
   },
   {
    "duration": 10,
    "start_time": "2022-04-19T16:55:30.569Z"
   },
   {
    "duration": 17,
    "start_time": "2022-04-19T16:55:44.465Z"
   },
   {
    "duration": 4,
    "start_time": "2022-04-19T16:56:24.116Z"
   },
   {
    "duration": 23,
    "start_time": "2022-04-19T16:56:29.477Z"
   },
   {
    "duration": 415,
    "start_time": "2022-04-19T16:58:49.208Z"
   },
   {
    "duration": 75,
    "start_time": "2022-04-19T16:58:50.004Z"
   },
   {
    "duration": 28,
    "start_time": "2022-04-19T16:58:52.831Z"
   },
   {
    "duration": 17,
    "start_time": "2022-04-19T16:58:55.471Z"
   },
   {
    "duration": 12,
    "start_time": "2022-04-19T16:59:04.928Z"
   },
   {
    "duration": 28,
    "start_time": "2022-04-19T16:59:13.320Z"
   },
   {
    "duration": 5,
    "start_time": "2022-04-19T16:59:22.920Z"
   },
   {
    "duration": 12,
    "start_time": "2022-04-19T16:59:50.369Z"
   },
   {
    "duration": 7,
    "start_time": "2022-04-19T16:59:54.668Z"
   },
   {
    "duration": 6,
    "start_time": "2022-04-19T17:04:32.546Z"
   },
   {
    "duration": 22,
    "start_time": "2022-04-19T17:04:38.958Z"
   },
   {
    "duration": 5,
    "start_time": "2022-04-19T17:04:59.887Z"
   },
   {
    "duration": 21,
    "start_time": "2022-04-19T17:05:08.233Z"
   },
   {
    "duration": 5,
    "start_time": "2022-04-19T17:05:14.167Z"
   },
   {
    "duration": 24,
    "start_time": "2022-04-19T17:05:15.007Z"
   },
   {
    "duration": 25,
    "start_time": "2022-04-19T17:06:14.384Z"
   },
   {
    "duration": 9,
    "start_time": "2022-04-19T17:07:16.159Z"
   },
   {
    "duration": 8,
    "start_time": "2022-04-19T17:07:21.946Z"
   },
   {
    "duration": 15,
    "start_time": "2022-04-19T17:07:45.802Z"
   },
   {
    "duration": 386,
    "start_time": "2022-04-19T17:13:57.697Z"
   },
   {
    "duration": 71,
    "start_time": "2022-04-19T17:13:58.127Z"
   },
   {
    "duration": 22,
    "start_time": "2022-04-19T17:13:59.159Z"
   },
   {
    "duration": 19,
    "start_time": "2022-04-19T17:14:01.292Z"
   },
   {
    "duration": 12,
    "start_time": "2022-04-19T17:14:08.605Z"
   },
   {
    "duration": 23,
    "start_time": "2022-04-19T17:14:13.779Z"
   },
   {
    "duration": 5,
    "start_time": "2022-04-19T17:14:19.149Z"
   },
   {
    "duration": 12,
    "start_time": "2022-04-19T17:14:26.918Z"
   },
   {
    "duration": 8,
    "start_time": "2022-04-19T17:14:30.925Z"
   },
   {
    "duration": 5,
    "start_time": "2022-04-19T17:16:02.869Z"
   },
   {
    "duration": 21,
    "start_time": "2022-04-19T17:16:11.589Z"
   },
   {
    "duration": 9,
    "start_time": "2022-04-19T17:16:51.632Z"
   },
   {
    "duration": 6,
    "start_time": "2022-04-19T17:17:02.448Z"
   },
   {
    "duration": 6,
    "start_time": "2022-04-19T17:17:43.365Z"
   },
   {
    "duration": 18,
    "start_time": "2022-04-19T17:18:41.483Z"
   },
   {
    "duration": 417,
    "start_time": "2022-04-19T18:47:05.845Z"
   },
   {
    "duration": 65,
    "start_time": "2022-04-19T18:47:07.693Z"
   },
   {
    "duration": 22,
    "start_time": "2022-04-19T18:47:10.584Z"
   },
   {
    "duration": 18,
    "start_time": "2022-04-19T18:47:27.689Z"
   },
   {
    "duration": 11,
    "start_time": "2022-04-19T18:48:10.869Z"
   },
   {
    "duration": 23,
    "start_time": "2022-04-19T18:48:35.818Z"
   },
   {
    "duration": 5,
    "start_time": "2022-04-19T18:49:28.588Z"
   },
   {
    "duration": 11,
    "start_time": "2022-04-19T18:49:40.972Z"
   },
   {
    "duration": 7,
    "start_time": "2022-04-19T18:49:59.112Z"
   },
   {
    "duration": 14,
    "start_time": "2022-04-19T18:50:17.975Z"
   },
   {
    "duration": 19,
    "start_time": "2022-04-19T18:50:30.198Z"
   },
   {
    "duration": 4,
    "start_time": "2022-04-19T18:52:01.343Z"
   },
   {
    "duration": 179,
    "start_time": "2022-04-19T18:52:45.806Z"
   },
   {
    "duration": 4,
    "start_time": "2022-04-19T18:53:29.781Z"
   },
   {
    "duration": 4,
    "start_time": "2022-04-19T18:54:12.867Z"
   },
   {
    "duration": 4,
    "start_time": "2022-04-19T18:54:24.595Z"
   },
   {
    "duration": 5,
    "start_time": "2022-04-19T18:56:01.818Z"
   },
   {
    "duration": 22,
    "start_time": "2022-04-19T18:56:09.391Z"
   },
   {
    "duration": 7,
    "start_time": "2022-04-19T18:57:01.214Z"
   },
   {
    "duration": 8,
    "start_time": "2022-04-19T18:57:18.364Z"
   },
   {
    "duration": 29,
    "start_time": "2022-04-19T18:57:20.904Z"
   },
   {
    "duration": 7,
    "start_time": "2022-04-19T18:59:36.861Z"
   },
   {
    "duration": 23,
    "start_time": "2022-04-19T18:59:56.121Z"
   },
   {
    "duration": 5,
    "start_time": "2022-04-19T19:00:08.960Z"
   },
   {
    "duration": 12,
    "start_time": "2022-04-19T19:00:10.033Z"
   },
   {
    "duration": 23,
    "start_time": "2022-04-19T19:00:19.314Z"
   },
   {
    "duration": 17,
    "start_time": "2022-04-19T19:00:29.674Z"
   },
   {
    "duration": 4,
    "start_time": "2022-04-19T19:00:55.466Z"
   },
   {
    "duration": 17,
    "start_time": "2022-04-19T19:00:57.171Z"
   },
   {
    "duration": 6,
    "start_time": "2022-04-19T19:02:00.881Z"
   },
   {
    "duration": 11,
    "start_time": "2022-04-19T19:02:47.868Z"
   },
   {
    "duration": 9,
    "start_time": "2022-04-19T19:02:52.210Z"
   },
   {
    "duration": 5,
    "start_time": "2022-04-19T19:03:38.193Z"
   },
   {
    "duration": 4,
    "start_time": "2022-04-19T19:03:40.312Z"
   },
   {
    "duration": 19,
    "start_time": "2022-04-19T19:03:40.319Z"
   },
   {
    "duration": 14,
    "start_time": "2022-04-19T19:03:43.218Z"
   },
   {
    "duration": 27,
    "start_time": "2022-04-19T19:03:54.922Z"
   },
   {
    "duration": 26,
    "start_time": "2022-04-19T19:03:56.516Z"
   },
   {
    "duration": 18,
    "start_time": "2022-04-19T19:04:00.513Z"
   },
   {
    "duration": 26,
    "start_time": "2022-04-19T19:04:04.409Z"
   },
   {
    "duration": 30,
    "start_time": "2022-04-19T19:04:05.215Z"
   },
   {
    "duration": 8,
    "start_time": "2022-04-19T19:04:08.254Z"
   },
   {
    "duration": 7,
    "start_time": "2022-04-19T19:04:09.276Z"
   },
   {
    "duration": 9,
    "start_time": "2022-04-19T19:04:10.085Z"
   },
   {
    "duration": 9,
    "start_time": "2022-04-19T19:04:12.072Z"
   },
   {
    "duration": 18,
    "start_time": "2022-04-19T19:04:13.644Z"
   },
   {
    "duration": 15,
    "start_time": "2022-04-19T19:04:17.369Z"
   },
   {
    "duration": 21,
    "start_time": "2022-04-19T19:04:27.642Z"
   },
   {
    "duration": 28,
    "start_time": "2022-04-19T19:04:28.258Z"
   },
   {
    "duration": 7,
    "start_time": "2022-04-19T19:04:29.187Z"
   },
   {
    "duration": 8,
    "start_time": "2022-04-19T19:04:30.233Z"
   },
   {
    "duration": 8,
    "start_time": "2022-04-19T19:04:31.471Z"
   },
   {
    "duration": 8,
    "start_time": "2022-04-19T19:04:34.000Z"
   },
   {
    "duration": 15,
    "start_time": "2022-04-19T19:04:35.631Z"
   },
   {
    "duration": 10,
    "start_time": "2022-04-19T19:04:38.593Z"
   },
   {
    "duration": 26,
    "start_time": "2022-04-19T19:04:41.105Z"
   },
   {
    "duration": 8,
    "start_time": "2022-04-19T19:05:04.526Z"
   },
   {
    "duration": 26,
    "start_time": "2022-04-19T19:05:05.776Z"
   },
   {
    "duration": 16,
    "start_time": "2022-04-19T19:05:22.299Z"
   },
   {
    "duration": 4,
    "start_time": "2022-04-19T19:05:24.468Z"
   },
   {
    "duration": 24,
    "start_time": "2022-04-19T19:05:28.834Z"
   },
   {
    "duration": 15,
    "start_time": "2022-04-19T19:05:31.388Z"
   },
   {
    "duration": 457,
    "start_time": "2022-04-19T19:05:54.627Z"
   },
   {
    "duration": 86,
    "start_time": "2022-04-19T19:05:55.204Z"
   },
   {
    "duration": 25,
    "start_time": "2022-04-19T19:05:55.851Z"
   },
   {
    "duration": 18,
    "start_time": "2022-04-19T19:05:59.813Z"
   },
   {
    "duration": 12,
    "start_time": "2022-04-19T19:06:10.822Z"
   },
   {
    "duration": 24,
    "start_time": "2022-04-19T19:06:17.769Z"
   },
   {
    "duration": 5,
    "start_time": "2022-04-19T19:06:23.975Z"
   },
   {
    "duration": 12,
    "start_time": "2022-04-19T19:06:28.118Z"
   },
   {
    "duration": 8,
    "start_time": "2022-04-19T19:06:32.949Z"
   },
   {
    "duration": 15,
    "start_time": "2022-04-19T19:06:36.091Z"
   },
   {
    "duration": 8,
    "start_time": "2022-04-19T19:06:41.835Z"
   },
   {
    "duration": 5,
    "start_time": "2022-04-19T19:06:46.301Z"
   },
   {
    "duration": 4,
    "start_time": "2022-04-19T19:06:52.114Z"
   },
   {
    "duration": 6,
    "start_time": "2022-04-19T19:06:58.882Z"
   },
   {
    "duration": 33,
    "start_time": "2022-04-19T19:07:01.614Z"
   },
   {
    "duration": 6,
    "start_time": "2022-04-19T19:07:04.952Z"
   },
   {
    "duration": 7,
    "start_time": "2022-04-19T19:07:09.250Z"
   },
   {
    "duration": 27,
    "start_time": "2022-04-19T19:07:11.622Z"
   },
   {
    "duration": 7,
    "start_time": "2022-04-19T19:07:12.863Z"
   },
   {
    "duration": 6,
    "start_time": "2022-04-19T19:07:15.204Z"
   },
   {
    "duration": 13,
    "start_time": "2022-04-19T19:07:17.259Z"
   },
   {
    "duration": 17,
    "start_time": "2022-04-19T19:07:18.617Z"
   },
   {
    "duration": 5,
    "start_time": "2022-04-19T19:07:21.534Z"
   },
   {
    "duration": 18,
    "start_time": "2022-04-19T19:07:24.450Z"
   },
   {
    "duration": 7,
    "start_time": "2022-04-19T19:07:27.252Z"
   },
   {
    "duration": 10,
    "start_time": "2022-04-19T19:07:29.794Z"
   },
   {
    "duration": 11,
    "start_time": "2022-04-19T19:07:30.619Z"
   },
   {
    "duration": 5,
    "start_time": "2022-04-19T19:07:32.069Z"
   },
   {
    "duration": 15,
    "start_time": "2022-04-19T19:07:33.768Z"
   },
   {
    "duration": 13,
    "start_time": "2022-04-19T19:07:35.950Z"
   },
   {
    "duration": 18,
    "start_time": "2022-04-19T19:08:00.421Z"
   },
   {
    "duration": 16,
    "start_time": "2022-04-19T19:08:16.977Z"
   },
   {
    "duration": 409,
    "start_time": "2022-04-19T19:08:27.576Z"
   },
   {
    "duration": 73,
    "start_time": "2022-04-19T19:08:27.988Z"
   },
   {
    "duration": 23,
    "start_time": "2022-04-19T19:08:28.063Z"
   },
   {
    "duration": 17,
    "start_time": "2022-04-19T19:08:28.107Z"
   },
   {
    "duration": 18,
    "start_time": "2022-04-19T19:08:29.000Z"
   },
   {
    "duration": 29,
    "start_time": "2022-04-19T19:08:29.735Z"
   },
   {
    "duration": 5,
    "start_time": "2022-04-19T19:08:30.483Z"
   },
   {
    "duration": 16,
    "start_time": "2022-04-19T19:08:30.850Z"
   },
   {
    "duration": 10,
    "start_time": "2022-04-19T19:08:31.400Z"
   },
   {
    "duration": 15,
    "start_time": "2022-04-19T19:08:31.774Z"
   },
   {
    "duration": 9,
    "start_time": "2022-04-19T19:08:32.140Z"
   },
   {
    "duration": 6,
    "start_time": "2022-04-19T19:08:33.050Z"
   },
   {
    "duration": 4,
    "start_time": "2022-04-19T19:08:33.456Z"
   },
   {
    "duration": 6,
    "start_time": "2022-04-19T19:08:33.999Z"
   },
   {
    "duration": 35,
    "start_time": "2022-04-19T19:08:34.206Z"
   },
   {
    "duration": 7,
    "start_time": "2022-04-19T19:08:34.388Z"
   },
   {
    "duration": 6,
    "start_time": "2022-04-19T19:08:34.789Z"
   },
   {
    "duration": 29,
    "start_time": "2022-04-19T19:08:35.022Z"
   },
   {
    "duration": 6,
    "start_time": "2022-04-19T19:08:35.408Z"
   },
   {
    "duration": 5,
    "start_time": "2022-04-19T19:08:36.970Z"
   },
   {
    "duration": 16,
    "start_time": "2022-04-19T19:08:37.163Z"
   },
   {
    "duration": 17,
    "start_time": "2022-04-19T19:08:37.352Z"
   },
   {
    "duration": 23,
    "start_time": "2022-04-19T19:08:37.578Z"
   },
   {
    "duration": 8,
    "start_time": "2022-04-19T19:08:39.342Z"
   },
   {
    "duration": 9,
    "start_time": "2022-04-19T19:08:39.580Z"
   },
   {
    "duration": 17,
    "start_time": "2022-04-19T19:08:40.582Z"
   },
   {
    "duration": 5,
    "start_time": "2022-04-19T19:08:41.050Z"
   },
   {
    "duration": 24,
    "start_time": "2022-04-19T19:08:42.004Z"
   },
   {
    "duration": 18,
    "start_time": "2022-04-19T19:08:42.223Z"
   },
   {
    "duration": 27,
    "start_time": "2022-04-19T19:08:45.034Z"
   },
   {
    "duration": 24,
    "start_time": "2022-04-19T19:08:46.220Z"
   },
   {
    "duration": 15,
    "start_time": "2022-04-19T19:08:50.270Z"
   },
   {
    "duration": 31,
    "start_time": "2022-04-19T19:08:52.582Z"
   },
   {
    "duration": 25,
    "start_time": "2022-04-19T19:08:53.737Z"
   },
   {
    "duration": 6,
    "start_time": "2022-04-19T19:08:55.970Z"
   },
   {
    "duration": 7,
    "start_time": "2022-04-19T19:08:58.309Z"
   },
   {
    "duration": 9,
    "start_time": "2022-04-19T19:09:00.037Z"
   },
   {
    "duration": 8,
    "start_time": "2022-04-19T19:09:04.658Z"
   },
   {
    "duration": 20,
    "start_time": "2022-04-19T19:09:09.387Z"
   },
   {
    "duration": 8,
    "start_time": "2022-04-19T19:09:24.304Z"
   },
   {
    "duration": 29,
    "start_time": "2022-04-19T19:09:25.796Z"
   },
   {
    "duration": 18,
    "start_time": "2022-04-19T19:09:30.681Z"
   },
   {
    "duration": 21,
    "start_time": "2022-04-19T19:09:31.575Z"
   },
   {
    "duration": 14,
    "start_time": "2022-04-19T19:09:36.096Z"
   },
   {
    "duration": 7,
    "start_time": "2022-04-19T19:09:37.315Z"
   },
   {
    "duration": 19,
    "start_time": "2022-04-19T19:09:38.192Z"
   },
   {
    "duration": 6,
    "start_time": "2022-04-19T19:09:52.087Z"
   },
   {
    "duration": 25,
    "start_time": "2022-04-19T19:09:53.235Z"
   },
   {
    "duration": 10,
    "start_time": "2022-04-19T19:09:56.329Z"
   },
   {
    "duration": 31,
    "start_time": "2022-04-19T19:09:58.606Z"
   },
   {
    "duration": 452,
    "start_time": "2022-04-19T19:10:47.018Z"
   },
   {
    "duration": 89,
    "start_time": "2022-04-19T19:10:47.472Z"
   },
   {
    "duration": 24,
    "start_time": "2022-04-19T19:10:47.563Z"
   },
   {
    "duration": 17,
    "start_time": "2022-04-19T19:10:47.589Z"
   },
   {
    "duration": 12,
    "start_time": "2022-04-19T19:10:48.419Z"
   },
   {
    "duration": 23,
    "start_time": "2022-04-19T19:10:49.166Z"
   },
   {
    "duration": 6,
    "start_time": "2022-04-19T19:10:49.958Z"
   },
   {
    "duration": 27,
    "start_time": "2022-04-19T19:10:50.333Z"
   },
   {
    "duration": 10,
    "start_time": "2022-04-19T19:10:50.951Z"
   },
   {
    "duration": 18,
    "start_time": "2022-04-19T19:10:51.319Z"
   },
   {
    "duration": 4,
    "start_time": "2022-04-19T19:10:51.698Z"
   },
   {
    "duration": 5,
    "start_time": "2022-04-19T19:10:52.299Z"
   },
   {
    "duration": 4,
    "start_time": "2022-04-19T19:10:52.717Z"
   },
   {
    "duration": 5,
    "start_time": "2022-04-19T19:10:53.364Z"
   },
   {
    "duration": 23,
    "start_time": "2022-04-19T19:10:53.906Z"
   },
   {
    "duration": 6,
    "start_time": "2022-04-19T19:10:54.923Z"
   },
   {
    "duration": 8,
    "start_time": "2022-04-19T19:10:56.258Z"
   },
   {
    "duration": 37,
    "start_time": "2022-04-19T19:10:57.129Z"
   },
   {
    "duration": 8,
    "start_time": "2022-04-19T19:10:58.158Z"
   },
   {
    "duration": 6,
    "start_time": "2022-04-19T19:10:59.758Z"
   },
   {
    "duration": 17,
    "start_time": "2022-04-19T19:10:59.930Z"
   },
   {
    "duration": 18,
    "start_time": "2022-04-19T19:11:00.158Z"
   },
   {
    "duration": 16,
    "start_time": "2022-04-19T19:11:00.362Z"
   },
   {
    "duration": 7,
    "start_time": "2022-04-19T19:11:01.315Z"
   },
   {
    "duration": 12,
    "start_time": "2022-04-19T19:11:02.227Z"
   },
   {
    "duration": 13,
    "start_time": "2022-04-19T19:11:02.758Z"
   },
   {
    "duration": 6,
    "start_time": "2022-04-19T19:11:04.758Z"
   },
   {
    "duration": 25,
    "start_time": "2022-04-19T19:11:05.401Z"
   },
   {
    "duration": 13,
    "start_time": "2022-04-19T19:11:07.314Z"
   },
   {
    "duration": 21,
    "start_time": "2022-04-19T19:12:06.504Z"
   },
   {
    "duration": 29,
    "start_time": "2022-04-19T19:12:07.634Z"
   },
   {
    "duration": 20,
    "start_time": "2022-04-19T19:12:08.731Z"
   },
   {
    "duration": 19,
    "start_time": "2022-04-19T19:12:12.802Z"
   },
   {
    "duration": 20,
    "start_time": "2022-04-19T19:12:14.212Z"
   },
   {
    "duration": 6,
    "start_time": "2022-04-19T19:12:16.608Z"
   },
   {
    "duration": 6,
    "start_time": "2022-04-19T19:12:17.614Z"
   },
   {
    "duration": 6,
    "start_time": "2022-04-19T19:12:19.822Z"
   },
   {
    "duration": 21,
    "start_time": "2022-04-19T19:12:55.852Z"
   },
   {
    "duration": 123,
    "start_time": "2022-04-19T19:13:47.849Z"
   },
   {
    "duration": 14,
    "start_time": "2022-04-19T19:15:08.306Z"
   },
   {
    "duration": 1868,
    "start_time": "2022-04-19T19:15:46.665Z"
   },
   {
    "duration": 20,
    "start_time": "2022-04-19T19:16:08.830Z"
   },
   {
    "duration": 14,
    "start_time": "2022-04-19T19:17:04.600Z"
   },
   {
    "duration": 21,
    "start_time": "2022-04-19T19:17:18.597Z"
   },
   {
    "duration": 14,
    "start_time": "2022-04-19T19:19:03.524Z"
   },
   {
    "duration": 17,
    "start_time": "2022-04-19T19:19:40.179Z"
   },
   {
    "duration": 844,
    "start_time": "2022-04-19T19:20:01.685Z"
   },
   {
    "duration": 90,
    "start_time": "2022-04-19T19:20:02.531Z"
   },
   {
    "duration": 29,
    "start_time": "2022-04-19T19:20:02.623Z"
   },
   {
    "duration": 34,
    "start_time": "2022-04-19T19:20:02.655Z"
   },
   {
    "duration": 12,
    "start_time": "2022-04-19T19:20:04.059Z"
   },
   {
    "duration": 32,
    "start_time": "2022-04-19T19:20:08.726Z"
   },
   {
    "duration": 7,
    "start_time": "2022-04-19T19:20:14.563Z"
   },
   {
    "duration": 10,
    "start_time": "2022-04-19T19:20:16.191Z"
   },
   {
    "duration": 8,
    "start_time": "2022-04-19T19:20:20.958Z"
   },
   {
    "duration": 15,
    "start_time": "2022-04-19T19:20:25.097Z"
   },
   {
    "duration": 3,
    "start_time": "2022-04-19T19:20:25.495Z"
   },
   {
    "duration": 7,
    "start_time": "2022-04-19T19:20:28.805Z"
   },
   {
    "duration": 4,
    "start_time": "2022-04-19T19:20:29.217Z"
   },
   {
    "duration": 6,
    "start_time": "2022-04-19T19:20:31.593Z"
   },
   {
    "duration": 27,
    "start_time": "2022-04-19T19:20:34.569Z"
   },
   {
    "duration": 5,
    "start_time": "2022-04-19T19:20:36.928Z"
   },
   {
    "duration": 7,
    "start_time": "2022-04-19T19:20:37.328Z"
   },
   {
    "duration": 28,
    "start_time": "2022-04-19T19:20:39.359Z"
   },
   {
    "duration": 8,
    "start_time": "2022-04-19T19:20:43.209Z"
   },
   {
    "duration": 6,
    "start_time": "2022-04-19T19:20:44.663Z"
   },
   {
    "duration": 13,
    "start_time": "2022-04-19T19:20:46.992Z"
   },
   {
    "duration": 18,
    "start_time": "2022-04-19T19:20:47.158Z"
   },
   {
    "duration": 28,
    "start_time": "2022-04-19T19:20:47.406Z"
   },
   {
    "duration": 7,
    "start_time": "2022-04-19T19:20:52.120Z"
   },
   {
    "duration": 10,
    "start_time": "2022-04-19T19:20:52.295Z"
   },
   {
    "duration": 33,
    "start_time": "2022-04-19T19:20:52.529Z"
   },
   {
    "duration": 5,
    "start_time": "2022-04-19T19:20:55.314Z"
   },
   {
    "duration": 16,
    "start_time": "2022-04-19T19:20:57.973Z"
   },
   {
    "duration": 25,
    "start_time": "2022-04-19T19:20:58.171Z"
   },
   {
    "duration": 20,
    "start_time": "2022-04-19T19:21:00.874Z"
   },
   {
    "duration": 30,
    "start_time": "2022-04-19T19:21:01.659Z"
   },
   {
    "duration": 14,
    "start_time": "2022-04-19T19:21:05.304Z"
   },
   {
    "duration": 20,
    "start_time": "2022-04-19T19:21:09.677Z"
   },
   {
    "duration": 21,
    "start_time": "2022-04-19T19:21:10.494Z"
   },
   {
    "duration": 5,
    "start_time": "2022-04-19T19:21:11.595Z"
   },
   {
    "duration": 12,
    "start_time": "2022-04-19T19:21:14.537Z"
   },
   {
    "duration": 9,
    "start_time": "2022-04-19T19:21:15.855Z"
   },
   {
    "duration": 9,
    "start_time": "2022-04-19T19:21:18.805Z"
   },
   {
    "duration": 14,
    "start_time": "2022-04-19T19:21:19.809Z"
   },
   {
    "duration": 12,
    "start_time": "2022-04-19T19:21:30.379Z"
   },
   {
    "duration": 18,
    "start_time": "2022-04-19T19:21:35.055Z"
   },
   {
    "duration": 14,
    "start_time": "2022-04-19T19:23:08.976Z"
   },
   {
    "duration": 19,
    "start_time": "2022-04-19T19:24:40.551Z"
   },
   {
    "duration": 28,
    "start_time": "2022-04-19T19:26:31.531Z"
   },
   {
    "duration": 23,
    "start_time": "2022-04-19T19:30:07.223Z"
   },
   {
    "duration": 21,
    "start_time": "2022-04-19T19:30:14.947Z"
   },
   {
    "duration": 7,
    "start_time": "2022-04-19T19:30:36.104Z"
   },
   {
    "duration": 37,
    "start_time": "2022-04-19T19:31:02.023Z"
   },
   {
    "duration": 26,
    "start_time": "2022-04-19T19:31:09.155Z"
   },
   {
    "duration": 48,
    "start_time": "2022-04-19T19:31:21.372Z"
   },
   {
    "duration": 36,
    "start_time": "2022-04-19T19:31:40.280Z"
   },
   {
    "duration": 31,
    "start_time": "2022-04-19T19:31:52.859Z"
   },
   {
    "duration": 386,
    "start_time": "2022-04-19T23:18:59.785Z"
   },
   {
    "duration": 73,
    "start_time": "2022-04-19T23:19:12.893Z"
   },
   {
    "duration": 23,
    "start_time": "2022-04-19T23:19:21.645Z"
   },
   {
    "duration": 18,
    "start_time": "2022-04-19T23:19:59.748Z"
   },
   {
    "duration": 11,
    "start_time": "2022-04-19T23:20:33.090Z"
   },
   {
    "duration": 25,
    "start_time": "2022-04-19T23:21:28.673Z"
   },
   {
    "duration": 5,
    "start_time": "2022-04-19T23:21:47.873Z"
   },
   {
    "duration": 11,
    "start_time": "2022-04-19T23:22:47.655Z"
   },
   {
    "duration": 8,
    "start_time": "2022-04-19T23:23:09.203Z"
   },
   {
    "duration": 23,
    "start_time": "2022-04-19T23:23:17.461Z"
   },
   {
    "duration": 4,
    "start_time": "2022-04-19T23:24:14.769Z"
   },
   {
    "duration": 4,
    "start_time": "2022-04-19T23:37:51.577Z"
   },
   {
    "duration": 3,
    "start_time": "2022-04-19T23:38:06.899Z"
   },
   {
    "duration": 5,
    "start_time": "2022-04-19T23:39:02.625Z"
   },
   {
    "duration": 5,
    "start_time": "2022-04-19T23:40:11.154Z"
   },
   {
    "duration": 15,
    "start_time": "2022-04-19T23:41:01.454Z"
   },
   {
    "duration": 5,
    "start_time": "2022-04-19T23:43:24.621Z"
   },
   {
    "duration": 7,
    "start_time": "2022-04-19T23:49:02.721Z"
   },
   {
    "duration": 14,
    "start_time": "2022-04-19T23:49:51.555Z"
   },
   {
    "duration": 6,
    "start_time": "2022-04-19T23:53:10.350Z"
   },
   {
    "duration": 15,
    "start_time": "2022-04-19T23:53:11.047Z"
   },
   {
    "duration": 6,
    "start_time": "2022-04-19T23:53:16.578Z"
   },
   {
    "duration": 14,
    "start_time": "2022-04-19T23:53:55.223Z"
   },
   {
    "duration": 15,
    "start_time": "2022-04-19T23:54:52.898Z"
   },
   {
    "duration": 16,
    "start_time": "2022-04-19T23:54:58.064Z"
   },
   {
    "duration": 4,
    "start_time": "2022-04-19T23:56:26.026Z"
   },
   {
    "duration": 12,
    "start_time": "2022-04-19T23:57:00.124Z"
   },
   {
    "duration": 6,
    "start_time": "2022-04-20T00:01:13.713Z"
   },
   {
    "duration": 64,
    "start_time": "2022-04-20T00:06:54.131Z"
   },
   {
    "duration": 4,
    "start_time": "2022-04-20T00:07:47.901Z"
   },
   {
    "duration": 4,
    "start_time": "2022-04-20T00:08:10.353Z"
   },
   {
    "duration": 6,
    "start_time": "2022-04-20T00:08:44.510Z"
   },
   {
    "duration": 6,
    "start_time": "2022-04-20T00:09:09.995Z"
   },
   {
    "duration": 7,
    "start_time": "2022-04-20T00:10:45.751Z"
   },
   {
    "duration": 4,
    "start_time": "2022-04-20T00:16:09.099Z"
   },
   {
    "duration": 16,
    "start_time": "2022-04-20T00:16:31.870Z"
   },
   {
    "duration": 19,
    "start_time": "2022-04-20T00:18:13.881Z"
   },
   {
    "duration": 17,
    "start_time": "2022-04-20T00:18:43.011Z"
   },
   {
    "duration": 20,
    "start_time": "2022-04-20T00:19:23.093Z"
   },
   {
    "duration": 10,
    "start_time": "2022-04-20T00:20:48.684Z"
   },
   {
    "duration": 17,
    "start_time": "2022-04-20T00:21:12.178Z"
   },
   {
    "duration": 14,
    "start_time": "2022-04-20T00:21:45.680Z"
   },
   {
    "duration": 17,
    "start_time": "2022-04-20T00:23:49.250Z"
   },
   {
    "duration": 19,
    "start_time": "2022-04-20T00:24:13.882Z"
   },
   {
    "duration": 6,
    "start_time": "2022-04-20T00:27:49.533Z"
   },
   {
    "duration": 6,
    "start_time": "2022-04-20T00:28:02.704Z"
   },
   {
    "duration": 6,
    "start_time": "2022-04-20T00:28:14.836Z"
   },
   {
    "duration": 11,
    "start_time": "2022-04-20T00:29:29.810Z"
   },
   {
    "duration": 5,
    "start_time": "2022-04-20T00:29:46.459Z"
   },
   {
    "duration": 12,
    "start_time": "2022-04-20T00:29:51.126Z"
   },
   {
    "duration": 5,
    "start_time": "2022-04-20T00:29:51.920Z"
   },
   {
    "duration": 5,
    "start_time": "2022-04-20T00:29:57.320Z"
   },
   {
    "duration": 12,
    "start_time": "2022-04-20T00:30:01.755Z"
   },
   {
    "duration": 5,
    "start_time": "2022-04-20T00:30:02.651Z"
   },
   {
    "duration": 11,
    "start_time": "2022-04-20T00:30:15.146Z"
   },
   {
    "duration": 5,
    "start_time": "2022-04-20T00:30:39.590Z"
   },
   {
    "duration": 19,
    "start_time": "2022-04-20T00:30:43.042Z"
   },
   {
    "duration": 5,
    "start_time": "2022-04-20T00:30:49.591Z"
   },
   {
    "duration": 5,
    "start_time": "2022-04-20T00:30:50.788Z"
   },
   {
    "duration": 5,
    "start_time": "2022-04-20T00:30:53.362Z"
   },
   {
    "duration": 6,
    "start_time": "2022-04-20T00:30:55.885Z"
   },
   {
    "duration": 12,
    "start_time": "2022-04-20T00:31:04.353Z"
   },
   {
    "duration": 5,
    "start_time": "2022-04-20T00:31:05.562Z"
   },
   {
    "duration": 14,
    "start_time": "2022-04-20T00:31:22.120Z"
   },
   {
    "duration": 5,
    "start_time": "2022-04-20T00:31:25.776Z"
   },
   {
    "duration": 12,
    "start_time": "2022-04-20T00:31:33.658Z"
   },
   {
    "duration": 6,
    "start_time": "2022-04-20T00:31:39.553Z"
   },
   {
    "duration": 11,
    "start_time": "2022-04-20T00:31:58.701Z"
   },
   {
    "duration": 12,
    "start_time": "2022-04-20T00:32:40.574Z"
   },
   {
    "duration": 7,
    "start_time": "2022-04-20T00:32:41.789Z"
   },
   {
    "duration": 20,
    "start_time": "2022-04-20T00:33:46.859Z"
   },
   {
    "duration": 22,
    "start_time": "2022-04-20T00:34:27.373Z"
   },
   {
    "duration": 20,
    "start_time": "2022-04-20T00:34:49.989Z"
   },
   {
    "duration": 146,
    "start_time": "2022-04-20T00:43:09.930Z"
   },
   {
    "duration": 12,
    "start_time": "2022-04-20T00:44:31.138Z"
   },
   {
    "duration": 7,
    "start_time": "2022-04-20T00:45:51.339Z"
   },
   {
    "duration": 7,
    "start_time": "2022-04-20T00:46:07.719Z"
   },
   {
    "duration": 10,
    "start_time": "2022-04-20T00:47:17.418Z"
   },
   {
    "duration": 6,
    "start_time": "2022-04-20T00:47:29.987Z"
   },
   {
    "duration": 7,
    "start_time": "2022-04-20T00:47:45.174Z"
   },
   {
    "duration": 5,
    "start_time": "2022-04-20T00:50:08.312Z"
   },
   {
    "duration": 5,
    "start_time": "2022-04-20T00:50:24.886Z"
   },
   {
    "duration": 16,
    "start_time": "2022-04-20T00:50:52.451Z"
   },
   {
    "duration": 4,
    "start_time": "2022-04-20T00:58:24.928Z"
   },
   {
    "duration": 4,
    "start_time": "2022-04-20T00:59:15.816Z"
   },
   {
    "duration": 10,
    "start_time": "2022-04-20T00:59:38.582Z"
   },
   {
    "duration": 6,
    "start_time": "2022-04-20T01:00:06.481Z"
   },
   {
    "duration": 12,
    "start_time": "2022-04-20T01:00:20.345Z"
   },
   {
    "duration": 6,
    "start_time": "2022-04-20T01:03:13.233Z"
   },
   {
    "duration": 4,
    "start_time": "2022-04-20T01:04:59.766Z"
   },
   {
    "duration": 3,
    "start_time": "2022-04-20T01:05:26.200Z"
   },
   {
    "duration": 12,
    "start_time": "2022-04-20T01:05:59.067Z"
   },
   {
    "duration": 13,
    "start_time": "2022-04-20T01:06:30.750Z"
   },
   {
    "duration": 18,
    "start_time": "2022-04-20T01:15:05.487Z"
   },
   {
    "duration": 17,
    "start_time": "2022-04-20T01:15:42.583Z"
   },
   {
    "duration": 15,
    "start_time": "2022-04-20T01:16:13.647Z"
   },
   {
    "duration": 18,
    "start_time": "2022-04-20T01:16:53.496Z"
   },
   {
    "duration": 15,
    "start_time": "2022-04-20T01:17:07.490Z"
   },
   {
    "duration": 16,
    "start_time": "2022-04-20T01:17:50.361Z"
   },
   {
    "duration": 14,
    "start_time": "2022-04-20T01:17:50.954Z"
   },
   {
    "duration": 15,
    "start_time": "2022-04-20T01:20:14.135Z"
   },
   {
    "duration": 14,
    "start_time": "2022-04-20T01:20:21.440Z"
   },
   {
    "duration": 15,
    "start_time": "2022-04-20T01:24:21.595Z"
   },
   {
    "duration": 14,
    "start_time": "2022-04-20T01:25:22.091Z"
   },
   {
    "duration": 13,
    "start_time": "2022-04-20T01:25:39.726Z"
   },
   {
    "duration": 8,
    "start_time": "2022-04-20T01:25:51.686Z"
   },
   {
    "duration": 18,
    "start_time": "2022-04-20T01:26:24.701Z"
   },
   {
    "duration": 12,
    "start_time": "2022-04-20T01:26:25.326Z"
   },
   {
    "duration": 19,
    "start_time": "2022-04-20T01:27:00.459Z"
   },
   {
    "duration": 5,
    "start_time": "2022-04-20T01:27:00.970Z"
   },
   {
    "duration": 12,
    "start_time": "2022-04-20T01:27:45.659Z"
   },
   {
    "duration": 7,
    "start_time": "2022-04-20T01:27:46.324Z"
   },
   {
    "duration": 10,
    "start_time": "2022-04-20T01:28:15.769Z"
   },
   {
    "duration": 7,
    "start_time": "2022-04-20T01:28:16.572Z"
   },
   {
    "duration": 11,
    "start_time": "2022-04-20T01:28:29.502Z"
   },
   {
    "duration": 8,
    "start_time": "2022-04-20T01:28:30.180Z"
   },
   {
    "duration": 12,
    "start_time": "2022-04-20T01:28:34.123Z"
   },
   {
    "duration": 7,
    "start_time": "2022-04-20T01:28:34.318Z"
   },
   {
    "duration": 14,
    "start_time": "2022-04-20T01:29:16.752Z"
   },
   {
    "duration": 8,
    "start_time": "2022-04-20T01:29:31.418Z"
   },
   {
    "duration": 569,
    "start_time": "2022-04-20T12:24:05.118Z"
   },
   {
    "duration": 105,
    "start_time": "2022-04-20T12:24:10.104Z"
   },
   {
    "duration": 41,
    "start_time": "2022-04-20T12:24:15.498Z"
   },
   {
    "duration": 53,
    "start_time": "2022-04-20T12:24:18.478Z"
   },
   {
    "duration": 27,
    "start_time": "2022-04-20T12:24:41.346Z"
   },
   {
    "duration": 41,
    "start_time": "2022-04-20T12:24:52.090Z"
   },
   {
    "duration": 7,
    "start_time": "2022-04-20T12:28:18.241Z"
   },
   {
    "duration": 17,
    "start_time": "2022-04-20T12:28:40.212Z"
   },
   {
    "duration": 12,
    "start_time": "2022-04-20T12:28:59.215Z"
   },
   {
    "duration": 23,
    "start_time": "2022-04-20T12:29:03.934Z"
   },
   {
    "duration": 8,
    "start_time": "2022-04-20T12:29:16.994Z"
   },
   {
    "duration": 10,
    "start_time": "2022-04-20T12:29:57.990Z"
   },
   {
    "duration": 12,
    "start_time": "2022-04-20T12:30:54.747Z"
   },
   {
    "duration": 11,
    "start_time": "2022-04-20T12:31:14.082Z"
   },
   {
    "duration": 38,
    "start_time": "2022-04-20T12:31:20.774Z"
   },
   {
    "duration": 15,
    "start_time": "2022-04-20T12:31:31.594Z"
   },
   {
    "duration": 13,
    "start_time": "2022-04-20T12:31:53.973Z"
   },
   {
    "duration": 34,
    "start_time": "2022-04-20T12:32:34.739Z"
   },
   {
    "duration": 8,
    "start_time": "2022-04-20T12:32:43.125Z"
   },
   {
    "duration": 191,
    "start_time": "2022-04-20T12:32:44.956Z"
   },
   {
    "duration": 31,
    "start_time": "2022-04-20T12:32:52.132Z"
   },
   {
    "duration": 6,
    "start_time": "2022-04-20T12:32:57.492Z"
   },
   {
    "duration": 34,
    "start_time": "2022-04-20T12:32:59.980Z"
   },
   {
    "duration": 10,
    "start_time": "2022-04-20T12:33:12.476Z"
   },
   {
    "duration": 7,
    "start_time": "2022-04-20T12:33:23.542Z"
   },
   {
    "duration": 8,
    "start_time": "2022-04-20T12:33:26.239Z"
   },
   {
    "duration": 14,
    "start_time": "2022-04-20T12:33:30.352Z"
   },
   {
    "duration": 5,
    "start_time": "2022-04-20T12:33:43.227Z"
   },
   {
    "duration": 33,
    "start_time": "2022-04-20T12:33:45.375Z"
   },
   {
    "duration": 32,
    "start_time": "2022-04-20T12:33:51.210Z"
   },
   {
    "duration": 47,
    "start_time": "2022-04-20T12:33:53.292Z"
   },
   {
    "duration": 37,
    "start_time": "2022-04-20T12:33:55.955Z"
   },
   {
    "duration": 35,
    "start_time": "2022-04-20T12:34:02.100Z"
   },
   {
    "duration": 44,
    "start_time": "2022-04-20T12:34:03.106Z"
   },
   {
    "duration": 10,
    "start_time": "2022-04-20T12:34:06.023Z"
   },
   {
    "duration": 20,
    "start_time": "2022-04-20T12:34:07.780Z"
   },
   {
    "duration": 16,
    "start_time": "2022-04-20T12:34:09.743Z"
   },
   {
    "duration": 8,
    "start_time": "2022-04-20T12:34:12.093Z"
   },
   {
    "duration": 14,
    "start_time": "2022-04-20T12:34:16.622Z"
   },
   {
    "duration": 14,
    "start_time": "2022-04-20T12:34:17.650Z"
   },
   {
    "duration": 48,
    "start_time": "2022-04-20T12:34:32.243Z"
   },
   {
    "duration": 9,
    "start_time": "2022-04-20T12:34:36.112Z"
   },
   {
    "duration": 10,
    "start_time": "2022-04-20T12:34:45.945Z"
   },
   {
    "duration": 24,
    "start_time": "2022-04-20T12:34:48.907Z"
   },
   {
    "duration": 7,
    "start_time": "2022-04-20T12:34:49.732Z"
   },
   {
    "duration": 27,
    "start_time": "2022-04-20T12:36:13.945Z"
   },
   {
    "duration": 11,
    "start_time": "2022-04-20T12:36:20.679Z"
   },
   {
    "duration": 25,
    "start_time": "2022-04-20T12:36:58.975Z"
   },
   {
    "duration": 9,
    "start_time": "2022-04-20T12:36:59.532Z"
   },
   {
    "duration": 22,
    "start_time": "2022-04-20T12:37:06.771Z"
   },
   {
    "duration": 33,
    "start_time": "2022-04-20T12:37:09.279Z"
   },
   {
    "duration": 9,
    "start_time": "2022-04-20T12:37:10.312Z"
   },
   {
    "duration": 24,
    "start_time": "2022-04-20T12:37:44.678Z"
   },
   {
    "duration": 20,
    "start_time": "2022-04-20T12:37:45.148Z"
   },
   {
    "duration": 40,
    "start_time": "2022-04-20T12:37:48.997Z"
   },
   {
    "duration": 27,
    "start_time": "2022-04-20T12:37:50.525Z"
   },
   {
    "duration": 31,
    "start_time": "2022-04-20T12:37:51.186Z"
   },
   {
    "duration": 22,
    "start_time": "2022-04-20T12:37:58.425Z"
   },
   {
    "duration": 16,
    "start_time": "2022-04-20T12:38:01.773Z"
   },
   {
    "duration": 20,
    "start_time": "2022-04-20T12:38:04.379Z"
   },
   {
    "duration": 23,
    "start_time": "2022-04-20T12:38:08.450Z"
   },
   {
    "duration": 16,
    "start_time": "2022-04-20T12:38:10.158Z"
   },
   {
    "duration": 9,
    "start_time": "2022-04-20T12:38:11.428Z"
   },
   {
    "duration": 6,
    "start_time": "2022-04-20T12:38:14.030Z"
   },
   {
    "duration": 8,
    "start_time": "2022-04-20T12:38:14.518Z"
   },
   {
    "duration": 37,
    "start_time": "2022-04-20T12:38:16.295Z"
   },
   {
    "duration": 5,
    "start_time": "2022-04-20T12:38:22.925Z"
   },
   {
    "duration": 15,
    "start_time": "2022-04-20T12:38:24.832Z"
   },
   {
    "duration": 21,
    "start_time": "2022-04-20T12:38:34.114Z"
   },
   {
    "duration": 169,
    "start_time": "2022-04-20T12:39:58.248Z"
   },
   {
    "duration": 9,
    "start_time": "2022-04-20T12:40:07.041Z"
   },
   {
    "duration": 7,
    "start_time": "2022-04-20T12:40:09.774Z"
   },
   {
    "duration": 4,
    "start_time": "2022-04-20T12:40:11.208Z"
   },
   {
    "duration": 34,
    "start_time": "2022-04-20T12:40:11.650Z"
   },
   {
    "duration": 20,
    "start_time": "2022-04-20T12:40:13.295Z"
   },
   {
    "duration": 15,
    "start_time": "2022-04-20T12:43:46.317Z"
   },
   {
    "duration": 10,
    "start_time": "2022-04-20T12:44:19.902Z"
   },
   {
    "duration": 32,
    "start_time": "2022-04-20T12:47:03.437Z"
   },
   {
    "duration": 14,
    "start_time": "2022-04-20T12:47:29.023Z"
   },
   {
    "duration": 16,
    "start_time": "2022-04-20T12:49:21.484Z"
   },
   {
    "duration": 11,
    "start_time": "2022-04-20T12:50:03.310Z"
   },
   {
    "duration": 23,
    "start_time": "2022-04-20T12:52:00.523Z"
   },
   {
    "duration": 14,
    "start_time": "2022-04-20T12:52:28.184Z"
   },
   {
    "duration": 14,
    "start_time": "2022-04-20T12:53:49.232Z"
   },
   {
    "duration": 11,
    "start_time": "2022-04-20T12:53:50.732Z"
   },
   {
    "duration": 14,
    "start_time": "2022-04-20T12:53:56.423Z"
   },
   {
    "duration": 11,
    "start_time": "2022-04-20T12:53:57.099Z"
   },
   {
    "duration": 16,
    "start_time": "2022-04-20T12:54:00.795Z"
   },
   {
    "duration": 14,
    "start_time": "2022-04-20T12:54:00.986Z"
   },
   {
    "duration": 32,
    "start_time": "2022-04-20T12:54:04.546Z"
   },
   {
    "duration": 13,
    "start_time": "2022-04-20T12:54:04.734Z"
   },
   {
    "duration": 15,
    "start_time": "2022-04-20T12:55:22.445Z"
   },
   {
    "duration": 16,
    "start_time": "2022-04-20T12:55:24.239Z"
   },
   {
    "duration": 1974,
    "start_time": "2022-04-20T12:56:18.310Z"
   },
   {
    "duration": 218,
    "start_time": "2022-04-20T12:57:49.021Z"
   },
   {
    "duration": 7,
    "start_time": "2022-04-20T12:59:27.925Z"
   },
   {
    "duration": 12,
    "start_time": "2022-04-20T12:59:38.149Z"
   },
   {
    "duration": 6,
    "start_time": "2022-04-20T12:59:45.438Z"
   },
   {
    "duration": 6,
    "start_time": "2022-04-20T12:59:56.986Z"
   },
   {
    "duration": 5,
    "start_time": "2022-04-20T13:00:03.379Z"
   },
   {
    "duration": 8,
    "start_time": "2022-04-20T13:00:43.492Z"
   },
   {
    "duration": 7,
    "start_time": "2022-04-20T13:00:54.798Z"
   },
   {
    "duration": 6,
    "start_time": "2022-04-20T13:01:02.879Z"
   },
   {
    "duration": 5,
    "start_time": "2022-04-20T13:01:12.979Z"
   },
   {
    "duration": 7,
    "start_time": "2022-04-20T14:06:58.427Z"
   },
   {
    "duration": 6,
    "start_time": "2022-04-20T14:07:08.079Z"
   },
   {
    "duration": 5,
    "start_time": "2022-04-20T14:07:30.611Z"
   },
   {
    "duration": 6,
    "start_time": "2022-04-20T14:07:39.815Z"
   },
   {
    "duration": 6,
    "start_time": "2022-04-20T14:07:51.495Z"
   },
   {
    "duration": 13,
    "start_time": "2022-04-20T14:09:53.146Z"
   },
   {
    "duration": 17,
    "start_time": "2022-04-20T14:09:59.210Z"
   },
   {
    "duration": 22,
    "start_time": "2022-04-20T14:11:01.350Z"
   },
   {
    "duration": 26,
    "start_time": "2022-04-20T14:11:20.234Z"
   },
   {
    "duration": 28,
    "start_time": "2022-04-20T14:11:31.307Z"
   },
   {
    "duration": 7,
    "start_time": "2022-04-20T14:17:48.166Z"
   },
   {
    "duration": 6,
    "start_time": "2022-04-20T14:17:48.804Z"
   },
   {
    "duration": 13,
    "start_time": "2022-04-20T14:17:49.306Z"
   },
   {
    "duration": 6,
    "start_time": "2022-04-20T14:17:49.831Z"
   },
   {
    "duration": 12,
    "start_time": "2022-04-20T15:08:00.428Z"
   },
   {
    "duration": 9,
    "start_time": "2022-04-20T15:08:43.465Z"
   },
   {
    "duration": 5,
    "start_time": "2022-04-20T15:08:57.051Z"
   },
   {
    "duration": 7,
    "start_time": "2022-04-20T15:09:18.449Z"
   },
   {
    "duration": 6,
    "start_time": "2022-04-20T15:09:32.506Z"
   },
   {
    "duration": 12,
    "start_time": "2022-04-20T15:09:48.671Z"
   },
   {
    "duration": 23,
    "start_time": "2022-04-20T15:35:10.777Z"
   },
   {
    "duration": 5,
    "start_time": "2022-04-20T15:35:34.394Z"
   },
   {
    "duration": 7,
    "start_time": "2022-04-20T15:35:45.203Z"
   },
   {
    "duration": 6,
    "start_time": "2022-04-20T15:35:57.778Z"
   },
   {
    "duration": 6,
    "start_time": "2022-04-20T15:36:10.623Z"
   },
   {
    "duration": 6,
    "start_time": "2022-04-20T15:36:20.777Z"
   },
   {
    "duration": 10,
    "start_time": "2022-04-20T15:40:09.811Z"
   },
   {
    "duration": 217,
    "start_time": "2022-04-20T15:40:10.671Z"
   },
   {
    "duration": 12,
    "start_time": "2022-04-20T15:40:55.559Z"
   },
   {
    "duration": 6,
    "start_time": "2022-04-20T15:40:55.713Z"
   },
   {
    "duration": 5,
    "start_time": "2022-04-20T15:40:56.085Z"
   },
   {
    "duration": 7,
    "start_time": "2022-04-20T15:40:56.256Z"
   },
   {
    "duration": 7,
    "start_time": "2022-04-20T15:40:58.506Z"
   },
   {
    "duration": 5,
    "start_time": "2022-04-20T16:00:39.666Z"
   },
   {
    "duration": 5,
    "start_time": "2022-04-20T16:00:57.381Z"
   },
   {
    "duration": 4,
    "start_time": "2022-04-20T16:08:56.900Z"
   },
   {
    "duration": 9,
    "start_time": "2022-04-20T16:09:05.639Z"
   },
   {
    "duration": 6,
    "start_time": "2022-04-20T16:09:15.413Z"
   },
   {
    "duration": 6,
    "start_time": "2022-04-20T16:09:28.477Z"
   },
   {
    "duration": 53,
    "start_time": "2022-04-28T13:47:30.647Z"
   },
   {
    "duration": 420,
    "start_time": "2022-04-28T14:09:40.379Z"
   },
   {
    "duration": 72,
    "start_time": "2022-04-28T14:09:40.801Z"
   },
   {
    "duration": 21,
    "start_time": "2022-04-28T14:09:40.875Z"
   },
   {
    "duration": 17,
    "start_time": "2022-04-28T14:09:40.899Z"
   },
   {
    "duration": 11,
    "start_time": "2022-04-28T14:09:40.934Z"
   },
   {
    "duration": 24,
    "start_time": "2022-04-28T14:09:40.947Z"
   },
   {
    "duration": 5,
    "start_time": "2022-04-28T14:09:40.972Z"
   },
   {
    "duration": 14,
    "start_time": "2022-04-28T14:09:40.978Z"
   },
   {
    "duration": 7,
    "start_time": "2022-04-28T14:09:40.993Z"
   },
   {
    "duration": 15,
    "start_time": "2022-04-28T14:09:41.033Z"
   },
   {
    "duration": 8,
    "start_time": "2022-04-28T14:09:41.050Z"
   },
   {
    "duration": 10,
    "start_time": "2022-04-28T14:09:41.060Z"
   },
   {
    "duration": 9,
    "start_time": "2022-04-28T14:09:41.072Z"
   },
   {
    "duration": 10,
    "start_time": "2022-04-28T14:09:41.083Z"
   },
   {
    "duration": 19,
    "start_time": "2022-04-28T14:09:41.095Z"
   },
   {
    "duration": 7,
    "start_time": "2022-04-28T14:09:41.133Z"
   },
   {
    "duration": 11,
    "start_time": "2022-04-28T14:09:41.142Z"
   },
   {
    "duration": 15,
    "start_time": "2022-04-28T14:09:41.155Z"
   },
   {
    "duration": 9,
    "start_time": "2022-04-28T14:09:41.172Z"
   },
   {
    "duration": 16,
    "start_time": "2022-04-28T14:09:41.183Z"
   },
   {
    "duration": 10,
    "start_time": "2022-04-28T14:09:41.201Z"
   },
   {
    "duration": 30,
    "start_time": "2022-04-28T14:09:41.213Z"
   },
   {
    "duration": 6,
    "start_time": "2022-04-28T14:09:41.245Z"
   },
   {
    "duration": 8,
    "start_time": "2022-04-28T14:09:41.253Z"
   },
   {
    "duration": 11,
    "start_time": "2022-04-28T14:09:41.262Z"
   },
   {
    "duration": 11,
    "start_time": "2022-04-28T14:09:41.274Z"
   },
   {
    "duration": 9,
    "start_time": "2022-04-28T14:09:41.287Z"
   },
   {
    "duration": 17,
    "start_time": "2022-04-28T14:09:41.301Z"
   },
   {
    "duration": 31,
    "start_time": "2022-04-28T14:09:41.320Z"
   },
   {
    "duration": 17,
    "start_time": "2022-04-28T14:09:41.353Z"
   },
   {
    "duration": 13,
    "start_time": "2022-04-28T14:09:41.372Z"
   },
   {
    "duration": 46,
    "start_time": "2022-04-28T14:09:41.387Z"
   },
   {
    "duration": 19,
    "start_time": "2022-04-28T14:09:41.435Z"
   },
   {
    "duration": 6,
    "start_time": "2022-04-28T14:09:41.455Z"
   },
   {
    "duration": 10,
    "start_time": "2022-04-28T14:09:41.462Z"
   },
   {
    "duration": 9,
    "start_time": "2022-04-28T14:09:41.473Z"
   },
   {
    "duration": 9,
    "start_time": "2022-04-28T14:09:41.483Z"
   },
   {
    "duration": 44,
    "start_time": "2022-04-28T14:09:41.493Z"
   },
   {
    "duration": 14,
    "start_time": "2022-04-28T14:09:41.539Z"
   },
   {
    "duration": 22,
    "start_time": "2022-04-28T14:09:41.554Z"
   },
   {
    "duration": 18,
    "start_time": "2022-04-28T14:09:41.577Z"
   },
   {
    "duration": 18,
    "start_time": "2022-04-28T14:09:41.596Z"
   },
   {
    "duration": 11,
    "start_time": "2022-04-28T14:09:41.634Z"
   },
   {
    "duration": 11,
    "start_time": "2022-04-28T14:09:41.647Z"
   },
   {
    "duration": 8,
    "start_time": "2022-04-28T14:09:41.660Z"
   },
   {
    "duration": 15,
    "start_time": "2022-04-28T14:09:41.670Z"
   },
   {
    "duration": 13,
    "start_time": "2022-04-28T14:09:41.687Z"
   },
   {
    "duration": 34,
    "start_time": "2022-04-28T14:09:41.702Z"
   },
   {
    "duration": 9,
    "start_time": "2022-04-28T14:09:41.738Z"
   },
   {
    "duration": 8,
    "start_time": "2022-04-28T14:09:41.749Z"
   },
   {
    "duration": 22,
    "start_time": "2022-04-28T14:09:41.759Z"
   },
   {
    "duration": 6,
    "start_time": "2022-04-28T14:09:41.783Z"
   },
   {
    "duration": 18,
    "start_time": "2022-04-28T14:09:41.791Z"
   },
   {
    "duration": 30,
    "start_time": "2022-04-28T14:09:41.811Z"
   },
   {
    "duration": 13,
    "start_time": "2022-04-28T14:09:41.843Z"
   },
   {
    "duration": 7,
    "start_time": "2022-04-28T14:09:41.858Z"
   },
   {
    "duration": 7,
    "start_time": "2022-04-28T14:09:41.867Z"
   },
   {
    "duration": 17,
    "start_time": "2022-04-28T14:09:41.876Z"
   },
   {
    "duration": 17,
    "start_time": "2022-04-28T14:09:41.895Z"
   },
   {
    "duration": 25,
    "start_time": "2022-04-28T14:09:41.914Z"
   },
   {
    "duration": 7,
    "start_time": "2022-04-28T14:09:41.941Z"
   },
   {
    "duration": 11,
    "start_time": "2022-04-28T14:09:41.950Z"
   },
   {
    "duration": 6,
    "start_time": "2022-04-28T14:09:41.963Z"
   },
   {
    "duration": 6,
    "start_time": "2022-04-28T14:09:41.971Z"
   },
   {
    "duration": 8,
    "start_time": "2022-04-28T14:09:41.978Z"
   },
   {
    "duration": 7,
    "start_time": "2022-04-28T14:09:41.987Z"
   },
   {
    "duration": 38,
    "start_time": "2022-04-28T14:09:41.996Z"
   },
   {
    "duration": 7,
    "start_time": "2022-04-28T14:09:42.036Z"
   },
   {
    "duration": 9,
    "start_time": "2022-04-28T14:09:42.045Z"
   },
   {
    "duration": 7,
    "start_time": "2022-04-28T14:09:42.056Z"
   },
   {
    "duration": 7,
    "start_time": "2022-04-28T14:09:42.065Z"
   },
   {
    "duration": 6,
    "start_time": "2022-04-28T14:09:42.074Z"
   },
   {
    "duration": 8,
    "start_time": "2022-04-28T14:09:42.082Z"
   },
   {
    "duration": 9,
    "start_time": "2022-04-28T14:09:42.091Z"
   },
   {
    "duration": 41,
    "start_time": "2022-04-28T14:09:42.101Z"
   },
   {
    "duration": 12,
    "start_time": "2022-04-28T14:09:42.144Z"
   },
   {
    "duration": 8,
    "start_time": "2022-04-28T14:09:42.158Z"
   },
   {
    "duration": 10,
    "start_time": "2022-04-28T14:09:42.167Z"
   },
   {
    "duration": 9,
    "start_time": "2022-04-28T14:09:42.179Z"
   },
   {
    "duration": 8,
    "start_time": "2022-04-28T14:09:42.190Z"
   },
   {
    "duration": 7,
    "start_time": "2022-04-28T14:09:42.200Z"
   },
   {
    "duration": 13,
    "start_time": "2022-04-28T14:09:42.234Z"
   },
   {
    "duration": 8,
    "start_time": "2022-04-28T14:09:42.249Z"
   },
   {
    "duration": 7,
    "start_time": "2022-04-28T14:09:42.259Z"
   },
   {
    "duration": 6,
    "start_time": "2022-04-28T14:09:42.268Z"
   },
   {
    "duration": 6,
    "start_time": "2022-04-28T14:09:42.276Z"
   },
   {
    "duration": 8,
    "start_time": "2022-04-28T14:09:42.284Z"
   },
   {
    "duration": 403,
    "start_time": "2022-05-16T13:00:01.307Z"
   },
   {
    "duration": 84,
    "start_time": "2022-05-16T13:00:01.712Z"
   },
   {
    "duration": 23,
    "start_time": "2022-05-16T13:00:02.022Z"
   },
   {
    "duration": 20,
    "start_time": "2022-05-16T13:00:05.643Z"
   },
   {
    "duration": 12,
    "start_time": "2022-05-16T13:00:13.516Z"
   },
   {
    "duration": 25,
    "start_time": "2022-05-16T13:00:19.172Z"
   },
   {
    "duration": 6,
    "start_time": "2022-05-16T13:00:25.659Z"
   },
   {
    "duration": 11,
    "start_time": "2022-05-16T13:00:29.328Z"
   },
   {
    "duration": 8,
    "start_time": "2022-05-16T13:00:35.380Z"
   },
   {
    "duration": 19,
    "start_time": "2022-05-16T13:00:36.749Z"
   },
   {
    "duration": 4,
    "start_time": "2022-05-16T13:00:44.328Z"
   },
   {
    "duration": 5,
    "start_time": "2022-05-16T13:00:52.921Z"
   },
   {
    "duration": 5,
    "start_time": "2022-05-16T13:00:53.969Z"
   },
   {
    "duration": 5,
    "start_time": "2022-05-16T13:00:55.469Z"
   },
   {
    "duration": 15,
    "start_time": "2022-05-16T13:00:59.294Z"
   },
   {
    "duration": 6,
    "start_time": "2022-05-16T13:01:03.111Z"
   },
   {
    "duration": 7,
    "start_time": "2022-05-16T13:01:11.795Z"
   },
   {
    "duration": 15,
    "start_time": "2022-05-16T13:01:15.270Z"
   },
   {
    "duration": 6,
    "start_time": "2022-05-16T13:01:26.955Z"
   },
   {
    "duration": 49,
    "start_time": "2022-05-23T11:16:16.661Z"
   },
   {
    "duration": 63,
    "start_time": "2022-05-23T11:26:18.081Z"
   },
   {
    "duration": 625,
    "start_time": "2022-05-23T11:26:25.620Z"
   },
   {
    "duration": 295,
    "start_time": "2022-05-23T11:26:26.247Z"
   },
   {
    "duration": 20,
    "start_time": "2022-05-23T11:26:26.543Z"
   },
   {
    "duration": 19,
    "start_time": "2022-05-23T11:26:26.565Z"
   },
   {
    "duration": 13,
    "start_time": "2022-05-23T11:26:26.585Z"
   },
   {
    "duration": 25,
    "start_time": "2022-05-23T11:26:26.599Z"
   },
   {
    "duration": 5,
    "start_time": "2022-05-23T11:26:26.625Z"
   },
   {
    "duration": 11,
    "start_time": "2022-05-23T11:26:26.631Z"
   },
   {
    "duration": 38,
    "start_time": "2022-05-23T11:26:26.643Z"
   },
   {
    "duration": 18,
    "start_time": "2022-05-23T11:26:26.686Z"
   },
   {
    "duration": 7,
    "start_time": "2022-05-23T11:26:26.706Z"
   },
   {
    "duration": 7,
    "start_time": "2022-05-23T11:26:26.715Z"
   },
   {
    "duration": 8,
    "start_time": "2022-05-23T11:26:26.723Z"
   },
   {
    "duration": 5,
    "start_time": "2022-05-23T11:26:26.733Z"
   },
   {
    "duration": 14,
    "start_time": "2022-05-23T11:26:26.739Z"
   },
   {
    "duration": 26,
    "start_time": "2022-05-23T11:26:26.755Z"
   },
   {
    "duration": 14,
    "start_time": "2022-05-23T11:26:26.783Z"
   },
   {
    "duration": 14,
    "start_time": "2022-05-23T11:26:26.800Z"
   },
   {
    "duration": 9,
    "start_time": "2022-05-23T11:26:26.815Z"
   },
   {
    "duration": 65,
    "start_time": "2022-05-23T11:26:26.825Z"
   },
   {
    "duration": 0,
    "start_time": "2022-05-23T11:26:26.893Z"
   },
   {
    "duration": 0,
    "start_time": "2022-05-23T11:26:26.894Z"
   },
   {
    "duration": 0,
    "start_time": "2022-05-23T11:26:26.895Z"
   },
   {
    "duration": 0,
    "start_time": "2022-05-23T11:26:26.896Z"
   },
   {
    "duration": 0,
    "start_time": "2022-05-23T11:26:26.897Z"
   },
   {
    "duration": 0,
    "start_time": "2022-05-23T11:26:26.900Z"
   },
   {
    "duration": 0,
    "start_time": "2022-05-23T11:26:26.902Z"
   },
   {
    "duration": 0,
    "start_time": "2022-05-23T11:26:26.903Z"
   },
   {
    "duration": 0,
    "start_time": "2022-05-23T11:26:26.905Z"
   },
   {
    "duration": 0,
    "start_time": "2022-05-23T11:26:26.906Z"
   },
   {
    "duration": 0,
    "start_time": "2022-05-23T11:26:26.907Z"
   },
   {
    "duration": 0,
    "start_time": "2022-05-23T11:26:26.908Z"
   },
   {
    "duration": 0,
    "start_time": "2022-05-23T11:26:26.909Z"
   },
   {
    "duration": 0,
    "start_time": "2022-05-23T11:26:26.910Z"
   },
   {
    "duration": 0,
    "start_time": "2022-05-23T11:26:26.911Z"
   },
   {
    "duration": 0,
    "start_time": "2022-05-23T11:26:26.912Z"
   },
   {
    "duration": 0,
    "start_time": "2022-05-23T11:26:26.913Z"
   },
   {
    "duration": 0,
    "start_time": "2022-05-23T11:26:26.914Z"
   },
   {
    "duration": 0,
    "start_time": "2022-05-23T11:26:26.915Z"
   },
   {
    "duration": 0,
    "start_time": "2022-05-23T11:26:26.916Z"
   },
   {
    "duration": 0,
    "start_time": "2022-05-23T11:26:26.917Z"
   },
   {
    "duration": 0,
    "start_time": "2022-05-23T11:26:26.918Z"
   },
   {
    "duration": 0,
    "start_time": "2022-05-23T11:26:26.919Z"
   },
   {
    "duration": 0,
    "start_time": "2022-05-23T11:26:26.920Z"
   },
   {
    "duration": 0,
    "start_time": "2022-05-23T11:26:26.921Z"
   },
   {
    "duration": 0,
    "start_time": "2022-05-23T11:26:26.922Z"
   },
   {
    "duration": 0,
    "start_time": "2022-05-23T11:26:26.923Z"
   },
   {
    "duration": 0,
    "start_time": "2022-05-23T11:26:26.924Z"
   },
   {
    "duration": 0,
    "start_time": "2022-05-23T11:26:26.978Z"
   },
   {
    "duration": 0,
    "start_time": "2022-05-23T11:26:26.981Z"
   },
   {
    "duration": 0,
    "start_time": "2022-05-23T11:26:26.982Z"
   },
   {
    "duration": 0,
    "start_time": "2022-05-23T11:26:26.984Z"
   },
   {
    "duration": 0,
    "start_time": "2022-05-23T11:26:26.986Z"
   },
   {
    "duration": 0,
    "start_time": "2022-05-23T11:26:26.989Z"
   },
   {
    "duration": 0,
    "start_time": "2022-05-23T11:26:26.991Z"
   },
   {
    "duration": 0,
    "start_time": "2022-05-23T11:26:26.993Z"
   },
   {
    "duration": 0,
    "start_time": "2022-05-23T11:26:26.998Z"
   },
   {
    "duration": 0,
    "start_time": "2022-05-23T11:26:27.000Z"
   },
   {
    "duration": 0,
    "start_time": "2022-05-23T11:26:27.001Z"
   },
   {
    "duration": 0,
    "start_time": "2022-05-23T11:26:27.002Z"
   },
   {
    "duration": 0,
    "start_time": "2022-05-23T11:26:27.003Z"
   },
   {
    "duration": 0,
    "start_time": "2022-05-23T11:26:27.004Z"
   },
   {
    "duration": 0,
    "start_time": "2022-05-23T11:26:27.005Z"
   },
   {
    "duration": 0,
    "start_time": "2022-05-23T11:26:27.006Z"
   },
   {
    "duration": 0,
    "start_time": "2022-05-23T11:26:27.007Z"
   },
   {
    "duration": 0,
    "start_time": "2022-05-23T11:26:27.008Z"
   },
   {
    "duration": 0,
    "start_time": "2022-05-23T11:26:27.009Z"
   },
   {
    "duration": 1,
    "start_time": "2022-05-23T11:26:27.009Z"
   },
   {
    "duration": 0,
    "start_time": "2022-05-23T11:26:27.010Z"
   },
   {
    "duration": 0,
    "start_time": "2022-05-23T11:26:27.011Z"
   },
   {
    "duration": 0,
    "start_time": "2022-05-23T11:26:27.012Z"
   },
   {
    "duration": 0,
    "start_time": "2022-05-23T11:26:27.075Z"
   },
   {
    "duration": 0,
    "start_time": "2022-05-23T11:26:27.077Z"
   },
   {
    "duration": 0,
    "start_time": "2022-05-23T11:26:27.079Z"
   },
   {
    "duration": 0,
    "start_time": "2022-05-23T11:26:27.080Z"
   },
   {
    "duration": 0,
    "start_time": "2022-05-23T11:26:27.082Z"
   },
   {
    "duration": 0,
    "start_time": "2022-05-23T11:26:27.084Z"
   },
   {
    "duration": 0,
    "start_time": "2022-05-23T11:26:27.085Z"
   },
   {
    "duration": 0,
    "start_time": "2022-05-23T11:26:27.087Z"
   },
   {
    "duration": 0,
    "start_time": "2022-05-23T11:26:27.088Z"
   },
   {
    "duration": 0,
    "start_time": "2022-05-23T11:26:27.091Z"
   },
   {
    "duration": 0,
    "start_time": "2022-05-23T11:26:27.092Z"
   },
   {
    "duration": 0,
    "start_time": "2022-05-23T11:26:27.094Z"
   },
   {
    "duration": 0,
    "start_time": "2022-05-23T11:26:27.095Z"
   },
   {
    "duration": 0,
    "start_time": "2022-05-23T11:26:27.096Z"
   },
   {
    "duration": 0,
    "start_time": "2022-05-23T11:26:27.098Z"
   },
   {
    "duration": 0,
    "start_time": "2022-05-23T11:26:27.099Z"
   },
   {
    "duration": 0,
    "start_time": "2022-05-23T11:26:27.101Z"
   },
   {
    "duration": 6,
    "start_time": "2022-05-23T11:28:25.708Z"
   },
   {
    "duration": 9,
    "start_time": "2022-05-23T11:28:32.726Z"
   },
   {
    "duration": 20,
    "start_time": "2022-05-23T11:28:47.668Z"
   },
   {
    "duration": 20,
    "start_time": "2022-05-23T11:29:05.541Z"
   },
   {
    "duration": 7,
    "start_time": "2022-05-23T11:30:26.069Z"
   },
   {
    "duration": 13,
    "start_time": "2022-05-23T11:30:57.456Z"
   },
   {
    "duration": 21,
    "start_time": "2022-05-23T11:31:17.375Z"
   },
   {
    "duration": 6,
    "start_time": "2022-05-23T11:31:42.318Z"
   },
   {
    "duration": 9,
    "start_time": "2022-05-23T11:31:44.572Z"
   },
   {
    "duration": 5,
    "start_time": "2022-05-23T11:32:10.026Z"
   },
   {
    "duration": 3,
    "start_time": "2022-05-23T11:32:13.736Z"
   },
   {
    "duration": 92,
    "start_time": "2022-05-23T11:32:13.740Z"
   },
   {
    "duration": 13,
    "start_time": "2022-05-23T11:32:13.834Z"
   },
   {
    "duration": 45,
    "start_time": "2022-05-23T11:32:13.849Z"
   },
   {
    "duration": 20,
    "start_time": "2022-05-23T11:32:13.907Z"
   },
   {
    "duration": 23,
    "start_time": "2022-05-23T11:32:13.929Z"
   },
   {
    "duration": 32,
    "start_time": "2022-05-23T11:32:13.953Z"
   },
   {
    "duration": 44,
    "start_time": "2022-05-23T11:32:13.990Z"
   },
   {
    "duration": 6,
    "start_time": "2022-05-23T11:32:14.035Z"
   },
   {
    "duration": 94,
    "start_time": "2022-05-23T11:32:14.043Z"
   },
   {
    "duration": 8,
    "start_time": "2022-05-23T11:32:14.141Z"
   },
   {
    "duration": 9,
    "start_time": "2022-05-23T11:32:14.152Z"
   },
   {
    "duration": 21,
    "start_time": "2022-05-23T11:32:14.163Z"
   },
   {
    "duration": 42,
    "start_time": "2022-05-23T11:32:14.191Z"
   },
   {
    "duration": 24,
    "start_time": "2022-05-23T11:32:14.234Z"
   },
   {
    "duration": 10,
    "start_time": "2022-05-23T11:32:14.260Z"
   },
   {
    "duration": 37,
    "start_time": "2022-05-23T11:32:14.272Z"
   },
   {
    "duration": 16,
    "start_time": "2022-05-23T11:32:14.310Z"
   },
   {
    "duration": 7,
    "start_time": "2022-05-23T11:32:14.327Z"
   },
   {
    "duration": 9,
    "start_time": "2022-05-23T11:32:14.336Z"
   },
   {
    "duration": 14,
    "start_time": "2022-05-23T11:32:14.347Z"
   },
   {
    "duration": 8,
    "start_time": "2022-05-23T11:32:14.362Z"
   },
   {
    "duration": 18,
    "start_time": "2022-05-23T11:32:14.372Z"
   },
   {
    "duration": 25,
    "start_time": "2022-05-23T11:32:14.391Z"
   },
   {
    "duration": 11,
    "start_time": "2022-05-23T11:32:14.418Z"
   },
   {
    "duration": 5,
    "start_time": "2022-05-23T11:32:14.431Z"
   },
   {
    "duration": 6,
    "start_time": "2022-05-23T11:32:14.437Z"
   },
   {
    "duration": 4,
    "start_time": "2022-05-23T11:32:14.445Z"
   },
   {
    "duration": 15,
    "start_time": "2022-05-23T11:32:14.453Z"
   },
   {
    "duration": 41,
    "start_time": "2022-05-23T11:32:14.469Z"
   },
   {
    "duration": 23,
    "start_time": "2022-05-23T11:32:14.513Z"
   },
   {
    "duration": 18,
    "start_time": "2022-05-23T11:32:14.539Z"
   },
   {
    "duration": 48,
    "start_time": "2022-05-23T11:32:14.559Z"
   },
   {
    "duration": 27,
    "start_time": "2022-05-23T11:32:14.609Z"
   },
   {
    "duration": 6,
    "start_time": "2022-05-23T11:32:14.638Z"
   },
   {
    "duration": 7,
    "start_time": "2022-05-23T11:32:14.646Z"
   },
   {
    "duration": 25,
    "start_time": "2022-05-23T11:32:14.654Z"
   },
   {
    "duration": 23,
    "start_time": "2022-05-23T11:32:14.681Z"
   },
   {
    "duration": 19,
    "start_time": "2022-05-23T11:32:14.705Z"
   },
   {
    "duration": 9,
    "start_time": "2022-05-23T11:32:14.725Z"
   },
   {
    "duration": 17,
    "start_time": "2022-05-23T11:32:14.735Z"
   },
   {
    "duration": 16,
    "start_time": "2022-05-23T11:32:14.753Z"
   },
   {
    "duration": 42,
    "start_time": "2022-05-23T11:32:14.771Z"
   },
   {
    "duration": 11,
    "start_time": "2022-05-23T11:32:14.816Z"
   },
   {
    "duration": 8,
    "start_time": "2022-05-23T11:32:14.829Z"
   },
   {
    "duration": 6,
    "start_time": "2022-05-23T11:32:14.838Z"
   },
   {
    "duration": 36,
    "start_time": "2022-05-23T11:32:14.846Z"
   },
   {
    "duration": 32,
    "start_time": "2022-05-23T11:32:14.884Z"
   },
   {
    "duration": 15,
    "start_time": "2022-05-23T11:32:14.918Z"
   },
   {
    "duration": 15,
    "start_time": "2022-05-23T11:32:14.934Z"
   },
   {
    "duration": 6,
    "start_time": "2022-05-23T11:32:14.951Z"
   },
   {
    "duration": 19,
    "start_time": "2022-05-23T11:32:14.958Z"
   },
   {
    "duration": 3,
    "start_time": "2022-05-23T11:32:14.979Z"
   },
   {
    "duration": 47,
    "start_time": "2022-05-23T11:32:14.984Z"
   },
   {
    "duration": 28,
    "start_time": "2022-05-23T11:32:15.032Z"
   },
   {
    "duration": 11,
    "start_time": "2022-05-23T11:32:15.062Z"
   },
   {
    "duration": 21,
    "start_time": "2022-05-23T11:32:15.080Z"
   },
   {
    "duration": 5,
    "start_time": "2022-05-23T11:32:15.103Z"
   },
   {
    "duration": 14,
    "start_time": "2022-05-23T11:32:15.110Z"
   },
   {
    "duration": 12,
    "start_time": "2022-05-23T11:32:15.126Z"
   },
   {
    "duration": 14,
    "start_time": "2022-05-23T11:32:15.140Z"
   },
   {
    "duration": 8,
    "start_time": "2022-05-23T11:32:15.155Z"
   },
   {
    "duration": 8,
    "start_time": "2022-05-23T11:32:15.165Z"
   },
   {
    "duration": 31,
    "start_time": "2022-05-23T11:32:15.185Z"
   },
   {
    "duration": 9,
    "start_time": "2022-05-23T11:32:15.218Z"
   },
   {
    "duration": 8,
    "start_time": "2022-05-23T11:32:15.228Z"
   },
   {
    "duration": 7,
    "start_time": "2022-05-23T11:32:15.237Z"
   },
   {
    "duration": 14,
    "start_time": "2022-05-23T11:32:15.245Z"
   },
   {
    "duration": 7,
    "start_time": "2022-05-23T11:32:15.260Z"
   },
   {
    "duration": 15,
    "start_time": "2022-05-23T11:32:15.268Z"
   },
   {
    "duration": 22,
    "start_time": "2022-05-23T11:32:15.285Z"
   },
   {
    "duration": 5,
    "start_time": "2022-05-23T11:32:15.309Z"
   },
   {
    "duration": 7,
    "start_time": "2022-05-23T11:32:15.315Z"
   },
   {
    "duration": 6,
    "start_time": "2022-05-23T11:32:15.323Z"
   },
   {
    "duration": 6,
    "start_time": "2022-05-23T11:32:15.330Z"
   },
   {
    "duration": 15,
    "start_time": "2022-05-23T11:32:15.337Z"
   },
   {
    "duration": 7,
    "start_time": "2022-05-23T11:32:15.354Z"
   },
   {
    "duration": 5,
    "start_time": "2022-05-23T11:32:15.362Z"
   },
   {
    "duration": 5,
    "start_time": "2022-05-23T11:32:15.377Z"
   },
   {
    "duration": 24,
    "start_time": "2022-05-23T11:32:15.384Z"
   },
   {
    "duration": 12,
    "start_time": "2022-05-23T11:32:15.410Z"
   },
   {
    "duration": 7,
    "start_time": "2022-05-23T11:32:15.423Z"
   },
   {
    "duration": 11,
    "start_time": "2022-05-23T11:32:15.435Z"
   },
   {
    "duration": 6,
    "start_time": "2022-05-23T11:32:15.447Z"
   },
   {
    "duration": 5,
    "start_time": "2022-05-23T11:32:15.454Z"
   },
   {
    "duration": 7,
    "start_time": "2022-05-23T11:32:15.460Z"
   },
   {
    "duration": 11,
    "start_time": "2022-05-23T11:32:15.468Z"
   },
   {
    "duration": 32,
    "start_time": "2022-05-23T11:32:15.481Z"
   },
   {
    "duration": 8,
    "start_time": "2022-05-23T11:33:44.854Z"
   },
   {
    "duration": 11,
    "start_time": "2022-05-23T11:34:22.245Z"
   },
   {
    "duration": 7,
    "start_time": "2022-05-23T11:39:13.379Z"
   },
   {
    "duration": 7,
    "start_time": "2022-05-23T11:39:15.500Z"
   },
   {
    "duration": 4,
    "start_time": "2022-05-23T11:39:16.160Z"
   },
   {
    "duration": 8,
    "start_time": "2022-05-23T11:39:17.956Z"
   },
   {
    "duration": 5,
    "start_time": "2022-05-23T11:39:20.248Z"
   },
   {
    "duration": 5,
    "start_time": "2022-05-23T11:39:20.974Z"
   },
   {
    "duration": 4,
    "start_time": "2022-05-23T11:39:21.433Z"
   },
   {
    "duration": 5,
    "start_time": "2022-05-23T11:39:24.417Z"
   },
   {
    "duration": 7,
    "start_time": "2022-05-23T11:40:17.241Z"
   },
   {
    "duration": 6,
    "start_time": "2022-05-23T11:44:27.434Z"
   },
   {
    "duration": 8,
    "start_time": "2022-05-23T11:44:47.306Z"
   },
   {
    "duration": 91,
    "start_time": "2022-05-23T11:45:15.406Z"
   },
   {
    "duration": 8,
    "start_time": "2022-05-23T11:48:26.478Z"
   },
   {
    "duration": 5,
    "start_time": "2022-05-23T11:48:27.235Z"
   },
   {
    "duration": 9,
    "start_time": "2022-05-23T12:41:11.359Z"
   },
   {
    "duration": 6,
    "start_time": "2022-05-23T12:41:12.101Z"
   },
   {
    "duration": 14,
    "start_time": "2022-05-23T12:41:33.142Z"
   },
   {
    "duration": 13,
    "start_time": "2022-05-23T12:41:40.125Z"
   },
   {
    "duration": 6,
    "start_time": "2022-05-23T12:41:43.815Z"
   },
   {
    "duration": 15,
    "start_time": "2022-05-23T12:45:21.291Z"
   },
   {
    "duration": 9,
    "start_time": "2022-05-23T12:45:22.962Z"
   },
   {
    "duration": 6,
    "start_time": "2022-05-23T13:13:24.413Z"
   },
   {
    "duration": 8,
    "start_time": "2022-05-23T13:13:48.004Z"
   },
   {
    "duration": 7,
    "start_time": "2022-05-23T13:14:37.869Z"
   },
   {
    "duration": 11,
    "start_time": "2022-05-23T13:14:38.994Z"
   },
   {
    "duration": 14,
    "start_time": "2022-05-23T13:14:44.748Z"
   },
   {
    "duration": 3,
    "start_time": "2022-05-23T13:14:52.806Z"
   },
   {
    "duration": 84,
    "start_time": "2022-05-23T13:14:52.811Z"
   },
   {
    "duration": 15,
    "start_time": "2022-05-23T13:14:52.897Z"
   },
   {
    "duration": 25,
    "start_time": "2022-05-23T13:14:52.914Z"
   },
   {
    "duration": 38,
    "start_time": "2022-05-23T13:14:52.942Z"
   },
   {
    "duration": 25,
    "start_time": "2022-05-23T13:14:52.982Z"
   },
   {
    "duration": 14,
    "start_time": "2022-05-23T13:14:53.009Z"
   },
   {
    "duration": 13,
    "start_time": "2022-05-23T13:14:53.025Z"
   },
   {
    "duration": 34,
    "start_time": "2022-05-23T13:14:53.040Z"
   },
   {
    "duration": 16,
    "start_time": "2022-05-23T13:14:53.076Z"
   },
   {
    "duration": 10,
    "start_time": "2022-05-23T13:14:53.095Z"
   },
   {
    "duration": 8,
    "start_time": "2022-05-23T13:14:53.106Z"
   },
   {
    "duration": 9,
    "start_time": "2022-05-23T13:14:53.116Z"
   },
   {
    "duration": 10,
    "start_time": "2022-05-23T13:14:53.127Z"
   },
   {
    "duration": 16,
    "start_time": "2022-05-23T13:14:53.138Z"
   },
   {
    "duration": 27,
    "start_time": "2022-05-23T13:14:53.156Z"
   },
   {
    "duration": 14,
    "start_time": "2022-05-23T13:14:53.184Z"
   },
   {
    "duration": 15,
    "start_time": "2022-05-23T13:14:53.199Z"
   },
   {
    "duration": 10,
    "start_time": "2022-05-23T13:14:53.216Z"
   },
   {
    "duration": 15,
    "start_time": "2022-05-23T13:14:53.228Z"
   },
   {
    "duration": 11,
    "start_time": "2022-05-23T13:14:53.244Z"
   },
   {
    "duration": 9,
    "start_time": "2022-05-23T13:14:53.257Z"
   },
   {
    "duration": 20,
    "start_time": "2022-05-23T13:14:53.267Z"
   },
   {
    "duration": 12,
    "start_time": "2022-05-23T13:14:53.290Z"
   },
   {
    "duration": 8,
    "start_time": "2022-05-23T13:14:53.304Z"
   },
   {
    "duration": 15,
    "start_time": "2022-05-23T13:14:53.314Z"
   },
   {
    "duration": 8,
    "start_time": "2022-05-23T13:14:53.330Z"
   },
   {
    "duration": 14,
    "start_time": "2022-05-23T13:14:53.343Z"
   },
   {
    "duration": 13,
    "start_time": "2022-05-23T13:14:53.358Z"
   },
   {
    "duration": 9,
    "start_time": "2022-05-23T13:14:53.373Z"
   },
   {
    "duration": 7,
    "start_time": "2022-05-23T13:14:53.383Z"
   },
   {
    "duration": 11,
    "start_time": "2022-05-23T13:14:53.391Z"
   },
   {
    "duration": 16,
    "start_time": "2022-05-23T13:14:53.403Z"
   },
   {
    "duration": 15,
    "start_time": "2022-05-23T13:14:53.420Z"
   },
   {
    "duration": 16,
    "start_time": "2022-05-23T13:14:53.436Z"
   },
   {
    "duration": 12,
    "start_time": "2022-05-23T13:14:53.474Z"
   },
   {
    "duration": 20,
    "start_time": "2022-05-23T13:14:53.488Z"
   },
   {
    "duration": 15,
    "start_time": "2022-05-23T13:14:53.510Z"
   },
   {
    "duration": 4,
    "start_time": "2022-05-23T13:14:53.526Z"
   },
   {
    "duration": 15,
    "start_time": "2022-05-23T13:14:53.532Z"
   },
   {
    "duration": 26,
    "start_time": "2022-05-23T13:14:53.549Z"
   },
   {
    "duration": 5,
    "start_time": "2022-05-23T13:14:53.577Z"
   },
   {
    "duration": 11,
    "start_time": "2022-05-23T13:14:53.584Z"
   },
   {
    "duration": 15,
    "start_time": "2022-05-23T13:14:53.596Z"
   },
   {
    "duration": 16,
    "start_time": "2022-05-23T13:14:53.612Z"
   },
   {
    "duration": 51,
    "start_time": "2022-05-23T13:14:53.629Z"
   },
   {
    "duration": 27,
    "start_time": "2022-05-23T13:14:53.682Z"
   },
   {
    "duration": 11,
    "start_time": "2022-05-23T13:14:53.712Z"
   },
   {
    "duration": 9,
    "start_time": "2022-05-23T13:14:53.724Z"
   },
   {
    "duration": 10,
    "start_time": "2022-05-23T13:14:53.734Z"
   },
   {
    "duration": 13,
    "start_time": "2022-05-23T13:14:53.745Z"
   },
   {
    "duration": 6,
    "start_time": "2022-05-23T13:14:53.775Z"
   },
   {
    "duration": 10,
    "start_time": "2022-05-23T13:14:53.782Z"
   },
   {
    "duration": 7,
    "start_time": "2022-05-23T13:14:53.793Z"
   },
   {
    "duration": 8,
    "start_time": "2022-05-23T13:14:53.801Z"
   },
   {
    "duration": 16,
    "start_time": "2022-05-23T13:14:53.810Z"
   },
   {
    "duration": 7,
    "start_time": "2022-05-23T13:14:53.828Z"
   },
   {
    "duration": 12,
    "start_time": "2022-05-23T13:14:53.837Z"
   },
   {
    "duration": 30,
    "start_time": "2022-05-23T13:14:53.850Z"
   },
   {
    "duration": 13,
    "start_time": "2022-05-23T13:14:53.882Z"
   },
   {
    "duration": 6,
    "start_time": "2022-05-23T13:14:53.896Z"
   },
   {
    "duration": 5,
    "start_time": "2022-05-23T13:14:53.904Z"
   },
   {
    "duration": 18,
    "start_time": "2022-05-23T13:14:53.910Z"
   },
   {
    "duration": 11,
    "start_time": "2022-05-23T13:14:53.929Z"
   },
   {
    "duration": 33,
    "start_time": "2022-05-23T13:14:53.942Z"
   },
   {
    "duration": 6,
    "start_time": "2022-05-23T13:14:53.977Z"
   },
   {
    "duration": 11,
    "start_time": "2022-05-23T13:14:53.984Z"
   },
   {
    "duration": 11,
    "start_time": "2022-05-23T13:14:53.997Z"
   },
   {
    "duration": 12,
    "start_time": "2022-05-23T13:14:54.009Z"
   },
   {
    "duration": 8,
    "start_time": "2022-05-23T13:14:54.022Z"
   },
   {
    "duration": 7,
    "start_time": "2022-05-23T13:14:54.032Z"
   },
   {
    "duration": 6,
    "start_time": "2022-05-23T13:14:54.040Z"
   },
   {
    "duration": 27,
    "start_time": "2022-05-23T13:14:54.048Z"
   },
   {
    "duration": 4,
    "start_time": "2022-05-23T13:14:54.076Z"
   },
   {
    "duration": 6,
    "start_time": "2022-05-23T13:14:54.081Z"
   },
   {
    "duration": 7,
    "start_time": "2022-05-23T13:14:54.088Z"
   },
   {
    "duration": 13,
    "start_time": "2022-05-23T13:14:54.096Z"
   },
   {
    "duration": 7,
    "start_time": "2022-05-23T13:14:54.110Z"
   },
   {
    "duration": 5,
    "start_time": "2022-05-23T13:14:54.126Z"
   },
   {
    "duration": 7,
    "start_time": "2022-05-23T13:14:54.133Z"
   },
   {
    "duration": 5,
    "start_time": "2022-05-23T13:14:54.142Z"
   },
   {
    "duration": 3,
    "start_time": "2022-05-23T13:14:54.175Z"
   },
   {
    "duration": 9,
    "start_time": "2022-05-23T13:14:54.180Z"
   },
   {
    "duration": 19,
    "start_time": "2022-05-23T13:14:54.190Z"
   },
   {
    "duration": 9,
    "start_time": "2022-05-23T13:14:54.210Z"
   },
   {
    "duration": 24,
    "start_time": "2022-05-23T13:14:54.221Z"
   },
   {
    "duration": 16,
    "start_time": "2022-05-23T13:14:54.247Z"
   },
   {
    "duration": 12,
    "start_time": "2022-05-23T13:14:54.264Z"
   },
   {
    "duration": 9,
    "start_time": "2022-05-23T13:14:54.277Z"
   },
   {
    "duration": 98,
    "start_time": "2022-05-23T13:20:09.276Z"
   },
   {
    "duration": 21,
    "start_time": "2022-05-23T13:23:37.562Z"
   },
   {
    "duration": 9,
    "start_time": "2022-05-23T13:24:17.853Z"
   },
   {
    "duration": 3,
    "start_time": "2022-05-23T13:24:30.774Z"
   },
   {
    "duration": 80,
    "start_time": "2022-05-23T13:24:30.779Z"
   },
   {
    "duration": 13,
    "start_time": "2022-05-23T13:24:30.861Z"
   },
   {
    "duration": 29,
    "start_time": "2022-05-23T13:24:30.876Z"
   },
   {
    "duration": 9,
    "start_time": "2022-05-23T13:24:30.907Z"
   },
   {
    "duration": 22,
    "start_time": "2022-05-23T13:24:30.918Z"
   },
   {
    "duration": 4,
    "start_time": "2022-05-23T13:24:30.942Z"
   },
   {
    "duration": 17,
    "start_time": "2022-05-23T13:24:30.947Z"
   },
   {
    "duration": 18,
    "start_time": "2022-05-23T13:24:30.966Z"
   },
   {
    "duration": 24,
    "start_time": "2022-05-23T13:24:30.985Z"
   },
   {
    "duration": 16,
    "start_time": "2022-05-23T13:24:31.011Z"
   },
   {
    "duration": 17,
    "start_time": "2022-05-23T13:24:31.029Z"
   },
   {
    "duration": 16,
    "start_time": "2022-05-23T13:24:31.048Z"
   },
   {
    "duration": 17,
    "start_time": "2022-05-23T13:24:31.065Z"
   },
   {
    "duration": 26,
    "start_time": "2022-05-23T13:24:31.084Z"
   },
   {
    "duration": 12,
    "start_time": "2022-05-23T13:24:31.112Z"
   },
   {
    "duration": 23,
    "start_time": "2022-05-23T13:24:31.126Z"
   },
   {
    "duration": 25,
    "start_time": "2022-05-23T13:24:31.151Z"
   },
   {
    "duration": 25,
    "start_time": "2022-05-23T13:24:31.178Z"
   },
   {
    "duration": 22,
    "start_time": "2022-05-23T13:24:34.737Z"
   },
   {
    "duration": 35,
    "start_time": "2022-05-23T13:26:03.564Z"
   },
   {
    "duration": 55,
    "start_time": "2022-05-23T13:26:04.186Z"
   },
   {
    "duration": 19,
    "start_time": "2022-05-23T13:26:31.184Z"
   },
   {
    "duration": 12,
    "start_time": "2022-05-23T13:26:31.861Z"
   },
   {
    "duration": 12,
    "start_time": "2022-05-23T13:26:42.972Z"
   },
   {
    "duration": 101,
    "start_time": "2022-05-23T13:26:42.992Z"
   },
   {
    "duration": 22,
    "start_time": "2022-05-23T13:26:43.095Z"
   },
   {
    "duration": 26,
    "start_time": "2022-05-23T13:26:43.120Z"
   },
   {
    "duration": 34,
    "start_time": "2022-05-23T13:26:43.149Z"
   },
   {
    "duration": 35,
    "start_time": "2022-05-23T13:26:43.185Z"
   },
   {
    "duration": 5,
    "start_time": "2022-05-23T13:26:43.222Z"
   },
   {
    "duration": 51,
    "start_time": "2022-05-23T13:26:43.229Z"
   },
   {
    "duration": 6,
    "start_time": "2022-05-23T13:26:43.282Z"
   },
   {
    "duration": 18,
    "start_time": "2022-05-23T13:26:43.290Z"
   },
   {
    "duration": 4,
    "start_time": "2022-05-23T13:26:43.312Z"
   },
   {
    "duration": 12,
    "start_time": "2022-05-23T13:26:43.318Z"
   },
   {
    "duration": 41,
    "start_time": "2022-05-23T13:26:43.334Z"
   },
   {
    "duration": 6,
    "start_time": "2022-05-23T13:26:43.378Z"
   },
   {
    "duration": 15,
    "start_time": "2022-05-23T13:26:43.387Z"
   },
   {
    "duration": 8,
    "start_time": "2022-05-23T13:26:43.404Z"
   },
   {
    "duration": 9,
    "start_time": "2022-05-23T13:26:43.413Z"
   },
   {
    "duration": 57,
    "start_time": "2022-05-23T13:26:43.424Z"
   },
   {
    "duration": 17,
    "start_time": "2022-05-23T13:26:43.482Z"
   },
   {
    "duration": 24,
    "start_time": "2022-05-23T13:26:43.501Z"
   },
   {
    "duration": 6,
    "start_time": "2022-05-23T13:26:43.528Z"
   },
   {
    "duration": 41,
    "start_time": "2022-05-23T13:26:43.535Z"
   },
   {
    "duration": 9,
    "start_time": "2022-05-23T13:26:43.578Z"
   },
   {
    "duration": 16,
    "start_time": "2022-05-23T13:26:43.589Z"
   },
   {
    "duration": 8,
    "start_time": "2022-05-23T13:26:43.608Z"
   },
   {
    "duration": 5,
    "start_time": "2022-05-23T13:26:43.618Z"
   },
   {
    "duration": 9,
    "start_time": "2022-05-23T13:26:43.625Z"
   },
   {
    "duration": 9,
    "start_time": "2022-05-23T13:26:43.637Z"
   },
   {
    "duration": 8,
    "start_time": "2022-05-23T13:26:43.679Z"
   },
   {
    "duration": 20,
    "start_time": "2022-05-23T13:26:43.689Z"
   },
   {
    "duration": 11,
    "start_time": "2022-05-23T13:26:43.710Z"
   },
   {
    "duration": 12,
    "start_time": "2022-05-23T13:26:43.723Z"
   },
   {
    "duration": 22,
    "start_time": "2022-05-23T13:26:43.737Z"
   },
   {
    "duration": 24,
    "start_time": "2022-05-23T13:26:43.761Z"
   },
   {
    "duration": 18,
    "start_time": "2022-05-23T13:26:43.787Z"
   },
   {
    "duration": 22,
    "start_time": "2022-05-23T13:26:43.807Z"
   },
   {
    "duration": 14,
    "start_time": "2022-05-23T13:26:43.831Z"
   },
   {
    "duration": 50,
    "start_time": "2022-05-23T13:26:43.846Z"
   },
   {
    "duration": 18,
    "start_time": "2022-05-23T13:26:43.897Z"
   },
   {
    "duration": 5,
    "start_time": "2022-05-23T13:26:43.917Z"
   },
   {
    "duration": 9,
    "start_time": "2022-05-23T13:26:43.923Z"
   },
   {
    "duration": 9,
    "start_time": "2022-05-23T13:26:43.933Z"
   },
   {
    "duration": 38,
    "start_time": "2022-05-23T13:26:43.944Z"
   },
   {
    "duration": 18,
    "start_time": "2022-05-23T13:26:43.985Z"
   },
   {
    "duration": 9,
    "start_time": "2022-05-23T13:26:44.005Z"
   },
   {
    "duration": 26,
    "start_time": "2022-05-23T13:26:44.016Z"
   },
   {
    "duration": 45,
    "start_time": "2022-05-23T13:26:44.044Z"
   },
   {
    "duration": 26,
    "start_time": "2022-05-23T13:26:44.092Z"
   },
   {
    "duration": 13,
    "start_time": "2022-05-23T13:26:44.120Z"
   },
   {
    "duration": 9,
    "start_time": "2022-05-23T13:26:44.135Z"
   },
   {
    "duration": 35,
    "start_time": "2022-05-23T13:26:44.146Z"
   },
   {
    "duration": 31,
    "start_time": "2022-05-23T13:26:44.183Z"
   },
   {
    "duration": 9,
    "start_time": "2022-05-23T13:26:44.217Z"
   },
   {
    "duration": 9,
    "start_time": "2022-05-23T13:26:44.228Z"
   },
   {
    "duration": 12,
    "start_time": "2022-05-23T13:26:44.239Z"
   },
   {
    "duration": 26,
    "start_time": "2022-05-23T13:26:44.253Z"
   },
   {
    "duration": 30,
    "start_time": "2022-05-23T13:26:44.281Z"
   },
   {
    "duration": 5,
    "start_time": "2022-05-23T13:26:44.314Z"
   },
   {
    "duration": 17,
    "start_time": "2022-05-23T13:26:44.322Z"
   },
   {
    "duration": 44,
    "start_time": "2022-05-23T13:26:44.341Z"
   },
   {
    "duration": 16,
    "start_time": "2022-05-23T13:26:44.387Z"
   },
   {
    "duration": 9,
    "start_time": "2022-05-23T13:26:44.405Z"
   },
   {
    "duration": 12,
    "start_time": "2022-05-23T13:26:44.416Z"
   },
   {
    "duration": 28,
    "start_time": "2022-05-23T13:26:44.430Z"
   },
   {
    "duration": 26,
    "start_time": "2022-05-23T13:26:44.460Z"
   },
   {
    "duration": 52,
    "start_time": "2022-05-23T13:26:44.489Z"
   },
   {
    "duration": 32,
    "start_time": "2022-05-23T13:26:44.544Z"
   },
   {
    "duration": 650,
    "start_time": "2022-05-23T13:26:44.578Z"
   },
   {
    "duration": 0,
    "start_time": "2022-05-23T13:26:45.230Z"
   },
   {
    "duration": 0,
    "start_time": "2022-05-23T13:26:45.232Z"
   },
   {
    "duration": 0,
    "start_time": "2022-05-23T13:26:45.233Z"
   },
   {
    "duration": 0,
    "start_time": "2022-05-23T13:26:45.235Z"
   },
   {
    "duration": 0,
    "start_time": "2022-05-23T13:26:45.236Z"
   },
   {
    "duration": 0,
    "start_time": "2022-05-23T13:26:45.237Z"
   },
   {
    "duration": 0,
    "start_time": "2022-05-23T13:26:45.239Z"
   },
   {
    "duration": 0,
    "start_time": "2022-05-23T13:26:45.240Z"
   },
   {
    "duration": 0,
    "start_time": "2022-05-23T13:26:45.241Z"
   },
   {
    "duration": 0,
    "start_time": "2022-05-23T13:26:45.243Z"
   },
   {
    "duration": 0,
    "start_time": "2022-05-23T13:26:45.244Z"
   },
   {
    "duration": 0,
    "start_time": "2022-05-23T13:26:45.245Z"
   },
   {
    "duration": 0,
    "start_time": "2022-05-23T13:26:45.248Z"
   },
   {
    "duration": 0,
    "start_time": "2022-05-23T13:26:45.249Z"
   },
   {
    "duration": 0,
    "start_time": "2022-05-23T13:26:45.250Z"
   },
   {
    "duration": 0,
    "start_time": "2022-05-23T13:26:45.252Z"
   },
   {
    "duration": 0,
    "start_time": "2022-05-23T13:26:45.253Z"
   },
   {
    "duration": 0,
    "start_time": "2022-05-23T13:26:45.256Z"
   },
   {
    "duration": 0,
    "start_time": "2022-05-23T13:26:45.256Z"
   },
   {
    "duration": 0,
    "start_time": "2022-05-23T13:26:45.257Z"
   },
   {
    "duration": 0,
    "start_time": "2022-05-23T13:26:45.258Z"
   },
   {
    "duration": 0,
    "start_time": "2022-05-23T13:26:45.258Z"
   },
   {
    "duration": 13,
    "start_time": "2022-05-23T13:34:57.041Z"
   },
   {
    "duration": 7,
    "start_time": "2022-05-23T13:34:57.520Z"
   },
   {
    "duration": 7,
    "start_time": "2022-05-23T13:34:59.851Z"
   },
   {
    "duration": 8,
    "start_time": "2022-05-23T13:35:01.474Z"
   },
   {
    "duration": 11,
    "start_time": "2022-05-23T13:35:29.009Z"
   },
   {
    "duration": 9,
    "start_time": "2022-05-23T13:36:00.045Z"
   },
   {
    "duration": 15,
    "start_time": "2022-05-23T13:43:05.594Z"
   },
   {
    "duration": 18,
    "start_time": "2022-05-23T13:43:19.093Z"
   },
   {
    "duration": 7,
    "start_time": "2022-05-23T13:43:25.938Z"
   },
   {
    "duration": 6,
    "start_time": "2022-05-23T13:43:29.406Z"
   },
   {
    "duration": 10,
    "start_time": "2022-05-23T13:43:32.745Z"
   },
   {
    "duration": 14,
    "start_time": "2022-05-23T13:44:33.234Z"
   },
   {
    "duration": 9,
    "start_time": "2022-05-23T13:44:34.502Z"
   },
   {
    "duration": 13,
    "start_time": "2022-05-23T13:46:36.012Z"
   },
   {
    "duration": 7,
    "start_time": "2022-05-23T13:46:36.918Z"
   },
   {
    "duration": 6,
    "start_time": "2022-05-23T13:46:40.285Z"
   },
   {
    "duration": 8,
    "start_time": "2022-05-23T13:46:41.562Z"
   },
   {
    "duration": 11,
    "start_time": "2022-05-23T13:55:20.420Z"
   },
   {
    "duration": 7,
    "start_time": "2022-05-23T13:55:21.926Z"
   },
   {
    "duration": 7,
    "start_time": "2022-05-23T13:56:13.185Z"
   },
   {
    "duration": 3,
    "start_time": "2022-05-23T13:56:24.614Z"
   },
   {
    "duration": 10,
    "start_time": "2022-05-23T13:56:26.918Z"
   },
   {
    "duration": 8,
    "start_time": "2022-05-23T13:56:36.599Z"
   },
   {
    "duration": 12,
    "start_time": "2022-05-23T14:01:10.328Z"
   },
   {
    "duration": 6,
    "start_time": "2022-05-23T14:01:13.097Z"
   },
   {
    "duration": 5,
    "start_time": "2022-05-23T14:01:26.052Z"
   },
   {
    "duration": 5,
    "start_time": "2022-05-23T14:03:05.884Z"
   },
   {
    "duration": 7,
    "start_time": "2022-05-23T14:03:19.027Z"
   },
   {
    "duration": 4,
    "start_time": "2022-05-23T14:04:38.311Z"
   },
   {
    "duration": 6,
    "start_time": "2022-05-23T14:04:38.985Z"
   },
   {
    "duration": 7,
    "start_time": "2022-05-23T14:04:39.574Z"
   },
   {
    "duration": 12,
    "start_time": "2022-05-23T14:06:11.664Z"
   },
   {
    "duration": 6,
    "start_time": "2022-05-23T14:06:12.512Z"
   },
   {
    "duration": 13,
    "start_time": "2022-05-23T14:06:25.824Z"
   },
   {
    "duration": 6,
    "start_time": "2022-05-23T14:06:26.642Z"
   },
   {
    "duration": 41,
    "start_time": "2022-05-23T14:07:07.962Z"
   },
   {
    "duration": 4,
    "start_time": "2022-05-23T14:07:24.854Z"
   },
   {
    "duration": 6,
    "start_time": "2022-05-23T14:07:31.025Z"
   },
   {
    "duration": 25,
    "start_time": "2022-05-23T14:07:42.011Z"
   },
   {
    "duration": 4,
    "start_time": "2022-05-23T14:08:28.272Z"
   },
   {
    "duration": 7,
    "start_time": "2022-05-23T14:10:06.793Z"
   },
   {
    "duration": 11,
    "start_time": "2022-05-23T14:10:48.432Z"
   },
   {
    "duration": 16,
    "start_time": "2022-05-23T14:12:32.132Z"
   },
   {
    "duration": 17,
    "start_time": "2022-05-23T14:12:36.539Z"
   },
   {
    "duration": 21,
    "start_time": "2022-05-23T14:12:46.327Z"
   },
   {
    "duration": 13,
    "start_time": "2022-05-23T14:13:34.927Z"
   },
   {
    "duration": 21,
    "start_time": "2022-05-23T14:13:35.744Z"
   },
   {
    "duration": 13,
    "start_time": "2022-05-23T14:17:23.365Z"
   },
   {
    "duration": 5,
    "start_time": "2022-05-23T14:17:23.890Z"
   },
   {
    "duration": 5,
    "start_time": "2022-05-23T14:19:01.985Z"
   },
   {
    "duration": 7,
    "start_time": "2022-05-23T14:19:09.548Z"
   },
   {
    "duration": 467,
    "start_time": "2022-05-23T20:00:02.308Z"
   },
   {
    "duration": 129,
    "start_time": "2022-05-23T20:00:02.777Z"
   },
   {
    "duration": 19,
    "start_time": "2022-05-23T20:00:02.908Z"
   },
   {
    "duration": 17,
    "start_time": "2022-05-23T20:00:02.929Z"
   },
   {
    "duration": 10,
    "start_time": "2022-05-23T20:00:02.947Z"
   },
   {
    "duration": 45,
    "start_time": "2022-05-23T20:00:02.958Z"
   },
   {
    "duration": 5,
    "start_time": "2022-05-23T20:00:03.005Z"
   },
   {
    "duration": 11,
    "start_time": "2022-05-23T20:00:03.011Z"
   },
   {
    "duration": 7,
    "start_time": "2022-05-23T20:00:03.023Z"
   },
   {
    "duration": 13,
    "start_time": "2022-05-23T20:00:03.032Z"
   },
   {
    "duration": 12,
    "start_time": "2022-05-23T20:00:03.047Z"
   },
   {
    "duration": 9,
    "start_time": "2022-05-23T20:00:03.061Z"
   },
   {
    "duration": 7,
    "start_time": "2022-05-23T20:00:03.071Z"
   },
   {
    "duration": 25,
    "start_time": "2022-05-23T20:00:03.079Z"
   },
   {
    "duration": 15,
    "start_time": "2022-05-23T20:00:03.106Z"
   },
   {
    "duration": 7,
    "start_time": "2022-05-23T20:00:03.122Z"
   },
   {
    "duration": 7,
    "start_time": "2022-05-23T20:00:03.130Z"
   },
   {
    "duration": 16,
    "start_time": "2022-05-23T20:00:03.138Z"
   },
   {
    "duration": 8,
    "start_time": "2022-05-23T20:00:03.156Z"
   },
   {
    "duration": 38,
    "start_time": "2022-05-23T20:00:03.165Z"
   },
   {
    "duration": 5,
    "start_time": "2022-05-23T20:00:03.205Z"
   },
   {
    "duration": 8,
    "start_time": "2022-05-23T20:00:03.212Z"
   },
   {
    "duration": 6,
    "start_time": "2022-05-23T20:00:03.221Z"
   },
   {
    "duration": 12,
    "start_time": "2022-05-23T20:00:03.228Z"
   },
   {
    "duration": 6,
    "start_time": "2022-05-23T20:00:03.241Z"
   },
   {
    "duration": 5,
    "start_time": "2022-05-23T20:00:03.249Z"
   },
   {
    "duration": 5,
    "start_time": "2022-05-23T20:00:03.256Z"
   },
   {
    "duration": 47,
    "start_time": "2022-05-23T20:00:03.266Z"
   },
   {
    "duration": 10,
    "start_time": "2022-05-23T20:00:03.315Z"
   },
   {
    "duration": 17,
    "start_time": "2022-05-23T20:00:03.326Z"
   },
   {
    "duration": 8,
    "start_time": "2022-05-23T20:00:03.345Z"
   },
   {
    "duration": 8,
    "start_time": "2022-05-23T20:00:03.354Z"
   },
   {
    "duration": 9,
    "start_time": "2022-05-23T20:00:03.364Z"
   },
   {
    "duration": 18,
    "start_time": "2022-05-23T20:00:03.374Z"
   },
   {
    "duration": 16,
    "start_time": "2022-05-23T20:00:03.402Z"
   },
   {
    "duration": 15,
    "start_time": "2022-05-23T20:00:03.420Z"
   },
   {
    "duration": 12,
    "start_time": "2022-05-23T20:00:03.436Z"
   },
   {
    "duration": 18,
    "start_time": "2022-05-23T20:00:03.449Z"
   },
   {
    "duration": 45,
    "start_time": "2022-05-23T20:00:03.468Z"
   },
   {
    "duration": 5,
    "start_time": "2022-05-23T20:00:03.515Z"
   },
   {
    "duration": 10,
    "start_time": "2022-05-23T20:00:03.522Z"
   },
   {
    "duration": 10,
    "start_time": "2022-05-23T20:00:03.534Z"
   },
   {
    "duration": 12,
    "start_time": "2022-05-23T20:00:03.546Z"
   },
   {
    "duration": 21,
    "start_time": "2022-05-23T20:00:03.560Z"
   },
   {
    "duration": 29,
    "start_time": "2022-05-23T20:00:03.582Z"
   },
   {
    "duration": 24,
    "start_time": "2022-05-23T20:00:03.613Z"
   },
   {
    "duration": 16,
    "start_time": "2022-05-23T20:00:03.639Z"
   },
   {
    "duration": 16,
    "start_time": "2022-05-23T20:00:03.656Z"
   },
   {
    "duration": 36,
    "start_time": "2022-05-23T20:00:03.674Z"
   },
   {
    "duration": 11,
    "start_time": "2022-05-23T20:00:03.712Z"
   },
   {
    "duration": 6,
    "start_time": "2022-05-23T20:00:03.724Z"
   },
   {
    "duration": 11,
    "start_time": "2022-05-23T20:00:03.731Z"
   },
   {
    "duration": 7,
    "start_time": "2022-05-23T20:00:03.744Z"
   },
   {
    "duration": 8,
    "start_time": "2022-05-23T20:00:03.752Z"
   },
   {
    "duration": 6,
    "start_time": "2022-05-23T20:00:03.761Z"
   },
   {
    "duration": 35,
    "start_time": "2022-05-23T20:00:03.768Z"
   },
   {
    "duration": 17,
    "start_time": "2022-05-23T20:00:03.805Z"
   },
   {
    "duration": 5,
    "start_time": "2022-05-23T20:00:03.824Z"
   },
   {
    "duration": 16,
    "start_time": "2022-05-23T20:00:03.831Z"
   },
   {
    "duration": 13,
    "start_time": "2022-05-23T20:00:03.849Z"
   },
   {
    "duration": 7,
    "start_time": "2022-05-23T20:00:03.864Z"
   },
   {
    "duration": 5,
    "start_time": "2022-05-23T20:00:03.872Z"
   },
   {
    "duration": 3,
    "start_time": "2022-05-23T20:00:03.902Z"
   },
   {
    "duration": 16,
    "start_time": "2022-05-23T20:00:03.907Z"
   },
   {
    "duration": 14,
    "start_time": "2022-05-23T20:00:03.925Z"
   },
   {
    "duration": 16,
    "start_time": "2022-05-23T20:00:03.941Z"
   },
   {
    "duration": 8,
    "start_time": "2022-05-23T20:00:03.959Z"
   },
   {
    "duration": 9,
    "start_time": "2022-05-23T20:00:03.968Z"
   },
   {
    "duration": 31,
    "start_time": "2022-05-23T20:00:03.978Z"
   },
   {
    "duration": 14,
    "start_time": "2022-05-23T20:00:04.010Z"
   },
   {
    "duration": 6,
    "start_time": "2022-05-23T20:00:04.025Z"
   },
   {
    "duration": 5,
    "start_time": "2022-05-23T20:00:04.033Z"
   },
   {
    "duration": 8,
    "start_time": "2022-05-23T20:00:04.039Z"
   },
   {
    "duration": 10,
    "start_time": "2022-05-23T20:00:04.049Z"
   },
   {
    "duration": 42,
    "start_time": "2022-05-23T20:00:04.060Z"
   },
   {
    "duration": 6,
    "start_time": "2022-05-23T20:00:04.104Z"
   },
   {
    "duration": 12,
    "start_time": "2022-05-23T20:00:04.111Z"
   },
   {
    "duration": 10,
    "start_time": "2022-05-23T20:00:04.124Z"
   },
   {
    "duration": 21,
    "start_time": "2022-05-23T20:00:04.136Z"
   },
   {
    "duration": 22,
    "start_time": "2022-05-23T20:00:04.158Z"
   },
   {
    "duration": 7,
    "start_time": "2022-05-23T20:00:04.181Z"
   },
   {
    "duration": 20,
    "start_time": "2022-05-23T20:00:04.193Z"
   },
   {
    "duration": 482,
    "start_time": "2022-05-23T22:42:21.709Z"
   },
   {
    "duration": 554,
    "start_time": "2022-05-23T22:42:22.193Z"
   },
   {
    "duration": 23,
    "start_time": "2022-05-23T22:42:22.749Z"
   },
   {
    "duration": 21,
    "start_time": "2022-05-23T22:42:22.774Z"
   },
   {
    "duration": 10,
    "start_time": "2022-05-23T22:42:22.796Z"
   },
   {
    "duration": 33,
    "start_time": "2022-05-23T22:42:22.807Z"
   },
   {
    "duration": 6,
    "start_time": "2022-05-23T22:42:22.841Z"
   },
   {
    "duration": 14,
    "start_time": "2022-05-23T22:42:22.848Z"
   },
   {
    "duration": 7,
    "start_time": "2022-05-23T22:42:22.864Z"
   },
   {
    "duration": 17,
    "start_time": "2022-05-23T22:42:22.874Z"
   },
   {
    "duration": 14,
    "start_time": "2022-05-23T22:42:22.892Z"
   },
   {
    "duration": 23,
    "start_time": "2022-05-23T22:42:22.907Z"
   },
   {
    "duration": 16,
    "start_time": "2022-05-23T22:42:22.932Z"
   },
   {
    "duration": 12,
    "start_time": "2022-05-23T22:42:22.950Z"
   },
   {
    "duration": 17,
    "start_time": "2022-05-23T22:42:22.963Z"
   },
   {
    "duration": 24,
    "start_time": "2022-05-23T22:42:22.982Z"
   },
   {
    "duration": 14,
    "start_time": "2022-05-23T22:42:23.007Z"
   },
   {
    "duration": 21,
    "start_time": "2022-05-23T22:42:23.022Z"
   },
   {
    "duration": 25,
    "start_time": "2022-05-23T22:42:23.045Z"
   },
   {
    "duration": 23,
    "start_time": "2022-05-23T22:42:23.072Z"
   },
   {
    "duration": 12,
    "start_time": "2022-05-23T22:42:23.097Z"
   },
   {
    "duration": 22,
    "start_time": "2022-05-23T22:42:23.110Z"
   },
   {
    "duration": 9,
    "start_time": "2022-05-23T22:42:23.133Z"
   },
   {
    "duration": 20,
    "start_time": "2022-05-23T22:42:23.144Z"
   },
   {
    "duration": 5,
    "start_time": "2022-05-23T22:42:23.165Z"
   },
   {
    "duration": 13,
    "start_time": "2022-05-23T22:42:23.171Z"
   },
   {
    "duration": 11,
    "start_time": "2022-05-23T22:42:23.185Z"
   },
   {
    "duration": 6,
    "start_time": "2022-05-23T22:42:23.199Z"
   },
   {
    "duration": 11,
    "start_time": "2022-05-23T22:42:23.206Z"
   },
   {
    "duration": 13,
    "start_time": "2022-05-23T22:42:23.218Z"
   },
   {
    "duration": 23,
    "start_time": "2022-05-23T22:42:23.232Z"
   },
   {
    "duration": 18,
    "start_time": "2022-05-23T22:42:23.256Z"
   },
   {
    "duration": 24,
    "start_time": "2022-05-23T22:42:23.276Z"
   },
   {
    "duration": 22,
    "start_time": "2022-05-23T22:42:23.301Z"
   },
   {
    "duration": 14,
    "start_time": "2022-05-23T22:42:23.324Z"
   },
   {
    "duration": 13,
    "start_time": "2022-05-23T22:42:23.340Z"
   },
   {
    "duration": 23,
    "start_time": "2022-05-23T22:42:23.354Z"
   },
   {
    "duration": 21,
    "start_time": "2022-05-23T22:42:23.379Z"
   },
   {
    "duration": 24,
    "start_time": "2022-05-23T22:42:23.402Z"
   },
   {
    "duration": 4,
    "start_time": "2022-05-23T22:42:23.428Z"
   },
   {
    "duration": 9,
    "start_time": "2022-05-23T22:42:23.433Z"
   },
   {
    "duration": 8,
    "start_time": "2022-05-23T22:42:23.443Z"
   },
   {
    "duration": 7,
    "start_time": "2022-05-23T22:42:23.453Z"
   },
   {
    "duration": 12,
    "start_time": "2022-05-23T22:42:23.461Z"
   },
   {
    "duration": 9,
    "start_time": "2022-05-23T22:42:23.475Z"
   },
   {
    "duration": 42,
    "start_time": "2022-05-23T22:42:23.485Z"
   },
   {
    "duration": 3,
    "start_time": "2022-05-23T22:42:24.438Z"
   },
   {
    "duration": 86,
    "start_time": "2022-05-23T22:42:24.443Z"
   },
   {
    "duration": 13,
    "start_time": "2022-05-23T22:42:24.531Z"
   },
   {
    "duration": 26,
    "start_time": "2022-05-23T22:42:24.546Z"
   },
   {
    "duration": 8,
    "start_time": "2022-05-23T22:42:24.574Z"
   },
   {
    "duration": 23,
    "start_time": "2022-05-23T22:42:24.583Z"
   },
   {
    "duration": 22,
    "start_time": "2022-05-23T22:42:24.607Z"
   },
   {
    "duration": 11,
    "start_time": "2022-05-23T22:42:24.630Z"
   },
   {
    "duration": 5,
    "start_time": "2022-05-23T22:42:24.643Z"
   },
   {
    "duration": 13,
    "start_time": "2022-05-23T22:42:24.649Z"
   },
   {
    "duration": 6,
    "start_time": "2022-05-23T22:42:24.664Z"
   },
   {
    "duration": 9,
    "start_time": "2022-05-23T22:42:24.672Z"
   },
   {
    "duration": 8,
    "start_time": "2022-05-23T22:42:24.683Z"
   },
   {
    "duration": 34,
    "start_time": "2022-05-23T22:42:24.692Z"
   },
   {
    "duration": 12,
    "start_time": "2022-05-23T22:42:24.728Z"
   },
   {
    "duration": 12,
    "start_time": "2022-05-23T22:42:24.742Z"
   },
   {
    "duration": 9,
    "start_time": "2022-05-23T22:42:24.756Z"
   },
   {
    "duration": 15,
    "start_time": "2022-05-23T22:42:24.767Z"
   },
   {
    "duration": 7,
    "start_time": "2022-05-23T22:42:24.784Z"
   },
   {
    "duration": 46,
    "start_time": "2022-05-23T22:42:24.792Z"
   },
   {
    "duration": 5,
    "start_time": "2022-05-23T22:42:24.841Z"
   },
   {
    "duration": 8,
    "start_time": "2022-05-23T22:42:24.848Z"
   },
   {
    "duration": 13,
    "start_time": "2022-05-23T22:42:24.857Z"
   },
   {
    "duration": 13,
    "start_time": "2022-05-23T22:42:24.874Z"
   },
   {
    "duration": 8,
    "start_time": "2022-05-23T22:42:24.888Z"
   },
   {
    "duration": 5,
    "start_time": "2022-05-23T22:42:24.897Z"
   },
   {
    "duration": 24,
    "start_time": "2022-05-23T22:42:24.903Z"
   },
   {
    "duration": 9,
    "start_time": "2022-05-23T22:42:24.929Z"
   },
   {
    "duration": 11,
    "start_time": "2022-05-23T22:42:24.940Z"
   },
   {
    "duration": 15,
    "start_time": "2022-05-23T22:42:24.952Z"
   },
   {
    "duration": 11,
    "start_time": "2022-05-23T22:42:24.969Z"
   },
   {
    "duration": 8,
    "start_time": "2022-05-23T22:42:24.982Z"
   },
   {
    "duration": 5,
    "start_time": "2022-05-23T22:42:24.991Z"
   },
   {
    "duration": 32,
    "start_time": "2022-05-23T22:42:24.998Z"
   },
   {
    "duration": 16,
    "start_time": "2022-05-23T22:42:25.032Z"
   },
   {
    "duration": 15,
    "start_time": "2022-05-23T22:42:25.049Z"
   },
   {
    "duration": 11,
    "start_time": "2022-05-23T22:42:25.066Z"
   },
   {
    "duration": 20,
    "start_time": "2022-05-23T22:42:25.078Z"
   },
   {
    "duration": 41,
    "start_time": "2022-05-23T22:42:25.099Z"
   },
   {
    "duration": 5,
    "start_time": "2022-05-23T22:42:25.142Z"
   },
   {
    "duration": 7,
    "start_time": "2022-05-23T22:42:25.148Z"
   },
   {
    "duration": 19,
    "start_time": "2022-05-23T22:42:25.157Z"
   },
   {
    "duration": 9,
    "start_time": "2022-05-23T22:42:25.178Z"
   },
   {
    "duration": 10,
    "start_time": "2022-05-23T22:42:25.188Z"
   },
   {
    "duration": 8,
    "start_time": "2022-05-23T22:42:25.199Z"
   },
   {
    "duration": 32,
    "start_time": "2022-05-23T22:42:25.208Z"
   },
   {
    "duration": 15,
    "start_time": "2022-05-23T22:42:25.241Z"
   },
   {
    "duration": 16,
    "start_time": "2022-05-23T22:42:25.257Z"
   },
   {
    "duration": 9,
    "start_time": "2022-05-23T22:42:25.274Z"
   },
   {
    "duration": 10,
    "start_time": "2022-05-23T22:42:25.284Z"
   },
   {
    "duration": 8,
    "start_time": "2022-05-23T22:42:25.295Z"
   },
   {
    "duration": 9,
    "start_time": "2022-05-23T22:42:25.325Z"
   },
   {
    "duration": 9,
    "start_time": "2022-05-23T22:42:25.336Z"
   },
   {
    "duration": 6,
    "start_time": "2022-05-23T22:42:25.346Z"
   },
   {
    "duration": 7,
    "start_time": "2022-05-23T22:42:25.353Z"
   },
   {
    "duration": 10,
    "start_time": "2022-05-23T22:42:25.361Z"
   },
   {
    "duration": 18,
    "start_time": "2022-05-23T22:42:25.372Z"
   },
   {
    "duration": 5,
    "start_time": "2022-05-23T22:42:25.392Z"
   },
   {
    "duration": 10,
    "start_time": "2022-05-23T22:42:25.399Z"
   },
   {
    "duration": 24,
    "start_time": "2022-05-23T22:42:25.411Z"
   },
   {
    "duration": 9,
    "start_time": "2022-05-23T22:42:25.437Z"
   },
   {
    "duration": 4,
    "start_time": "2022-05-23T22:42:25.447Z"
   },
   {
    "duration": 7,
    "start_time": "2022-05-23T22:42:25.453Z"
   },
   {
    "duration": 15,
    "start_time": "2022-05-23T22:42:25.461Z"
   },
   {
    "duration": 13,
    "start_time": "2022-05-23T22:42:25.477Z"
   },
   {
    "duration": 13,
    "start_time": "2022-05-23T22:42:25.491Z"
   },
   {
    "duration": 22,
    "start_time": "2022-05-23T22:42:25.505Z"
   },
   {
    "duration": 7,
    "start_time": "2022-05-23T22:42:25.529Z"
   },
   {
    "duration": 10,
    "start_time": "2022-05-23T22:42:25.540Z"
   },
   {
    "duration": 11,
    "start_time": "2022-05-23T22:42:25.552Z"
   },
   {
    "duration": 5,
    "start_time": "2022-05-23T22:42:25.565Z"
   },
   {
    "duration": 5,
    "start_time": "2022-05-23T22:42:25.572Z"
   },
   {
    "duration": 10,
    "start_time": "2022-05-23T22:42:25.579Z"
   },
   {
    "duration": 9,
    "start_time": "2022-05-23T22:42:25.590Z"
   },
   {
    "duration": 13,
    "start_time": "2022-05-23T22:42:25.626Z"
   },
   {
    "duration": 5,
    "start_time": "2022-05-23T22:42:25.641Z"
   },
   {
    "duration": 6,
    "start_time": "2022-05-23T22:42:25.648Z"
   },
   {
    "duration": 11,
    "start_time": "2022-05-23T22:42:25.655Z"
   },
   {
    "duration": 14,
    "start_time": "2022-05-23T22:42:25.667Z"
   },
   {
    "duration": 7,
    "start_time": "2022-05-23T22:42:25.682Z"
   },
   {
    "duration": 13,
    "start_time": "2022-05-23T22:42:25.691Z"
   },
   {
    "duration": 24,
    "start_time": "2022-05-23T22:42:25.705Z"
   },
   {
    "duration": 21,
    "start_time": "2022-05-23T23:17:06.966Z"
   },
   {
    "duration": 13,
    "start_time": "2022-05-23T23:29:59.721Z"
   },
   {
    "duration": 10,
    "start_time": "2022-05-23T23:30:03.541Z"
   },
   {
    "duration": 74,
    "start_time": "2022-05-23T23:30:35.935Z"
   },
   {
    "duration": 11,
    "start_time": "2022-05-23T23:30:36.652Z"
   },
   {
    "duration": 14,
    "start_time": "2022-05-23T23:31:11.791Z"
   },
   {
    "duration": 15,
    "start_time": "2022-05-23T23:31:12.473Z"
   },
   {
    "duration": 50,
    "start_time": "2022-05-23T23:38:06.315Z"
   },
   {
    "duration": 46,
    "start_time": "2022-05-23T23:38:10.325Z"
   },
   {
    "duration": 2,
    "start_time": "2022-05-24T00:02:37.582Z"
   },
   {
    "duration": 76,
    "start_time": "2022-05-24T00:02:37.595Z"
   },
   {
    "duration": 12,
    "start_time": "2022-05-24T00:02:37.673Z"
   },
   {
    "duration": 18,
    "start_time": "2022-05-24T00:02:37.687Z"
   },
   {
    "duration": 38,
    "start_time": "2022-05-24T00:02:37.707Z"
   },
   {
    "duration": 19,
    "start_time": "2022-05-24T00:02:37.746Z"
   },
   {
    "duration": 4,
    "start_time": "2022-05-24T00:02:37.766Z"
   },
   {
    "duration": 10,
    "start_time": "2022-05-24T00:02:37.772Z"
   },
   {
    "duration": 5,
    "start_time": "2022-05-24T00:02:37.783Z"
   },
   {
    "duration": 40,
    "start_time": "2022-05-24T00:02:37.789Z"
   },
   {
    "duration": 25,
    "start_time": "2022-05-24T00:02:37.832Z"
   },
   {
    "duration": 8,
    "start_time": "2022-05-24T00:02:37.859Z"
   },
   {
    "duration": 7,
    "start_time": "2022-05-24T00:02:37.868Z"
   },
   {
    "duration": 7,
    "start_time": "2022-05-24T00:02:37.876Z"
   },
   {
    "duration": 13,
    "start_time": "2022-05-24T00:02:37.885Z"
   },
   {
    "duration": 13,
    "start_time": "2022-05-24T00:02:37.899Z"
   },
   {
    "duration": 20,
    "start_time": "2022-05-24T00:02:37.913Z"
   },
   {
    "duration": 34,
    "start_time": "2022-05-24T00:02:37.936Z"
   },
   {
    "duration": 8,
    "start_time": "2022-05-24T00:02:37.972Z"
   },
   {
    "duration": 24,
    "start_time": "2022-05-24T00:02:37.982Z"
   },
   {
    "duration": 18,
    "start_time": "2022-05-24T00:02:38.009Z"
   },
   {
    "duration": 14,
    "start_time": "2022-05-24T00:02:38.029Z"
   },
   {
    "duration": 6,
    "start_time": "2022-05-24T00:02:38.044Z"
   },
   {
    "duration": 11,
    "start_time": "2022-05-24T00:02:38.051Z"
   },
   {
    "duration": 5,
    "start_time": "2022-05-24T00:02:38.063Z"
   },
   {
    "duration": 7,
    "start_time": "2022-05-24T00:02:38.069Z"
   },
   {
    "duration": 8,
    "start_time": "2022-05-24T00:02:38.077Z"
   },
   {
    "duration": 13,
    "start_time": "2022-05-24T00:02:38.087Z"
   },
   {
    "duration": 5,
    "start_time": "2022-05-24T00:02:38.105Z"
   },
   {
    "duration": 30,
    "start_time": "2022-05-24T00:02:38.111Z"
   },
   {
    "duration": 20,
    "start_time": "2022-05-24T00:02:38.143Z"
   },
   {
    "duration": 11,
    "start_time": "2022-05-24T00:02:38.165Z"
   },
   {
    "duration": 6,
    "start_time": "2022-05-24T00:02:38.178Z"
   },
   {
    "duration": 16,
    "start_time": "2022-05-24T00:02:38.186Z"
   },
   {
    "duration": 35,
    "start_time": "2022-05-24T00:02:38.203Z"
   },
   {
    "duration": 17,
    "start_time": "2022-05-24T00:02:38.240Z"
   },
   {
    "duration": 12,
    "start_time": "2022-05-24T00:02:38.259Z"
   },
   {
    "duration": 20,
    "start_time": "2022-05-24T00:02:38.273Z"
   },
   {
    "duration": 17,
    "start_time": "2022-05-24T00:02:38.295Z"
   },
   {
    "duration": 25,
    "start_time": "2022-05-24T00:02:38.314Z"
   },
   {
    "duration": 9,
    "start_time": "2022-05-24T00:02:38.340Z"
   },
   {
    "duration": 7,
    "start_time": "2022-05-24T00:02:38.351Z"
   },
   {
    "duration": 7,
    "start_time": "2022-05-24T00:02:38.359Z"
   },
   {
    "duration": 13,
    "start_time": "2022-05-24T00:02:38.368Z"
   },
   {
    "duration": 8,
    "start_time": "2022-05-24T00:02:38.383Z"
   },
   {
    "duration": 22,
    "start_time": "2022-05-24T00:02:38.392Z"
   },
   {
    "duration": 20,
    "start_time": "2022-05-24T00:02:38.429Z"
   },
   {
    "duration": 18,
    "start_time": "2022-05-24T00:02:38.451Z"
   },
   {
    "duration": 10,
    "start_time": "2022-05-24T00:02:38.470Z"
   },
   {
    "duration": 15,
    "start_time": "2022-05-24T00:02:38.482Z"
   },
   {
    "duration": 7,
    "start_time": "2022-05-24T00:02:38.499Z"
   },
   {
    "duration": 38,
    "start_time": "2022-05-24T00:02:38.507Z"
   },
   {
    "duration": 14,
    "start_time": "2022-05-24T00:02:38.547Z"
   },
   {
    "duration": 10,
    "start_time": "2022-05-24T00:02:38.562Z"
   },
   {
    "duration": 12,
    "start_time": "2022-05-24T00:02:38.573Z"
   },
   {
    "duration": 10,
    "start_time": "2022-05-24T00:02:38.587Z"
   },
   {
    "duration": 18,
    "start_time": "2022-05-24T00:02:38.598Z"
   },
   {
    "duration": 4,
    "start_time": "2022-05-24T00:02:38.618Z"
   },
   {
    "duration": 21,
    "start_time": "2022-05-24T00:02:38.624Z"
   },
   {
    "duration": 20,
    "start_time": "2022-05-24T00:02:38.647Z"
   },
   {
    "duration": 8,
    "start_time": "2022-05-24T00:02:38.669Z"
   },
   {
    "duration": 3,
    "start_time": "2022-05-24T00:02:38.679Z"
   },
   {
    "duration": 8,
    "start_time": "2022-05-24T00:02:38.684Z"
   },
   {
    "duration": 15,
    "start_time": "2022-05-24T00:02:38.693Z"
   },
   {
    "duration": 12,
    "start_time": "2022-05-24T00:02:38.709Z"
   },
   {
    "duration": 29,
    "start_time": "2022-05-24T00:02:38.722Z"
   },
   {
    "duration": 7,
    "start_time": "2022-05-24T00:02:38.752Z"
   },
   {
    "duration": 7,
    "start_time": "2022-05-24T00:02:38.761Z"
   },
   {
    "duration": 9,
    "start_time": "2022-05-24T00:02:38.770Z"
   },
   {
    "duration": 15,
    "start_time": "2022-05-24T00:02:38.781Z"
   },
   {
    "duration": 5,
    "start_time": "2022-05-24T00:02:38.798Z"
   },
   {
    "duration": 9,
    "start_time": "2022-05-24T00:02:38.804Z"
   },
   {
    "duration": 22,
    "start_time": "2022-05-24T00:02:38.814Z"
   },
   {
    "duration": 9,
    "start_time": "2022-05-24T00:02:38.838Z"
   },
   {
    "duration": 15,
    "start_time": "2022-05-24T00:02:38.848Z"
   },
   {
    "duration": 5,
    "start_time": "2022-05-24T00:02:38.864Z"
   },
   {
    "duration": 5,
    "start_time": "2022-05-24T00:02:38.871Z"
   },
   {
    "duration": 13,
    "start_time": "2022-05-24T00:02:38.877Z"
   },
   {
    "duration": 16,
    "start_time": "2022-05-24T00:02:38.891Z"
   },
   {
    "duration": 7,
    "start_time": "2022-05-24T00:02:38.909Z"
   },
   {
    "duration": 25,
    "start_time": "2022-05-24T00:02:38.917Z"
   },
   {
    "duration": 25,
    "start_time": "2022-05-24T00:02:38.945Z"
   },
   {
    "duration": 421,
    "start_time": "2022-05-24T13:54:33.335Z"
   },
   {
    "duration": 148,
    "start_time": "2022-05-24T13:54:33.760Z"
   },
   {
    "duration": 26,
    "start_time": "2022-05-24T13:54:33.910Z"
   },
   {
    "duration": 22,
    "start_time": "2022-05-24T13:54:33.938Z"
   },
   {
    "duration": 14,
    "start_time": "2022-05-24T13:54:33.962Z"
   },
   {
    "duration": 54,
    "start_time": "2022-05-24T13:54:33.978Z"
   },
   {
    "duration": 5,
    "start_time": "2022-05-24T13:54:34.035Z"
   },
   {
    "duration": 21,
    "start_time": "2022-05-24T13:54:34.042Z"
   },
   {
    "duration": 7,
    "start_time": "2022-05-24T13:54:34.065Z"
   },
   {
    "duration": 37,
    "start_time": "2022-05-24T13:54:34.075Z"
   },
   {
    "duration": 5,
    "start_time": "2022-05-24T13:54:34.114Z"
   },
   {
    "duration": 9,
    "start_time": "2022-05-24T13:54:34.121Z"
   },
   {
    "duration": 5,
    "start_time": "2022-05-24T13:54:34.132Z"
   },
   {
    "duration": 7,
    "start_time": "2022-05-24T13:54:34.139Z"
   },
   {
    "duration": 20,
    "start_time": "2022-05-24T13:54:34.147Z"
   },
   {
    "duration": 44,
    "start_time": "2022-05-24T13:54:34.170Z"
   },
   {
    "duration": 14,
    "start_time": "2022-05-24T13:54:34.216Z"
   },
   {
    "duration": 19,
    "start_time": "2022-05-24T13:54:34.232Z"
   },
   {
    "duration": 8,
    "start_time": "2022-05-24T13:54:34.253Z"
   },
   {
    "duration": 27,
    "start_time": "2022-05-24T13:54:34.263Z"
   },
   {
    "duration": 25,
    "start_time": "2022-05-24T13:54:34.292Z"
   },
   {
    "duration": 12,
    "start_time": "2022-05-24T13:54:34.319Z"
   },
   {
    "duration": 9,
    "start_time": "2022-05-24T13:54:34.333Z"
   },
   {
    "duration": 18,
    "start_time": "2022-05-24T13:54:34.344Z"
   },
   {
    "duration": 6,
    "start_time": "2022-05-24T13:54:34.364Z"
   },
   {
    "duration": 5,
    "start_time": "2022-05-24T13:54:34.372Z"
   },
   {
    "duration": 6,
    "start_time": "2022-05-24T13:54:34.413Z"
   },
   {
    "duration": 11,
    "start_time": "2022-05-24T13:54:34.425Z"
   },
   {
    "duration": 11,
    "start_time": "2022-05-24T13:54:34.439Z"
   },
   {
    "duration": 19,
    "start_time": "2022-05-24T13:54:34.453Z"
   },
   {
    "duration": 10,
    "start_time": "2022-05-24T13:54:34.474Z"
   },
   {
    "duration": 30,
    "start_time": "2022-05-24T13:54:34.486Z"
   },
   {
    "duration": 9,
    "start_time": "2022-05-24T13:54:34.518Z"
   },
   {
    "duration": 27,
    "start_time": "2022-05-24T13:54:34.530Z"
   },
   {
    "duration": 26,
    "start_time": "2022-05-24T13:54:34.559Z"
   },
   {
    "duration": 25,
    "start_time": "2022-05-24T13:54:34.611Z"
   },
   {
    "duration": 19,
    "start_time": "2022-05-24T13:54:34.639Z"
   },
   {
    "duration": 28,
    "start_time": "2022-05-24T13:54:34.660Z"
   },
   {
    "duration": 49,
    "start_time": "2022-05-24T13:54:34.690Z"
   },
   {
    "duration": 8,
    "start_time": "2022-05-24T13:54:34.742Z"
   },
   {
    "duration": 11,
    "start_time": "2022-05-24T13:54:34.752Z"
   },
   {
    "duration": 10,
    "start_time": "2022-05-24T13:54:34.765Z"
   },
   {
    "duration": 42,
    "start_time": "2022-05-24T13:54:34.777Z"
   },
   {
    "duration": 18,
    "start_time": "2022-05-24T13:54:34.822Z"
   },
   {
    "duration": 11,
    "start_time": "2022-05-24T13:54:34.842Z"
   },
   {
    "duration": 19,
    "start_time": "2022-05-24T13:54:34.855Z"
   },
   {
    "duration": 50,
    "start_time": "2022-05-24T13:54:34.876Z"
   },
   {
    "duration": 19,
    "start_time": "2022-05-24T13:54:34.927Z"
   },
   {
    "duration": 11,
    "start_time": "2022-05-24T13:54:34.948Z"
   },
   {
    "duration": 10,
    "start_time": "2022-05-24T13:54:34.961Z"
   },
   {
    "duration": 40,
    "start_time": "2022-05-24T13:54:34.973Z"
   },
   {
    "duration": 13,
    "start_time": "2022-05-24T13:54:35.015Z"
   },
   {
    "duration": 10,
    "start_time": "2022-05-24T13:54:35.030Z"
   },
   {
    "duration": 10,
    "start_time": "2022-05-24T13:54:35.041Z"
   },
   {
    "duration": 9,
    "start_time": "2022-05-24T13:54:35.053Z"
   },
   {
    "duration": 7,
    "start_time": "2022-05-24T13:54:35.064Z"
   },
   {
    "duration": 42,
    "start_time": "2022-05-24T13:54:35.074Z"
   },
   {
    "duration": 5,
    "start_time": "2022-05-24T13:54:35.118Z"
   },
   {
    "duration": 15,
    "start_time": "2022-05-24T13:54:35.125Z"
   },
   {
    "duration": 19,
    "start_time": "2022-05-24T13:54:35.142Z"
   },
   {
    "duration": 9,
    "start_time": "2022-05-24T13:54:35.163Z"
   },
   {
    "duration": 7,
    "start_time": "2022-05-24T13:54:35.174Z"
   },
   {
    "duration": 10,
    "start_time": "2022-05-24T13:54:35.183Z"
   },
   {
    "duration": 21,
    "start_time": "2022-05-24T13:54:35.211Z"
   },
   {
    "duration": 20,
    "start_time": "2022-05-24T13:54:35.234Z"
   },
   {
    "duration": 15,
    "start_time": "2022-05-24T13:54:35.256Z"
   },
   {
    "duration": 10,
    "start_time": "2022-05-24T13:54:35.273Z"
   },
   {
    "duration": 33,
    "start_time": "2022-05-24T13:54:35.284Z"
   },
   {
    "duration": 17,
    "start_time": "2022-05-24T13:54:35.320Z"
   },
   {
    "duration": 18,
    "start_time": "2022-05-24T13:54:35.339Z"
   },
   {
    "duration": 7,
    "start_time": "2022-05-24T13:54:35.359Z"
   },
   {
    "duration": 6,
    "start_time": "2022-05-24T13:54:35.368Z"
   },
   {
    "duration": 10,
    "start_time": "2022-05-24T13:54:35.375Z"
   },
   {
    "duration": 30,
    "start_time": "2022-05-24T13:54:35.386Z"
   },
   {
    "duration": 20,
    "start_time": "2022-05-24T13:54:35.418Z"
   },
   {
    "duration": 8,
    "start_time": "2022-05-24T13:54:35.440Z"
   },
   {
    "duration": 8,
    "start_time": "2022-05-24T13:54:35.450Z"
   },
   {
    "duration": 17,
    "start_time": "2022-05-24T13:54:35.460Z"
   },
   {
    "duration": 33,
    "start_time": "2022-05-24T13:54:35.479Z"
   },
   {
    "duration": 11,
    "start_time": "2022-05-24T13:54:35.515Z"
   },
   {
    "duration": 8,
    "start_time": "2022-05-24T13:54:35.528Z"
   },
   {
    "duration": 9,
    "start_time": "2022-05-24T13:54:35.541Z"
   }
  ],
  "kernelspec": {
   "display_name": "Python 3 (ipykernel)",
   "language": "python",
   "name": "python3"
  },
  "language_info": {
   "codemirror_mode": {
    "name": "ipython",
    "version": 3
   },
   "file_extension": ".py",
   "mimetype": "text/x-python",
   "name": "python",
   "nbconvert_exporter": "python",
   "pygments_lexer": "ipython3",
   "version": "3.9.7"
  },
  "toc": {
   "base_numbering": 1,
   "nav_menu": {},
   "number_sections": true,
   "sideBar": true,
   "skip_h1_title": true,
   "title_cell": "Table of Contents",
   "title_sidebar": "Contents",
   "toc_cell": false,
   "toc_position": {},
   "toc_section_display": true,
   "toc_window_display": false
  }
 },
 "nbformat": 4,
 "nbformat_minor": 5
}
