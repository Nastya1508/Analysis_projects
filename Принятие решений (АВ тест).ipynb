{
 "cells": [
  {
   "cell_type": "markdown",
   "metadata": {
    "id": "r-BO88CnWVwe"
   },
   "source": [
    "# Принятие решений (A/B тест)"
   ]
  },
  {
   "cell_type": "markdown",
   "metadata": {},
   "source": [
    "Вы — аналитик крупного интернет-магазина. Вместе с отделом маркетинга вы подготовили список гипотез для увеличения выручки.\n",
    "Приоритизируйте гипотезы, запустите A/B-тест и проанализируйте результаты."
   ]
  },
  {
   "cell_type": "markdown",
   "metadata": {},
   "source": [
    "Анализ A/B-тестов помогает глубже понять особенности поведения пользователей.\n",
    "Само тестирование - хороший маркетинговый инструмент для повышения эффективности интернет-ресурса."
   ]
  },
  {
   "cell_type": "markdown",
   "metadata": {},
   "source": [
    "Идея A/B тестирования очень проста. Пользователи делятся на сегменты. Один из сегментов остается без изменений — это контрольный сегмент “A”, на основе данных по этому сегменту мы будем оценивать эффект от вносимых изменений. Пользователям из сегмента “B” показываем измененную версию ресурса.\n",
    "\n",
    "Чтобы получить статистически значимый результат, очень важно исключить влияние сегментов друг на друга, т.е. пользователь должен быть отнесен строго к одному сегменту."
   ]
  },
  {
   "cell_type": "markdown",
   "metadata": {},
   "source": [
    "### Часть 1. Приоритизация гипотез"
   ]
  },
  {
   "cell_type": "markdown",
   "metadata": {},
   "source": [
    "В файле 'hypothesis.csv' 9 гипотез по увеличению выручки интернет-магазина с указанными параметрами Reach, Impact, Confidence, Effort."
   ]
  },
  {
   "cell_type": "markdown",
   "metadata": {},
   "source": [
    "##### Задача"
   ]
  },
  {
   "cell_type": "markdown",
   "metadata": {},
   "source": [
    "- Примените фреймворк ICE для приоритизации гипотез. Отсортируйте их по убыванию приоритета.\n",
    "- Примените фреймворк RICE для приоритизации гипотез. Отсортируйте их по убыванию приоритета.\n",
    "- Укажите, как изменилась приоритизация гипотез при применении RICE вместо ICE. Объясните, почему так произошло."
   ]
  },
  {
   "cell_type": "markdown",
   "metadata": {},
   "source": [
    "##### Описание данных:"
   ]
  },
  {
   "cell_type": "markdown",
   "metadata": {},
   "source": [
    "Файл `/datasets/hypothesis.csv`.\n",
    "- `Hypothesis` — краткое описание гипотезы;\n",
    "- `Reach` — охват пользователей по 10-балльной шкале;\n",
    "- `Impact` — влияние на пользователей по 10-балльной шкале;\n",
    "- `Confidence` — уверенность в гипотезе по 10-балльной шкале;\n",
    "- `Efforts` — затраты ресурсов на проверку гипотезы по 10-балльной шкале. Чем больше значение Efforts, тем дороже проверка гипотезы."
   ]
  },
  {
   "cell_type": "markdown",
   "metadata": {},
   "source": [
    "### Часть 2. Анализ A/B-теста"
   ]
  },
  {
   "cell_type": "markdown",
   "metadata": {},
   "source": [
    "##### Задача"
   ]
  },
  {
   "cell_type": "markdown",
   "metadata": {},
   "source": [
    "Проанализируйте A/B-тест:\n",
    "1. Постройте график кумулятивной выручки по группам. Сделайте выводы и предположения.\n",
    "2. Постройте график кумулятивного среднего чека по группам. Сделайте выводы и предположения.\n",
    "3. Постройте график относительного изменения кумулятивного среднего чека группы B к группе A. Сделайте выводы и предположения.\n",
    "4. Постройте график кумулятивной конверсии по группам. Сделайте выводы и предположения.\n",
    "5. Постройте график относительного изменения кумулятивной конверсии группы B к группе A. Сделайте выводы и предположения.\n",
    "6. Постройте точечный график количества заказов по пользователям. Сделайте выводы и предположения.\n",
    "7. Посчитайте 95-й и 99-й перцентили количества заказов на пользователя. Выберите границу для определения аномальных пользователей.\n",
    "8. Постройте точечный график стоимостей заказов. Сделайте выводы и предположения.\n",
    "9. Посчитайте 95-й и 99-й перцентили стоимости заказов. Выберите границу для определения аномальных заказов.\n",
    "10. Посчитайте статистическую значимость различий в конверсии между группами по «сырым» данным. Сделайте выводы и предположения.\n",
    "11. Посчитайте статистическую значимость различий в среднем чеке заказа между группами по «сырым» данным. Сделайте выводы и предположения.\n",
    "12. Посчитайте статистическую значимость различий в конверсии между группами по «очищенным» данным. Сделайте выводы и предположения.\n",
    "13. Посчитайте статистическую значимость различий в среднем чеке заказа между группами по «очищенным» данным. Сделайте выводы и предположения.\n",
    "14. Примите решение по результатам теста и объясните его. Варианты решений: \n",
    "- Остановить тест, зафиксировать победу одной из групп;\n",
    "- Остановить тест, зафиксировать отсутствие различий между группами;\n",
    "- Продолжить тест."
   ]
  },
  {
   "cell_type": "markdown",
   "metadata": {},
   "source": [
    "##### Описание данных:"
   ]
  },
  {
   "cell_type": "markdown",
   "metadata": {},
   "source": [
    "Файл `/datasets/orders.csv`.\n",
    "- `transactionId` — идентификатор заказа;\n",
    "- `visitorId` — идентификатор пользователя, совершившего заказ;\n",
    "- `date` — дата, когда был совершён заказ;\n",
    "- `revenue` — выручка заказа;\n",
    "- `group` — группа A/B-теста, в которую попал заказ.\n",
    "\n",
    "Файл `/datasets/visitors.csv`.\n",
    "- `date` — дата;\n",
    "- `group` — группа A/B-теста;\n",
    "- `visitors` — количество пользователей в указанную дату в указанной группе A/B-теста."
   ]
  },
  {
   "cell_type": "markdown",
   "metadata": {},
   "source": [
    "### 1. Предобработка данных"
   ]
  },
  {
   "cell_type": "markdown",
   "metadata": {
    "id": "LCZi0P80WVwj"
   },
   "source": [
    "**Пути к файлам**\n",
    "\n",
    "- гипотезы: `/datasets/hypothesis.csv`. https://code.s3.yandex.net/datasets/hypothesis.csv\n",
    "- заказы: `/datasets/orders.csv`. https://code.s3.yandex.net/datasets/orders.csv\n",
    "- расходы: `/datasets/visitors.csv`. https://code.s3.yandex.net/datasets/visitors.csv\n",
    "\n",
    "В файле 'hypothesis.csv' 9 гипотез по увеличению выручки интернет-магазина с указанными параметрами Reach, Impact, Confidence, Effort."
   ]
  },
  {
   "cell_type": "code",
   "execution_count": 1,
   "metadata": {},
   "outputs": [],
   "source": [
    "#подключим необходимые библиотеки\n",
    "import pandas as pd\n",
    "import numpy as np\n",
    "import datetime as dt\n",
    "from datetime import date, datetime, timedelta\n",
    "from matplotlib import pyplot as plt\n",
    "import seaborn as sns\n",
    "from IPython.display import display\n",
    "import scipy.stats as stats"
   ]
  },
  {
   "cell_type": "code",
   "execution_count": 2,
   "metadata": {},
   "outputs": [],
   "source": [
    "#открываем файлы\n",
    "hypothesis = pd.read_csv('C:/Users/nasty/OneDrive/Документы/Яндекс Практикум/Проект Принятие решений (AB)/hypothesis.csv')\n",
    "orders = pd.read_csv('C:/Users/nasty/OneDrive/Документы/Яндекс Практикум/Проект Принятие решений (AB)/orders.csv')\n",
    "visitors = pd.read_csv('C:/Users/nasty/OneDrive/Документы/Яндекс Практикум/Проект Принятие решений (AB)/visitors.csv')"
   ]
  },
  {
   "cell_type": "markdown",
   "metadata": {},
   "source": [
    "Выведем таблицы для предварительного ознакомления."
   ]
  },
  {
   "cell_type": "code",
   "execution_count": 3,
   "metadata": {},
   "outputs": [
    {
     "data": {
      "text/html": [
       "<div>\n",
       "<style scoped>\n",
       "    .dataframe tbody tr th:only-of-type {\n",
       "        vertical-align: middle;\n",
       "    }\n",
       "\n",
       "    .dataframe tbody tr th {\n",
       "        vertical-align: top;\n",
       "    }\n",
       "\n",
       "    .dataframe thead th {\n",
       "        text-align: right;\n",
       "    }\n",
       "</style>\n",
       "<table border=\"1\" class=\"dataframe\">\n",
       "  <thead>\n",
       "    <tr style=\"text-align: right;\">\n",
       "      <th></th>\n",
       "      <th>Hypothesis</th>\n",
       "      <th>Reach</th>\n",
       "      <th>Impact</th>\n",
       "      <th>Confidence</th>\n",
       "      <th>Efforts</th>\n",
       "    </tr>\n",
       "  </thead>\n",
       "  <tbody>\n",
       "    <tr>\n",
       "      <th>0</th>\n",
       "      <td>Добавить два новых канала привлечения трафика,...</td>\n",
       "      <td>3</td>\n",
       "      <td>10</td>\n",
       "      <td>8</td>\n",
       "      <td>6</td>\n",
       "    </tr>\n",
       "    <tr>\n",
       "      <th>1</th>\n",
       "      <td>Запустить собственную службу доставки, что сок...</td>\n",
       "      <td>2</td>\n",
       "      <td>5</td>\n",
       "      <td>4</td>\n",
       "      <td>10</td>\n",
       "    </tr>\n",
       "    <tr>\n",
       "      <th>2</th>\n",
       "      <td>Добавить блоки рекомендаций товаров на сайт ин...</td>\n",
       "      <td>8</td>\n",
       "      <td>3</td>\n",
       "      <td>7</td>\n",
       "      <td>3</td>\n",
       "    </tr>\n",
       "    <tr>\n",
       "      <th>3</th>\n",
       "      <td>Изменить структура категорий, что увеличит кон...</td>\n",
       "      <td>8</td>\n",
       "      <td>3</td>\n",
       "      <td>3</td>\n",
       "      <td>8</td>\n",
       "    </tr>\n",
       "    <tr>\n",
       "      <th>4</th>\n",
       "      <td>Изменить цвет фона главной страницы, чтобы уве...</td>\n",
       "      <td>3</td>\n",
       "      <td>1</td>\n",
       "      <td>1</td>\n",
       "      <td>1</td>\n",
       "    </tr>\n",
       "    <tr>\n",
       "      <th>5</th>\n",
       "      <td>Добавить страницу отзывов клиентов о магазине,...</td>\n",
       "      <td>3</td>\n",
       "      <td>2</td>\n",
       "      <td>2</td>\n",
       "      <td>3</td>\n",
       "    </tr>\n",
       "    <tr>\n",
       "      <th>6</th>\n",
       "      <td>Показать на главной странице баннеры с актуаль...</td>\n",
       "      <td>5</td>\n",
       "      <td>3</td>\n",
       "      <td>8</td>\n",
       "      <td>3</td>\n",
       "    </tr>\n",
       "    <tr>\n",
       "      <th>7</th>\n",
       "      <td>Добавить форму подписки на все основные страни...</td>\n",
       "      <td>10</td>\n",
       "      <td>7</td>\n",
       "      <td>8</td>\n",
       "      <td>5</td>\n",
       "    </tr>\n",
       "    <tr>\n",
       "      <th>8</th>\n",
       "      <td>Запустить акцию, дающую скидку на товар в день...</td>\n",
       "      <td>1</td>\n",
       "      <td>9</td>\n",
       "      <td>9</td>\n",
       "      <td>5</td>\n",
       "    </tr>\n",
       "  </tbody>\n",
       "</table>\n",
       "</div>"
      ],
      "text/plain": [
       "                                          Hypothesis  Reach  Impact  \\\n",
       "0  Добавить два новых канала привлечения трафика,...      3      10   \n",
       "1  Запустить собственную службу доставки, что сок...      2       5   \n",
       "2  Добавить блоки рекомендаций товаров на сайт ин...      8       3   \n",
       "3  Изменить структура категорий, что увеличит кон...      8       3   \n",
       "4  Изменить цвет фона главной страницы, чтобы уве...      3       1   \n",
       "5  Добавить страницу отзывов клиентов о магазине,...      3       2   \n",
       "6  Показать на главной странице баннеры с актуаль...      5       3   \n",
       "7  Добавить форму подписки на все основные страни...     10       7   \n",
       "8  Запустить акцию, дающую скидку на товар в день...      1       9   \n",
       "\n",
       "   Confidence  Efforts  \n",
       "0           8        6  \n",
       "1           4       10  \n",
       "2           7        3  \n",
       "3           3        8  \n",
       "4           1        1  \n",
       "5           2        3  \n",
       "6           8        3  \n",
       "7           8        5  \n",
       "8           9        5  "
      ]
     },
     "execution_count": 3,
     "metadata": {},
     "output_type": "execute_result"
    }
   ],
   "source": [
    "hypothesis"
   ]
  },
  {
   "cell_type": "code",
   "execution_count": 4,
   "metadata": {},
   "outputs": [
    {
     "data": {
      "text/html": [
       "<div>\n",
       "<style scoped>\n",
       "    .dataframe tbody tr th:only-of-type {\n",
       "        vertical-align: middle;\n",
       "    }\n",
       "\n",
       "    .dataframe tbody tr th {\n",
       "        vertical-align: top;\n",
       "    }\n",
       "\n",
       "    .dataframe thead th {\n",
       "        text-align: right;\n",
       "    }\n",
       "</style>\n",
       "<table border=\"1\" class=\"dataframe\">\n",
       "  <thead>\n",
       "    <tr style=\"text-align: right;\">\n",
       "      <th></th>\n",
       "      <th>transactionId</th>\n",
       "      <th>visitorId</th>\n",
       "      <th>date</th>\n",
       "      <th>revenue</th>\n",
       "      <th>group</th>\n",
       "    </tr>\n",
       "  </thead>\n",
       "  <tbody>\n",
       "    <tr>\n",
       "      <th>0</th>\n",
       "      <td>3667963787</td>\n",
       "      <td>3312258926</td>\n",
       "      <td>2019-08-15</td>\n",
       "      <td>1650</td>\n",
       "      <td>B</td>\n",
       "    </tr>\n",
       "    <tr>\n",
       "      <th>1</th>\n",
       "      <td>2804400009</td>\n",
       "      <td>3642806036</td>\n",
       "      <td>2019-08-15</td>\n",
       "      <td>730</td>\n",
       "      <td>B</td>\n",
       "    </tr>\n",
       "    <tr>\n",
       "      <th>2</th>\n",
       "      <td>2961555356</td>\n",
       "      <td>4069496402</td>\n",
       "      <td>2019-08-15</td>\n",
       "      <td>400</td>\n",
       "      <td>A</td>\n",
       "    </tr>\n",
       "    <tr>\n",
       "      <th>3</th>\n",
       "      <td>3797467345</td>\n",
       "      <td>1196621759</td>\n",
       "      <td>2019-08-15</td>\n",
       "      <td>9759</td>\n",
       "      <td>B</td>\n",
       "    </tr>\n",
       "    <tr>\n",
       "      <th>4</th>\n",
       "      <td>2282983706</td>\n",
       "      <td>2322279887</td>\n",
       "      <td>2019-08-15</td>\n",
       "      <td>2308</td>\n",
       "      <td>B</td>\n",
       "    </tr>\n",
       "  </tbody>\n",
       "</table>\n",
       "</div>"
      ],
      "text/plain": [
       "   transactionId   visitorId        date  revenue group\n",
       "0     3667963787  3312258926  2019-08-15     1650     B\n",
       "1     2804400009  3642806036  2019-08-15      730     B\n",
       "2     2961555356  4069496402  2019-08-15      400     A\n",
       "3     3797467345  1196621759  2019-08-15     9759     B\n",
       "4     2282983706  2322279887  2019-08-15     2308     B"
      ]
     },
     "execution_count": 4,
     "metadata": {},
     "output_type": "execute_result"
    }
   ],
   "source": [
    "orders.head()"
   ]
  },
  {
   "cell_type": "code",
   "execution_count": 5,
   "metadata": {},
   "outputs": [
    {
     "data": {
      "text/html": [
       "<div>\n",
       "<style scoped>\n",
       "    .dataframe tbody tr th:only-of-type {\n",
       "        vertical-align: middle;\n",
       "    }\n",
       "\n",
       "    .dataframe tbody tr th {\n",
       "        vertical-align: top;\n",
       "    }\n",
       "\n",
       "    .dataframe thead th {\n",
       "        text-align: right;\n",
       "    }\n",
       "</style>\n",
       "<table border=\"1\" class=\"dataframe\">\n",
       "  <thead>\n",
       "    <tr style=\"text-align: right;\">\n",
       "      <th></th>\n",
       "      <th>date</th>\n",
       "      <th>group</th>\n",
       "      <th>visitors</th>\n",
       "    </tr>\n",
       "  </thead>\n",
       "  <tbody>\n",
       "    <tr>\n",
       "      <th>0</th>\n",
       "      <td>2019-08-01</td>\n",
       "      <td>A</td>\n",
       "      <td>719</td>\n",
       "    </tr>\n",
       "    <tr>\n",
       "      <th>1</th>\n",
       "      <td>2019-08-02</td>\n",
       "      <td>A</td>\n",
       "      <td>619</td>\n",
       "    </tr>\n",
       "    <tr>\n",
       "      <th>2</th>\n",
       "      <td>2019-08-03</td>\n",
       "      <td>A</td>\n",
       "      <td>507</td>\n",
       "    </tr>\n",
       "    <tr>\n",
       "      <th>3</th>\n",
       "      <td>2019-08-04</td>\n",
       "      <td>A</td>\n",
       "      <td>717</td>\n",
       "    </tr>\n",
       "    <tr>\n",
       "      <th>4</th>\n",
       "      <td>2019-08-05</td>\n",
       "      <td>A</td>\n",
       "      <td>756</td>\n",
       "    </tr>\n",
       "  </tbody>\n",
       "</table>\n",
       "</div>"
      ],
      "text/plain": [
       "         date group  visitors\n",
       "0  2019-08-01     A       719\n",
       "1  2019-08-02     A       619\n",
       "2  2019-08-03     A       507\n",
       "3  2019-08-04     A       717\n",
       "4  2019-08-05     A       756"
      ]
     },
     "execution_count": 5,
     "metadata": {},
     "output_type": "execute_result"
    }
   ],
   "source": [
    "visitors.head()"
   ]
  },
  {
   "cell_type": "markdown",
   "metadata": {},
   "source": [
    "Узнаем информацию об этих таблицах."
   ]
  },
  {
   "cell_type": "code",
   "execution_count": 6,
   "metadata": {},
   "outputs": [
    {
     "name": "stdout",
     "output_type": "stream",
     "text": [
      "<class 'pandas.core.frame.DataFrame'>\n",
      "RangeIndex: 9 entries, 0 to 8\n",
      "Data columns (total 5 columns):\n",
      " #   Column      Non-Null Count  Dtype \n",
      "---  ------      --------------  ----- \n",
      " 0   Hypothesis  9 non-null      object\n",
      " 1   Reach       9 non-null      int64 \n",
      " 2   Impact      9 non-null      int64 \n",
      " 3   Confidence  9 non-null      int64 \n",
      " 4   Efforts     9 non-null      int64 \n",
      "dtypes: int64(4), object(1)\n",
      "memory usage: 488.0+ bytes\n"
     ]
    }
   ],
   "source": [
    "hypothesis.info()"
   ]
  },
  {
   "cell_type": "code",
   "execution_count": 7,
   "metadata": {},
   "outputs": [
    {
     "name": "stdout",
     "output_type": "stream",
     "text": [
      "<class 'pandas.core.frame.DataFrame'>\n",
      "RangeIndex: 1197 entries, 0 to 1196\n",
      "Data columns (total 5 columns):\n",
      " #   Column         Non-Null Count  Dtype \n",
      "---  ------         --------------  ----- \n",
      " 0   transactionId  1197 non-null   int64 \n",
      " 1   visitorId      1197 non-null   int64 \n",
      " 2   date           1197 non-null   object\n",
      " 3   revenue        1197 non-null   int64 \n",
      " 4   group          1197 non-null   object\n",
      "dtypes: int64(3), object(2)\n",
      "memory usage: 46.9+ KB\n"
     ]
    }
   ],
   "source": [
    "orders.info()"
   ]
  },
  {
   "cell_type": "code",
   "execution_count": 8,
   "metadata": {},
   "outputs": [
    {
     "name": "stdout",
     "output_type": "stream",
     "text": [
      "<class 'pandas.core.frame.DataFrame'>\n",
      "RangeIndex: 62 entries, 0 to 61\n",
      "Data columns (total 3 columns):\n",
      " #   Column    Non-Null Count  Dtype \n",
      "---  ------    --------------  ----- \n",
      " 0   date      62 non-null     object\n",
      " 1   group     62 non-null     object\n",
      " 2   visitors  62 non-null     int64 \n",
      "dtypes: int64(1), object(2)\n",
      "memory usage: 1.6+ KB\n"
     ]
    }
   ],
   "source": [
    "visitors.info()"
   ]
  },
  {
   "cell_type": "markdown",
   "metadata": {},
   "source": [
    "Таблица hypothesis готова для анализа."
   ]
  },
  {
   "cell_type": "markdown",
   "metadata": {},
   "source": [
    "В таблицах orders и visitors можно обратим внимание на даты. Тип столбца неверный, приведем к нужному формату даты:"
   ]
  },
  {
   "cell_type": "code",
   "execution_count": 9,
   "metadata": {},
   "outputs": [],
   "source": [
    "orders['date'] = orders['date'].map(\n",
    "    lambda x: dt.datetime.strptime(x, '%Y-%m-%d')\n",
    ")"
   ]
  },
  {
   "cell_type": "code",
   "execution_count": 10,
   "metadata": {},
   "outputs": [],
   "source": [
    "visitors['date'] = visitors['date'].map(\n",
    "    lambda x: dt.datetime.strptime(x, '%Y-%m-%d')\n",
    ")"
   ]
  },
  {
   "cell_type": "code",
   "execution_count": 11,
   "metadata": {},
   "outputs": [
    {
     "name": "stdout",
     "output_type": "stream",
     "text": [
      "<class 'pandas.core.frame.DataFrame'>\n",
      "RangeIndex: 1197 entries, 0 to 1196\n",
      "Data columns (total 5 columns):\n",
      " #   Column         Non-Null Count  Dtype         \n",
      "---  ------         --------------  -----         \n",
      " 0   transactionId  1197 non-null   int64         \n",
      " 1   visitorId      1197 non-null   int64         \n",
      " 2   date           1197 non-null   datetime64[ns]\n",
      " 3   revenue        1197 non-null   int64         \n",
      " 4   group          1197 non-null   object        \n",
      "dtypes: datetime64[ns](1), int64(3), object(1)\n",
      "memory usage: 46.9+ KB\n"
     ]
    }
   ],
   "source": [
    "orders.info()"
   ]
  },
  {
   "cell_type": "code",
   "execution_count": 12,
   "metadata": {},
   "outputs": [
    {
     "name": "stdout",
     "output_type": "stream",
     "text": [
      "<class 'pandas.core.frame.DataFrame'>\n",
      "RangeIndex: 62 entries, 0 to 61\n",
      "Data columns (total 3 columns):\n",
      " #   Column    Non-Null Count  Dtype         \n",
      "---  ------    --------------  -----         \n",
      " 0   date      62 non-null     datetime64[ns]\n",
      " 1   group     62 non-null     object        \n",
      " 2   visitors  62 non-null     int64         \n",
      "dtypes: datetime64[ns](1), int64(1), object(1)\n",
      "memory usage: 1.6+ KB\n"
     ]
    }
   ],
   "source": [
    "visitors.info()"
   ]
  },
  {
   "cell_type": "markdown",
   "metadata": {},
   "source": [
    "Проверим дубликаты:"
   ]
  },
  {
   "cell_type": "code",
   "execution_count": 13,
   "metadata": {},
   "outputs": [
    {
     "data": {
      "text/plain": [
       "0"
      ]
     },
     "execution_count": 13,
     "metadata": {},
     "output_type": "execute_result"
    }
   ],
   "source": [
    "orders.duplicated().sum()"
   ]
  },
  {
   "cell_type": "code",
   "execution_count": 14,
   "metadata": {},
   "outputs": [
    {
     "data": {
      "text/plain": [
       "0"
      ]
     },
     "execution_count": 14,
     "metadata": {},
     "output_type": "execute_result"
    }
   ],
   "source": [
    "visitors.duplicated().sum()"
   ]
  },
  {
   "cell_type": "markdown",
   "metadata": {},
   "source": [
    "И пустые значения:"
   ]
  },
  {
   "cell_type": "code",
   "execution_count": 15,
   "metadata": {},
   "outputs": [
    {
     "data": {
      "text/plain": [
       "transactionId    0\n",
       "visitorId        0\n",
       "date             0\n",
       "revenue          0\n",
       "group            0\n",
       "dtype: int64"
      ]
     },
     "execution_count": 15,
     "metadata": {},
     "output_type": "execute_result"
    }
   ],
   "source": [
    "orders.isna().sum()"
   ]
  },
  {
   "cell_type": "code",
   "execution_count": 16,
   "metadata": {},
   "outputs": [
    {
     "data": {
      "text/plain": [
       "date        0\n",
       "group       0\n",
       "visitors    0\n",
       "dtype: int64"
      ]
     },
     "execution_count": 16,
     "metadata": {},
     "output_type": "execute_result"
    }
   ],
   "source": [
    "visitors.isna().sum()"
   ]
  },
  {
   "cell_type": "markdown",
   "metadata": {},
   "source": [
    "#### Вывод:\n",
    "Предварительная обработка выполнена:\n",
    "\n",
    "1) столбцы с датами преобразованы;\n",
    "\n",
    "2) пустых строк и дубликатов нет."
   ]
  },
  {
   "cell_type": "markdown",
   "metadata": {},
   "source": [
    "Дополнительно изучим данные на иной род дубликатов. Проверим, нет ли пользователей, которые попали и в одну, и в другую группу теста. Создадим новую таблицу с группировкой данных по пользователям."
   ]
  },
  {
   "cell_type": "code",
   "execution_count": 17,
   "metadata": {},
   "outputs": [
    {
     "data": {
      "text/html": [
       "<div>\n",
       "<style scoped>\n",
       "    .dataframe tbody tr th:only-of-type {\n",
       "        vertical-align: middle;\n",
       "    }\n",
       "\n",
       "    .dataframe tbody tr th {\n",
       "        vertical-align: top;\n",
       "    }\n",
       "\n",
       "    .dataframe thead th {\n",
       "        text-align: right;\n",
       "    }\n",
       "</style>\n",
       "<table border=\"1\" class=\"dataframe\">\n",
       "  <thead>\n",
       "    <tr style=\"text-align: right;\">\n",
       "      <th></th>\n",
       "      <th>visitorId</th>\n",
       "      <th>group</th>\n",
       "      <th>transactionId</th>\n",
       "      <th>revenue</th>\n",
       "    </tr>\n",
       "  </thead>\n",
       "  <tbody>\n",
       "    <tr>\n",
       "      <th>0</th>\n",
       "      <td>5114589</td>\n",
       "      <td>1</td>\n",
       "      <td>1</td>\n",
       "      <td>570</td>\n",
       "    </tr>\n",
       "    <tr>\n",
       "      <th>1</th>\n",
       "      <td>6958315</td>\n",
       "      <td>1</td>\n",
       "      <td>1</td>\n",
       "      <td>1490</td>\n",
       "    </tr>\n",
       "    <tr>\n",
       "      <th>2</th>\n",
       "      <td>8300375</td>\n",
       "      <td>2</td>\n",
       "      <td>2</td>\n",
       "      <td>12300</td>\n",
       "    </tr>\n",
       "    <tr>\n",
       "      <th>3</th>\n",
       "      <td>11685486</td>\n",
       "      <td>1</td>\n",
       "      <td>1</td>\n",
       "      <td>6201</td>\n",
       "    </tr>\n",
       "    <tr>\n",
       "      <th>4</th>\n",
       "      <td>39475350</td>\n",
       "      <td>1</td>\n",
       "      <td>1</td>\n",
       "      <td>3990</td>\n",
       "    </tr>\n",
       "    <tr>\n",
       "      <th>...</th>\n",
       "      <td>...</td>\n",
       "      <td>...</td>\n",
       "      <td>...</td>\n",
       "      <td>...</td>\n",
       "    </tr>\n",
       "    <tr>\n",
       "      <th>1026</th>\n",
       "      <td>4266935830</td>\n",
       "      <td>2</td>\n",
       "      <td>2</td>\n",
       "      <td>157980</td>\n",
       "    </tr>\n",
       "    <tr>\n",
       "      <th>1027</th>\n",
       "      <td>4278982564</td>\n",
       "      <td>1</td>\n",
       "      <td>1</td>\n",
       "      <td>24744</td>\n",
       "    </tr>\n",
       "    <tr>\n",
       "      <th>1028</th>\n",
       "      <td>4279090005</td>\n",
       "      <td>1</td>\n",
       "      <td>1</td>\n",
       "      <td>6716</td>\n",
       "    </tr>\n",
       "    <tr>\n",
       "      <th>1029</th>\n",
       "      <td>4281247801</td>\n",
       "      <td>1</td>\n",
       "      <td>1</td>\n",
       "      <td>2640</td>\n",
       "    </tr>\n",
       "    <tr>\n",
       "      <th>1030</th>\n",
       "      <td>4283872382</td>\n",
       "      <td>1</td>\n",
       "      <td>1</td>\n",
       "      <td>3806</td>\n",
       "    </tr>\n",
       "  </tbody>\n",
       "</table>\n",
       "<p>1031 rows × 4 columns</p>\n",
       "</div>"
      ],
      "text/plain": [
       "       visitorId  group  transactionId  revenue\n",
       "0        5114589      1              1      570\n",
       "1        6958315      1              1     1490\n",
       "2        8300375      2              2    12300\n",
       "3       11685486      1              1     6201\n",
       "4       39475350      1              1     3990\n",
       "...          ...    ...            ...      ...\n",
       "1026  4266935830      2              2   157980\n",
       "1027  4278982564      1              1    24744\n",
       "1028  4279090005      1              1     6716\n",
       "1029  4281247801      1              1     2640\n",
       "1030  4283872382      1              1     3806\n",
       "\n",
       "[1031 rows x 4 columns]"
      ]
     },
     "execution_count": 17,
     "metadata": {},
     "output_type": "execute_result"
    }
   ],
   "source": [
    "orders_double = orders.groupby(['visitorId']).agg({'group' : 'nunique', 'transactionId' : 'count', 'revenue' : 'sum'}).reset_index()\n",
    "orders_double.sort_values(by = 'visitorId')"
   ]
  },
  {
   "cell_type": "markdown",
   "metadata": {},
   "source": [
    "Найдем количество задвоенных пользователей и всего участвующих уникальных пользователей:"
   ]
  },
  {
   "cell_type": "code",
   "execution_count": 18,
   "metadata": {},
   "outputs": [
    {
     "data": {
      "text/plain": [
       "58"
      ]
     },
     "execution_count": 18,
     "metadata": {},
     "output_type": "execute_result"
    }
   ],
   "source": [
    "orders_double[orders_double['group'] != 1][\"visitorId\"].count()"
   ]
  },
  {
   "cell_type": "markdown",
   "metadata": {},
   "source": [
    "Количество пользователей, которые попали в обе группы, равно 58. "
   ]
  },
  {
   "cell_type": "markdown",
   "metadata": {},
   "source": [
    "Узнаем, на какую сумму данные пользователи совершили заказы:"
   ]
  },
  {
   "cell_type": "code",
   "execution_count": 19,
   "metadata": {},
   "outputs": [
    {
     "data": {
      "text/plain": [
       "1558935"
      ]
     },
     "execution_count": 19,
     "metadata": {},
     "output_type": "execute_result"
    }
   ],
   "source": [
    "orders_double[orders_double['group'] != 1]['revenue'].sum()"
   ]
  },
  {
   "cell_type": "markdown",
   "metadata": {},
   "source": [
    "Пользователи, попавшие в обе группы, совершили покупок на 1.5 млн. "
   ]
  },
  {
   "cell_type": "markdown",
   "metadata": {},
   "source": [
    "Узнаем, какое количество заказов от пользователей, попавших в обе группы:"
   ]
  },
  {
   "cell_type": "code",
   "execution_count": 20,
   "metadata": {},
   "outputs": [
    {
     "data": {
      "text/plain": [
       "181"
      ]
     },
     "execution_count": 20,
     "metadata": {},
     "output_type": "execute_result"
    }
   ],
   "source": [
    "orders_double[orders_double['group'] != 1]['transactionId'].sum()"
   ]
  },
  {
   "cell_type": "markdown",
   "metadata": {},
   "source": [
    "Попавшие в обе группы пользователи сделали 181 заказ. "
   ]
  },
  {
   "cell_type": "markdown",
   "metadata": {},
   "source": [
    "58 пользователей попали в обе группы.  Всего эти пользователи совершили 181 заказ на более чем 1,5 млн рублей.\n",
    "Результаты исследования интерпретировать однозначно будет нельзя, так как чтобы получить статистически значимый результат, очень важно исключить влияние сегментов друг на друга, т.е. пользователь должен быть отнесен строго к одному сегменту.\n",
    "\n",
    "Удалим данных пользователей."
   ]
  },
  {
   "cell_type": "code",
   "execution_count": 21,
   "metadata": {},
   "outputs": [],
   "source": [
    "double_list = list(orders_double[orders_double.group != 1]['visitorId'])\n",
    "orders = orders.query('visitorId not in @double_list')"
   ]
  },
  {
   "cell_type": "markdown",
   "metadata": {},
   "source": [
    "#### Вывод:\n",
    "Предобработка выполнена полностью."
   ]
  },
  {
   "cell_type": "markdown",
   "metadata": {},
   "source": [
    "### 1. Приоритизация гипотез"
   ]
  },
  {
   "cell_type": "code",
   "execution_count": 22,
   "metadata": {},
   "outputs": [
    {
     "data": {
      "text/html": [
       "<div>\n",
       "<style scoped>\n",
       "    .dataframe tbody tr th:only-of-type {\n",
       "        vertical-align: middle;\n",
       "    }\n",
       "\n",
       "    .dataframe tbody tr th {\n",
       "        vertical-align: top;\n",
       "    }\n",
       "\n",
       "    .dataframe thead th {\n",
       "        text-align: right;\n",
       "    }\n",
       "</style>\n",
       "<table border=\"1\" class=\"dataframe\">\n",
       "  <thead>\n",
       "    <tr style=\"text-align: right;\">\n",
       "      <th></th>\n",
       "      <th>Hypothesis</th>\n",
       "      <th>Reach</th>\n",
       "      <th>Impact</th>\n",
       "      <th>Confidence</th>\n",
       "      <th>Efforts</th>\n",
       "    </tr>\n",
       "  </thead>\n",
       "  <tbody>\n",
       "    <tr>\n",
       "      <th>0</th>\n",
       "      <td>Добавить два новых канала привлечения трафика, что позволит привлекать на 30% больше пользователей</td>\n",
       "      <td>3</td>\n",
       "      <td>10</td>\n",
       "      <td>8</td>\n",
       "      <td>6</td>\n",
       "    </tr>\n",
       "    <tr>\n",
       "      <th>1</th>\n",
       "      <td>Запустить собственную службу доставки, что сократит срок доставки заказов</td>\n",
       "      <td>2</td>\n",
       "      <td>5</td>\n",
       "      <td>4</td>\n",
       "      <td>10</td>\n",
       "    </tr>\n",
       "    <tr>\n",
       "      <th>2</th>\n",
       "      <td>Добавить блоки рекомендаций товаров на сайт интернет магазина, чтобы повысить конверсию и средний чек заказа</td>\n",
       "      <td>8</td>\n",
       "      <td>3</td>\n",
       "      <td>7</td>\n",
       "      <td>3</td>\n",
       "    </tr>\n",
       "    <tr>\n",
       "      <th>3</th>\n",
       "      <td>Изменить структура категорий, что увеличит конверсию, т.к. пользователи быстрее найдут нужный товар</td>\n",
       "      <td>8</td>\n",
       "      <td>3</td>\n",
       "      <td>3</td>\n",
       "      <td>8</td>\n",
       "    </tr>\n",
       "    <tr>\n",
       "      <th>4</th>\n",
       "      <td>Изменить цвет фона главной страницы, чтобы увеличить вовлеченность пользователей</td>\n",
       "      <td>3</td>\n",
       "      <td>1</td>\n",
       "      <td>1</td>\n",
       "      <td>1</td>\n",
       "    </tr>\n",
       "    <tr>\n",
       "      <th>5</th>\n",
       "      <td>Добавить страницу отзывов клиентов о магазине, что позволит увеличить количество заказов</td>\n",
       "      <td>3</td>\n",
       "      <td>2</td>\n",
       "      <td>2</td>\n",
       "      <td>3</td>\n",
       "    </tr>\n",
       "    <tr>\n",
       "      <th>6</th>\n",
       "      <td>Показать на главной странице баннеры с актуальными акциями и распродажами, чтобы увеличить конверсию</td>\n",
       "      <td>5</td>\n",
       "      <td>3</td>\n",
       "      <td>8</td>\n",
       "      <td>3</td>\n",
       "    </tr>\n",
       "    <tr>\n",
       "      <th>7</th>\n",
       "      <td>Добавить форму подписки на все основные страницы, чтобы собрать базу клиентов для email-рассылок</td>\n",
       "      <td>10</td>\n",
       "      <td>7</td>\n",
       "      <td>8</td>\n",
       "      <td>5</td>\n",
       "    </tr>\n",
       "    <tr>\n",
       "      <th>8</th>\n",
       "      <td>Запустить акцию, дающую скидку на товар в день рождения</td>\n",
       "      <td>1</td>\n",
       "      <td>9</td>\n",
       "      <td>9</td>\n",
       "      <td>5</td>\n",
       "    </tr>\n",
       "  </tbody>\n",
       "</table>\n",
       "</div>"
      ],
      "text/plain": [
       "                                                                                                     Hypothesis  \\\n",
       "0  Добавить два новых канала привлечения трафика, что позволит привлекать на 30% больше пользователей             \n",
       "1  Запустить собственную службу доставки, что сократит срок доставки заказов                                      \n",
       "2  Добавить блоки рекомендаций товаров на сайт интернет магазина, чтобы повысить конверсию и средний чек заказа   \n",
       "3  Изменить структура категорий, что увеличит конверсию, т.к. пользователи быстрее найдут нужный товар            \n",
       "4  Изменить цвет фона главной страницы, чтобы увеличить вовлеченность пользователей                               \n",
       "5  Добавить страницу отзывов клиентов о магазине, что позволит увеличить количество заказов                       \n",
       "6  Показать на главной странице баннеры с актуальными акциями и распродажами, чтобы увеличить конверсию           \n",
       "7  Добавить форму подписки на все основные страницы, чтобы собрать базу клиентов для email-рассылок               \n",
       "8  Запустить акцию, дающую скидку на товар в день рождения                                                        \n",
       "\n",
       "   Reach  Impact  Confidence  Efforts  \n",
       "0  3      10      8           6        \n",
       "1  2      5       4           10       \n",
       "2  8      3       7           3        \n",
       "3  8      3       3           8        \n",
       "4  3      1       1           1        \n",
       "5  3      2       2           3        \n",
       "6  5      3       8           3        \n",
       "7  10     7       8           5        \n",
       "8  1      9       9           5        "
      ]
     },
     "execution_count": 22,
     "metadata": {},
     "output_type": "execute_result"
    }
   ],
   "source": [
    "pd.set_option('display.max_colwidth', 0)\n",
    "hypothesis"
   ]
  },
  {
   "cell_type": "markdown",
   "metadata": {},
   "source": [
    "Применим фреймворк ICE для приоритизации гипотез."
   ]
  },
  {
   "cell_type": "code",
   "execution_count": 23,
   "metadata": {},
   "outputs": [
    {
     "data": {
      "text/html": [
       "<div>\n",
       "<style scoped>\n",
       "    .dataframe tbody tr th:only-of-type {\n",
       "        vertical-align: middle;\n",
       "    }\n",
       "\n",
       "    .dataframe tbody tr th {\n",
       "        vertical-align: top;\n",
       "    }\n",
       "\n",
       "    .dataframe thead th {\n",
       "        text-align: right;\n",
       "    }\n",
       "</style>\n",
       "<table border=\"1\" class=\"dataframe\">\n",
       "  <thead>\n",
       "    <tr style=\"text-align: right;\">\n",
       "      <th></th>\n",
       "      <th>Hypothesis</th>\n",
       "      <th>ICE</th>\n",
       "    </tr>\n",
       "  </thead>\n",
       "  <tbody>\n",
       "    <tr>\n",
       "      <th>6</th>\n",
       "      <td>Показать на главной странице баннеры с актуальными акциями и распродажами, чтобы увеличить конверсию</td>\n",
       "      <td>3.67</td>\n",
       "    </tr>\n",
       "    <tr>\n",
       "      <th>8</th>\n",
       "      <td>Запустить акцию, дающую скидку на товар в день рождения</td>\n",
       "      <td>3.60</td>\n",
       "    </tr>\n",
       "    <tr>\n",
       "      <th>2</th>\n",
       "      <td>Добавить блоки рекомендаций товаров на сайт интернет магазина, чтобы повысить конверсию и средний чек заказа</td>\n",
       "      <td>3.33</td>\n",
       "    </tr>\n",
       "    <tr>\n",
       "      <th>0</th>\n",
       "      <td>Добавить два новых канала привлечения трафика, что позволит привлекать на 30% больше пользователей</td>\n",
       "      <td>3.00</td>\n",
       "    </tr>\n",
       "    <tr>\n",
       "      <th>7</th>\n",
       "      <td>Добавить форму подписки на все основные страницы, чтобы собрать базу клиентов для email-рассылок</td>\n",
       "      <td>3.00</td>\n",
       "    </tr>\n",
       "    <tr>\n",
       "      <th>4</th>\n",
       "      <td>Изменить цвет фона главной страницы, чтобы увеличить вовлеченность пользователей</td>\n",
       "      <td>2.00</td>\n",
       "    </tr>\n",
       "    <tr>\n",
       "      <th>5</th>\n",
       "      <td>Добавить страницу отзывов клиентов о магазине, что позволит увеличить количество заказов</td>\n",
       "      <td>1.33</td>\n",
       "    </tr>\n",
       "    <tr>\n",
       "      <th>1</th>\n",
       "      <td>Запустить собственную службу доставки, что сократит срок доставки заказов</td>\n",
       "      <td>0.90</td>\n",
       "    </tr>\n",
       "    <tr>\n",
       "      <th>3</th>\n",
       "      <td>Изменить структура категорий, что увеличит конверсию, т.к. пользователи быстрее найдут нужный товар</td>\n",
       "      <td>0.75</td>\n",
       "    </tr>\n",
       "  </tbody>\n",
       "</table>\n",
       "</div>"
      ],
      "text/plain": [
       "                                                                                                     Hypothesis  \\\n",
       "6  Показать на главной странице баннеры с актуальными акциями и распродажами, чтобы увеличить конверсию           \n",
       "8  Запустить акцию, дающую скидку на товар в день рождения                                                        \n",
       "2  Добавить блоки рекомендаций товаров на сайт интернет магазина, чтобы повысить конверсию и средний чек заказа   \n",
       "0  Добавить два новых канала привлечения трафика, что позволит привлекать на 30% больше пользователей             \n",
       "7  Добавить форму подписки на все основные страницы, чтобы собрать базу клиентов для email-рассылок               \n",
       "4  Изменить цвет фона главной страницы, чтобы увеличить вовлеченность пользователей                               \n",
       "5  Добавить страницу отзывов клиентов о магазине, что позволит увеличить количество заказов                       \n",
       "1  Запустить собственную службу доставки, что сократит срок доставки заказов                                      \n",
       "3  Изменить структура категорий, что увеличит конверсию, т.к. пользователи быстрее найдут нужный товар            \n",
       "\n",
       "    ICE  \n",
       "6  3.67  \n",
       "8  3.60  \n",
       "2  3.33  \n",
       "0  3.00  \n",
       "7  3.00  \n",
       "4  2.00  \n",
       "5  1.33  \n",
       "1  0.90  \n",
       "3  0.75  "
      ]
     },
     "execution_count": 23,
     "metadata": {},
     "output_type": "execute_result"
    }
   ],
   "source": [
    "hypothesis['ICE'] = round((hypothesis['Impact'] + hypothesis['Confidence']) / hypothesis['Efforts'], 2)\n",
    "hypothesis_sort_ice = hypothesis[['Hypothesis', 'ICE']].sort_values(by='ICE', ascending = False)\n",
    "hypothesis_sort_ice"
   ]
  },
  {
   "cell_type": "markdown",
   "metadata": {},
   "source": [
    "Применим фреймворк RICE для приоритизации гипотез."
   ]
  },
  {
   "cell_type": "code",
   "execution_count": 24,
   "metadata": {},
   "outputs": [
    {
     "data": {
      "text/html": [
       "<div>\n",
       "<style scoped>\n",
       "    .dataframe tbody tr th:only-of-type {\n",
       "        vertical-align: middle;\n",
       "    }\n",
       "\n",
       "    .dataframe tbody tr th {\n",
       "        vertical-align: top;\n",
       "    }\n",
       "\n",
       "    .dataframe thead th {\n",
       "        text-align: right;\n",
       "    }\n",
       "</style>\n",
       "<table border=\"1\" class=\"dataframe\">\n",
       "  <thead>\n",
       "    <tr style=\"text-align: right;\">\n",
       "      <th></th>\n",
       "      <th>Hypothesis</th>\n",
       "      <th>RICE</th>\n",
       "    </tr>\n",
       "  </thead>\n",
       "  <tbody>\n",
       "    <tr>\n",
       "      <th>7</th>\n",
       "      <td>Добавить форму подписки на все основные страницы, чтобы собрать базу клиентов для email-рассылок</td>\n",
       "      <td>112.0</td>\n",
       "    </tr>\n",
       "    <tr>\n",
       "      <th>2</th>\n",
       "      <td>Добавить блоки рекомендаций товаров на сайт интернет магазина, чтобы повысить конверсию и средний чек заказа</td>\n",
       "      <td>56.0</td>\n",
       "    </tr>\n",
       "    <tr>\n",
       "      <th>0</th>\n",
       "      <td>Добавить два новых канала привлечения трафика, что позволит привлекать на 30% больше пользователей</td>\n",
       "      <td>40.0</td>\n",
       "    </tr>\n",
       "    <tr>\n",
       "      <th>6</th>\n",
       "      <td>Показать на главной странице баннеры с актуальными акциями и распродажами, чтобы увеличить конверсию</td>\n",
       "      <td>40.0</td>\n",
       "    </tr>\n",
       "    <tr>\n",
       "      <th>8</th>\n",
       "      <td>Запустить акцию, дающую скидку на товар в день рождения</td>\n",
       "      <td>16.2</td>\n",
       "    </tr>\n",
       "    <tr>\n",
       "      <th>3</th>\n",
       "      <td>Изменить структура категорий, что увеличит конверсию, т.к. пользователи быстрее найдут нужный товар</td>\n",
       "      <td>9.0</td>\n",
       "    </tr>\n",
       "    <tr>\n",
       "      <th>1</th>\n",
       "      <td>Запустить собственную службу доставки, что сократит срок доставки заказов</td>\n",
       "      <td>4.0</td>\n",
       "    </tr>\n",
       "    <tr>\n",
       "      <th>5</th>\n",
       "      <td>Добавить страницу отзывов клиентов о магазине, что позволит увеличить количество заказов</td>\n",
       "      <td>4.0</td>\n",
       "    </tr>\n",
       "    <tr>\n",
       "      <th>4</th>\n",
       "      <td>Изменить цвет фона главной страницы, чтобы увеличить вовлеченность пользователей</td>\n",
       "      <td>3.0</td>\n",
       "    </tr>\n",
       "  </tbody>\n",
       "</table>\n",
       "</div>"
      ],
      "text/plain": [
       "                                                                                                     Hypothesis  \\\n",
       "7  Добавить форму подписки на все основные страницы, чтобы собрать базу клиентов для email-рассылок               \n",
       "2  Добавить блоки рекомендаций товаров на сайт интернет магазина, чтобы повысить конверсию и средний чек заказа   \n",
       "0  Добавить два новых канала привлечения трафика, что позволит привлекать на 30% больше пользователей             \n",
       "6  Показать на главной странице баннеры с актуальными акциями и распродажами, чтобы увеличить конверсию           \n",
       "8  Запустить акцию, дающую скидку на товар в день рождения                                                        \n",
       "3  Изменить структура категорий, что увеличит конверсию, т.к. пользователи быстрее найдут нужный товар            \n",
       "1  Запустить собственную службу доставки, что сократит срок доставки заказов                                      \n",
       "5  Добавить страницу отзывов клиентов о магазине, что позволит увеличить количество заказов                       \n",
       "4  Изменить цвет фона главной страницы, чтобы увеличить вовлеченность пользователей                               \n",
       "\n",
       "    RICE  \n",
       "7  112.0  \n",
       "2  56.0   \n",
       "0  40.0   \n",
       "6  40.0   \n",
       "8  16.2   \n",
       "3  9.0    \n",
       "1  4.0    \n",
       "5  4.0    \n",
       "4  3.0    "
      ]
     },
     "execution_count": 24,
     "metadata": {},
     "output_type": "execute_result"
    }
   ],
   "source": [
    "hypothesis['RICE'] = round((hypothesis['Reach'] * hypothesis['Impact'] * hypothesis['Confidence']) / hypothesis['Efforts'], 2)\n",
    "hypothesis_sort_rice = hypothesis[['Hypothesis', 'RICE']].sort_values(by='RICE', ascending = False)\n",
    "hypothesis_sort_rice"
   ]
  },
  {
   "cell_type": "markdown",
   "metadata": {},
   "source": [
    "#### Вывод:\n",
    "Перспективные гипотезы по ICE - 6, 8, 2, 0, 7.\n",
    "Приоритизация по RICE изменилась, перспективные гипотезы - 7, 2, 0, 6, 8 - получается такие же, как при ICE, изменился только порядок.\n",
    "Это связано с тем, что в RICE добавляется такой параметр, как Reach. Этот показатель выше у гипотез, которые были в конце топа ICE  - у 7 гипотезы это 10, у 2 гипотезы - 8. У 8 гипотезы он минимальный - 1. Вследствие этого порядок изменился."
   ]
  },
  {
   "cell_type": "markdown",
   "metadata": {},
   "source": [
    "### 2. Анализ A/B-теста"
   ]
  },
  {
   "cell_type": "markdown",
   "metadata": {},
   "source": [
    "#### 1. Постройте график кумулятивной выручки по группам. Сделайте выводы и предположения."
   ]
  },
  {
   "cell_type": "markdown",
   "metadata": {},
   "source": [
    "Соберем нужные кумулятивные данные для построения графиков:"
   ]
  },
  {
   "cell_type": "code",
   "execution_count": 25,
   "metadata": {},
   "outputs": [
    {
     "data": {
      "text/html": [
       "<div>\n",
       "<style scoped>\n",
       "    .dataframe tbody tr th:only-of-type {\n",
       "        vertical-align: middle;\n",
       "    }\n",
       "\n",
       "    .dataframe tbody tr th {\n",
       "        vertical-align: top;\n",
       "    }\n",
       "\n",
       "    .dataframe thead th {\n",
       "        text-align: right;\n",
       "    }\n",
       "</style>\n",
       "<table border=\"1\" class=\"dataframe\">\n",
       "  <thead>\n",
       "    <tr style=\"text-align: right;\">\n",
       "      <th></th>\n",
       "      <th>date</th>\n",
       "      <th>group</th>\n",
       "      <th>orders</th>\n",
       "      <th>buyers</th>\n",
       "      <th>revenue</th>\n",
       "      <th>visitors</th>\n",
       "    </tr>\n",
       "  </thead>\n",
       "  <tbody>\n",
       "    <tr>\n",
       "      <th>0</th>\n",
       "      <td>2019-08-01</td>\n",
       "      <td>A</td>\n",
       "      <td>23</td>\n",
       "      <td>19</td>\n",
       "      <td>142779</td>\n",
       "      <td>719</td>\n",
       "    </tr>\n",
       "    <tr>\n",
       "      <th>1</th>\n",
       "      <td>2019-08-01</td>\n",
       "      <td>B</td>\n",
       "      <td>17</td>\n",
       "      <td>17</td>\n",
       "      <td>59758</td>\n",
       "      <td>713</td>\n",
       "    </tr>\n",
       "    <tr>\n",
       "      <th>2</th>\n",
       "      <td>2019-08-02</td>\n",
       "      <td>A</td>\n",
       "      <td>42</td>\n",
       "      <td>36</td>\n",
       "      <td>234381</td>\n",
       "      <td>1338</td>\n",
       "    </tr>\n",
       "    <tr>\n",
       "      <th>3</th>\n",
       "      <td>2019-08-02</td>\n",
       "      <td>B</td>\n",
       "      <td>40</td>\n",
       "      <td>39</td>\n",
       "      <td>221801</td>\n",
       "      <td>1294</td>\n",
       "    </tr>\n",
       "    <tr>\n",
       "      <th>4</th>\n",
       "      <td>2019-08-03</td>\n",
       "      <td>A</td>\n",
       "      <td>66</td>\n",
       "      <td>60</td>\n",
       "      <td>346854</td>\n",
       "      <td>1845</td>\n",
       "    </tr>\n",
       "  </tbody>\n",
       "</table>\n",
       "</div>"
      ],
      "text/plain": [
       "        date group  orders  buyers  revenue  visitors\n",
       "0 2019-08-01  A     23      19      142779   719     \n",
       "1 2019-08-01  B     17      17      59758    713     \n",
       "2 2019-08-02  A     42      36      234381   1338    \n",
       "3 2019-08-02  B     40      39      221801   1294    \n",
       "4 2019-08-03  A     66      60      346854   1845    "
      ]
     },
     "execution_count": 25,
     "metadata": {},
     "output_type": "execute_result"
    }
   ],
   "source": [
    "datesGroups = orders[['date','group']].drop_duplicates()\n",
    "\n",
    "ordersAggregated = datesGroups.apply(lambda x: orders[np.logical_and(orders['date'] <= x['date'], orders['group'] == x['group'])]. \\\n",
    "                                     agg({'date' : 'max', \n",
    "                                          'group' : 'max', \n",
    "                                          'transactionId' : pd.Series.nunique, \n",
    "                                          'visitorId' : pd.Series.nunique, \n",
    "                                          'revenue' : 'sum'}), axis=1).sort_values(by=['date','group'])\n",
    "\n",
    "visitorsAggregated = datesGroups.apply(lambda x: visitors[np.logical_and(visitors['date'] <= x['date'], visitors['group'] == x['group'])]. \\\n",
    "                                       agg({'date' : 'max', \n",
    "                                            'group' : 'max', \n",
    "                                            'visitors' : 'sum'}), axis=1).sort_values(by=['date','group'])\n",
    "\n",
    "cumulativeData = ordersAggregated.merge(visitorsAggregated, left_on=['date', 'group'], right_on=['date', 'group'])\n",
    "cumulativeData.columns = ['date', 'group', 'orders', 'buyers', 'revenue', 'visitors']\n",
    "\n",
    "cumulativeData.head(5)"
   ]
  },
  {
   "cell_type": "markdown",
   "metadata": {},
   "source": [
    "Построим графики кумулятивной выручки в обеих группах:"
   ]
  },
  {
   "cell_type": "code",
   "execution_count": 26,
   "metadata": {
    "scrolled": true
   },
   "outputs": [
    {
     "data": {
      "image/png": "[encoded data removed]",
      "text/plain": [
       "<Figure size 1080x360 with 1 Axes>"
      ]
     },
     "metadata": {
      "needs_background": "light"
     },
     "output_type": "display_data"
    }
   ],
   "source": [
    "cumulativeRevenueA = cumulativeData[cumulativeData['group']=='A'][['date','revenue', 'orders']]\n",
    "cumulativeRevenueB = cumulativeData[cumulativeData['group']=='B'][['date','revenue', 'orders']]\n",
    "\n",
    "from pandas.plotting import register_matplotlib_converters\n",
    "register_matplotlib_converters()\n",
    "\n",
    "plt.figure(figsize=(15,5))\n",
    "plt.plot(cumulativeRevenueA['date'], cumulativeRevenueA['revenue'], label='Кум.выручка группы A')\n",
    "plt.plot(cumulativeRevenueB['date'], cumulativeRevenueB['revenue'], label='Кум.выручка группы B')\n",
    "plt.grid()\n",
    "plt.title('Кумулятивная выручка групп \"А\" и \"B\"')\n",
    "plt.xlabel('Дата')\n",
    "plt.ylabel('Кумулятивная выручка')\n",
    "plt.legend() ;"
   ]
  },
  {
   "cell_type": "markdown",
   "metadata": {},
   "source": [
    "#### Вывод:\n",
    "С самого начала видно, что выручка группы \"В\" растет быстрее, в какой-то момент, 13 августа, данные сошлись. Далее лидерство опять было за группой \"В\", но лидерство одинаковое, как и в начале теста. Стоит заметить,что переломным моментом стало 19 августа. Сегмент \"В\" вырвался далеко вперед и лидировал с отрывом до конца теста. Это может сигнализировать о всплесках числа заказов, либо о появлении очень дорогих заказов в выборке. "
   ]
  },
  {
   "cell_type": "markdown",
   "metadata": {},
   "source": [
    "#### 2. Постройте график кумулятивного среднего чека по группам. Сделайте выводы и предположения."
   ]
  },
  {
   "cell_type": "markdown",
   "metadata": {},
   "source": [
    "Построим графики среднего чека по группам — разделим кумулятивную выручку на кумулятивное число заказов:"
   ]
  },
  {
   "cell_type": "code",
   "execution_count": 27,
   "metadata": {
    "scrolled": false
   },
   "outputs": [
    {
     "data": {
      "text/plain": [
       "<matplotlib.legend.Legend at 0x23a06897820>"
      ]
     },
     "execution_count": 27,
     "metadata": {},
     "output_type": "execute_result"
    },
    {
     "data": {
      "image/png": "[encoded data removed]",
      "text/plain": [
       "<Figure size 1080x360 with 1 Axes>"
      ]
     },
     "metadata": {
      "needs_background": "light"
     },
     "output_type": "display_data"
    }
   ],
   "source": [
    "plt.figure(figsize=(15,5))\n",
    "plt.plot(cumulativeRevenueA['date'], cumulativeRevenueA['revenue']/cumulativeRevenueA['orders'], label='A')\n",
    "plt.plot(cumulativeRevenueB['date'], cumulativeRevenueB['revenue']/cumulativeRevenueB['orders'], label='B')\n",
    "plt.grid()\n",
    "plt.title('Кумулятивный средний чек по группам \"А\" и \"B\"')\n",
    "plt.xlabel('Дата')\n",
    "plt.ylabel('Кумулятивный средний чек')\n",
    "plt.legend()"
   ]
  },
  {
   "cell_type": "markdown",
   "metadata": {},
   "source": [
    "#### Вывод:\n",
    "График похож на предыдущий, лидирует группа \"В\". Можно заметить, что пересечение на предыдущем графике выручки отразилось здесь тем, что средний чек группы \"А\" больше. В остальном, снова полное лидерство сегмента группы \"В\". И также виден большой средний чек группы \"В\" 19 августа."
   ]
  },
  {
   "cell_type": "markdown",
   "metadata": {},
   "source": [
    "#### 3. Постройте график относительного изменения кумулятивного среднего чека группы B к группе A. Сделайте выводы и предположения."
   ]
  },
  {
   "cell_type": "code",
   "execution_count": 28,
   "metadata": {},
   "outputs": [
    {
     "data": {
      "image/png": "[encoded data removed]",
      "text/plain": [
       "<Figure size 1080x360 with 1 Axes>"
      ]
     },
     "metadata": {
      "needs_background": "light"
     },
     "output_type": "display_data"
    }
   ],
   "source": [
    "mergedCumulativeRevenue = cumulativeRevenueA.merge(cumulativeRevenueB, left_on='date', right_on='date', how='left', suffixes=['A', 'B'])\n",
    "plt.figure(figsize=(15,5))\n",
    "plt.plot(mergedCumulativeRevenue['date'], (mergedCumulativeRevenue['revenueB']/mergedCumulativeRevenue['ordersB'])/(mergedCumulativeRevenue['revenueA']/mergedCumulativeRevenue['ordersA'])-1)\n",
    "plt.axhline(y=0, color='black', linestyle='--') \n",
    "plt.title('Относительное изменение кумулятивного среднего чека группы \"В\" к группе \"А\"')\n",
    "plt.xlabel('Дата')\n",
    "plt.ylabel('Относительное изменение')\n",
    "plt.grid()"
   ]
  },
  {
   "cell_type": "markdown",
   "metadata": {},
   "source": [
    "#### Вывод:\n",
    "Данный график подтвержает предыдущие, выводы по большей части одинаковые. Средний чек группы \"А\" был больше только 1 август и с 12 по 14 августа. С 1 августа средний чек группы \"В\" начал расти над группой \"А\", и так до примерно 8 августа, где группа начала нисходящий тренд. После перелома группы \"А\" над группой \"В\", группа \"В\" снова начала расти примерно с 15 августа, а 19 августа показала сильный рост с аномально большим чеком, затем группа \"В\" была примерно на том же уровне, но с постепенным небольшим понижением относительно всплеска."
   ]
  },
  {
   "cell_type": "markdown",
   "metadata": {},
   "source": [
    "#### 4. Постройте график кумулятивной конверсии по группам. Сделайте выводы и предположения."
   ]
  },
  {
   "cell_type": "markdown",
   "metadata": {},
   "source": [
    "Построим и проанализируем график кумулятивной конверсии:"
   ]
  },
  {
   "cell_type": "code",
   "execution_count": 29,
   "metadata": {},
   "outputs": [
    {
     "data": {
      "image/png": "[encoded data removed]",
      "text/plain": [
       "<Figure size 1080x360 with 1 Axes>"
      ]
     },
     "metadata": {
      "needs_background": "light"
     },
     "output_type": "display_data"
    }
   ],
   "source": [
    "cumulativeData['conversion'] = cumulativeData['orders']/cumulativeData['visitors']\n",
    "cumulativeDataA = cumulativeData[cumulativeData['group']=='A']\n",
    "cumulativeDataB = cumulativeData[cumulativeData['group']=='B']\n",
    "plt.figure(figsize=(15,5))\n",
    "plt.plot(cumulativeDataA['date'], cumulativeDataA['conversion'], label='A')\n",
    "plt.plot(cumulativeDataB['date'], cumulativeDataB['conversion'], label='B')\n",
    "plt.title('Кумулятивная конверсия групп \"А\" и \"B\"')\n",
    "plt.xlabel('Дата')\n",
    "plt.ylabel('Кумулятивная конверсия')\n",
    "plt.legend()\n",
    "plt.grid()\n",
    "#plt.axis([\"2019-08-01\", '2019-09-01', 0.025, 0.04])"
   ]
  },
  {
   "cell_type": "markdown",
   "metadata": {},
   "source": [
    "#### Вывод:\n",
    "По графику можно сказать о том, что изначально у группы \"А\" была очень хорошая конверсия. Было пиковое значение 3 августа. Затем показатели конверсии группы \"А\" резко упали, и до конца исследования оставались в очень низком стагнирующем положении. Переломный момент, когда лидерство перешло к группе \"В\" стало 6 августа. С этого момента группа в разы превышала группу \"А\" по конверсии. Стоит также посмотреть на даты с плохими показателями для группы В из прошлых графиков - это 12 - 14 августа. В эти дни у группы \"В\" действительно были соответствующие пробелы в показателях конверсии после пика. Но каких-то феноменальных всплесков на 19 августа, как в прошлых исследованиях, нет. Значит в тот день дело не в конверсии, а как предполагалось ранее в объеме или стоимости покупки."
   ]
  },
  {
   "cell_type": "markdown",
   "metadata": {},
   "source": [
    "#### 5. Постройте график относительного изменения кумулятивной конверсии группы B к группе A. Сделайте выводы и предположения."
   ]
  },
  {
   "cell_type": "markdown",
   "metadata": {},
   "source": [
    "Построим график относительного различия кумулятивных конверсий:"
   ]
  },
  {
   "cell_type": "code",
   "execution_count": 30,
   "metadata": {},
   "outputs": [
    {
     "data": {
      "text/plain": [
       "Text(0, 0.5, 'Относительное изменение')"
      ]
     },
     "execution_count": 30,
     "metadata": {},
     "output_type": "execute_result"
    },
    {
     "data": {
      "image/png": "[encoded data removed]",
      "text/plain": [
       "<Figure size 1080x360 with 1 Axes>"
      ]
     },
     "metadata": {
      "needs_background": "light"
     },
     "output_type": "display_data"
    }
   ],
   "source": [
    "mergedCumulativeConversions = cumulativeDataA[['date','conversion']].merge(cumulativeDataB[['date','conversion']], left_on='date', right_on='date', how='left', suffixes=['A', 'B'])\n",
    "plt.figure(figsize=(15,5))\n",
    "plt.grid()\n",
    "plt.plot(mergedCumulativeConversions['date'], mergedCumulativeConversions['conversionB']/mergedCumulativeConversions['conversionA']-1, label=\"Относительный прирост конверсии группы B относительно группы A\")\n",
    "plt.legend()\n",
    "plt.axhline(y=0, color='black', linestyle='--')\n",
    "plt.axhline(y=0.1, color='grey', linestyle='--')\n",
    "plt.title('Относительное изменение кумулятивной конверсии группы \"В\" к группе \"А\"')\n",
    "plt.xlabel('Дата')\n",
    "plt.ylabel('Относительное изменение')\n",
    "#plt.axis([\"2019-08-01\", '2019-09-01', -0.2, 0.2])"
   ]
  },
  {
   "cell_type": "markdown",
   "metadata": {},
   "source": [
    "#### Вывод:\n",
    "В целом, опять таки, так как это является следствием предыдущего пункта, выводы могут быть одинаковыми.\n",
    "Конверсия группы В росла с начала, с 1 по 2 августа, только 2 августа превосходила конверсию группы А на 5%. Затем была на минимальном своем положении в тот момент, когда у группы А был наивысший показатель конверсии - 3 августа. С 5 августа начинает восходящий тренд группы В над группой А, и переломный момент 6 августа полностью меняет картину в сторону группы В, и такой восходящий тренд в относительном изменении продлевается до 10 августа. С этого числа группа В превосходит группу А примерно на одном и том же уровне, максимально достигая 21% разницы. После 19 августа показатели ухудшаются, но остаются в превосходстве группы В на 10%."
   ]
  },
  {
   "cell_type": "markdown",
   "metadata": {},
   "source": [
    "#### 6. Постройте точечный график количества заказов по пользователям. Сделайте выводы и предположения."
   ]
  },
  {
   "cell_type": "markdown",
   "metadata": {},
   "source": [
    "Подсчитаем количество заказов по пользователям:"
   ]
  },
  {
   "cell_type": "code",
   "execution_count": 31,
   "metadata": {},
   "outputs": [
    {
     "name": "stdout",
     "output_type": "stream",
     "text": [
      "      visitorId  orders\n",
      "908  3967698036  3     \n",
      "55   249864742   3     \n",
      "478  2108163459  3     \n",
      "687  2988190573  3     \n",
      "890  3908431265  3     \n",
      "138  611059232   3     \n",
      "632  2742574263  3     \n",
      "157  678354126   2     \n",
      "323  1404560065  2     \n",
      "452  1985475298  2     \n"
     ]
    }
   ],
   "source": [
    "ordersByUsers = (\n",
    "    orders.groupby('visitorId', as_index=False)\n",
    "    .agg({'transactionId': 'nunique'})\n",
    ")\n",
    "\n",
    "ordersByUsers.columns = ['visitorId', 'orders']\n",
    "\n",
    "print(ordersByUsers.sort_values(by='orders', ascending=False).head(10))"
   ]
  },
  {
   "cell_type": "markdown",
   "metadata": {},
   "source": [
    "Максимальное количество заказов у некоторых пользователей - 3."
   ]
  },
  {
   "cell_type": "markdown",
   "metadata": {},
   "source": [
    "Построим точечную диаграмму числа заказов на одного пользователя:"
   ]
  },
  {
   "cell_type": "code",
   "execution_count": 32,
   "metadata": {},
   "outputs": [
    {
     "data": {
      "text/plain": [
       "Text(0, 0.5, 'Количество заказов')"
      ]
     },
     "execution_count": 32,
     "metadata": {},
     "output_type": "execute_result"
    },
    {
     "data": {
      "image/png": "[encoded data removed]",
      "text/plain": [
       "<Figure size 1080x432 with 1 Axes>"
      ]
     },
     "metadata": {
      "needs_background": "light"
     },
     "output_type": "display_data"
    }
   ],
   "source": [
    "x_values = pd.Series(range(0, len(ordersByUsers)))\n",
    "plt.scatter(x_values, ordersByUsers['orders']) \n",
    "plt.gcf().set_size_inches((15, 6))\n",
    "plt.title('Точечный график количества заказов по пользователям')\n",
    "plt.xlabel('Количество пользователей')\n",
    "plt.ylabel('Количество заказов')"
   ]
  },
  {
   "cell_type": "markdown",
   "metadata": {},
   "source": [
    "#### Вывод:\n",
    "Больше всего пользователей сделали 1 заказ. Далее идут те, кто сделал 2 заказа - их не так много, но показатели существенные.\n",
    "3 и более заказа сделали очень малое число пользователей. Нужно уточнить аномалии ли это с помощью подсчета процентилей (95 и 99)."
   ]
  },
  {
   "cell_type": "markdown",
   "metadata": {},
   "source": [
    "#### 7. Посчитайте 95-й и 99-й перцентили количества заказов на пользователя. Выберите границу для определения аномальных пользователей."
   ]
  },
  {
   "cell_type": "markdown",
   "metadata": {},
   "source": [
    "Посчитаем выборочные перцентили количества заказов на одного пользователя:"
   ]
  },
  {
   "cell_type": "code",
   "execution_count": 33,
   "metadata": {},
   "outputs": [
    {
     "name": "stdout",
     "output_type": "stream",
     "text": [
      "[1. 2.]\n"
     ]
    }
   ],
   "source": [
    "print(np.percentile(ordersByUsers['orders'], [95, 99])) "
   ]
  },
  {
   "cell_type": "markdown",
   "metadata": {},
   "source": [
    "#### Вывод:\n",
    "Не более 5% пользователей оформляли больше 1 заказа, и не более 1% - больше 2 заказов. Всё, что выше 2 - аномалии. "
   ]
  },
  {
   "cell_type": "markdown",
   "metadata": {},
   "source": [
    "#### 8. Постройте точечный график стоимостей заказов. Сделайте выводы и предположения."
   ]
  },
  {
   "cell_type": "markdown",
   "metadata": {},
   "source": [
    "Подстроим график по стоимости заказов:"
   ]
  },
  {
   "cell_type": "code",
   "execution_count": 34,
   "metadata": {},
   "outputs": [
    {
     "data": {
      "text/plain": [
       "Text(0, 0.5, 'Стоимость заказа')"
      ]
     },
     "execution_count": 34,
     "metadata": {},
     "output_type": "execute_result"
    },
    {
     "data": {
      "image/png": "[encoded data removed]",
      "text/plain": [
       "<Figure size 1080x360 with 1 Axes>"
      ]
     },
     "metadata": {
      "needs_background": "light"
     },
     "output_type": "display_data"
    }
   ],
   "source": [
    "x_values = pd.Series(range(0,len(orders)))\n",
    "plt.figure(figsize=(15,5))\n",
    "plt.grid()\n",
    "plt.scatter(x_values, orders['revenue']) \n",
    "plt.title('Точечный график стоимостей заказов')\n",
    "plt.xlabel('Количество заказов')\n",
    "plt.ylabel('Стоимость заказа')"
   ]
  },
  {
   "cell_type": "markdown",
   "metadata": {},
   "source": [
    "На графике видна аномальная точка. Проверим данные, отсортируя по выручке:"
   ]
  },
  {
   "cell_type": "code",
   "execution_count": 35,
   "metadata": {},
   "outputs": [
    {
     "data": {
      "text/html": [
       "<div>\n",
       "<style scoped>\n",
       "    .dataframe tbody tr th:only-of-type {\n",
       "        vertical-align: middle;\n",
       "    }\n",
       "\n",
       "    .dataframe tbody tr th {\n",
       "        vertical-align: top;\n",
       "    }\n",
       "\n",
       "    .dataframe thead th {\n",
       "        text-align: right;\n",
       "    }\n",
       "</style>\n",
       "<table border=\"1\" class=\"dataframe\">\n",
       "  <thead>\n",
       "    <tr style=\"text-align: right;\">\n",
       "      <th></th>\n",
       "      <th>transactionId</th>\n",
       "      <th>visitorId</th>\n",
       "      <th>date</th>\n",
       "      <th>revenue</th>\n",
       "      <th>group</th>\n",
       "    </tr>\n",
       "  </thead>\n",
       "  <tbody>\n",
       "    <tr>\n",
       "      <th>425</th>\n",
       "      <td>590470918</td>\n",
       "      <td>1920142716</td>\n",
       "      <td>2019-08-19</td>\n",
       "      <td>1294500</td>\n",
       "      <td>B</td>\n",
       "    </tr>\n",
       "    <tr>\n",
       "      <th>1196</th>\n",
       "      <td>3936777065</td>\n",
       "      <td>2108080724</td>\n",
       "      <td>2019-08-15</td>\n",
       "      <td>202740</td>\n",
       "      <td>B</td>\n",
       "    </tr>\n",
       "    <tr>\n",
       "      <th>1136</th>\n",
       "      <td>666610489</td>\n",
       "      <td>1307669133</td>\n",
       "      <td>2019-08-13</td>\n",
       "      <td>92550</td>\n",
       "      <td>A</td>\n",
       "    </tr>\n",
       "    <tr>\n",
       "      <th>744</th>\n",
       "      <td>3668308183</td>\n",
       "      <td>888512513</td>\n",
       "      <td>2019-08-27</td>\n",
       "      <td>86620</td>\n",
       "      <td>B</td>\n",
       "    </tr>\n",
       "    <tr>\n",
       "      <th>743</th>\n",
       "      <td>3603576309</td>\n",
       "      <td>4133034833</td>\n",
       "      <td>2019-08-09</td>\n",
       "      <td>67990</td>\n",
       "      <td>A</td>\n",
       "    </tr>\n",
       "    <tr>\n",
       "      <th>1103</th>\n",
       "      <td>1348774318</td>\n",
       "      <td>1164614297</td>\n",
       "      <td>2019-08-12</td>\n",
       "      <td>66350</td>\n",
       "      <td>A</td>\n",
       "    </tr>\n",
       "    <tr>\n",
       "      <th>1099</th>\n",
       "      <td>316924019</td>\n",
       "      <td>148427295</td>\n",
       "      <td>2019-08-12</td>\n",
       "      <td>65710</td>\n",
       "      <td>A</td>\n",
       "    </tr>\n",
       "    <tr>\n",
       "      <th>949</th>\n",
       "      <td>1347999392</td>\n",
       "      <td>887908475</td>\n",
       "      <td>2019-08-21</td>\n",
       "      <td>60450</td>\n",
       "      <td>A</td>\n",
       "    </tr>\n",
       "    <tr>\n",
       "      <th>940</th>\n",
       "      <td>2420050534</td>\n",
       "      <td>4003628586</td>\n",
       "      <td>2019-08-08</td>\n",
       "      <td>58550</td>\n",
       "      <td>B</td>\n",
       "    </tr>\n",
       "    <tr>\n",
       "      <th>131</th>\n",
       "      <td>3163614039</td>\n",
       "      <td>2254586615</td>\n",
       "      <td>2019-08-22</td>\n",
       "      <td>53904</td>\n",
       "      <td>A</td>\n",
       "    </tr>\n",
       "  </tbody>\n",
       "</table>\n",
       "</div>"
      ],
      "text/plain": [
       "      transactionId   visitorId       date  revenue group\n",
       "425   590470918      1920142716 2019-08-19  1294500  B   \n",
       "1196  3936777065     2108080724 2019-08-15  202740   B   \n",
       "1136  666610489      1307669133 2019-08-13  92550    A   \n",
       "744   3668308183     888512513  2019-08-27  86620    B   \n",
       "743   3603576309     4133034833 2019-08-09  67990    A   \n",
       "1103  1348774318     1164614297 2019-08-12  66350    A   \n",
       "1099  316924019      148427295  2019-08-12  65710    A   \n",
       "949   1347999392     887908475  2019-08-21  60450    A   \n",
       "940   2420050534     4003628586 2019-08-08  58550    B   \n",
       "131   3163614039     2254586615 2019-08-22  53904    A   "
      ]
     },
     "execution_count": 35,
     "metadata": {},
     "output_type": "execute_result"
    }
   ],
   "source": [
    "orders.sort_values(by='revenue', ascending=False).head(10)"
   ]
  },
  {
   "cell_type": "markdown",
   "metadata": {},
   "source": [
    "Заказ с номером 425 сильно отличается от остальных в разы. Дата заказа как раз 19 августа, а группа исследования - \"В\"."
   ]
  },
  {
   "cell_type": "markdown",
   "metadata": {},
   "source": [
    "Остальные данные на примерно одном уровне. Построим более наглядный график, для это уберем явные выбросы с 'revenue' большим 199000:"
   ]
  },
  {
   "cell_type": "code",
   "execution_count": 36,
   "metadata": {},
   "outputs": [
    {
     "data": {
      "image/png": "[encoded data removed]",
      "text/plain": [
       "<Figure size 1080x360 with 1 Axes>"
      ]
     },
     "metadata": {
      "needs_background": "light"
     },
     "output_type": "display_data"
    }
   ],
   "source": [
    "order_anomal = orders[orders['revenue']<=199000]['revenue']\n",
    "xn_values = pd.Series(range(0,len(order_anomal)))\n",
    "plt.figure(figsize=(15,5))\n",
    "plt.grid()\n",
    "plt.title('Точечный график стоимостей заказов')\n",
    "plt.xlabel('Количество заказов')\n",
    "plt.ylabel('Стоимость заказа')\n",
    "plt.scatter(xn_values, order_anomal, alpha=0.5);"
   ]
  },
  {
   "cell_type": "markdown",
   "metadata": {},
   "source": [
    "#### Вывод:\n",
    "На графике хорошо был выделен самый аномальный заказ с номером 475 на сумму 1.29 млн, совершенный как раз в дату всплеска показателей группы \"В\" - 19 августа. Второй не настолько аномальный, но все-таки ярковыраженный на фоне остальных заказ на 200 тыс. Все остальные заказы находятся на уровне 100 тыс. Далее проверим аномальность по процентилям."
   ]
  },
  {
   "cell_type": "markdown",
   "metadata": {},
   "source": [
    "#### 9. Посчитайте 95-й и 99-й перцентили стоимости заказов. Выберите границу для определения аномальных заказов."
   ]
  },
  {
   "cell_type": "code",
   "execution_count": 37,
   "metadata": {},
   "outputs": [
    {
     "name": "stdout",
     "output_type": "stream",
     "text": [
      "[26785. 53904.]\n"
     ]
    }
   ],
   "source": [
    "print(np.percentile(orders['revenue'], [95, 99]))"
   ]
  },
  {
   "cell_type": "markdown",
   "metadata": {},
   "source": [
    "#### Вывод:\n",
    "99% заказов меньше суммы 53904, и только 1% заказов больше этой суммы. Сделаем это значение границей аномалии."
   ]
  },
  {
   "cell_type": "markdown",
   "metadata": {},
   "source": [
    "#### 10. Посчитайте статистическую значимость различий в конверсии между группами по «сырым» данным. Сделайте выводы и предположения."
   ]
  },
  {
   "cell_type": "markdown",
   "metadata": {},
   "source": [
    "Посчитаем статистическую значимость без удаления аномальным пользователей."
   ]
  },
  {
   "cell_type": "code",
   "execution_count": 38,
   "metadata": {
    "scrolled": false
   },
   "outputs": [],
   "source": [
    "visitorsADaily = visitors[visitors['group'] == 'A'][['date', 'visitors']]\n",
    "visitorsADaily.columns = ['date', 'visitorsPerDateA']\n",
    "\n",
    "visitorsACummulative = visitorsADaily.apply(\n",
    "    lambda x: visitorsADaily[visitorsADaily['date'] <= x['date']].agg(\n",
    "        {'date': 'max', 'visitorsPerDateA': 'sum'}\n",
    "    ),\n",
    "    axis=1,\n",
    ")\n",
    "visitorsACummulative.columns = ['date', 'visitorsCummulativeA']\n",
    "\n",
    "visitorsBDaily = visitors[visitors['group'] == 'B'][['date', 'visitors']]\n",
    "visitorsBDaily.columns = ['date', 'visitorsPerDateB']\n",
    "\n",
    "visitorsBCummulative = visitorsBDaily.apply(\n",
    "    lambda x: visitorsBDaily[visitorsBDaily['date'] <= x['date']].agg(\n",
    "        {'date': 'max', 'visitorsPerDateB': 'sum'}\n",
    "    ),\n",
    "    axis=1,\n",
    ")\n",
    "visitorsBCummulative.columns = ['date', 'visitorsCummulativeB']\n",
    "\n",
    "ordersADaily = (\n",
    "    orders[orders['group'] == 'A'][['date', 'transactionId', 'visitorId', 'revenue']]\n",
    "    .groupby('date', as_index=False)\n",
    "    .agg({'transactionId': pd.Series.nunique, 'revenue': 'sum'})\n",
    ")\n",
    "ordersADaily.columns = ['date', 'ordersPerDateA', 'revenuePerDateA']\n",
    "\n",
    "ordersACummulative = ordersADaily.apply(\n",
    "    lambda x: ordersADaily[ordersADaily['date'] <= x['date']].agg(\n",
    "        {'date': 'max', 'ordersPerDateA': 'sum', 'revenuePerDateA': 'sum'}\n",
    "    ),\n",
    "    axis=1,\n",
    ").sort_values(by=['date'])\n",
    "ordersACummulative.columns = [\n",
    "    'date',\n",
    "    'ordersCummulativeA',\n",
    "    'revenueCummulativeA',\n",
    "]\n",
    "\n",
    "ordersBDaily = (\n",
    "    orders[orders['group'] == 'B'][['date', 'transactionId', 'visitorId', 'revenue']]\n",
    "    .groupby('date', as_index=False)\n",
    "    .agg({'transactionId': pd.Series.nunique, 'revenue': 'sum'})\n",
    ")\n",
    "ordersBDaily.columns = ['date', 'ordersPerDateB', 'revenuePerDateB']\n",
    "\n",
    "ordersBCummulative = ordersBDaily.apply(\n",
    "    lambda x: ordersBDaily[ordersBDaily['date'] <= x['date']].agg(\n",
    "        {'date': 'max', 'ordersPerDateB': 'sum', 'revenuePerDateB': 'sum'}\n",
    "    ),\n",
    "    axis=1,\n",
    ").sort_values(by=['date'])\n",
    "ordersBCummulative.columns = [\n",
    "    'date',\n",
    "    'ordersCummulativeB',\n",
    "    'revenueCummulativeB',\n",
    "]\n",
    "\n",
    "data = (\n",
    "    ordersADaily.merge(\n",
    "        ordersBDaily, left_on='date', right_on='date', how='left'\n",
    "    )\n",
    "    .merge(ordersACummulative, left_on='date', right_on='date', how='left')\n",
    "    .merge(ordersBCummulative, left_on='date', right_on='date', how='left')\n",
    "    .merge(visitorsADaily, left_on='date', right_on='date', how='left')\n",
    "    .merge(visitorsBDaily, left_on='date', right_on='date', how='left')\n",
    "    .merge(visitorsACummulative, left_on='date', right_on='date', how='left')\n",
    "    .merge(visitorsBCummulative, left_on='date', right_on='date', how='left')\n",
    ")"
   ]
  },
  {
   "cell_type": "markdown",
   "metadata": {},
   "source": [
    "**Нулевая гипотеза H0** - статистически значимых различий в конверсии между группами нет.\n",
    "\n",
    "**Гипотеза H1** - статистически значимые различия есть.\n",
    "\n",
    "Уровень статистической значимости - p-value - 0.05\n",
    "\n",
    "Применим статистический критерий Манна-Уитни к полученным выборкам."
   ]
  },
  {
   "cell_type": "code",
   "execution_count": 39,
   "metadata": {},
   "outputs": [
    {
     "name": "stdout",
     "output_type": "stream",
     "text": [
      "alpha = 0.05\n",
      "p-value = 0.011\n",
      "Относительный показатель 'B' и 'A' = 0.160\n"
     ]
    }
   ],
   "source": [
    "ordersByUsersA = (\n",
    "    orders[orders['group'] == 'A']\n",
    "    .groupby('visitorId', as_index=False)\n",
    "    .agg({'transactionId': pd.Series.nunique})\n",
    ")\n",
    "ordersByUsersA.columns = ['userId', 'orders']\n",
    "\n",
    "ordersByUsersB = (\n",
    "    orders[orders['group'] == 'B']\n",
    "    .groupby('visitorId', as_index=False)\n",
    "    .agg({'transactionId': pd.Series.nunique})\n",
    ")\n",
    "ordersByUsersB.columns = ['userId', 'orders']\n",
    "sampleA = pd.concat(\n",
    "    [\n",
    "        ordersByUsersA['orders'],\n",
    "        pd.Series(\n",
    "            0,\n",
    "            index=np.arange(\n",
    "                data['visitorsPerDateA'].sum() - len(ordersByUsersA['orders'])\n",
    "            ),\n",
    "            name='orders',\n",
    "        ),\n",
    "    ],\n",
    "    axis=0,\n",
    ")\n",
    "\n",
    "sampleB = pd.concat(\n",
    "    [\n",
    "        ordersByUsersB['orders'],\n",
    "        pd.Series(\n",
    "            0,\n",
    "            index=np.arange(\n",
    "                data['visitorsPerDateB'].sum() - len(ordersByUsersB['orders'])\n",
    "            ),\n",
    "            name='orders',\n",
    "        ),\n",
    "    ],\n",
    "    axis=0,\n",
    ")\n",
    "print(\"alpha =\",0.05)\n",
    "print(\"p-value = {0:.3f}\".format(stats.mannwhitneyu(sampleA, sampleB)[1]))\n",
    "\n",
    "print(\"Относительный показатель 'B' и 'A' = {0:.3f}\".format(sampleB.mean() / sampleA.mean() - 1))\n",
    " "
   ]
  },
  {
   "cell_type": "markdown",
   "metadata": {},
   "source": [
    "#### Вывод:\n",
    "p-value = 0.011 меньше 0.05. Значит, нулевую гипотезу о том, что статистически значимых различий в конверсии между группами нет, - отвергаем. \n",
    "\n",
    "По «сырым» данным различия в конверсии групп A и B есть. Относительный выигрыш группы \"B\" над \"A\" равен 16% ."
   ]
  },
  {
   "cell_type": "markdown",
   "metadata": {},
   "source": [
    "#### 11. Посчитайте статистическую значимость различий в среднем чеке заказа между группами по «сырым» данным. Сделайте выводы и предположения."
   ]
  },
  {
   "cell_type": "markdown",
   "metadata": {},
   "source": [
    "**Нулевая гипотеза H0** - статистически значимых различий в среднем чеке между группами нет.\n",
    " \n",
    "**Гипотеза H1** - статистически значимые различия есть.\n",
    " \n",
    "Уровень статистической значимости - p-value - 0.05\n",
    "\n",
    "Применим статистический критерий Манна-Уитни к полученным выборкам."
   ]
  },
  {
   "cell_type": "markdown",
   "metadata": {},
   "source": [
    "Посчитаем статистическую значимость различий в среднем чеке между сегментами:"
   ]
  },
  {
   "cell_type": "code",
   "execution_count": 40,
   "metadata": {},
   "outputs": [
    {
     "name": "stdout",
     "output_type": "stream",
     "text": [
      "alpha = 0.05\n",
      "p-value = 0.829\n",
      "Относительный показатель 'B' и 'A' = 0.287\n"
     ]
    }
   ],
   "source": [
    "print(\"alpha =\",0.05)\n",
    "print('p-value = {0:.3f}'.format(stats.mannwhitneyu(orders[orders['group']=='A']['revenue'], orders[orders['group']=='B']['revenue'])[1]))\n",
    "print(\"Относительный показатель 'B' и 'A' = {0:.3f}\".format(orders[orders['group']=='B']['revenue'].mean()/orders[orders['group']=='A']['revenue'].mean()-1)) "
   ]
  },
  {
   "cell_type": "markdown",
   "metadata": {},
   "source": [
    "#### Вывод:\n",
    "p-value значительно больше 0.05. Значит, причин отвергать нулевую гипотезу и считать, что в среднем чеке есть различия, нет. \n",
    "Средний чек по \"сырым\" данным группы \"B\" значительно выше среднего чека группы \"A\" - на 28.7%. Но данное превышение не является значимым, получено случайно, предположительно, из-за самого большого чека 425 от 19 августа."
   ]
  },
  {
   "cell_type": "markdown",
   "metadata": {},
   "source": [
    "#### 12. Посчитайте статистическую значимость различий в конверсии между группами по «очищенным» данным. Сделайте выводы и предположения."
   ]
  },
  {
   "cell_type": "markdown",
   "metadata": {},
   "source": [
    "Напомним, что найденные ранее 95-й и 99-й перцентили средних чеков равны 26 785 и 53 904. \n",
    "Примем за аномальных пользователей тех, кто совершил больше 2 заказов или совершил заказ дороже 53 904. Сделаем срезы пользователей с числом заказов больше 2 — usersWithManyOrders и пользователей, совершивших заказы дороже 53 904 — usersWithExpensiveOrders. Объединим их в таблице abnormalUsers."
   ]
  },
  {
   "cell_type": "code",
   "execution_count": 41,
   "metadata": {},
   "outputs": [
    {
     "name": "stdout",
     "output_type": "stream",
     "text": [
      "1099    148427295\n",
      "33      249864742\n",
      "36      366673373\n",
      "51      406208401\n",
      "67      522292794\n",
      "dtype: int64\n"
     ]
    }
   ],
   "source": [
    "usersWithManyOrders = pd.concat(\n",
    "    [\n",
    "        ordersByUsersA[ordersByUsersA['orders'] > np.percentile(ordersByUsers['orders'], 95)]['userId'],\n",
    "        ordersByUsersB[ordersByUsersB['orders'] > np.percentile(ordersByUsers['orders'], 95)]['userId'],\n",
    "    ],\n",
    "    axis=0,\n",
    ")\n",
    "usersWithExpensiveOrders = orders[orders['revenue'] > np.percentile(orders['revenue'], 99)]['visitorId']\n",
    "abnormalUsers = (\n",
    "    pd.concat([usersWithManyOrders, usersWithExpensiveOrders], axis=0)\n",
    "    .drop_duplicates()\n",
    "    .sort_values()\n",
    ")\n",
    "print(abnormalUsers.head(5))"
   ]
  },
  {
   "cell_type": "markdown",
   "metadata": {},
   "source": [
    "Узнаем, как их действия повлияли на результаты теста. Сначала подготовим выборки количества заказов по пользователям по группам теста:"
   ]
  },
  {
   "cell_type": "code",
   "execution_count": 42,
   "metadata": {},
   "outputs": [],
   "source": [
    "sampleAFiltered = pd.concat(\n",
    "    [\n",
    "        ordersByUsersA[\n",
    "            np.logical_not(ordersByUsersA['userId'].isin(abnormalUsers))\n",
    "        ]['orders'],\n",
    "        pd.Series(\n",
    "            0,\n",
    "            index=np.arange(\n",
    "                data['visitorsPerDateA'].sum() - len(ordersByUsersA['orders'])\n",
    "            ),\n",
    "            name='orders',\n",
    "        ),\n",
    "    ],\n",
    "    axis=0,\n",
    ")\n",
    "\n",
    "sampleBFiltered = pd.concat(\n",
    "    [\n",
    "        ordersByUsersB[\n",
    "            np.logical_not(ordersByUsersB['userId'].isin(abnormalUsers))\n",
    "        ]['orders'],\n",
    "        pd.Series(\n",
    "            0,\n",
    "            index=np.arange(\n",
    "                data['visitorsPerDateB'].sum() - len(ordersByUsersB['orders'])\n",
    "            ),\n",
    "            name='orders',\n",
    "        ),\n",
    "    ],\n",
    "    axis=0,\n",
    ") "
   ]
  },
  {
   "cell_type": "markdown",
   "metadata": {},
   "source": [
    "**Нулевая гипотеза H0** - статистически значимых различий в конверсии между группами нет.\n",
    "\n",
    "**Гипотеза H1** - статистически значимые различия есть.\n",
    "\n",
    "Уровень статистической значимости - p-value - 0.05\n",
    "\n",
    "Применим статистический критерий Манна-Уитни к полученным выборкам."
   ]
  },
  {
   "cell_type": "code",
   "execution_count": 43,
   "metadata": {},
   "outputs": [
    {
     "name": "stdout",
     "output_type": "stream",
     "text": [
      "alpha = 0.05\n",
      "p-value = 0.008\n",
      "Относительный показатель 'B' и 'A' = 0.188\n"
     ]
    }
   ],
   "source": [
    "print(\"alpha =\",0.05)\n",
    "print('p-value = {0:.3f}'.format(stats.mannwhitneyu(sampleAFiltered, sampleBFiltered)[1]))\n",
    "print(\"Относительный показатель 'B' и 'A' = {0:.3f}\".format(sampleBFiltered.mean()/sampleAFiltered.mean()-1)) "
   ]
  },
  {
   "cell_type": "markdown",
   "metadata": {},
   "source": [
    "#### Вывод:\n",
    "p-value = 0.008 меньше 0.05. Значит, нулевую гипотезу о том, что статистически значимых различий в конверсии между группами нет, - отвергаем. \n",
    "По «очищенным» данным различия в конверсии групп A и B есть. А относительный выигрыш группы \"B\" над \"A\" равен 18.8%. Этот показатель выше, чем с «сырыми» данными - 16%."
   ]
  },
  {
   "cell_type": "markdown",
   "metadata": {},
   "source": [
    "#### 13. Посчитайте статистическую значимость различий в среднем чеке заказа между группами по «очищенным» данным. Сделайте выводы и предположения."
   ]
  },
  {
   "cell_type": "markdown",
   "metadata": {},
   "source": [
    "**Нулевая гипотеза H0** - статистически значимых различий в среднем чеке между группами нет.\n",
    " \n",
    "**Гипотеза H1** - статистически значимые различия есть.\n",
    " \n",
    "Уровень статистической значимости - p-value - 0.05\n",
    "\n",
    "Применим статистический критерий Манна-Уитни к полученным выборкам."
   ]
  },
  {
   "cell_type": "code",
   "execution_count": 44,
   "metadata": {},
   "outputs": [
    {
     "name": "stdout",
     "output_type": "stream",
     "text": [
      "alpha = 0.05\n",
      "p-value = 0.969\n",
      "Относительный показатель 'B' и 'A' = 0.002\n"
     ]
    }
   ],
   "source": [
    "print(\"alpha =\",0.05)\n",
    "print(\n",
    "    'p-value = {0:.3f}'.format(\n",
    "        stats.mannwhitneyu(\n",
    "            orders[\n",
    "                np.logical_and(\n",
    "                    orders['group'] == 'A',\n",
    "                    np.logical_not(orders['visitorId'].isin(abnormalUsers)),\n",
    "                )\n",
    "            ]['revenue'],\n",
    "            orders[\n",
    "                np.logical_and(\n",
    "                    orders['group'] == 'B',\n",
    "                    np.logical_not(orders['visitorId'].isin(abnormalUsers)),\n",
    "                )\n",
    "            ]['revenue'],\n",
    "        )[1]\n",
    "    )\n",
    ")\n",
    "\n",
    "print(\n",
    "    \"Относительный показатель 'B' и 'A' = {0:.3f}\".format(\n",
    "        orders[\n",
    "            np.logical_and(\n",
    "                orders['group'] == 'B',\n",
    "                np.logical_not(orders['visitorId'].isin(abnormalUsers)),\n",
    "            )\n",
    "        ]['revenue'].mean()\n",
    "        / orders[\n",
    "            np.logical_and(\n",
    "                orders['group'] == 'A',\n",
    "                np.logical_not(orders['visitorId'].isin(abnormalUsers)),\n",
    "            )\n",
    "        ]['revenue'].mean()\n",
    "        - 1\n",
    "    )\n",
    ") "
   ]
  },
  {
   "cell_type": "markdown",
   "metadata": {},
   "source": [
    "#### Вывод:\n",
    "P-value значительно больше 0.05. Значит, причин отвергать нулевую гипотезу и считать, что в среднем чеке есть различия,тоже нет, как и с \"сырыми\" данными. Чего не скажешь о среднем чеке группы \"B\", который оказался незначительно выше (на 0.2%) среднего чека группы \"A\"\n",
    "В это же время, по \"сырым\" данным, он был больше на 28.7%, - и всё это из-за одного того самого аномального заказа 425 на 1,29 млн."
   ]
  },
  {
   "cell_type": "markdown",
   "metadata": {},
   "source": [
    "#### 14. Примите решение по результатам теста и объясните его. Варианты решений:\n",
    "- Остановить тест, зафиксировать победу одной из групп;\n",
    "- Остановить тест, зафиксировать отсутствие различий между группами;\n",
    "- Продолжить тест."
   ]
  },
  {
   "cell_type": "markdown",
   "metadata": {},
   "source": [
    "#### Вывод:\n",
    "Как по \"сырым\", так и по \"очищенным\" данным есть различия в конверсии групп \"А\" и \"В\". Относительное превосходство группы \"В\" над группой \"А\" составляет 16% по \"сырым\" данным и 18.8% по \"очищенным\" данным соответственно.\n",
    "\n",
    "Также, по \"сырым\" и по \"очищенным\" данным отсутствуют различия в средних чеках для групп \"А\" и \"B\".\n",
    "При этом средний чек группы \"B\" по \"очищенным\" данным оказался на 0.2% выше среднего чека группы \"A\". \n",
    "По \"сырым\" данным, он был больше 28.7%, - и всё это из-за одного того самого аномального заказа 425 на 1,29 млн.\n",
    "Логично, что когда аномальный заказ убрали, чеки сравнялись.\n",
    "\n",
    "Результаты тестирования вполне однозначны. Мы можем принять решение остановить тестирование и зафиксировать победу группы \"B\": она значительно эффективнее группы \"A\" по конверсии, хотя по среднему чеку группы примерно равна."
   ]
  }
 ],
 "metadata": {
  "ExecuteTimeLog": [
   {
    "duration": 1302,
    "start_time": "2022-10-07T16:10:58.488Z"
   },
   {
    "duration": 220,
    "start_time": "2022-10-07T16:10:59.792Z"
   },
   {
    "duration": 13,
    "start_time": "2022-10-07T16:11:00.014Z"
   },
   {
    "duration": 9,
    "start_time": "2022-10-07T16:11:00.030Z"
   },
   {
    "duration": 11,
    "start_time": "2022-10-07T16:11:00.040Z"
   },
   {
    "duration": 16,
    "start_time": "2022-10-07T16:11:00.053Z"
   },
   {
    "duration": 19,
    "start_time": "2022-10-07T16:11:00.070Z"
   },
   {
    "duration": 23,
    "start_time": "2022-10-07T16:11:00.090Z"
   },
   {
    "duration": 26,
    "start_time": "2022-10-07T16:11:00.114Z"
   },
   {
    "duration": 12,
    "start_time": "2022-10-07T16:11:00.142Z"
   },
   {
    "duration": 20,
    "start_time": "2022-10-07T16:11:00.156Z"
   },
   {
    "duration": 25,
    "start_time": "2022-10-07T16:11:00.178Z"
   },
   {
    "duration": 25,
    "start_time": "2022-10-07T16:11:00.205Z"
   },
   {
    "duration": 19,
    "start_time": "2022-10-07T16:11:00.232Z"
   },
   {
    "duration": 36,
    "start_time": "2022-10-07T16:11:00.253Z"
   },
   {
    "duration": 20,
    "start_time": "2022-10-07T16:11:00.291Z"
   },
   {
    "duration": 22,
    "start_time": "2022-10-07T16:11:00.312Z"
   },
   {
    "duration": 25,
    "start_time": "2022-10-07T16:11:00.335Z"
   },
   {
    "duration": 11,
    "start_time": "2022-10-07T16:11:00.361Z"
   },
   {
    "duration": 302,
    "start_time": "2022-10-07T16:11:00.373Z"
   },
   {
    "duration": 283,
    "start_time": "2022-10-07T16:11:00.677Z"
   },
   {
    "duration": 219,
    "start_time": "2022-10-07T16:11:00.962Z"
   },
   {
    "duration": 352,
    "start_time": "2022-10-07T16:11:01.182Z"
   },
   {
    "duration": 216,
    "start_time": "2022-10-07T16:11:01.535Z"
   },
   {
    "duration": 292,
    "start_time": "2022-10-07T16:11:01.753Z"
   },
   {
    "duration": 9,
    "start_time": "2022-10-07T16:11:02.046Z"
   },
   {
    "duration": 236,
    "start_time": "2022-10-07T16:11:02.057Z"
   },
   {
    "duration": 4,
    "start_time": "2022-10-07T16:11:02.296Z"
   },
   {
    "duration": 8,
    "start_time": "2022-10-07T16:11:02.308Z"
   },
   {
    "duration": 229,
    "start_time": "2022-10-07T16:11:02.317Z"
   },
   {
    "duration": 8,
    "start_time": "2022-10-07T16:11:02.548Z"
   },
   {
    "duration": 282,
    "start_time": "2022-10-07T16:11:02.558Z"
   },
   {
    "duration": 3,
    "start_time": "2022-10-07T16:11:02.842Z"
   },
   {
    "duration": 200,
    "start_time": "2022-10-07T16:11:02.847Z"
   },
   {
    "duration": 162,
    "start_time": "2022-10-07T16:11:03.048Z"
   },
   {
    "duration": 10,
    "start_time": "2022-10-07T16:11:03.211Z"
   },
   {
    "duration": 8,
    "start_time": "2022-10-07T16:11:03.222Z"
   },
   {
    "duration": 11,
    "start_time": "2022-10-07T16:11:03.232Z"
   },
   {
    "duration": 24,
    "start_time": "2022-10-07T16:11:03.244Z"
   },
   {
    "duration": 13,
    "start_time": "2022-10-07T16:11:03.269Z"
   },
   {
    "duration": 51,
    "start_time": "2022-10-08T15:26:52.245Z"
   },
   {
    "duration": 44,
    "start_time": "2022-10-08T15:27:36.673Z"
   },
   {
    "duration": 1436,
    "start_time": "2022-10-08T15:27:42.303Z"
   },
   {
    "duration": 218,
    "start_time": "2022-10-08T15:27:43.743Z"
   },
   {
    "duration": 12,
    "start_time": "2022-10-08T15:27:43.963Z"
   },
   {
    "duration": 14,
    "start_time": "2022-10-08T15:27:43.976Z"
   },
   {
    "duration": 8,
    "start_time": "2022-10-08T15:27:43.992Z"
   },
   {
    "duration": 13,
    "start_time": "2022-10-08T15:27:44.001Z"
   },
   {
    "duration": 35,
    "start_time": "2022-10-08T15:27:44.016Z"
   },
   {
    "duration": 19,
    "start_time": "2022-10-08T15:27:44.053Z"
   },
   {
    "duration": 17,
    "start_time": "2022-10-08T15:27:44.075Z"
   },
   {
    "duration": 7,
    "start_time": "2022-10-08T15:27:44.094Z"
   },
   {
    "duration": 12,
    "start_time": "2022-10-08T15:27:44.103Z"
   },
   {
    "duration": 35,
    "start_time": "2022-10-08T15:27:44.117Z"
   },
   {
    "duration": 9,
    "start_time": "2022-10-08T15:27:44.154Z"
   },
   {
    "duration": 5,
    "start_time": "2022-10-08T15:27:44.165Z"
   },
   {
    "duration": 8,
    "start_time": "2022-10-08T15:27:44.172Z"
   },
   {
    "duration": 8,
    "start_time": "2022-10-08T15:27:44.182Z"
   },
   {
    "duration": 15,
    "start_time": "2022-10-08T15:27:44.192Z"
   },
   {
    "duration": 15,
    "start_time": "2022-10-08T15:27:44.209Z"
   },
   {
    "duration": 22,
    "start_time": "2022-10-08T15:27:44.226Z"
   },
   {
    "duration": 14,
    "start_time": "2022-10-08T15:27:44.249Z"
   },
   {
    "duration": 377,
    "start_time": "2022-10-08T15:27:44.265Z"
   },
   {
    "duration": 305,
    "start_time": "2022-10-08T15:27:44.646Z"
   },
   {
    "duration": 221,
    "start_time": "2022-10-08T15:27:44.953Z"
   },
   {
    "duration": 368,
    "start_time": "2022-10-08T15:27:45.176Z"
   },
   {
    "duration": 226,
    "start_time": "2022-10-08T15:27:45.546Z"
   },
   {
    "duration": 334,
    "start_time": "2022-10-08T15:27:45.774Z"
   },
   {
    "duration": 18,
    "start_time": "2022-10-08T15:27:46.110Z"
   },
   {
    "duration": 153,
    "start_time": "2022-10-08T15:27:46.131Z"
   },
   {
    "duration": 5,
    "start_time": "2022-10-08T15:27:46.285Z"
   },
   {
    "duration": 11,
    "start_time": "2022-10-08T15:27:46.291Z"
   },
   {
    "duration": 173,
    "start_time": "2022-10-08T15:27:46.304Z"
   },
   {
    "duration": 10,
    "start_time": "2022-10-08T15:27:46.478Z"
   },
   {
    "duration": 289,
    "start_time": "2022-10-08T15:27:46.490Z"
   },
   {
    "duration": 4,
    "start_time": "2022-10-08T15:27:46.781Z"
   },
   {
    "duration": 263,
    "start_time": "2022-10-08T15:27:46.787Z"
   },
   {
    "duration": 192,
    "start_time": "2022-10-08T15:27:47.052Z"
   },
   {
    "duration": 11,
    "start_time": "2022-10-08T15:27:47.246Z"
   },
   {
    "duration": 11,
    "start_time": "2022-10-08T15:27:47.259Z"
   },
   {
    "duration": 17,
    "start_time": "2022-10-08T15:27:47.271Z"
   },
   {
    "duration": 39,
    "start_time": "2022-10-08T15:27:47.290Z"
   },
   {
    "duration": 18,
    "start_time": "2022-10-08T15:27:47.334Z"
   },
   {
    "duration": 13,
    "start_time": "2022-10-08T15:28:12.661Z"
   },
   {
    "duration": 18,
    "start_time": "2022-10-08T15:39:09.155Z"
   },
   {
    "duration": 61,
    "start_time": "2022-10-08T15:39:52.606Z"
   },
   {
    "duration": 1293,
    "start_time": "2022-10-08T15:40:05.539Z"
   },
   {
    "duration": 108,
    "start_time": "2022-10-08T15:40:06.834Z"
   },
   {
    "duration": 14,
    "start_time": "2022-10-08T15:40:06.944Z"
   },
   {
    "duration": 25,
    "start_time": "2022-10-08T15:40:06.960Z"
   },
   {
    "duration": 17,
    "start_time": "2022-10-08T15:40:06.987Z"
   },
   {
    "duration": 41,
    "start_time": "2022-10-08T15:40:07.006Z"
   },
   {
    "duration": 14,
    "start_time": "2022-10-08T15:40:07.049Z"
   },
   {
    "duration": 15,
    "start_time": "2022-10-08T15:40:07.066Z"
   },
   {
    "duration": 28,
    "start_time": "2022-10-08T15:40:07.083Z"
   },
   {
    "duration": 22,
    "start_time": "2022-10-08T15:40:07.113Z"
   },
   {
    "duration": 23,
    "start_time": "2022-10-08T15:40:07.138Z"
   },
   {
    "duration": 26,
    "start_time": "2022-10-08T15:40:07.163Z"
   },
   {
    "duration": 16,
    "start_time": "2022-10-08T15:40:07.191Z"
   },
   {
    "duration": 16,
    "start_time": "2022-10-08T15:40:07.209Z"
   },
   {
    "duration": 24,
    "start_time": "2022-10-08T15:40:07.227Z"
   },
   {
    "duration": 17,
    "start_time": "2022-10-08T15:40:07.253Z"
   },
   {
    "duration": 19,
    "start_time": "2022-10-08T15:40:07.272Z"
   },
   {
    "duration": 20,
    "start_time": "2022-10-08T15:40:07.293Z"
   },
   {
    "duration": 25,
    "start_time": "2022-10-08T15:40:07.314Z"
   },
   {
    "duration": 22,
    "start_time": "2022-10-08T15:40:07.340Z"
   },
   {
    "duration": 11,
    "start_time": "2022-10-08T15:40:07.364Z"
   },
   {
    "duration": 362,
    "start_time": "2022-10-08T15:40:07.377Z"
   },
   {
    "duration": 343,
    "start_time": "2022-10-08T15:40:07.741Z"
   },
   {
    "duration": 260,
    "start_time": "2022-10-08T15:40:08.085Z"
   },
   {
    "duration": 324,
    "start_time": "2022-10-08T15:40:08.347Z"
   },
   {
    "duration": 280,
    "start_time": "2022-10-08T15:40:08.672Z"
   },
   {
    "duration": 407,
    "start_time": "2022-10-08T15:40:08.954Z"
   },
   {
    "duration": 9,
    "start_time": "2022-10-08T15:40:09.365Z"
   },
   {
    "duration": 148,
    "start_time": "2022-10-08T15:40:09.376Z"
   },
   {
    "duration": 6,
    "start_time": "2022-10-08T15:40:09.526Z"
   },
   {
    "duration": 15,
    "start_time": "2022-10-08T15:40:09.535Z"
   },
   {
    "duration": 228,
    "start_time": "2022-10-08T15:40:09.552Z"
   },
   {
    "duration": 11,
    "start_time": "2022-10-08T15:40:09.781Z"
   },
   {
    "duration": 318,
    "start_time": "2022-10-08T15:40:09.793Z"
   },
   {
    "duration": 4,
    "start_time": "2022-10-08T15:40:10.113Z"
   },
   {
    "duration": 274,
    "start_time": "2022-10-08T15:40:10.119Z"
   },
   {
    "duration": 182,
    "start_time": "2022-10-08T15:40:10.395Z"
   },
   {
    "duration": 12,
    "start_time": "2022-10-08T15:40:10.579Z"
   },
   {
    "duration": 34,
    "start_time": "2022-10-08T15:40:10.593Z"
   },
   {
    "duration": 26,
    "start_time": "2022-10-08T15:40:10.629Z"
   },
   {
    "duration": 24,
    "start_time": "2022-10-08T15:40:10.657Z"
   },
   {
    "duration": 13,
    "start_time": "2022-10-08T15:40:10.683Z"
   },
   {
    "duration": 267,
    "start_time": "2022-10-08T15:45:50.439Z"
   },
   {
    "duration": 260,
    "start_time": "2022-10-08T15:49:17.400Z"
   },
   {
    "duration": 247,
    "start_time": "2022-10-08T15:49:26.144Z"
   },
   {
    "duration": 373,
    "start_time": "2022-10-08T15:50:43.712Z"
   },
   {
    "duration": 372,
    "start_time": "2022-10-08T15:50:54.079Z"
   },
   {
    "duration": 243,
    "start_time": "2022-10-08T15:51:38.086Z"
   },
   {
    "duration": 399,
    "start_time": "2022-10-08T15:52:55.189Z"
   },
   {
    "duration": 153,
    "start_time": "2022-10-08T15:54:06.526Z"
   },
   {
    "duration": 170,
    "start_time": "2022-10-08T15:56:35.848Z"
   },
   {
    "duration": 196,
    "start_time": "2022-10-08T15:57:12.703Z"
   },
   {
    "duration": 3,
    "start_time": "2022-10-08T16:00:23.672Z"
   },
   {
    "duration": 14,
    "start_time": "2022-10-08T16:00:51.703Z"
   },
   {
    "duration": 129,
    "start_time": "2022-10-08T16:01:57.925Z"
   },
   {
    "duration": 9,
    "start_time": "2022-10-08T16:02:07.049Z"
   },
   {
    "duration": 11,
    "start_time": "2022-10-08T16:03:07.792Z"
   },
   {
    "duration": 78,
    "start_time": "2022-10-08T16:03:46.798Z"
   },
   {
    "duration": 1220,
    "start_time": "2022-10-08T16:03:56.050Z"
   },
   {
    "duration": 108,
    "start_time": "2022-10-08T16:03:57.272Z"
   },
   {
    "duration": 15,
    "start_time": "2022-10-08T16:03:57.382Z"
   },
   {
    "duration": 11,
    "start_time": "2022-10-08T16:03:57.400Z"
   },
   {
    "duration": 15,
    "start_time": "2022-10-08T16:03:57.412Z"
   },
   {
    "duration": 18,
    "start_time": "2022-10-08T16:03:57.429Z"
   },
   {
    "duration": 17,
    "start_time": "2022-10-08T16:03:57.449Z"
   },
   {
    "duration": 19,
    "start_time": "2022-10-08T16:03:57.468Z"
   },
   {
    "duration": 27,
    "start_time": "2022-10-08T16:03:57.489Z"
   },
   {
    "duration": 6,
    "start_time": "2022-10-08T16:03:57.519Z"
   },
   {
    "duration": 19,
    "start_time": "2022-10-08T16:03:57.526Z"
   },
   {
    "duration": 21,
    "start_time": "2022-10-08T16:03:57.548Z"
   },
   {
    "duration": 21,
    "start_time": "2022-10-08T16:03:57.570Z"
   },
   {
    "duration": 7,
    "start_time": "2022-10-08T16:03:57.593Z"
   },
   {
    "duration": 17,
    "start_time": "2022-10-08T16:03:57.602Z"
   },
   {
    "duration": 21,
    "start_time": "2022-10-08T16:03:57.621Z"
   },
   {
    "duration": 14,
    "start_time": "2022-10-08T16:03:57.644Z"
   },
   {
    "duration": 29,
    "start_time": "2022-10-08T16:03:57.660Z"
   },
   {
    "duration": 15,
    "start_time": "2022-10-08T16:03:57.691Z"
   },
   {
    "duration": 17,
    "start_time": "2022-10-08T16:03:57.709Z"
   },
   {
    "duration": 18,
    "start_time": "2022-10-08T16:03:57.728Z"
   },
   {
    "duration": 365,
    "start_time": "2022-10-08T16:03:57.749Z"
   },
   {
    "duration": 375,
    "start_time": "2022-10-08T16:03:58.116Z"
   },
   {
    "duration": 57,
    "start_time": "2022-10-08T16:03:58.494Z"
   },
   {
    "duration": 0,
    "start_time": "2022-10-08T16:03:58.553Z"
   },
   {
    "duration": 0,
    "start_time": "2022-10-08T16:03:58.555Z"
   },
   {
    "duration": 0,
    "start_time": "2022-10-08T16:03:58.556Z"
   },
   {
    "duration": 0,
    "start_time": "2022-10-08T16:03:58.557Z"
   },
   {
    "duration": 0,
    "start_time": "2022-10-08T16:03:58.558Z"
   },
   {
    "duration": 0,
    "start_time": "2022-10-08T16:03:58.559Z"
   },
   {
    "duration": 0,
    "start_time": "2022-10-08T16:03:58.560Z"
   },
   {
    "duration": 0,
    "start_time": "2022-10-08T16:03:58.562Z"
   },
   {
    "duration": 0,
    "start_time": "2022-10-08T16:03:58.563Z"
   },
   {
    "duration": 0,
    "start_time": "2022-10-08T16:03:58.564Z"
   },
   {
    "duration": 0,
    "start_time": "2022-10-08T16:03:58.565Z"
   },
   {
    "duration": 0,
    "start_time": "2022-10-08T16:03:58.567Z"
   },
   {
    "duration": 0,
    "start_time": "2022-10-08T16:03:58.567Z"
   },
   {
    "duration": 0,
    "start_time": "2022-10-08T16:03:58.568Z"
   },
   {
    "duration": 0,
    "start_time": "2022-10-08T16:03:58.569Z"
   },
   {
    "duration": 0,
    "start_time": "2022-10-08T16:03:58.570Z"
   },
   {
    "duration": 0,
    "start_time": "2022-10-08T16:03:58.572Z"
   },
   {
    "duration": 0,
    "start_time": "2022-10-08T16:03:58.573Z"
   },
   {
    "duration": 0,
    "start_time": "2022-10-08T16:03:58.574Z"
   },
   {
    "duration": 17,
    "start_time": "2022-10-08T16:05:10.337Z"
   },
   {
    "duration": 7,
    "start_time": "2022-10-08T16:05:48.558Z"
   },
   {
    "duration": 111,
    "start_time": "2022-10-08T16:06:33.893Z"
   },
   {
    "duration": 58,
    "start_time": "2022-10-08T16:06:40.978Z"
   },
   {
    "duration": 18,
    "start_time": "2022-10-08T16:06:45.918Z"
   },
   {
    "duration": 10,
    "start_time": "2022-10-08T16:22:17.933Z"
   },
   {
    "duration": 106,
    "start_time": "2022-10-08T16:31:14.839Z"
   },
   {
    "duration": 23,
    "start_time": "2022-10-08T16:31:24.028Z"
   },
   {
    "duration": 14,
    "start_time": "2022-10-08T16:31:33.174Z"
   },
   {
    "duration": 11,
    "start_time": "2022-10-08T16:31:58.847Z"
   },
   {
    "duration": 20,
    "start_time": "2022-10-08T16:32:25.118Z"
   },
   {
    "duration": 6,
    "start_time": "2022-10-08T16:33:29.167Z"
   },
   {
    "duration": 5,
    "start_time": "2022-10-08T16:33:49.615Z"
   },
   {
    "duration": 6,
    "start_time": "2022-10-08T16:34:20.354Z"
   },
   {
    "duration": 5,
    "start_time": "2022-10-08T16:34:44.470Z"
   },
   {
    "duration": 4,
    "start_time": "2022-10-08T16:37:30.875Z"
   },
   {
    "duration": 4,
    "start_time": "2022-10-08T16:37:47.784Z"
   },
   {
    "duration": 7,
    "start_time": "2022-10-08T16:38:16.923Z"
   },
   {
    "duration": 6,
    "start_time": "2022-10-08T16:38:26.243Z"
   },
   {
    "duration": 7,
    "start_time": "2022-10-08T16:38:35.119Z"
   },
   {
    "duration": 5,
    "start_time": "2022-10-08T16:40:35.049Z"
   },
   {
    "duration": 5,
    "start_time": "2022-10-08T16:41:13.518Z"
   },
   {
    "duration": 6,
    "start_time": "2022-10-08T16:41:20.506Z"
   },
   {
    "duration": 5,
    "start_time": "2022-10-08T16:55:57.412Z"
   },
   {
    "duration": 6,
    "start_time": "2022-10-08T16:56:13.130Z"
   },
   {
    "duration": 1147,
    "start_time": "2022-10-08T16:56:20.186Z"
   },
   {
    "duration": 95,
    "start_time": "2022-10-08T16:56:21.335Z"
   },
   {
    "duration": 12,
    "start_time": "2022-10-08T16:56:21.432Z"
   },
   {
    "duration": 11,
    "start_time": "2022-10-08T16:56:21.445Z"
   },
   {
    "duration": 13,
    "start_time": "2022-10-08T16:56:21.457Z"
   },
   {
    "duration": 16,
    "start_time": "2022-10-08T16:56:21.471Z"
   },
   {
    "duration": 18,
    "start_time": "2022-10-08T16:56:21.488Z"
   },
   {
    "duration": 19,
    "start_time": "2022-10-08T16:56:21.507Z"
   },
   {
    "duration": 13,
    "start_time": "2022-10-08T16:56:21.528Z"
   },
   {
    "duration": 9,
    "start_time": "2022-10-08T16:56:21.543Z"
   },
   {
    "duration": 18,
    "start_time": "2022-10-08T16:56:21.553Z"
   },
   {
    "duration": 20,
    "start_time": "2022-10-08T16:56:21.573Z"
   },
   {
    "duration": 16,
    "start_time": "2022-10-08T16:56:21.594Z"
   },
   {
    "duration": 13,
    "start_time": "2022-10-08T16:56:21.612Z"
   },
   {
    "duration": 15,
    "start_time": "2022-10-08T16:56:21.627Z"
   },
   {
    "duration": 9,
    "start_time": "2022-10-08T16:56:21.644Z"
   },
   {
    "duration": 19,
    "start_time": "2022-10-08T16:56:21.655Z"
   },
   {
    "duration": 6,
    "start_time": "2022-10-08T16:56:21.676Z"
   },
   {
    "duration": 7,
    "start_time": "2022-10-08T16:56:21.684Z"
   },
   {
    "duration": 9,
    "start_time": "2022-10-08T16:56:21.693Z"
   },
   {
    "duration": 19,
    "start_time": "2022-10-08T16:56:21.704Z"
   },
   {
    "duration": 14,
    "start_time": "2022-10-08T16:56:21.724Z"
   },
   {
    "duration": 11,
    "start_time": "2022-10-08T16:56:21.739Z"
   },
   {
    "duration": 11,
    "start_time": "2022-10-08T16:56:21.752Z"
   },
   {
    "duration": 11,
    "start_time": "2022-10-08T16:56:21.764Z"
   },
   {
    "duration": 27,
    "start_time": "2022-10-08T16:56:21.777Z"
   },
   {
    "duration": 16,
    "start_time": "2022-10-08T16:56:21.806Z"
   },
   {
    "duration": 18,
    "start_time": "2022-10-08T16:56:21.826Z"
   },
   {
    "duration": 14,
    "start_time": "2022-10-08T16:56:21.846Z"
   },
   {
    "duration": 318,
    "start_time": "2022-10-08T16:56:21.862Z"
   },
   {
    "duration": 311,
    "start_time": "2022-10-08T16:56:22.182Z"
   },
   {
    "duration": 41,
    "start_time": "2022-10-08T16:56:22.495Z"
   },
   {
    "duration": 0,
    "start_time": "2022-10-08T16:56:22.538Z"
   },
   {
    "duration": 0,
    "start_time": "2022-10-08T16:56:22.539Z"
   },
   {
    "duration": 1,
    "start_time": "2022-10-08T16:56:22.540Z"
   },
   {
    "duration": 0,
    "start_time": "2022-10-08T16:56:22.542Z"
   },
   {
    "duration": 0,
    "start_time": "2022-10-08T16:56:22.542Z"
   },
   {
    "duration": 0,
    "start_time": "2022-10-08T16:56:22.543Z"
   },
   {
    "duration": 0,
    "start_time": "2022-10-08T16:56:22.544Z"
   },
   {
    "duration": 0,
    "start_time": "2022-10-08T16:56:22.545Z"
   },
   {
    "duration": 0,
    "start_time": "2022-10-08T16:56:22.547Z"
   },
   {
    "duration": 0,
    "start_time": "2022-10-08T16:56:22.548Z"
   },
   {
    "duration": 0,
    "start_time": "2022-10-08T16:56:22.549Z"
   },
   {
    "duration": 0,
    "start_time": "2022-10-08T16:56:22.550Z"
   },
   {
    "duration": 0,
    "start_time": "2022-10-08T16:56:22.551Z"
   },
   {
    "duration": 0,
    "start_time": "2022-10-08T16:56:22.552Z"
   },
   {
    "duration": 0,
    "start_time": "2022-10-08T16:56:22.553Z"
   },
   {
    "duration": 0,
    "start_time": "2022-10-08T16:56:22.554Z"
   },
   {
    "duration": 0,
    "start_time": "2022-10-08T16:56:22.555Z"
   },
   {
    "duration": 0,
    "start_time": "2022-10-08T16:56:22.556Z"
   },
   {
    "duration": 0,
    "start_time": "2022-10-08T16:56:22.558Z"
   },
   {
    "duration": 1276,
    "start_time": "2022-10-08T16:56:49.058Z"
   },
   {
    "duration": 110,
    "start_time": "2022-10-08T16:56:50.336Z"
   },
   {
    "duration": 13,
    "start_time": "2022-10-08T16:56:50.447Z"
   },
   {
    "duration": 11,
    "start_time": "2022-10-08T16:56:50.462Z"
   },
   {
    "duration": 11,
    "start_time": "2022-10-08T16:56:50.476Z"
   },
   {
    "duration": 15,
    "start_time": "2022-10-08T16:56:50.488Z"
   },
   {
    "duration": 26,
    "start_time": "2022-10-08T16:56:50.505Z"
   },
   {
    "duration": 17,
    "start_time": "2022-10-08T16:56:50.532Z"
   },
   {
    "duration": 16,
    "start_time": "2022-10-08T16:56:50.551Z"
   },
   {
    "duration": 7,
    "start_time": "2022-10-08T16:56:50.569Z"
   },
   {
    "duration": 17,
    "start_time": "2022-10-08T16:56:50.578Z"
   },
   {
    "duration": 22,
    "start_time": "2022-10-08T16:56:50.598Z"
   },
   {
    "duration": 7,
    "start_time": "2022-10-08T16:56:50.623Z"
   },
   {
    "duration": 5,
    "start_time": "2022-10-08T16:56:50.635Z"
   },
   {
    "duration": 9,
    "start_time": "2022-10-08T16:56:50.642Z"
   },
   {
    "duration": 10,
    "start_time": "2022-10-08T16:56:50.652Z"
   },
   {
    "duration": 19,
    "start_time": "2022-10-08T16:56:50.664Z"
   },
   {
    "duration": 37,
    "start_time": "2022-10-08T16:56:50.685Z"
   },
   {
    "duration": 4,
    "start_time": "2022-10-08T16:56:50.724Z"
   },
   {
    "duration": 8,
    "start_time": "2022-10-08T16:56:50.730Z"
   },
   {
    "duration": 35,
    "start_time": "2022-10-08T16:56:50.740Z"
   },
   {
    "duration": 16,
    "start_time": "2022-10-08T16:56:50.777Z"
   },
   {
    "duration": 34,
    "start_time": "2022-10-08T16:56:50.795Z"
   },
   {
    "duration": 14,
    "start_time": "2022-10-08T16:56:50.831Z"
   },
   {
    "duration": 18,
    "start_time": "2022-10-08T16:56:50.847Z"
   },
   {
    "duration": 27,
    "start_time": "2022-10-08T16:56:50.867Z"
   },
   {
    "duration": 30,
    "start_time": "2022-10-08T16:56:50.896Z"
   },
   {
    "duration": 19,
    "start_time": "2022-10-08T16:56:50.928Z"
   },
   {
    "duration": 24,
    "start_time": "2022-10-08T16:56:50.949Z"
   },
   {
    "duration": 328,
    "start_time": "2022-10-08T16:56:50.975Z"
   },
   {
    "duration": 330,
    "start_time": "2022-10-08T16:56:51.306Z"
   },
   {
    "duration": 252,
    "start_time": "2022-10-08T16:56:51.638Z"
   },
   {
    "duration": 346,
    "start_time": "2022-10-08T16:56:51.891Z"
   },
   {
    "duration": 240,
    "start_time": "2022-10-08T16:56:52.239Z"
   },
   {
    "duration": 376,
    "start_time": "2022-10-08T16:56:52.481Z"
   },
   {
    "duration": 10,
    "start_time": "2022-10-08T16:56:52.858Z"
   },
   {
    "duration": 175,
    "start_time": "2022-10-08T16:56:52.870Z"
   },
   {
    "duration": 4,
    "start_time": "2022-10-08T16:56:53.047Z"
   },
   {
    "duration": 12,
    "start_time": "2022-10-08T16:56:53.053Z"
   },
   {
    "duration": 182,
    "start_time": "2022-10-08T16:56:53.067Z"
   },
   {
    "duration": 9,
    "start_time": "2022-10-08T16:56:53.253Z"
   },
   {
    "duration": 246,
    "start_time": "2022-10-08T16:56:53.263Z"
   },
   {
    "duration": 13,
    "start_time": "2022-10-08T16:56:53.510Z"
   },
   {
    "duration": 236,
    "start_time": "2022-10-08T16:56:53.524Z"
   },
   {
    "duration": 173,
    "start_time": "2022-10-08T16:56:53.761Z"
   },
   {
    "duration": 9,
    "start_time": "2022-10-08T16:56:53.936Z"
   },
   {
    "duration": 10,
    "start_time": "2022-10-08T16:56:53.947Z"
   },
   {
    "duration": 7,
    "start_time": "2022-10-08T16:56:53.959Z"
   },
   {
    "duration": 36,
    "start_time": "2022-10-08T16:56:53.968Z"
   },
   {
    "duration": 14,
    "start_time": "2022-10-08T16:56:54.020Z"
   },
   {
    "duration": 75,
    "start_time": "2022-10-08T21:37:30.396Z"
   },
   {
    "duration": 1583,
    "start_time": "2022-10-08T21:37:37.036Z"
   },
   {
    "duration": 268,
    "start_time": "2022-10-08T21:37:38.622Z"
   },
   {
    "duration": 14,
    "start_time": "2022-10-08T21:37:38.892Z"
   },
   {
    "duration": 11,
    "start_time": "2022-10-08T21:37:38.908Z"
   },
   {
    "duration": 11,
    "start_time": "2022-10-08T21:37:38.922Z"
   },
   {
    "duration": 16,
    "start_time": "2022-10-08T21:37:38.935Z"
   },
   {
    "duration": 42,
    "start_time": "2022-10-08T21:37:38.953Z"
   },
   {
    "duration": 14,
    "start_time": "2022-10-08T21:37:38.998Z"
   },
   {
    "duration": 15,
    "start_time": "2022-10-08T21:37:39.015Z"
   },
   {
    "duration": 7,
    "start_time": "2022-10-08T21:37:39.032Z"
   },
   {
    "duration": 18,
    "start_time": "2022-10-08T21:37:39.041Z"
   },
   {
    "duration": 40,
    "start_time": "2022-10-08T21:37:39.061Z"
   },
   {
    "duration": 11,
    "start_time": "2022-10-08T21:37:39.103Z"
   },
   {
    "duration": 8,
    "start_time": "2022-10-08T21:37:39.118Z"
   },
   {
    "duration": 16,
    "start_time": "2022-10-08T21:37:39.128Z"
   },
   {
    "duration": 10,
    "start_time": "2022-10-08T21:37:39.146Z"
   },
   {
    "duration": 49,
    "start_time": "2022-10-08T21:37:39.158Z"
   },
   {
    "duration": 129,
    "start_time": "2022-10-08T21:37:39.208Z"
   },
   {
    "duration": 0,
    "start_time": "2022-10-08T21:37:39.340Z"
   },
   {
    "duration": 0,
    "start_time": "2022-10-08T21:37:39.342Z"
   },
   {
    "duration": 0,
    "start_time": "2022-10-08T21:37:39.344Z"
   },
   {
    "duration": 0,
    "start_time": "2022-10-08T21:37:39.345Z"
   },
   {
    "duration": 0,
    "start_time": "2022-10-08T21:37:39.351Z"
   },
   {
    "duration": 0,
    "start_time": "2022-10-08T21:37:39.352Z"
   },
   {
    "duration": 0,
    "start_time": "2022-10-08T21:37:39.353Z"
   },
   {
    "duration": 0,
    "start_time": "2022-10-08T21:37:39.357Z"
   },
   {
    "duration": 0,
    "start_time": "2022-10-08T21:37:39.358Z"
   },
   {
    "duration": 0,
    "start_time": "2022-10-08T21:37:39.364Z"
   },
   {
    "duration": 0,
    "start_time": "2022-10-08T21:37:39.366Z"
   },
   {
    "duration": 0,
    "start_time": "2022-10-08T21:37:39.368Z"
   },
   {
    "duration": 0,
    "start_time": "2022-10-08T21:37:39.391Z"
   },
   {
    "duration": 0,
    "start_time": "2022-10-08T21:37:39.393Z"
   },
   {
    "duration": 0,
    "start_time": "2022-10-08T21:37:39.395Z"
   },
   {
    "duration": 0,
    "start_time": "2022-10-08T21:37:39.397Z"
   },
   {
    "duration": 0,
    "start_time": "2022-10-08T21:37:39.398Z"
   },
   {
    "duration": 0,
    "start_time": "2022-10-08T21:37:39.399Z"
   },
   {
    "duration": 0,
    "start_time": "2022-10-08T21:37:39.401Z"
   },
   {
    "duration": 0,
    "start_time": "2022-10-08T21:37:39.402Z"
   },
   {
    "duration": 0,
    "start_time": "2022-10-08T21:37:39.407Z"
   },
   {
    "duration": 0,
    "start_time": "2022-10-08T21:37:39.409Z"
   },
   {
    "duration": 0,
    "start_time": "2022-10-08T21:37:39.411Z"
   },
   {
    "duration": 0,
    "start_time": "2022-10-08T21:37:39.412Z"
   },
   {
    "duration": 0,
    "start_time": "2022-10-08T21:37:39.414Z"
   },
   {
    "duration": 0,
    "start_time": "2022-10-08T21:37:39.417Z"
   },
   {
    "duration": 0,
    "start_time": "2022-10-08T21:37:39.418Z"
   },
   {
    "duration": 0,
    "start_time": "2022-10-08T21:37:39.420Z"
   },
   {
    "duration": 0,
    "start_time": "2022-10-08T21:37:39.421Z"
   },
   {
    "duration": 0,
    "start_time": "2022-10-08T21:37:39.423Z"
   },
   {
    "duration": 0,
    "start_time": "2022-10-08T21:37:39.424Z"
   },
   {
    "duration": 0,
    "start_time": "2022-10-08T21:37:39.425Z"
   },
   {
    "duration": 22,
    "start_time": "2022-10-08T21:39:37.752Z"
   },
   {
    "duration": 8,
    "start_time": "2022-10-08T21:39:50.248Z"
   },
   {
    "duration": 7,
    "start_time": "2022-10-08T21:42:14.468Z"
   },
   {
    "duration": 7,
    "start_time": "2022-10-08T21:42:29.123Z"
   },
   {
    "duration": 7,
    "start_time": "2022-10-08T21:43:02.270Z"
   },
   {
    "duration": 7,
    "start_time": "2022-10-08T21:44:08.567Z"
   },
   {
    "duration": 13,
    "start_time": "2022-10-08T21:45:25.284Z"
   },
   {
    "duration": 91,
    "start_time": "2022-10-08T21:46:12.850Z"
   },
   {
    "duration": 6,
    "start_time": "2022-10-08T21:46:13.270Z"
   },
   {
    "duration": 5,
    "start_time": "2022-10-08T21:46:13.637Z"
   },
   {
    "duration": 9,
    "start_time": "2022-10-08T21:46:13.836Z"
   },
   {
    "duration": 6,
    "start_time": "2022-10-08T21:46:13.985Z"
   },
   {
    "duration": 13,
    "start_time": "2022-10-08T21:46:14.155Z"
   },
   {
    "duration": 9,
    "start_time": "2022-10-08T21:46:14.314Z"
   },
   {
    "duration": 5,
    "start_time": "2022-10-08T21:47:06.309Z"
   },
   {
    "duration": 13,
    "start_time": "2022-10-08T21:47:06.317Z"
   },
   {
    "duration": 11,
    "start_time": "2022-10-08T21:47:06.332Z"
   },
   {
    "duration": 9,
    "start_time": "2022-10-08T21:47:06.345Z"
   },
   {
    "duration": 10,
    "start_time": "2022-10-08T21:47:06.356Z"
   },
   {
    "duration": 11,
    "start_time": "2022-10-08T21:47:06.369Z"
   },
   {
    "duration": 6,
    "start_time": "2022-10-08T21:47:08.853Z"
   },
   {
    "duration": 6,
    "start_time": "2022-10-08T21:47:09.171Z"
   },
   {
    "duration": 5,
    "start_time": "2022-10-08T21:47:09.492Z"
   },
   {
    "duration": 5,
    "start_time": "2022-10-08T21:47:09.650Z"
   },
   {
    "duration": 7,
    "start_time": "2022-10-08T21:47:09.813Z"
   },
   {
    "duration": 7,
    "start_time": "2022-10-08T21:47:09.970Z"
   },
   {
    "duration": 5,
    "start_time": "2022-10-08T21:47:11.809Z"
   },
   {
    "duration": 13,
    "start_time": "2022-10-08T21:47:11.976Z"
   },
   {
    "duration": 1625,
    "start_time": "2022-10-08T21:47:25.180Z"
   },
   {
    "duration": 120,
    "start_time": "2022-10-08T21:47:26.808Z"
   },
   {
    "duration": 17,
    "start_time": "2022-10-08T21:47:26.931Z"
   },
   {
    "duration": 15,
    "start_time": "2022-10-08T21:47:26.950Z"
   },
   {
    "duration": 12,
    "start_time": "2022-10-08T21:47:26.967Z"
   },
   {
    "duration": 18,
    "start_time": "2022-10-08T21:47:26.982Z"
   },
   {
    "duration": 20,
    "start_time": "2022-10-08T21:47:27.002Z"
   },
   {
    "duration": 19,
    "start_time": "2022-10-08T21:47:27.024Z"
   },
   {
    "duration": 22,
    "start_time": "2022-10-08T21:47:27.045Z"
   },
   {
    "duration": 6,
    "start_time": "2022-10-08T21:47:27.089Z"
   },
   {
    "duration": 19,
    "start_time": "2022-10-08T21:47:27.097Z"
   },
   {
    "duration": 17,
    "start_time": "2022-10-08T21:47:27.119Z"
   },
   {
    "duration": 12,
    "start_time": "2022-10-08T21:47:27.138Z"
   },
   {
    "duration": 40,
    "start_time": "2022-10-08T21:47:27.152Z"
   },
   {
    "duration": 24,
    "start_time": "2022-10-08T21:47:27.197Z"
   },
   {
    "duration": 23,
    "start_time": "2022-10-08T21:47:27.223Z"
   },
   {
    "duration": 29,
    "start_time": "2022-10-08T21:47:27.248Z"
   },
   {
    "duration": 9,
    "start_time": "2022-10-08T21:47:27.280Z"
   },
   {
    "duration": 7,
    "start_time": "2022-10-08T21:47:27.291Z"
   },
   {
    "duration": 10,
    "start_time": "2022-10-08T21:47:27.300Z"
   },
   {
    "duration": 12,
    "start_time": "2022-10-08T21:47:27.313Z"
   },
   {
    "duration": 17,
    "start_time": "2022-10-08T21:47:27.327Z"
   },
   {
    "duration": 23,
    "start_time": "2022-10-08T21:47:27.346Z"
   },
   {
    "duration": 16,
    "start_time": "2022-10-08T21:47:27.371Z"
   },
   {
    "duration": 8,
    "start_time": "2022-10-08T21:47:27.393Z"
   },
   {
    "duration": 17,
    "start_time": "2022-10-08T21:47:27.403Z"
   },
   {
    "duration": 8,
    "start_time": "2022-10-08T21:47:27.428Z"
   },
   {
    "duration": 17,
    "start_time": "2022-10-08T21:47:27.441Z"
   },
   {
    "duration": 29,
    "start_time": "2022-10-08T21:47:27.460Z"
   },
   {
    "duration": 19,
    "start_time": "2022-10-08T21:47:27.492Z"
   },
   {
    "duration": 471,
    "start_time": "2022-10-08T21:47:27.513Z"
   },
   {
    "duration": 493,
    "start_time": "2022-10-08T21:47:27.988Z"
   },
   {
    "duration": 353,
    "start_time": "2022-10-08T21:47:28.489Z"
   },
   {
    "duration": 425,
    "start_time": "2022-10-08T21:47:28.844Z"
   },
   {
    "duration": 289,
    "start_time": "2022-10-08T21:47:29.271Z"
   },
   {
    "duration": 432,
    "start_time": "2022-10-08T21:47:29.562Z"
   },
   {
    "duration": 13,
    "start_time": "2022-10-08T21:47:29.996Z"
   },
   {
    "duration": 236,
    "start_time": "2022-10-08T21:47:30.012Z"
   },
   {
    "duration": 6,
    "start_time": "2022-10-08T21:47:30.251Z"
   },
   {
    "duration": 16,
    "start_time": "2022-10-08T21:47:30.260Z"
   },
   {
    "duration": 226,
    "start_time": "2022-10-08T21:47:30.278Z"
   },
   {
    "duration": 12,
    "start_time": "2022-10-08T21:47:30.506Z"
   },
   {
    "duration": 329,
    "start_time": "2022-10-08T21:47:30.521Z"
   },
   {
    "duration": 5,
    "start_time": "2022-10-08T21:47:30.853Z"
   },
   {
    "duration": 270,
    "start_time": "2022-10-08T21:47:30.860Z"
   },
   {
    "duration": 247,
    "start_time": "2022-10-08T21:47:31.133Z"
   },
   {
    "duration": 16,
    "start_time": "2022-10-08T21:47:31.391Z"
   },
   {
    "duration": 19,
    "start_time": "2022-10-08T21:47:31.409Z"
   },
   {
    "duration": 13,
    "start_time": "2022-10-08T21:47:31.430Z"
   },
   {
    "duration": 61,
    "start_time": "2022-10-08T21:47:31.446Z"
   },
   {
    "duration": 35,
    "start_time": "2022-10-08T21:47:31.509Z"
   },
   {
    "duration": 107,
    "start_time": "2022-10-08T21:50:32.101Z"
   },
   {
    "duration": 7,
    "start_time": "2022-10-08T21:51:01.237Z"
   },
   {
    "duration": 5,
    "start_time": "2022-10-08T21:57:28.538Z"
   },
   {
    "duration": 12,
    "start_time": "2022-10-08T21:57:28.548Z"
   },
   {
    "duration": 82,
    "start_time": "2022-10-08T21:57:54.302Z"
   },
   {
    "duration": 331,
    "start_time": "2022-10-08T21:59:47.354Z"
   },
   {
    "duration": 277,
    "start_time": "2022-10-08T22:03:14.695Z"
   },
   {
    "duration": 393,
    "start_time": "2022-10-08T22:03:34.958Z"
   },
   {
    "duration": 450,
    "start_time": "2022-10-08T22:03:47.207Z"
   },
   {
    "duration": 289,
    "start_time": "2022-10-08T22:06:55.420Z"
   },
   {
    "duration": 197,
    "start_time": "2022-10-08T22:07:41.192Z"
   },
   {
    "duration": 181,
    "start_time": "2022-10-08T22:10:33.754Z"
   },
   {
    "duration": 195,
    "start_time": "2022-10-08T22:11:04.078Z"
   },
   {
    "duration": 224,
    "start_time": "2022-10-08T22:11:09.860Z"
   },
   {
    "duration": 18,
    "start_time": "2022-10-08T22:11:30.981Z"
   },
   {
    "duration": 14,
    "start_time": "2022-10-08T22:11:59.225Z"
   },
   {
    "duration": 177,
    "start_time": "2022-10-08T22:12:13.144Z"
   },
   {
    "duration": 338,
    "start_time": "2022-10-08T22:13:41.168Z"
   },
   {
    "duration": 588,
    "start_time": "2022-10-08T22:14:27.294Z"
   },
   {
    "duration": 533,
    "start_time": "2022-10-08T22:14:50.538Z"
   },
   {
    "duration": 404,
    "start_time": "2022-10-08T22:15:15.070Z"
   },
   {
    "duration": 194,
    "start_time": "2022-10-08T22:15:27.099Z"
   },
   {
    "duration": 222,
    "start_time": "2022-10-08T22:15:33.662Z"
   },
   {
    "duration": 181,
    "start_time": "2022-10-08T22:15:56.254Z"
   },
   {
    "duration": 233,
    "start_time": "2022-10-08T22:16:04.968Z"
   },
   {
    "duration": 255,
    "start_time": "2022-10-08T22:16:19.339Z"
   },
   {
    "duration": 72,
    "start_time": "2022-10-08T22:16:51.769Z"
   },
   {
    "duration": 220,
    "start_time": "2022-10-08T22:17:07.996Z"
   },
   {
    "duration": 268,
    "start_time": "2022-10-08T22:17:37.272Z"
   },
   {
    "duration": 82,
    "start_time": "2022-10-08T22:17:52.375Z"
   },
   {
    "duration": 231,
    "start_time": "2022-10-08T22:22:39.377Z"
   },
   {
    "duration": 217,
    "start_time": "2022-10-08T22:24:15.052Z"
   },
   {
    "duration": 222,
    "start_time": "2022-10-08T22:24:27.312Z"
   },
   {
    "duration": 324,
    "start_time": "2022-10-08T22:26:41.736Z"
   },
   {
    "duration": 76,
    "start_time": "2022-10-08T22:31:48.922Z"
   },
   {
    "duration": 16,
    "start_time": "2022-10-08T22:32:23.260Z"
   },
   {
    "duration": 15,
    "start_time": "2022-10-08T22:33:38.613Z"
   },
   {
    "duration": 26,
    "start_time": "2022-10-08T22:35:06.968Z"
   },
   {
    "duration": 21,
    "start_time": "2022-10-08T22:35:55.335Z"
   },
   {
    "duration": 1270,
    "start_time": "2022-10-08T22:36:06.693Z"
   },
   {
    "duration": 237,
    "start_time": "2022-10-08T22:36:07.966Z"
   },
   {
    "duration": 19,
    "start_time": "2022-10-08T22:36:08.207Z"
   },
   {
    "duration": 16,
    "start_time": "2022-10-08T22:36:08.229Z"
   },
   {
    "duration": 22,
    "start_time": "2022-10-08T22:36:08.248Z"
   },
   {
    "duration": 23,
    "start_time": "2022-10-08T22:36:08.273Z"
   },
   {
    "duration": 27,
    "start_time": "2022-10-08T22:36:08.298Z"
   },
   {
    "duration": 17,
    "start_time": "2022-10-08T22:36:08.328Z"
   },
   {
    "duration": 23,
    "start_time": "2022-10-08T22:36:08.348Z"
   },
   {
    "duration": 15,
    "start_time": "2022-10-08T22:36:08.375Z"
   },
   {
    "duration": 18,
    "start_time": "2022-10-08T22:36:08.392Z"
   },
   {
    "duration": 20,
    "start_time": "2022-10-08T22:36:08.412Z"
   },
   {
    "duration": 12,
    "start_time": "2022-10-08T22:36:08.435Z"
   },
   {
    "duration": 7,
    "start_time": "2022-10-08T22:36:08.449Z"
   },
   {
    "duration": 39,
    "start_time": "2022-10-08T22:36:08.458Z"
   },
   {
    "duration": 17,
    "start_time": "2022-10-08T22:36:08.500Z"
   },
   {
    "duration": 29,
    "start_time": "2022-10-08T22:36:08.520Z"
   },
   {
    "duration": 14,
    "start_time": "2022-10-08T22:36:08.551Z"
   },
   {
    "duration": 20,
    "start_time": "2022-10-08T22:36:08.570Z"
   },
   {
    "duration": 11,
    "start_time": "2022-10-08T22:36:08.593Z"
   },
   {
    "duration": 8,
    "start_time": "2022-10-08T22:36:08.606Z"
   },
   {
    "duration": 232,
    "start_time": "2022-10-08T22:36:08.616Z"
   },
   {
    "duration": 0,
    "start_time": "2022-10-08T22:36:08.852Z"
   },
   {
    "duration": 1,
    "start_time": "2022-10-08T22:36:08.854Z"
   },
   {
    "duration": 0,
    "start_time": "2022-10-08T22:36:08.860Z"
   },
   {
    "duration": 1,
    "start_time": "2022-10-08T22:36:08.862Z"
   },
   {
    "duration": 0,
    "start_time": "2022-10-08T22:36:08.864Z"
   },
   {
    "duration": 0,
    "start_time": "2022-10-08T22:36:08.865Z"
   },
   {
    "duration": 0,
    "start_time": "2022-10-08T22:36:08.867Z"
   },
   {
    "duration": 0,
    "start_time": "2022-10-08T22:36:08.868Z"
   },
   {
    "duration": 0,
    "start_time": "2022-10-08T22:36:08.871Z"
   },
   {
    "duration": 0,
    "start_time": "2022-10-08T22:36:08.890Z"
   },
   {
    "duration": 0,
    "start_time": "2022-10-08T22:36:08.891Z"
   },
   {
    "duration": 0,
    "start_time": "2022-10-08T22:36:08.893Z"
   },
   {
    "duration": 0,
    "start_time": "2022-10-08T22:36:08.894Z"
   },
   {
    "duration": 0,
    "start_time": "2022-10-08T22:36:08.896Z"
   },
   {
    "duration": 0,
    "start_time": "2022-10-08T22:36:08.897Z"
   },
   {
    "duration": 1,
    "start_time": "2022-10-08T22:36:08.898Z"
   },
   {
    "duration": 0,
    "start_time": "2022-10-08T22:36:08.900Z"
   },
   {
    "duration": 0,
    "start_time": "2022-10-08T22:36:08.901Z"
   },
   {
    "duration": 0,
    "start_time": "2022-10-08T22:36:08.902Z"
   },
   {
    "duration": 0,
    "start_time": "2022-10-08T22:36:08.903Z"
   },
   {
    "duration": 0,
    "start_time": "2022-10-08T22:36:08.905Z"
   },
   {
    "duration": 0,
    "start_time": "2022-10-08T22:36:08.906Z"
   },
   {
    "duration": 0,
    "start_time": "2022-10-08T22:36:08.907Z"
   },
   {
    "duration": 0,
    "start_time": "2022-10-08T22:36:08.909Z"
   },
   {
    "duration": 0,
    "start_time": "2022-10-08T22:36:08.910Z"
   },
   {
    "duration": 1329,
    "start_time": "2022-10-08T22:37:05.323Z"
   },
   {
    "duration": 118,
    "start_time": "2022-10-08T22:37:06.655Z"
   },
   {
    "duration": 16,
    "start_time": "2022-10-08T22:37:06.775Z"
   },
   {
    "duration": 16,
    "start_time": "2022-10-08T22:37:06.794Z"
   },
   {
    "duration": 11,
    "start_time": "2022-10-08T22:37:06.813Z"
   },
   {
    "duration": 21,
    "start_time": "2022-10-08T22:37:06.827Z"
   },
   {
    "duration": 19,
    "start_time": "2022-10-08T22:37:06.851Z"
   },
   {
    "duration": 15,
    "start_time": "2022-10-08T22:37:06.889Z"
   },
   {
    "duration": 23,
    "start_time": "2022-10-08T22:37:06.907Z"
   },
   {
    "duration": 7,
    "start_time": "2022-10-08T22:37:06.934Z"
   },
   {
    "duration": 22,
    "start_time": "2022-10-08T22:37:06.943Z"
   },
   {
    "duration": 13,
    "start_time": "2022-10-08T22:37:06.990Z"
   },
   {
    "duration": 12,
    "start_time": "2022-10-08T22:37:07.005Z"
   },
   {
    "duration": 8,
    "start_time": "2022-10-08T22:37:07.019Z"
   },
   {
    "duration": 11,
    "start_time": "2022-10-08T22:37:07.029Z"
   },
   {
    "duration": 12,
    "start_time": "2022-10-08T22:37:07.042Z"
   },
   {
    "duration": 17,
    "start_time": "2022-10-08T22:37:07.089Z"
   },
   {
    "duration": 8,
    "start_time": "2022-10-08T22:37:07.108Z"
   },
   {
    "duration": 6,
    "start_time": "2022-10-08T22:37:07.119Z"
   },
   {
    "duration": 11,
    "start_time": "2022-10-08T22:37:07.127Z"
   },
   {
    "duration": 48,
    "start_time": "2022-10-08T22:37:07.141Z"
   },
   {
    "duration": 8,
    "start_time": "2022-10-08T22:37:07.191Z"
   },
   {
    "duration": 20,
    "start_time": "2022-10-08T22:37:07.203Z"
   },
   {
    "duration": 18,
    "start_time": "2022-10-08T22:37:07.226Z"
   },
   {
    "duration": 43,
    "start_time": "2022-10-08T22:37:07.246Z"
   },
   {
    "duration": 367,
    "start_time": "2022-10-08T22:37:07.291Z"
   },
   {
    "duration": 399,
    "start_time": "2022-10-08T22:37:07.660Z"
   },
   {
    "duration": 297,
    "start_time": "2022-10-08T22:37:08.063Z"
   },
   {
    "duration": 438,
    "start_time": "2022-10-08T22:37:08.362Z"
   },
   {
    "duration": 347,
    "start_time": "2022-10-08T22:37:08.802Z"
   },
   {
    "duration": 438,
    "start_time": "2022-10-08T22:37:09.151Z"
   },
   {
    "duration": 24,
    "start_time": "2022-10-08T22:37:09.592Z"
   },
   {
    "duration": 216,
    "start_time": "2022-10-08T22:37:09.620Z"
   },
   {
    "duration": 6,
    "start_time": "2022-10-08T22:37:09.838Z"
   },
   {
    "duration": 10,
    "start_time": "2022-10-08T22:37:09.845Z"
   },
   {
    "duration": 247,
    "start_time": "2022-10-08T22:37:09.857Z"
   },
   {
    "duration": 13,
    "start_time": "2022-10-08T22:37:10.106Z"
   },
   {
    "duration": 328,
    "start_time": "2022-10-08T22:37:10.121Z"
   },
   {
    "duration": 5,
    "start_time": "2022-10-08T22:37:10.451Z"
   },
   {
    "duration": 289,
    "start_time": "2022-10-08T22:37:10.459Z"
   },
   {
    "duration": 210,
    "start_time": "2022-10-08T22:37:10.751Z"
   },
   {
    "duration": 81,
    "start_time": "2022-10-08T22:37:10.964Z"
   },
   {
    "duration": 0,
    "start_time": "2022-10-08T22:37:11.047Z"
   },
   {
    "duration": 0,
    "start_time": "2022-10-08T22:37:11.049Z"
   },
   {
    "duration": 0,
    "start_time": "2022-10-08T22:37:11.051Z"
   },
   {
    "duration": 0,
    "start_time": "2022-10-08T22:37:11.052Z"
   },
   {
    "duration": 0,
    "start_time": "2022-10-08T22:37:11.053Z"
   },
   {
    "duration": 6,
    "start_time": "2022-10-08T22:48:09.706Z"
   },
   {
    "duration": 1371,
    "start_time": "2022-10-08T22:48:16.568Z"
   },
   {
    "duration": 118,
    "start_time": "2022-10-08T22:48:17.942Z"
   },
   {
    "duration": 18,
    "start_time": "2022-10-08T22:48:18.062Z"
   },
   {
    "duration": 10,
    "start_time": "2022-10-08T22:48:18.083Z"
   },
   {
    "duration": 12,
    "start_time": "2022-10-08T22:48:18.096Z"
   },
   {
    "duration": 19,
    "start_time": "2022-10-08T22:48:18.110Z"
   },
   {
    "duration": 16,
    "start_time": "2022-10-08T22:48:18.131Z"
   },
   {
    "duration": 41,
    "start_time": "2022-10-08T22:48:18.150Z"
   },
   {
    "duration": 26,
    "start_time": "2022-10-08T22:48:18.194Z"
   },
   {
    "duration": 20,
    "start_time": "2022-10-08T22:48:18.224Z"
   },
   {
    "duration": 26,
    "start_time": "2022-10-08T22:48:18.246Z"
   },
   {
    "duration": 25,
    "start_time": "2022-10-08T22:48:18.274Z"
   },
   {
    "duration": 16,
    "start_time": "2022-10-08T22:48:18.301Z"
   },
   {
    "duration": 13,
    "start_time": "2022-10-08T22:48:18.319Z"
   },
   {
    "duration": 10,
    "start_time": "2022-10-08T22:48:18.334Z"
   },
   {
    "duration": 14,
    "start_time": "2022-10-08T22:48:18.346Z"
   },
   {
    "duration": 34,
    "start_time": "2022-10-08T22:48:18.362Z"
   },
   {
    "duration": 8,
    "start_time": "2022-10-08T22:48:18.398Z"
   },
   {
    "duration": 7,
    "start_time": "2022-10-08T22:48:18.409Z"
   },
   {
    "duration": 9,
    "start_time": "2022-10-08T22:48:18.418Z"
   },
   {
    "duration": 12,
    "start_time": "2022-10-08T22:48:18.429Z"
   },
   {
    "duration": 5,
    "start_time": "2022-10-08T22:48:18.443Z"
   },
   {
    "duration": 44,
    "start_time": "2022-10-08T22:48:18.450Z"
   },
   {
    "duration": 18,
    "start_time": "2022-10-08T22:48:18.497Z"
   },
   {
    "duration": 19,
    "start_time": "2022-10-08T22:48:18.517Z"
   },
   {
    "duration": 26,
    "start_time": "2022-10-08T22:48:18.538Z"
   },
   {
    "duration": 408,
    "start_time": "2022-10-08T22:48:18.566Z"
   },
   {
    "duration": 404,
    "start_time": "2022-10-08T22:48:18.979Z"
   },
   {
    "duration": 270,
    "start_time": "2022-10-08T22:48:19.390Z"
   },
   {
    "duration": 433,
    "start_time": "2022-10-08T22:48:19.662Z"
   },
   {
    "duration": 262,
    "start_time": "2022-10-08T22:48:20.097Z"
   },
   {
    "duration": 455,
    "start_time": "2022-10-08T22:48:20.362Z"
   },
   {
    "duration": 15,
    "start_time": "2022-10-08T22:48:20.820Z"
   },
   {
    "duration": 207,
    "start_time": "2022-10-08T22:48:20.837Z"
   },
   {
    "duration": 6,
    "start_time": "2022-10-08T22:48:21.046Z"
   },
   {
    "duration": 5,
    "start_time": "2022-10-08T22:48:21.055Z"
   },
   {
    "duration": 251,
    "start_time": "2022-10-08T22:48:21.062Z"
   },
   {
    "duration": 15,
    "start_time": "2022-10-08T22:48:21.317Z"
   },
   {
    "duration": 330,
    "start_time": "2022-10-08T22:48:21.334Z"
   },
   {
    "duration": 5,
    "start_time": "2022-10-08T22:48:21.666Z"
   },
   {
    "duration": 341,
    "start_time": "2022-10-08T22:48:21.690Z"
   },
   {
    "duration": 219,
    "start_time": "2022-10-08T22:48:22.034Z"
   },
   {
    "duration": 127,
    "start_time": "2022-10-08T22:48:22.256Z"
   },
   {
    "duration": 0,
    "start_time": "2022-10-08T22:48:22.385Z"
   },
   {
    "duration": 0,
    "start_time": "2022-10-08T22:48:22.387Z"
   },
   {
    "duration": 0,
    "start_time": "2022-10-08T22:48:22.390Z"
   },
   {
    "duration": 0,
    "start_time": "2022-10-08T22:48:22.392Z"
   },
   {
    "duration": 0,
    "start_time": "2022-10-08T22:48:22.393Z"
   },
   {
    "duration": 10,
    "start_time": "2022-10-08T22:51:57.365Z"
   },
   {
    "duration": 5,
    "start_time": "2022-10-08T22:53:28.897Z"
   },
   {
    "duration": 1219,
    "start_time": "2022-10-08T23:06:33.017Z"
   },
   {
    "duration": 115,
    "start_time": "2022-10-08T23:06:34.238Z"
   },
   {
    "duration": 14,
    "start_time": "2022-10-08T23:06:34.355Z"
   },
   {
    "duration": 9,
    "start_time": "2022-10-08T23:06:34.371Z"
   },
   {
    "duration": 15,
    "start_time": "2022-10-08T23:06:34.382Z"
   },
   {
    "duration": 17,
    "start_time": "2022-10-08T23:06:34.400Z"
   },
   {
    "duration": 12,
    "start_time": "2022-10-08T23:06:34.419Z"
   },
   {
    "duration": 15,
    "start_time": "2022-10-08T23:06:34.433Z"
   },
   {
    "duration": 39,
    "start_time": "2022-10-08T23:06:34.450Z"
   },
   {
    "duration": 5,
    "start_time": "2022-10-08T23:06:34.492Z"
   },
   {
    "duration": 18,
    "start_time": "2022-10-08T23:06:34.499Z"
   },
   {
    "duration": 17,
    "start_time": "2022-10-08T23:06:34.519Z"
   },
   {
    "duration": 14,
    "start_time": "2022-10-08T23:06:34.537Z"
   },
   {
    "duration": 6,
    "start_time": "2022-10-08T23:06:34.553Z"
   },
   {
    "duration": 30,
    "start_time": "2022-10-08T23:06:34.560Z"
   },
   {
    "duration": 9,
    "start_time": "2022-10-08T23:06:34.592Z"
   },
   {
    "duration": 21,
    "start_time": "2022-10-08T23:06:34.602Z"
   },
   {
    "duration": 7,
    "start_time": "2022-10-08T23:06:34.625Z"
   },
   {
    "duration": 4,
    "start_time": "2022-10-08T23:06:34.634Z"
   },
   {
    "duration": 8,
    "start_time": "2022-10-08T23:06:34.639Z"
   },
   {
    "duration": 5,
    "start_time": "2022-10-08T23:06:34.690Z"
   },
   {
    "duration": 11,
    "start_time": "2022-10-08T23:06:34.697Z"
   },
   {
    "duration": 5,
    "start_time": "2022-10-08T23:06:34.710Z"
   },
   {
    "duration": 9,
    "start_time": "2022-10-08T23:06:34.717Z"
   },
   {
    "duration": 15,
    "start_time": "2022-10-08T23:06:34.728Z"
   },
   {
    "duration": 49,
    "start_time": "2022-10-08T23:06:34.745Z"
   },
   {
    "duration": 335,
    "start_time": "2022-10-08T23:06:34.796Z"
   },
   {
    "duration": 370,
    "start_time": "2022-10-08T23:06:35.135Z"
   },
   {
    "duration": 249,
    "start_time": "2022-10-08T23:06:35.508Z"
   },
   {
    "duration": 378,
    "start_time": "2022-10-08T23:06:35.759Z"
   },
   {
    "duration": 257,
    "start_time": "2022-10-08T23:06:36.140Z"
   },
   {
    "duration": 394,
    "start_time": "2022-10-08T23:06:36.399Z"
   },
   {
    "duration": 12,
    "start_time": "2022-10-08T23:06:36.795Z"
   },
   {
    "duration": 206,
    "start_time": "2022-10-08T23:06:36.809Z"
   },
   {
    "duration": 5,
    "start_time": "2022-10-08T23:06:37.017Z"
   },
   {
    "duration": 19,
    "start_time": "2022-10-08T23:06:37.024Z"
   },
   {
    "duration": 251,
    "start_time": "2022-10-08T23:06:37.045Z"
   },
   {
    "duration": 10,
    "start_time": "2022-10-08T23:06:37.299Z"
   },
   {
    "duration": 330,
    "start_time": "2022-10-08T23:06:37.311Z"
   },
   {
    "duration": 4,
    "start_time": "2022-10-08T23:06:37.643Z"
   },
   {
    "duration": 261,
    "start_time": "2022-10-08T23:06:37.649Z"
   },
   {
    "duration": 214,
    "start_time": "2022-10-08T23:06:37.912Z"
   },
   {
    "duration": 80,
    "start_time": "2022-10-08T23:06:38.128Z"
   },
   {
    "duration": 0,
    "start_time": "2022-10-08T23:06:38.209Z"
   },
   {
    "duration": 0,
    "start_time": "2022-10-08T23:06:38.211Z"
   },
   {
    "duration": 0,
    "start_time": "2022-10-08T23:06:38.213Z"
   },
   {
    "duration": 0,
    "start_time": "2022-10-08T23:06:38.214Z"
   },
   {
    "duration": 0,
    "start_time": "2022-10-08T23:06:38.216Z"
   },
   {
    "duration": 1335,
    "start_time": "2022-10-08T23:09:02.805Z"
   },
   {
    "duration": 118,
    "start_time": "2022-10-08T23:09:04.143Z"
   },
   {
    "duration": 16,
    "start_time": "2022-10-08T23:09:04.264Z"
   },
   {
    "duration": 12,
    "start_time": "2022-10-08T23:09:04.285Z"
   },
   {
    "duration": 11,
    "start_time": "2022-10-08T23:09:04.299Z"
   },
   {
    "duration": 19,
    "start_time": "2022-10-08T23:09:04.313Z"
   },
   {
    "duration": 18,
    "start_time": "2022-10-08T23:09:04.335Z"
   },
   {
    "duration": 40,
    "start_time": "2022-10-08T23:09:04.355Z"
   },
   {
    "duration": 14,
    "start_time": "2022-10-08T23:09:04.397Z"
   },
   {
    "duration": 10,
    "start_time": "2022-10-08T23:09:04.415Z"
   },
   {
    "duration": 18,
    "start_time": "2022-10-08T23:09:04.428Z"
   },
   {
    "duration": 41,
    "start_time": "2022-10-08T23:09:04.448Z"
   },
   {
    "duration": 14,
    "start_time": "2022-10-08T23:09:04.492Z"
   },
   {
    "duration": 14,
    "start_time": "2022-10-08T23:09:04.509Z"
   },
   {
    "duration": 9,
    "start_time": "2022-10-08T23:09:04.526Z"
   },
   {
    "duration": 10,
    "start_time": "2022-10-08T23:09:04.537Z"
   },
   {
    "duration": 41,
    "start_time": "2022-10-08T23:09:04.549Z"
   },
   {
    "duration": 9,
    "start_time": "2022-10-08T23:09:04.592Z"
   },
   {
    "duration": 6,
    "start_time": "2022-10-08T23:09:04.603Z"
   },
   {
    "duration": 11,
    "start_time": "2022-10-08T23:09:04.612Z"
   },
   {
    "duration": 8,
    "start_time": "2022-10-08T23:09:04.625Z"
   },
   {
    "duration": 9,
    "start_time": "2022-10-08T23:09:04.635Z"
   },
   {
    "duration": 48,
    "start_time": "2022-10-08T23:09:04.646Z"
   },
   {
    "duration": 15,
    "start_time": "2022-10-08T23:09:04.696Z"
   },
   {
    "duration": 18,
    "start_time": "2022-10-08T23:09:04.713Z"
   },
   {
    "duration": 14,
    "start_time": "2022-10-08T23:09:04.733Z"
   },
   {
    "duration": 400,
    "start_time": "2022-10-08T23:09:04.749Z"
   },
   {
    "duration": 398,
    "start_time": "2022-10-08T23:09:05.154Z"
   },
   {
    "duration": 291,
    "start_time": "2022-10-08T23:09:05.556Z"
   },
   {
    "duration": 418,
    "start_time": "2022-10-08T23:09:05.850Z"
   },
   {
    "duration": 447,
    "start_time": "2022-10-08T23:09:06.270Z"
   },
   {
    "duration": 497,
    "start_time": "2022-10-08T23:09:06.720Z"
   },
   {
    "duration": 12,
    "start_time": "2022-10-08T23:09:07.219Z"
   },
   {
    "duration": 270,
    "start_time": "2022-10-08T23:09:07.234Z"
   },
   {
    "duration": 6,
    "start_time": "2022-10-08T23:09:07.506Z"
   },
   {
    "duration": 15,
    "start_time": "2022-10-08T23:09:07.515Z"
   },
   {
    "duration": 274,
    "start_time": "2022-10-08T23:09:07.533Z"
   },
   {
    "duration": 13,
    "start_time": "2022-10-08T23:09:07.809Z"
   },
   {
    "duration": 356,
    "start_time": "2022-10-08T23:09:07.825Z"
   },
   {
    "duration": 6,
    "start_time": "2022-10-08T23:09:08.184Z"
   },
   {
    "duration": 297,
    "start_time": "2022-10-08T23:09:08.192Z"
   },
   {
    "duration": 274,
    "start_time": "2022-10-08T23:09:08.491Z"
   },
   {
    "duration": 25,
    "start_time": "2022-10-08T23:09:08.768Z"
   },
   {
    "duration": 16,
    "start_time": "2022-10-08T23:09:08.795Z"
   },
   {
    "duration": 13,
    "start_time": "2022-10-08T23:09:08.816Z"
   },
   {
    "duration": 27,
    "start_time": "2022-10-08T23:09:08.835Z"
   },
   {
    "duration": 38,
    "start_time": "2022-10-08T23:09:08.864Z"
   },
   {
    "duration": 79,
    "start_time": "2022-10-08T23:12:10.688Z"
   },
   {
    "duration": 1511,
    "start_time": "2022-10-08T23:13:48.129Z"
   },
   {
    "duration": 129,
    "start_time": "2022-10-08T23:13:49.643Z"
   },
   {
    "duration": 17,
    "start_time": "2022-10-08T23:13:49.775Z"
   },
   {
    "duration": 19,
    "start_time": "2022-10-08T23:13:49.794Z"
   },
   {
    "duration": 28,
    "start_time": "2022-10-08T23:13:49.816Z"
   },
   {
    "duration": 23,
    "start_time": "2022-10-08T23:13:49.848Z"
   },
   {
    "duration": 17,
    "start_time": "2022-10-08T23:13:49.873Z"
   },
   {
    "duration": 25,
    "start_time": "2022-10-08T23:13:49.892Z"
   },
   {
    "duration": 25,
    "start_time": "2022-10-08T23:13:49.919Z"
   },
   {
    "duration": 11,
    "start_time": "2022-10-08T23:13:49.949Z"
   },
   {
    "duration": 30,
    "start_time": "2022-10-08T23:13:49.962Z"
   },
   {
    "duration": 20,
    "start_time": "2022-10-08T23:13:49.994Z"
   },
   {
    "duration": 23,
    "start_time": "2022-10-08T23:13:50.016Z"
   },
   {
    "duration": 8,
    "start_time": "2022-10-08T23:13:50.042Z"
   },
   {
    "duration": 23,
    "start_time": "2022-10-08T23:13:50.052Z"
   },
   {
    "duration": 8,
    "start_time": "2022-10-08T23:13:50.090Z"
   },
   {
    "duration": 28,
    "start_time": "2022-10-08T23:13:50.100Z"
   },
   {
    "duration": 11,
    "start_time": "2022-10-08T23:13:50.131Z"
   },
   {
    "duration": 21,
    "start_time": "2022-10-08T23:13:50.144Z"
   },
   {
    "duration": 31,
    "start_time": "2022-10-08T23:13:50.167Z"
   },
   {
    "duration": 17,
    "start_time": "2022-10-08T23:13:50.200Z"
   },
   {
    "duration": 25,
    "start_time": "2022-10-08T23:13:50.221Z"
   },
   {
    "duration": 20,
    "start_time": "2022-10-08T23:13:50.249Z"
   },
   {
    "duration": 31,
    "start_time": "2022-10-08T23:13:50.271Z"
   },
   {
    "duration": 24,
    "start_time": "2022-10-08T23:13:50.305Z"
   },
   {
    "duration": 19,
    "start_time": "2022-10-08T23:13:50.332Z"
   },
   {
    "duration": 480,
    "start_time": "2022-10-08T23:13:50.353Z"
   },
   {
    "duration": 509,
    "start_time": "2022-10-08T23:13:50.838Z"
   },
   {
    "duration": 356,
    "start_time": "2022-10-08T23:13:51.351Z"
   },
   {
    "duration": 462,
    "start_time": "2022-10-08T23:13:51.709Z"
   },
   {
    "duration": 367,
    "start_time": "2022-10-08T23:13:52.173Z"
   },
   {
    "duration": 547,
    "start_time": "2022-10-08T23:13:52.542Z"
   },
   {
    "duration": 14,
    "start_time": "2022-10-08T23:13:53.092Z"
   },
   {
    "duration": 300,
    "start_time": "2022-10-08T23:13:53.108Z"
   },
   {
    "duration": 5,
    "start_time": "2022-10-08T23:13:53.411Z"
   },
   {
    "duration": 21,
    "start_time": "2022-10-08T23:13:53.419Z"
   },
   {
    "duration": 275,
    "start_time": "2022-10-08T23:13:53.442Z"
   },
   {
    "duration": 16,
    "start_time": "2022-10-08T23:13:53.720Z"
   },
   {
    "duration": 451,
    "start_time": "2022-10-08T23:13:53.738Z"
   },
   {
    "duration": 6,
    "start_time": "2022-10-08T23:13:54.191Z"
   },
   {
    "duration": 293,
    "start_time": "2022-10-08T23:13:54.199Z"
   },
   {
    "duration": 213,
    "start_time": "2022-10-08T23:13:54.496Z"
   },
   {
    "duration": 17,
    "start_time": "2022-10-08T23:13:54.712Z"
   },
   {
    "duration": 84,
    "start_time": "2022-10-08T23:13:54.732Z"
   },
   {
    "duration": 0,
    "start_time": "2022-10-08T23:13:54.818Z"
   },
   {
    "duration": 0,
    "start_time": "2022-10-08T23:13:54.821Z"
   },
   {
    "duration": 0,
    "start_time": "2022-10-08T23:13:54.823Z"
   },
   {
    "duration": 0,
    "start_time": "2022-10-08T23:13:54.824Z"
   },
   {
    "duration": 178,
    "start_time": "2022-10-08T23:17:00.416Z"
   },
   {
    "duration": 74,
    "start_time": "2022-10-08T23:19:41.554Z"
   },
   {
    "duration": 15,
    "start_time": "2022-10-08T23:20:09.004Z"
   },
   {
    "duration": 1625,
    "start_time": "2022-10-08T23:20:14.612Z"
   },
   {
    "duration": 157,
    "start_time": "2022-10-08T23:20:16.240Z"
   },
   {
    "duration": 20,
    "start_time": "2022-10-08T23:20:16.406Z"
   },
   {
    "duration": 22,
    "start_time": "2022-10-08T23:20:16.429Z"
   },
   {
    "duration": 18,
    "start_time": "2022-10-08T23:20:16.453Z"
   },
   {
    "duration": 43,
    "start_time": "2022-10-08T23:20:16.473Z"
   },
   {
    "duration": 22,
    "start_time": "2022-10-08T23:20:16.518Z"
   },
   {
    "duration": 27,
    "start_time": "2022-10-08T23:20:16.543Z"
   },
   {
    "duration": 31,
    "start_time": "2022-10-08T23:20:16.573Z"
   },
   {
    "duration": 15,
    "start_time": "2022-10-08T23:20:16.608Z"
   },
   {
    "duration": 21,
    "start_time": "2022-10-08T23:20:16.625Z"
   },
   {
    "duration": 29,
    "start_time": "2022-10-08T23:20:16.651Z"
   },
   {
    "duration": 21,
    "start_time": "2022-10-08T23:20:16.682Z"
   },
   {
    "duration": 17,
    "start_time": "2022-10-08T23:20:16.706Z"
   },
   {
    "duration": 14,
    "start_time": "2022-10-08T23:20:16.727Z"
   },
   {
    "duration": 15,
    "start_time": "2022-10-08T23:20:16.744Z"
   },
   {
    "duration": 26,
    "start_time": "2022-10-08T23:20:16.761Z"
   },
   {
    "duration": 8,
    "start_time": "2022-10-08T23:20:16.790Z"
   },
   {
    "duration": 8,
    "start_time": "2022-10-08T23:20:16.800Z"
   },
   {
    "duration": 11,
    "start_time": "2022-10-08T23:20:16.811Z"
   },
   {
    "duration": 9,
    "start_time": "2022-10-08T23:20:16.824Z"
   },
   {
    "duration": 16,
    "start_time": "2022-10-08T23:20:16.835Z"
   },
   {
    "duration": 14,
    "start_time": "2022-10-08T23:20:16.853Z"
   },
   {
    "duration": 14,
    "start_time": "2022-10-08T23:20:16.891Z"
   },
   {
    "duration": 28,
    "start_time": "2022-10-08T23:20:16.909Z"
   },
   {
    "duration": 37,
    "start_time": "2022-10-08T23:20:16.940Z"
   },
   {
    "duration": 542,
    "start_time": "2022-10-08T23:20:16.979Z"
   },
   {
    "duration": 354,
    "start_time": "2022-10-08T23:20:17.525Z"
   },
   {
    "duration": 264,
    "start_time": "2022-10-08T23:20:17.881Z"
   },
   {
    "duration": 453,
    "start_time": "2022-10-08T23:20:18.148Z"
   },
   {
    "duration": 366,
    "start_time": "2022-10-08T23:20:18.604Z"
   },
   {
    "duration": 489,
    "start_time": "2022-10-08T23:20:18.972Z"
   },
   {
    "duration": 21,
    "start_time": "2022-10-08T23:20:19.479Z"
   },
   {
    "duration": 248,
    "start_time": "2022-10-08T23:20:19.503Z"
   },
   {
    "duration": 6,
    "start_time": "2022-10-08T23:20:19.753Z"
   },
   {
    "duration": 14,
    "start_time": "2022-10-08T23:20:19.761Z"
   },
   {
    "duration": 300,
    "start_time": "2022-10-08T23:20:19.790Z"
   },
   {
    "duration": 17,
    "start_time": "2022-10-08T23:20:20.093Z"
   },
   {
    "duration": 453,
    "start_time": "2022-10-08T23:20:20.112Z"
   },
   {
    "duration": 5,
    "start_time": "2022-10-08T23:20:20.567Z"
   },
   {
    "duration": 331,
    "start_time": "2022-10-08T23:20:20.575Z"
   },
   {
    "duration": 297,
    "start_time": "2022-10-08T23:20:20.909Z"
   },
   {
    "duration": 17,
    "start_time": "2022-10-08T23:20:21.209Z"
   },
   {
    "duration": 18,
    "start_time": "2022-10-08T23:20:21.228Z"
   },
   {
    "duration": 43,
    "start_time": "2022-10-08T23:20:21.249Z"
   },
   {
    "duration": 43,
    "start_time": "2022-10-08T23:20:21.294Z"
   },
   {
    "duration": 23,
    "start_time": "2022-10-08T23:20:21.340Z"
   },
   {
    "duration": 73,
    "start_time": "2022-10-08T23:27:46.088Z"
   },
   {
    "duration": 1709,
    "start_time": "2022-10-08T23:27:58.955Z"
   },
   {
    "duration": 124,
    "start_time": "2022-10-08T23:28:00.668Z"
   },
   {
    "duration": 18,
    "start_time": "2022-10-08T23:28:00.795Z"
   },
   {
    "duration": 39,
    "start_time": "2022-10-08T23:28:00.816Z"
   },
   {
    "duration": 27,
    "start_time": "2022-10-08T23:28:00.860Z"
   },
   {
    "duration": 22,
    "start_time": "2022-10-08T23:28:00.889Z"
   },
   {
    "duration": 25,
    "start_time": "2022-10-08T23:28:00.914Z"
   },
   {
    "duration": 20,
    "start_time": "2022-10-08T23:28:00.941Z"
   },
   {
    "duration": 27,
    "start_time": "2022-10-08T23:28:00.964Z"
   },
   {
    "duration": 6,
    "start_time": "2022-10-08T23:28:00.995Z"
   },
   {
    "duration": 26,
    "start_time": "2022-10-08T23:28:01.004Z"
   },
   {
    "duration": 19,
    "start_time": "2022-10-08T23:28:01.033Z"
   },
   {
    "duration": 12,
    "start_time": "2022-10-08T23:28:01.056Z"
   },
   {
    "duration": 33,
    "start_time": "2022-10-08T23:28:01.070Z"
   },
   {
    "duration": 53,
    "start_time": "2022-10-08T23:28:01.106Z"
   },
   {
    "duration": 25,
    "start_time": "2022-10-08T23:28:01.161Z"
   },
   {
    "duration": 47,
    "start_time": "2022-10-08T23:28:01.188Z"
   },
   {
    "duration": 11,
    "start_time": "2022-10-08T23:28:01.237Z"
   },
   {
    "duration": 11,
    "start_time": "2022-10-08T23:28:01.251Z"
   },
   {
    "duration": 24,
    "start_time": "2022-10-08T23:28:01.264Z"
   },
   {
    "duration": 18,
    "start_time": "2022-10-08T23:28:01.291Z"
   },
   {
    "duration": 26,
    "start_time": "2022-10-08T23:28:01.311Z"
   },
   {
    "duration": 12,
    "start_time": "2022-10-08T23:28:01.340Z"
   },
   {
    "duration": 32,
    "start_time": "2022-10-08T23:28:01.354Z"
   },
   {
    "duration": 56,
    "start_time": "2022-10-08T23:28:01.389Z"
   },
   {
    "duration": 26,
    "start_time": "2022-10-08T23:28:01.449Z"
   },
   {
    "duration": 539,
    "start_time": "2022-10-08T23:28:01.477Z"
   },
   {
    "duration": 528,
    "start_time": "2022-10-08T23:28:02.021Z"
   },
   {
    "duration": 362,
    "start_time": "2022-10-08T23:28:02.553Z"
   },
   {
    "duration": 415,
    "start_time": "2022-10-08T23:28:02.917Z"
   },
   {
    "duration": 366,
    "start_time": "2022-10-08T23:28:03.334Z"
   },
   {
    "duration": 479,
    "start_time": "2022-10-08T23:28:03.702Z"
   },
   {
    "duration": 18,
    "start_time": "2022-10-08T23:28:04.183Z"
   },
   {
    "duration": 289,
    "start_time": "2022-10-08T23:28:04.206Z"
   },
   {
    "duration": 10,
    "start_time": "2022-10-08T23:28:04.498Z"
   },
   {
    "duration": 17,
    "start_time": "2022-10-08T23:28:04.510Z"
   },
   {
    "duration": 310,
    "start_time": "2022-10-08T23:28:04.529Z"
   },
   {
    "duration": 18,
    "start_time": "2022-10-08T23:28:04.841Z"
   },
   {
    "duration": 419,
    "start_time": "2022-10-08T23:28:04.862Z"
   },
   {
    "duration": 6,
    "start_time": "2022-10-08T23:28:05.283Z"
   },
   {
    "duration": 328,
    "start_time": "2022-10-08T23:28:05.291Z"
   },
   {
    "duration": 326,
    "start_time": "2022-10-08T23:28:05.621Z"
   },
   {
    "duration": 18,
    "start_time": "2022-10-08T23:28:05.949Z"
   },
   {
    "duration": 18,
    "start_time": "2022-10-08T23:28:05.990Z"
   },
   {
    "duration": 15,
    "start_time": "2022-10-08T23:28:06.010Z"
   },
   {
    "duration": 64,
    "start_time": "2022-10-08T23:28:06.027Z"
   },
   {
    "duration": 22,
    "start_time": "2022-10-08T23:28:06.094Z"
   },
   {
    "duration": 1439,
    "start_time": "2022-10-08T23:29:26.426Z"
   },
   {
    "duration": 1183,
    "start_time": "2022-10-08T23:29:34.572Z"
   },
   {
    "duration": 59,
    "start_time": "2022-10-08T23:29:43.457Z"
   },
   {
    "duration": 11,
    "start_time": "2022-10-08T23:29:51.862Z"
   },
   {
    "duration": 2045,
    "start_time": "2022-10-08T23:31:04.291Z"
   },
   {
    "duration": 125,
    "start_time": "2022-10-08T23:31:06.339Z"
   },
   {
    "duration": 21,
    "start_time": "2022-10-08T23:31:06.466Z"
   },
   {
    "duration": 15,
    "start_time": "2022-10-08T23:31:06.490Z"
   },
   {
    "duration": 12,
    "start_time": "2022-10-08T23:31:06.508Z"
   },
   {
    "duration": 21,
    "start_time": "2022-10-08T23:31:06.522Z"
   },
   {
    "duration": 47,
    "start_time": "2022-10-08T23:31:06.546Z"
   },
   {
    "duration": 24,
    "start_time": "2022-10-08T23:31:06.595Z"
   },
   {
    "duration": 26,
    "start_time": "2022-10-08T23:31:06.621Z"
   },
   {
    "duration": 7,
    "start_time": "2022-10-08T23:31:06.652Z"
   },
   {
    "duration": 37,
    "start_time": "2022-10-08T23:31:06.662Z"
   },
   {
    "duration": 15,
    "start_time": "2022-10-08T23:31:06.701Z"
   },
   {
    "duration": 12,
    "start_time": "2022-10-08T23:31:06.719Z"
   },
   {
    "duration": 14,
    "start_time": "2022-10-08T23:31:06.733Z"
   },
   {
    "duration": 52,
    "start_time": "2022-10-08T23:31:06.749Z"
   },
   {
    "duration": 22,
    "start_time": "2022-10-08T23:31:06.804Z"
   },
   {
    "duration": 30,
    "start_time": "2022-10-08T23:31:06.828Z"
   },
   {
    "duration": 10,
    "start_time": "2022-10-08T23:31:06.860Z"
   },
   {
    "duration": 19,
    "start_time": "2022-10-08T23:31:06.872Z"
   },
   {
    "duration": 8,
    "start_time": "2022-10-08T23:31:06.893Z"
   },
   {
    "duration": 10,
    "start_time": "2022-10-08T23:31:06.904Z"
   },
   {
    "duration": 14,
    "start_time": "2022-10-08T23:31:06.916Z"
   },
   {
    "duration": 9,
    "start_time": "2022-10-08T23:31:06.934Z"
   },
   {
    "duration": 45,
    "start_time": "2022-10-08T23:31:06.946Z"
   },
   {
    "duration": 19,
    "start_time": "2022-10-08T23:31:06.994Z"
   },
   {
    "duration": 19,
    "start_time": "2022-10-08T23:31:07.016Z"
   },
   {
    "duration": 36,
    "start_time": "2022-10-08T23:31:07.038Z"
   },
   {
    "duration": 579,
    "start_time": "2022-10-08T23:31:07.090Z"
   },
   {
    "duration": 505,
    "start_time": "2022-10-08T23:31:07.671Z"
   },
   {
    "duration": 372,
    "start_time": "2022-10-08T23:31:08.178Z"
   },
   {
    "duration": 462,
    "start_time": "2022-10-08T23:31:08.554Z"
   },
   {
    "duration": 395,
    "start_time": "2022-10-08T23:31:09.019Z"
   },
   {
    "duration": 489,
    "start_time": "2022-10-08T23:31:09.416Z"
   },
   {
    "duration": 14,
    "start_time": "2022-10-08T23:31:09.907Z"
   },
   {
    "duration": 321,
    "start_time": "2022-10-08T23:31:09.924Z"
   },
   {
    "duration": 6,
    "start_time": "2022-10-08T23:31:10.247Z"
   },
   {
    "duration": 28,
    "start_time": "2022-10-08T23:31:10.256Z"
   },
   {
    "duration": 279,
    "start_time": "2022-10-08T23:31:10.290Z"
   },
   {
    "duration": 22,
    "start_time": "2022-10-08T23:31:10.572Z"
   },
   {
    "duration": 407,
    "start_time": "2022-10-08T23:31:10.596Z"
   },
   {
    "duration": 7,
    "start_time": "2022-10-08T23:31:11.005Z"
   },
   {
    "duration": 357,
    "start_time": "2022-10-08T23:31:11.015Z"
   },
   {
    "duration": 277,
    "start_time": "2022-10-08T23:31:11.375Z"
   },
   {
    "duration": 19,
    "start_time": "2022-10-08T23:31:11.655Z"
   },
   {
    "duration": 17,
    "start_time": "2022-10-08T23:31:11.688Z"
   },
   {
    "duration": 17,
    "start_time": "2022-10-08T23:31:11.708Z"
   },
   {
    "duration": 66,
    "start_time": "2022-10-08T23:31:11.727Z"
   },
   {
    "duration": 27,
    "start_time": "2022-10-08T23:31:11.795Z"
   },
   {
    "duration": 9,
    "start_time": "2022-10-08T23:36:47.819Z"
   },
   {
    "duration": 1349,
    "start_time": "2022-10-08T23:45:53.099Z"
   },
   {
    "duration": 115,
    "start_time": "2022-10-08T23:45:54.451Z"
   },
   {
    "duration": 16,
    "start_time": "2022-10-08T23:45:54.569Z"
   },
   {
    "duration": 22,
    "start_time": "2022-10-08T23:45:54.587Z"
   },
   {
    "duration": 17,
    "start_time": "2022-10-08T23:45:54.612Z"
   },
   {
    "duration": 22,
    "start_time": "2022-10-08T23:45:54.631Z"
   },
   {
    "duration": 21,
    "start_time": "2022-10-08T23:45:54.656Z"
   },
   {
    "duration": 27,
    "start_time": "2022-10-08T23:45:54.680Z"
   },
   {
    "duration": 25,
    "start_time": "2022-10-08T23:45:54.710Z"
   },
   {
    "duration": 17,
    "start_time": "2022-10-08T23:45:54.737Z"
   },
   {
    "duration": 33,
    "start_time": "2022-10-08T23:45:54.756Z"
   },
   {
    "duration": 20,
    "start_time": "2022-10-08T23:45:54.792Z"
   },
   {
    "duration": 19,
    "start_time": "2022-10-08T23:45:54.814Z"
   },
   {
    "duration": 35,
    "start_time": "2022-10-08T23:45:54.837Z"
   },
   {
    "duration": 17,
    "start_time": "2022-10-08T23:45:54.874Z"
   },
   {
    "duration": 15,
    "start_time": "2022-10-08T23:45:54.894Z"
   },
   {
    "duration": 28,
    "start_time": "2022-10-08T23:45:54.912Z"
   },
   {
    "duration": 8,
    "start_time": "2022-10-08T23:45:54.942Z"
   },
   {
    "duration": 23,
    "start_time": "2022-10-08T23:45:54.952Z"
   },
   {
    "duration": 22,
    "start_time": "2022-10-08T23:45:54.977Z"
   },
   {
    "duration": 18,
    "start_time": "2022-10-08T23:45:55.001Z"
   },
   {
    "duration": 28,
    "start_time": "2022-10-08T23:45:55.022Z"
   },
   {
    "duration": 35,
    "start_time": "2022-10-08T23:45:55.053Z"
   },
   {
    "duration": 40,
    "start_time": "2022-10-08T23:45:55.092Z"
   },
   {
    "duration": 385,
    "start_time": "2022-10-08T23:45:55.134Z"
   },
   {
    "duration": 406,
    "start_time": "2022-10-08T23:45:55.522Z"
   },
   {
    "duration": 376,
    "start_time": "2022-10-08T23:45:55.931Z"
   },
   {
    "duration": 383,
    "start_time": "2022-10-08T23:45:56.309Z"
   },
   {
    "duration": 261,
    "start_time": "2022-10-08T23:45:56.694Z"
   },
   {
    "duration": 413,
    "start_time": "2022-10-08T23:45:56.957Z"
   },
   {
    "duration": 23,
    "start_time": "2022-10-08T23:45:57.372Z"
   },
   {
    "duration": 257,
    "start_time": "2022-10-08T23:45:57.397Z"
   },
   {
    "duration": 5,
    "start_time": "2022-10-08T23:45:57.657Z"
   },
   {
    "duration": 206,
    "start_time": "2022-10-08T23:45:57.664Z"
   },
   {
    "duration": 21,
    "start_time": "2022-10-08T23:45:57.873Z"
   },
   {
    "duration": 281,
    "start_time": "2022-10-08T23:45:57.896Z"
   },
   {
    "duration": 13,
    "start_time": "2022-10-08T23:45:58.179Z"
   },
   {
    "duration": 302,
    "start_time": "2022-10-08T23:45:58.195Z"
   },
   {
    "duration": 182,
    "start_time": "2022-10-08T23:45:58.500Z"
   },
   {
    "duration": 16,
    "start_time": "2022-10-08T23:45:58.690Z"
   },
   {
    "duration": 15,
    "start_time": "2022-10-08T23:45:58.711Z"
   },
   {
    "duration": 13,
    "start_time": "2022-10-08T23:45:58.728Z"
   },
   {
    "duration": 59,
    "start_time": "2022-10-08T23:45:58.743Z"
   },
   {
    "duration": 18,
    "start_time": "2022-10-08T23:45:58.804Z"
   },
   {
    "duration": 19,
    "start_time": "2022-10-08T23:46:22.689Z"
   },
   {
    "duration": 84,
    "start_time": "2022-10-08T23:52:04.315Z"
   },
   {
    "duration": 1432,
    "start_time": "2022-10-08T23:52:16.408Z"
   },
   {
    "duration": 121,
    "start_time": "2022-10-08T23:52:17.843Z"
   },
   {
    "duration": 21,
    "start_time": "2022-10-08T23:52:17.967Z"
   },
   {
    "duration": 13,
    "start_time": "2022-10-08T23:52:17.990Z"
   },
   {
    "duration": 19,
    "start_time": "2022-10-08T23:52:18.006Z"
   },
   {
    "duration": 20,
    "start_time": "2022-10-08T23:52:18.027Z"
   },
   {
    "duration": 23,
    "start_time": "2022-10-08T23:52:18.050Z"
   },
   {
    "duration": 16,
    "start_time": "2022-10-08T23:52:18.089Z"
   },
   {
    "duration": 27,
    "start_time": "2022-10-08T23:52:18.108Z"
   },
   {
    "duration": 11,
    "start_time": "2022-10-08T23:52:18.138Z"
   },
   {
    "duration": 36,
    "start_time": "2022-10-08T23:52:18.153Z"
   },
   {
    "duration": 21,
    "start_time": "2022-10-08T23:52:18.191Z"
   },
   {
    "duration": 15,
    "start_time": "2022-10-08T23:52:18.214Z"
   },
   {
    "duration": 15,
    "start_time": "2022-10-08T23:52:18.233Z"
   },
   {
    "duration": 13,
    "start_time": "2022-10-08T23:52:18.250Z"
   },
   {
    "duration": 28,
    "start_time": "2022-10-08T23:52:18.265Z"
   },
   {
    "duration": 33,
    "start_time": "2022-10-08T23:52:18.296Z"
   },
   {
    "duration": 16,
    "start_time": "2022-10-08T23:52:18.332Z"
   },
   {
    "duration": 9,
    "start_time": "2022-10-08T23:52:18.353Z"
   },
   {
    "duration": 29,
    "start_time": "2022-10-08T23:52:18.364Z"
   },
   {
    "duration": 39,
    "start_time": "2022-10-08T23:52:18.396Z"
   },
   {
    "duration": 19,
    "start_time": "2022-10-08T23:52:18.437Z"
   },
   {
    "duration": 28,
    "start_time": "2022-10-08T23:52:18.458Z"
   },
   {
    "duration": 21,
    "start_time": "2022-10-08T23:52:18.488Z"
   },
   {
    "duration": 427,
    "start_time": "2022-10-08T23:52:18.512Z"
   },
   {
    "duration": 516,
    "start_time": "2022-10-08T23:52:18.941Z"
   },
   {
    "duration": 380,
    "start_time": "2022-10-08T23:52:19.459Z"
   },
   {
    "duration": 481,
    "start_time": "2022-10-08T23:52:19.842Z"
   },
   {
    "duration": 539,
    "start_time": "2022-10-08T23:52:20.325Z"
   },
   {
    "duration": 506,
    "start_time": "2022-10-08T23:52:20.867Z"
   },
   {
    "duration": 20,
    "start_time": "2022-10-08T23:52:21.375Z"
   },
   {
    "duration": 335,
    "start_time": "2022-10-08T23:52:21.397Z"
   },
   {
    "duration": 7,
    "start_time": "2022-10-08T23:52:21.734Z"
   },
   {
    "duration": 279,
    "start_time": "2022-10-08T23:52:21.743Z"
   },
   {
    "duration": 15,
    "start_time": "2022-10-08T23:52:22.026Z"
   },
   {
    "duration": 369,
    "start_time": "2022-10-08T23:52:22.044Z"
   },
   {
    "duration": 6,
    "start_time": "2022-10-08T23:52:22.415Z"
   },
   {
    "duration": 371,
    "start_time": "2022-10-08T23:52:22.424Z"
   },
   {
    "duration": 194,
    "start_time": "2022-10-08T23:52:22.797Z"
   },
   {
    "duration": 14,
    "start_time": "2022-10-08T23:52:22.993Z"
   },
   {
    "duration": 12,
    "start_time": "2022-10-08T23:52:23.012Z"
   },
   {
    "duration": 13,
    "start_time": "2022-10-08T23:52:23.027Z"
   },
   {
    "duration": 80,
    "start_time": "2022-10-08T23:52:23.042Z"
   },
   {
    "duration": 21,
    "start_time": "2022-10-08T23:52:23.124Z"
   },
   {
    "duration": 1267,
    "start_time": "2022-10-08T23:56:03.960Z"
   },
   {
    "duration": 119,
    "start_time": "2022-10-08T23:56:05.230Z"
   },
   {
    "duration": 16,
    "start_time": "2022-10-08T23:56:05.352Z"
   },
   {
    "duration": 27,
    "start_time": "2022-10-08T23:56:05.371Z"
   },
   {
    "duration": 32,
    "start_time": "2022-10-08T23:56:05.400Z"
   },
   {
    "duration": 33,
    "start_time": "2022-10-08T23:56:05.434Z"
   },
   {
    "duration": 34,
    "start_time": "2022-10-08T23:56:05.469Z"
   },
   {
    "duration": 17,
    "start_time": "2022-10-08T23:56:05.506Z"
   },
   {
    "duration": 16,
    "start_time": "2022-10-08T23:56:05.525Z"
   },
   {
    "duration": 23,
    "start_time": "2022-10-08T23:56:05.544Z"
   },
   {
    "duration": 21,
    "start_time": "2022-10-08T23:56:05.569Z"
   },
   {
    "duration": 18,
    "start_time": "2022-10-08T23:56:05.592Z"
   },
   {
    "duration": 12,
    "start_time": "2022-10-08T23:56:05.612Z"
   },
   {
    "duration": 14,
    "start_time": "2022-10-08T23:56:05.626Z"
   },
   {
    "duration": 13,
    "start_time": "2022-10-08T23:56:05.643Z"
   },
   {
    "duration": 33,
    "start_time": "2022-10-08T23:56:05.658Z"
   },
   {
    "duration": 22,
    "start_time": "2022-10-08T23:56:05.693Z"
   },
   {
    "duration": 9,
    "start_time": "2022-10-08T23:56:05.717Z"
   },
   {
    "duration": 7,
    "start_time": "2022-10-08T23:56:05.729Z"
   },
   {
    "duration": 9,
    "start_time": "2022-10-08T23:56:05.738Z"
   },
   {
    "duration": 43,
    "start_time": "2022-10-08T23:56:05.749Z"
   },
   {
    "duration": 12,
    "start_time": "2022-10-08T23:56:05.794Z"
   },
   {
    "duration": 21,
    "start_time": "2022-10-08T23:56:05.809Z"
   },
   {
    "duration": 15,
    "start_time": "2022-10-08T23:56:05.832Z"
   },
   {
    "duration": 351,
    "start_time": "2022-10-08T23:56:05.849Z"
   },
   {
    "duration": 352,
    "start_time": "2022-10-08T23:56:06.202Z"
   },
   {
    "duration": 268,
    "start_time": "2022-10-08T23:56:06.556Z"
   },
   {
    "duration": 335,
    "start_time": "2022-10-08T23:56:06.829Z"
   },
   {
    "duration": 290,
    "start_time": "2022-10-08T23:56:07.166Z"
   },
   {
    "duration": 475,
    "start_time": "2022-10-08T23:56:07.458Z"
   },
   {
    "duration": 12,
    "start_time": "2022-10-08T23:56:07.935Z"
   },
   {
    "duration": 207,
    "start_time": "2022-10-08T23:56:07.949Z"
   },
   {
    "duration": 5,
    "start_time": "2022-10-08T23:56:08.158Z"
   },
   {
    "duration": 290,
    "start_time": "2022-10-08T23:56:08.165Z"
   },
   {
    "duration": 15,
    "start_time": "2022-10-08T23:56:08.457Z"
   },
   {
    "duration": 325,
    "start_time": "2022-10-08T23:56:08.475Z"
   },
   {
    "duration": 7,
    "start_time": "2022-10-08T23:56:08.803Z"
   },
   {
    "duration": 262,
    "start_time": "2022-10-08T23:56:08.813Z"
   },
   {
    "duration": 219,
    "start_time": "2022-10-08T23:56:09.077Z"
   },
   {
    "duration": 14,
    "start_time": "2022-10-08T23:56:09.298Z"
   },
   {
    "duration": 19,
    "start_time": "2022-10-08T23:56:09.314Z"
   },
   {
    "duration": 50,
    "start_time": "2022-10-08T23:56:09.335Z"
   },
   {
    "duration": 48,
    "start_time": "2022-10-08T23:56:09.388Z"
   },
   {
    "duration": 22,
    "start_time": "2022-10-08T23:56:09.438Z"
   },
   {
    "duration": 1330,
    "start_time": "2022-10-09T00:01:02.109Z"
   },
   {
    "duration": 121,
    "start_time": "2022-10-09T00:01:03.441Z"
   },
   {
    "duration": 18,
    "start_time": "2022-10-09T00:01:03.564Z"
   },
   {
    "duration": 30,
    "start_time": "2022-10-09T00:01:03.585Z"
   },
   {
    "duration": 50,
    "start_time": "2022-10-09T00:01:03.617Z"
   },
   {
    "duration": 38,
    "start_time": "2022-10-09T00:01:03.669Z"
   },
   {
    "duration": 30,
    "start_time": "2022-10-09T00:01:03.710Z"
   },
   {
    "duration": 42,
    "start_time": "2022-10-09T00:01:03.741Z"
   },
   {
    "duration": 42,
    "start_time": "2022-10-09T00:01:03.785Z"
   },
   {
    "duration": 19,
    "start_time": "2022-10-09T00:01:03.830Z"
   },
   {
    "duration": 24,
    "start_time": "2022-10-09T00:01:03.852Z"
   },
   {
    "duration": 27,
    "start_time": "2022-10-09T00:01:03.878Z"
   },
   {
    "duration": 18,
    "start_time": "2022-10-09T00:01:03.907Z"
   },
   {
    "duration": 22,
    "start_time": "2022-10-09T00:01:03.928Z"
   },
   {
    "duration": 16,
    "start_time": "2022-10-09T00:01:03.952Z"
   },
   {
    "duration": 19,
    "start_time": "2022-10-09T00:01:03.970Z"
   },
   {
    "duration": 32,
    "start_time": "2022-10-09T00:01:03.992Z"
   },
   {
    "duration": 9,
    "start_time": "2022-10-09T00:01:04.027Z"
   },
   {
    "duration": 20,
    "start_time": "2022-10-09T00:01:04.038Z"
   },
   {
    "duration": 20,
    "start_time": "2022-10-09T00:01:04.060Z"
   },
   {
    "duration": 20,
    "start_time": "2022-10-09T00:01:04.082Z"
   },
   {
    "duration": 36,
    "start_time": "2022-10-09T00:01:04.104Z"
   },
   {
    "duration": 23,
    "start_time": "2022-10-09T00:01:04.143Z"
   },
   {
    "duration": 37,
    "start_time": "2022-10-09T00:01:04.169Z"
   },
   {
    "duration": 427,
    "start_time": "2022-10-09T00:01:04.209Z"
   },
   {
    "duration": 354,
    "start_time": "2022-10-09T00:01:04.638Z"
   },
   {
    "duration": 385,
    "start_time": "2022-10-09T00:01:04.994Z"
   },
   {
    "duration": 351,
    "start_time": "2022-10-09T00:01:05.384Z"
   },
   {
    "duration": 269,
    "start_time": "2022-10-09T00:01:05.737Z"
   },
   {
    "duration": 377,
    "start_time": "2022-10-09T00:01:06.009Z"
   },
   {
    "duration": 12,
    "start_time": "2022-10-09T00:01:06.388Z"
   },
   {
    "duration": 245,
    "start_time": "2022-10-09T00:01:06.402Z"
   },
   {
    "duration": 7,
    "start_time": "2022-10-09T00:01:06.649Z"
   },
   {
    "duration": 222,
    "start_time": "2022-10-09T00:01:06.658Z"
   },
   {
    "duration": 12,
    "start_time": "2022-10-09T00:01:06.888Z"
   },
   {
    "duration": 302,
    "start_time": "2022-10-09T00:01:06.902Z"
   },
   {
    "duration": 5,
    "start_time": "2022-10-09T00:01:07.206Z"
   },
   {
    "duration": 287,
    "start_time": "2022-10-09T00:01:07.213Z"
   },
   {
    "duration": 247,
    "start_time": "2022-10-09T00:01:07.502Z"
   },
   {
    "duration": 19,
    "start_time": "2022-10-09T00:01:07.752Z"
   },
   {
    "duration": 28,
    "start_time": "2022-10-09T00:01:07.773Z"
   },
   {
    "duration": 18,
    "start_time": "2022-10-09T00:01:07.804Z"
   },
   {
    "duration": 31,
    "start_time": "2022-10-09T00:01:07.824Z"
   },
   {
    "duration": 43,
    "start_time": "2022-10-09T00:01:07.858Z"
   },
   {
    "duration": 1309,
    "start_time": "2022-10-09T22:57:08.334Z"
   },
   {
    "duration": 222,
    "start_time": "2022-10-09T22:57:09.645Z"
   },
   {
    "duration": 12,
    "start_time": "2022-10-09T22:57:09.868Z"
   },
   {
    "duration": 7,
    "start_time": "2022-10-09T22:57:09.882Z"
   },
   {
    "duration": 9,
    "start_time": "2022-10-09T22:57:09.891Z"
   },
   {
    "duration": 12,
    "start_time": "2022-10-09T22:57:09.901Z"
   },
   {
    "duration": 21,
    "start_time": "2022-10-09T22:57:09.915Z"
   },
   {
    "duration": 11,
    "start_time": "2022-10-09T22:57:09.938Z"
   },
   {
    "duration": 15,
    "start_time": "2022-10-09T22:57:09.950Z"
   },
   {
    "duration": 6,
    "start_time": "2022-10-09T22:57:09.968Z"
   },
   {
    "duration": 11,
    "start_time": "2022-10-09T22:57:09.975Z"
   },
   {
    "duration": 11,
    "start_time": "2022-10-09T22:57:09.988Z"
   },
   {
    "duration": 9,
    "start_time": "2022-10-09T22:57:10.000Z"
   },
   {
    "duration": 25,
    "start_time": "2022-10-09T22:57:10.011Z"
   },
   {
    "duration": 14,
    "start_time": "2022-10-09T22:57:10.038Z"
   },
   {
    "duration": 20,
    "start_time": "2022-10-09T22:57:10.053Z"
   },
   {
    "duration": 19,
    "start_time": "2022-10-09T22:57:10.074Z"
   },
   {
    "duration": 6,
    "start_time": "2022-10-09T22:57:10.095Z"
   },
   {
    "duration": 5,
    "start_time": "2022-10-09T22:57:10.102Z"
   },
   {
    "duration": 5,
    "start_time": "2022-10-09T22:57:10.109Z"
   },
   {
    "duration": 7,
    "start_time": "2022-10-09T22:57:10.116Z"
   },
   {
    "duration": 14,
    "start_time": "2022-10-09T22:57:10.124Z"
   },
   {
    "duration": 15,
    "start_time": "2022-10-09T22:57:10.140Z"
   },
   {
    "duration": 17,
    "start_time": "2022-10-09T22:57:10.156Z"
   },
   {
    "duration": 294,
    "start_time": "2022-10-09T22:57:10.175Z"
   },
   {
    "duration": 282,
    "start_time": "2022-10-09T22:57:10.470Z"
   },
   {
    "duration": 214,
    "start_time": "2022-10-09T22:57:10.753Z"
   },
   {
    "duration": 350,
    "start_time": "2022-10-09T22:57:10.970Z"
   },
   {
    "duration": 245,
    "start_time": "2022-10-09T22:57:11.321Z"
   },
   {
    "duration": 325,
    "start_time": "2022-10-09T22:57:11.569Z"
   },
   {
    "duration": 9,
    "start_time": "2022-10-09T22:57:11.895Z"
   },
   {
    "duration": 170,
    "start_time": "2022-10-09T22:57:11.906Z"
   },
   {
    "duration": 4,
    "start_time": "2022-10-09T22:57:12.077Z"
   },
   {
    "duration": 175,
    "start_time": "2022-10-09T22:57:12.082Z"
   },
   {
    "duration": 10,
    "start_time": "2022-10-09T22:57:12.258Z"
   },
   {
    "duration": 238,
    "start_time": "2022-10-09T22:57:12.269Z"
   },
   {
    "duration": 4,
    "start_time": "2022-10-09T22:57:12.508Z"
   },
   {
    "duration": 224,
    "start_time": "2022-10-09T22:57:12.514Z"
   },
   {
    "duration": 155,
    "start_time": "2022-10-09T22:57:12.740Z"
   },
   {
    "duration": 10,
    "start_time": "2022-10-09T22:57:12.897Z"
   },
   {
    "duration": 25,
    "start_time": "2022-10-09T22:57:12.909Z"
   },
   {
    "duration": 8,
    "start_time": "2022-10-09T22:57:12.936Z"
   },
   {
    "duration": 25,
    "start_time": "2022-10-09T22:57:12.945Z"
   },
   {
    "duration": 13,
    "start_time": "2022-10-09T22:57:12.972Z"
   },
   {
    "duration": 10,
    "start_time": "2022-10-09T23:03:13.535Z"
   }
  ],
  "colab": {
   "provenance": []
  },
  "kernelspec": {
   "display_name": "Python 3 (ipykernel)",
   "language": "python",
   "name": "python3"
  },
  "language_info": {
   "codemirror_mode": {
    "name": "ipython",
    "version": 3
   },
   "file_extension": ".py",
   "mimetype": "text/x-python",
   "name": "python",
   "nbconvert_exporter": "python",
   "pygments_lexer": "ipython3",
   "version": "3.9.7"
  },
  "toc": {
   "base_numbering": 1,
   "nav_menu": {},
   "number_sections": true,
   "sideBar": true,
   "skip_h1_title": true,
   "title_cell": "Table of Contents",
   "title_sidebar": "Contents",
   "toc_cell": false,
   "toc_position": {},
   "toc_section_display": true,
   "toc_window_display": false
  }
 },
 "nbformat": 4,
 "nbformat_minor": 1
}
